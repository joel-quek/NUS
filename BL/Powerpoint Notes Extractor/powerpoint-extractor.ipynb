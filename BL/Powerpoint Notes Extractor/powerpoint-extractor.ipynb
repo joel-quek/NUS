{
 "cells": [
  {
   "cell_type": "code",
   "execution_count": 1,
   "metadata": {},
   "outputs": [
    {
     "name": "stdout",
     "output_type": "stream",
     "text": [
      "Collecting python-pptxNote: you may need to restart the kernel to use updated packages.\n"
     ]
    },
    {
     "name": "stderr",
     "output_type": "stream",
     "text": [
      "\n",
      "[notice] A new release of pip available: 22.3.1 -> 23.2.1\n",
      "[notice] To update, run: python.exe -m pip install --upgrade pip\n"
     ]
    },
    {
     "name": "stdout",
     "output_type": "stream",
     "text": [
      "\n",
      "  Downloading python-pptx-0.6.21.tar.gz (10.1 MB)\n",
      "     --------------------------------------- 10.1/10.1 MB 20.2 MB/s eta 0:00:00\n",
      "  Preparing metadata (setup.py): started\n",
      "  Preparing metadata (setup.py): finished with status 'done'\n",
      "Requirement already satisfied: lxml>=3.1.0 in c:\\users\\redoc\\appdata\\local\\programs\\python\\python310\\lib\\site-packages (from python-pptx) (4.9.1)\n",
      "Requirement already satisfied: Pillow>=3.3.2 in c:\\users\\redoc\\appdata\\local\\programs\\python\\python310\\lib\\site-packages (from python-pptx) (9.2.0)\n",
      "Collecting XlsxWriter>=0.5.7\n",
      "  Downloading XlsxWriter-3.1.2-py3-none-any.whl (153 kB)\n",
      "     -------------------------------------- 153.0/153.0 kB 9.5 MB/s eta 0:00:00\n",
      "Building wheels for collected packages: python-pptx\n",
      "  Building wheel for python-pptx (setup.py): started\n",
      "  Building wheel for python-pptx (setup.py): finished with status 'done'\n",
      "  Created wheel for python-pptx: filename=python_pptx-0.6.21-py3-none-any.whl size=471005 sha256=1e9ffe18d97f319476a495b7f75bc82a0c2ddd6ce0748002f2b43041d01d8849\n",
      "  Stored in directory: c:\\users\\redoc\\appdata\\local\\pip\\cache\\wheels\\66\\b6\\4c\\3c4883b34a7d27cef0a9ee22e542290b91b24660a5dc1a9add\n",
      "Successfully built python-pptx\n",
      "Installing collected packages: XlsxWriter, python-pptx\n",
      "Successfully installed XlsxWriter-3.1.2 python-pptx-0.6.21\n"
     ]
    }
   ],
   "source": [
    "pip install python-pptx"
   ]
  },
  {
   "cell_type": "code",
   "execution_count": 20,
   "metadata": {},
   "outputs": [],
   "source": [
    "pptx_path = r\"C:\\Users\\redoc\\OneDrive\\Desktop\\C3U4 Final 17 August 2023 FULL with Overview and Summary.pptx\""
   ]
  },
  {
   "cell_type": "code",
   "execution_count": 21,
   "metadata": {},
   "outputs": [
    {
     "name": "stdout",
     "output_type": "stream",
     "text": [
      "Notes extracted and saved to notes_output.txt\n"
     ]
    }
   ],
   "source": [
    "import re\n",
    "from pptx import Presentation\n",
    "\n",
    "def extract_notes(pptx_path):\n",
    "    presentation = Presentation(pptx_path)\n",
    "    notes_text = []\n",
    "\n",
    "    for slide in presentation.slides:\n",
    "        for shape in slide.notes_slide.shapes:\n",
    "            if shape.has_text_frame:\n",
    "                text = shape.text_frame.text\n",
    "                # Remove [click] text and any leading \"Note x:\" label\n",
    "                text = text.replace(\"[click]\", \"\").split(\":\", 1)[-1].strip()\n",
    "                \n",
    "                # Use regular expression to remove lines with slide numbers\n",
    "                cleaned_text = re.sub(r\"^\\d+\\s*$\", \"\", text, flags=re.MULTILINE)\n",
    "                \n",
    "                notes_text.append(cleaned_text)\n",
    "\n",
    "    return notes_text\n",
    "\n",
    "if __name__ == \"__main__\":\n",
    "    pptx_path = \"C:\\\\Users\\\\redoc\\\\OneDrive\\\\Desktop\\\\C3U4 Final 17 August 2023 FULL with Overview and Summary.pptx\"\n",
    "    notes = extract_notes(pptx_path)\n",
    "    \n",
    "    output_file_path = \"notes_output.txt\"\n",
    "    with open(output_file_path, \"w\", encoding=\"utf-8\") as output_file:\n",
    "        for note in notes:\n",
    "            output_file.write(f\"{note}\\n\")\n",
    "    \n",
    "    print(f\"Notes extracted and saved to {output_file_path}\")\n"
   ]
  },
  {
   "cell_type": "code",
   "execution_count": null,
   "metadata": {},
   "outputs": [],
   "source": []
  }
 ],
 "metadata": {
  "kernelspec": {
   "display_name": "Python 3",
   "language": "python",
   "name": "python3"
  },
  "language_info": {
   "codemirror_mode": {
    "name": "ipython",
    "version": 3
   },
   "file_extension": ".py",
   "mimetype": "text/x-python",
   "name": "python",
   "nbconvert_exporter": "python",
   "pygments_lexer": "ipython3",
   "version": "3.10.5"
  },
  "orig_nbformat": 4
 },
 "nbformat": 4,
 "nbformat_minor": 2
}
