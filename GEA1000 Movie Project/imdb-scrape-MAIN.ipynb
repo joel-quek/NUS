{
 "cells": [
  {
   "cell_type": "code",
   "execution_count": 11,
   "metadata": {},
   "outputs": [],
   "source": [
    "from selenium import webdriver\n",
    "import pandas as pd\n",
    "from bs4 import BeautifulSoup as bs\n",
    "from pprint import pprint\n",
    "import numpy as np\n",
    "from webdriver_manager.chrome import ChromeDriverManager"
   ]
  },
  {
   "cell_type": "code",
   "execution_count": 6,
   "metadata": {},
   "outputs": [],
   "source": [
    "df = pd.read_csv('Data\\Movie_Scrape_All.csv')\n",
    "df.drop('Unnamed: 0', axis=1, inplace=True)\n",
    "df['Duration']=np.nan\n",
    "df['MPAA Rating']=np.nan\n",
    "df['IMDB Rating']=np.nan\n",
    "df['Voter Numbers']=np.nan\n",
    "df['Metascore']=np.nan\n",
    "df['Genre']=np.nan\n",
    "df['Language']=np.nan"
   ]
  },
  {
   "cell_type": "code",
   "execution_count": 12,
   "metadata": {},
   "outputs": [
    {
     "name": "stdout",
     "output_type": "stream",
     "text": [
      "(6354, 12)\n"
     ]
    },
    {
     "data": {
      "text/html": [
       "<div>\n",
       "<style scoped>\n",
       "    .dataframe tbody tr th:only-of-type {\n",
       "        vertical-align: middle;\n",
       "    }\n",
       "\n",
       "    .dataframe tbody tr th {\n",
       "        vertical-align: top;\n",
       "    }\n",
       "\n",
       "    .dataframe thead th {\n",
       "        text-align: right;\n",
       "    }\n",
       "</style>\n",
       "<table border=\"1\" class=\"dataframe\">\n",
       "  <thead>\n",
       "    <tr style=\"text-align: right;\">\n",
       "      <th></th>\n",
       "      <th>Title</th>\n",
       "      <th>Budget</th>\n",
       "      <th>Worldwide</th>\n",
       "      <th>Domestic</th>\n",
       "      <th>Release</th>\n",
       "      <th>Duration</th>\n",
       "      <th>MPAA Rating</th>\n",
       "      <th>IMDB Rating</th>\n",
       "      <th>Voter Numbers</th>\n",
       "      <th>Metascore</th>\n",
       "      <th>Genre</th>\n",
       "      <th>Language</th>\n",
       "    </tr>\n",
       "  </thead>\n",
       "  <tbody>\n",
       "    <tr>\n",
       "      <th>0</th>\n",
       "      <td>Indiana Jones and the Kingdom of the Crystal S...</td>\n",
       "      <td>$185,000,000</td>\n",
       "      <td>$786,635,413</td>\n",
       "      <td>$317,101,119</td>\n",
       "      <td>May 22, 2008</td>\n",
       "      <td>NaN</td>\n",
       "      <td>NaN</td>\n",
       "      <td>NaN</td>\n",
       "      <td>NaN</td>\n",
       "      <td>NaN</td>\n",
       "      <td>NaN</td>\n",
       "      <td>NaN</td>\n",
       "    </tr>\n",
       "    <tr>\n",
       "      <th>1</th>\n",
       "      <td>Brave</td>\n",
       "      <td>$185,000,000</td>\n",
       "      <td>$554,606,532</td>\n",
       "      <td>$237,282,182</td>\n",
       "      <td>Jun 21, 2012</td>\n",
       "      <td>NaN</td>\n",
       "      <td>NaN</td>\n",
       "      <td>NaN</td>\n",
       "      <td>NaN</td>\n",
       "      <td>NaN</td>\n",
       "      <td>NaN</td>\n",
       "      <td>NaN</td>\n",
       "    </tr>\n",
       "    <tr>\n",
       "      <th>2</th>\n",
       "      <td>Kong: Skull Island</td>\n",
       "      <td>$185,000,000</td>\n",
       "      <td>$561,072,059</td>\n",
       "      <td>$168,052,812</td>\n",
       "      <td>Feb 23, 2017</td>\n",
       "      <td>NaN</td>\n",
       "      <td>NaN</td>\n",
       "      <td>NaN</td>\n",
       "      <td>NaN</td>\n",
       "      <td>NaN</td>\n",
       "      <td>NaN</td>\n",
       "      <td>NaN</td>\n",
       "    </tr>\n",
       "    <tr>\n",
       "      <th>3</th>\n",
       "      <td>Star Trek Beyond</td>\n",
       "      <td>$185,000,000</td>\n",
       "      <td>$335,673,708</td>\n",
       "      <td>$158,848,340</td>\n",
       "      <td>Jul 21, 2016</td>\n",
       "      <td>NaN</td>\n",
       "      <td>NaN</td>\n",
       "      <td>NaN</td>\n",
       "      <td>NaN</td>\n",
       "      <td>NaN</td>\n",
       "      <td>NaN</td>\n",
       "      <td>NaN</td>\n",
       "    </tr>\n",
       "    <tr>\n",
       "      <th>4</th>\n",
       "      <td>Maleficent: Mistress of Evil</td>\n",
       "      <td>$185,000,000</td>\n",
       "      <td>$489,181,357</td>\n",
       "      <td>$113,929,605</td>\n",
       "      <td>Oct 17, 2019</td>\n",
       "      <td>NaN</td>\n",
       "      <td>NaN</td>\n",
       "      <td>NaN</td>\n",
       "      <td>NaN</td>\n",
       "      <td>NaN</td>\n",
       "      <td>NaN</td>\n",
       "      <td>NaN</td>\n",
       "    </tr>\n",
       "  </tbody>\n",
       "</table>\n",
       "</div>"
      ],
      "text/plain": [
       "                                               Title         Budget  \\\n",
       "0  Indiana Jones and the Kingdom of the Crystal S...   $185,000,000   \n",
       "1                                              Brave   $185,000,000   \n",
       "2                                 Kong: Skull Island   $185,000,000   \n",
       "3                                   Star Trek Beyond   $185,000,000   \n",
       "4                       Maleficent: Mistress of Evil   $185,000,000   \n",
       "\n",
       "       Worldwide       Domestic       Release  Duration  MPAA Rating  \\\n",
       "0   $786,635,413   $317,101,119  May 22, 2008       NaN          NaN   \n",
       "1   $554,606,532   $237,282,182  Jun 21, 2012       NaN          NaN   \n",
       "2   $561,072,059   $168,052,812  Feb 23, 2017       NaN          NaN   \n",
       "3   $335,673,708   $158,848,340  Jul 21, 2016       NaN          NaN   \n",
       "4   $489,181,357   $113,929,605  Oct 17, 2019       NaN          NaN   \n",
       "\n",
       "   IMDB Rating  Voter Numbers  Metascore  Genre  Language  \n",
       "0          NaN            NaN        NaN    NaN       NaN  \n",
       "1          NaN            NaN        NaN    NaN       NaN  \n",
       "2          NaN            NaN        NaN    NaN       NaN  \n",
       "3          NaN            NaN        NaN    NaN       NaN  \n",
       "4          NaN            NaN        NaN    NaN       NaN  "
      ]
     },
     "execution_count": 12,
     "metadata": {},
     "output_type": "execute_result"
    }
   ],
   "source": [
    "print(df.shape)\n",
    "df.head()"
   ]
  },
  {
   "cell_type": "code",
   "execution_count": 13,
   "metadata": {},
   "outputs": [
    {
     "data": {
      "text/plain": [
       "array([   0,    1,    2, ..., 6352, 6353, 6354])"
      ]
     },
     "execution_count": 13,
     "metadata": {},
     "output_type": "execute_result"
    }
   ],
   "source": [
    "movie_indices = np.arange(0,6355,1)\n",
    "movie_indices"
   ]
  },
  {
   "cell_type": "code",
   "execution_count": 14,
   "metadata": {},
   "outputs": [
    {
     "data": {
      "text/plain": [
       "'The Mummy: Tomb of the Dragon Emperor'"
      ]
     },
     "execution_count": 14,
     "metadata": {},
     "output_type": "execute_result"
    }
   ],
   "source": [
    "df['Title'][35]"
   ]
  },
  {
   "cell_type": "code",
   "execution_count": 15,
   "metadata": {},
   "outputs": [
    {
     "name": "stderr",
     "output_type": "stream",
     "text": [
      "[WDM] - Downloading: 100%|██████████| 6.58M/6.58M [00:00<00:00, 11.0MB/s]\n",
      "C:\\Users\\redoc\\AppData\\Local\\Temp\\ipykernel_9988\\3832095755.py:1: DeprecationWarning: executable_path has been deprecated, please pass in a Service object\n",
      "  wd = webdriver.Chrome(ChromeDriverManager().install())\n"
     ]
    }
   ],
   "source": [
    "wd = webdriver.Chrome(ChromeDriverManager().install())"
   ]
  },
  {
   "attachments": {},
   "cell_type": "markdown",
   "metadata": {},
   "source": [
    "Go to IMDB Main Site"
   ]
  },
  {
   "cell_type": "code",
   "execution_count": 16,
   "metadata": {},
   "outputs": [],
   "source": [
    "wd.get('https://www.imdb.com/')"
   ]
  },
  {
   "attachments": {},
   "cell_type": "markdown",
   "metadata": {},
   "source": [
    "Go to Search Bar"
   ]
  },
  {
   "cell_type": "code",
   "execution_count": 17,
   "metadata": {},
   "outputs": [],
   "source": [
    "search_movie = wd.find_element(\"xpath\", \"//*[@id='suggestion-search']\")"
   ]
  },
  {
   "attachments": {},
   "cell_type": "markdown",
   "metadata": {},
   "source": [
    "Enter Movie Name in Search Bar"
   ]
  },
  {
   "cell_type": "code",
   "execution_count": 18,
   "metadata": {},
   "outputs": [],
   "source": [
    "search_movie.send_keys(\"The Chronicles of Narnia: The Lion, the Witch a…\")"
   ]
  },
  {
   "attachments": {},
   "cell_type": "markdown",
   "metadata": {},
   "source": [
    "Click Search Button"
   ]
  },
  {
   "cell_type": "code",
   "execution_count": 19,
   "metadata": {},
   "outputs": [],
   "source": [
    "wd.find_element(\"xpath\", \"//*[@id='suggestion-search-button']\").click()"
   ]
  },
  {
   "attachments": {},
   "cell_type": "markdown",
   "metadata": {},
   "source": [
    "Check each searched page to see first result"
   ]
  },
  {
   "attachments": {},
   "cell_type": "markdown",
   "metadata": {},
   "source": [
    "Xpath of first result\n",
    "\n",
    "//*[@id=\"__next\"]/main/div[2]/div[3]/section/div/div[1]/section[2]/div[2]/ul/li[1]/div[2]/div[1]/a\n",
    "\n",
    "//*[@id=\"__next\"]/main/div[2]/div[3]/section/div/div[1]/section[2]/div[2]/ul/li[1]/div[2]/div[1]/a\n",
    "\n",
    "//*[@id=\"__next\"]/main/div[2]/div[3]/section/div/div[1]/section[2]/div[2]/ul/li[1]/div[2]/div[1]/a\n",
    "\n",
    "ALL THE SAME!!!!"
   ]
  },
  {
   "cell_type": "code",
   "execution_count": 20,
   "metadata": {},
   "outputs": [],
   "source": [
    "movie_link = wd.find_element(\"xpath\", \"//*[@id='__next']/main/div[2]/div[3]/section/div/div[1]/section[2]/div[2]/ul/li[1]/div[2]/div[1]/a\").get_attribute('href')"
   ]
  },
  {
   "attachments": {},
   "cell_type": "markdown",
   "metadata": {},
   "source": [
    "Go to movie link website"
   ]
  },
  {
   "cell_type": "code",
   "execution_count": 21,
   "metadata": {},
   "outputs": [],
   "source": [
    "wd.get(movie_link)"
   ]
  },
  {
   "cell_type": "code",
   "execution_count": 22,
   "metadata": {},
   "outputs": [
    {
     "data": {
      "text/plain": [
       "Index(['Title', 'Budget', 'Worldwide', 'Domestic', 'Release', 'Duration',\n",
       "       'MPAA Rating', 'IMDB Rating', 'Voter Numbers', 'Metascore', 'Genre',\n",
       "       'Language'],\n",
       "      dtype='object')"
      ]
     },
     "execution_count": 22,
     "metadata": {},
     "output_type": "execute_result"
    }
   ],
   "source": [
    "df.columns"
   ]
  },
  {
   "cell_type": "code",
   "execution_count": 23,
   "metadata": {},
   "outputs": [],
   "source": [
    "import time"
   ]
  },
  {
   "attachments": {},
   "cell_type": "markdown",
   "metadata": {},
   "source": [
    "Duration"
   ]
  },
  {
   "cell_type": "code",
   "execution_count": 24,
   "metadata": {},
   "outputs": [
    {
     "data": {
      "text/plain": [
       "'2h 23m'"
      ]
     },
     "execution_count": 24,
     "metadata": {},
     "output_type": "execute_result"
    }
   ],
   "source": [
    "wd.find_element(\"xpath\",\"//*[@id='__next']/main/div/section[1]/section/div[3]/section/section/div[2]/div[1]/div/ul/li[3]\").text"
   ]
  },
  {
   "cell_type": "code",
   "execution_count": 75,
   "metadata": {},
   "outputs": [],
   "source": [
    "time.sleep(6)"
   ]
  },
  {
   "attachments": {},
   "cell_type": "markdown",
   "metadata": {},
   "source": [
    "MPAA Rating"
   ]
  },
  {
   "cell_type": "code",
   "execution_count": 27,
   "metadata": {},
   "outputs": [
    {
     "data": {
      "text/plain": [
       "'PG'"
      ]
     },
     "execution_count": 27,
     "metadata": {},
     "output_type": "execute_result"
    }
   ],
   "source": [
    "wd.find_element(\"xpath\",\"//*[@id='__next']/main/div/section[1]/section/div[3]/section/section/div[2]/div[1]/div/ul/li[2]/a\").text"
   ]
  },
  {
   "cell_type": "code",
   "execution_count": 77,
   "metadata": {},
   "outputs": [],
   "source": [
    "time.sleep(6)"
   ]
  },
  {
   "attachments": {},
   "cell_type": "markdown",
   "metadata": {},
   "source": [
    "IMDB Rating"
   ]
  },
  {
   "cell_type": "code",
   "execution_count": 29,
   "metadata": {},
   "outputs": [
    {
     "data": {
      "text/plain": [
       "'6.9'"
      ]
     },
     "execution_count": 29,
     "metadata": {},
     "output_type": "execute_result"
    }
   ],
   "source": [
    "wd.find_element(\"xpath\",\"//*[@id='__next']/main/div/section[1]/section/div[3]/section/section/div[2]/div[2]/div/div[1]/a/div/div/div[2]/div[1]/span[1]\").text\n"
   ]
  },
  {
   "cell_type": "code",
   "execution_count": 79,
   "metadata": {},
   "outputs": [],
   "source": [
    "time.sleep(6)"
   ]
  },
  {
   "attachments": {},
   "cell_type": "markdown",
   "metadata": {},
   "source": [
    "Voter Numbers"
   ]
  },
  {
   "cell_type": "code",
   "execution_count": 31,
   "metadata": {},
   "outputs": [
    {
     "data": {
      "text/plain": [
       "'401K'"
      ]
     },
     "execution_count": 31,
     "metadata": {},
     "output_type": "execute_result"
    }
   ],
   "source": [
    "wd.find_element(\"xpath\",\"//*[@id='__next']/main/div/section[1]/section/div[3]/section/section/div[2]/div[2]/div/div[1]/a/div/div/div[2]/div[3]\").text\n"
   ]
  },
  {
   "cell_type": "code",
   "execution_count": 81,
   "metadata": {},
   "outputs": [],
   "source": [
    "time.sleep(6)"
   ]
  },
  {
   "attachments": {},
   "cell_type": "markdown",
   "metadata": {},
   "source": [
    "Meta Score"
   ]
  },
  {
   "cell_type": "code",
   "execution_count": 32,
   "metadata": {},
   "outputs": [
    {
     "data": {
      "text/plain": [
       "'75'"
      ]
     },
     "execution_count": 32,
     "metadata": {},
     "output_type": "execute_result"
    }
   ],
   "source": [
    "wd.find_element(\"xpath\",\"//*[@id='__next']/main/div/section[1]/section/div[3]/section/section/div[3]/div[2]/div[2]/ul/li[3]/a/span/span[1]/span[1]\").text\n"
   ]
  },
  {
   "cell_type": "code",
   "execution_count": 83,
   "metadata": {},
   "outputs": [],
   "source": [
    "time.sleep(6)"
   ]
  },
  {
   "attachments": {},
   "cell_type": "markdown",
   "metadata": {},
   "source": [
    "## Scraping Genre Is the Main Problem"
   ]
  },
  {
   "cell_type": "code",
   "execution_count": 33,
   "metadata": {},
   "outputs": [
    {
     "data": {
      "text/plain": [
       "'Adventure'"
      ]
     },
     "execution_count": 33,
     "metadata": {},
     "output_type": "execute_result"
    }
   ],
   "source": [
    "wd.find_element(\"xpath\",\"//*[@id='__next']/main/div/section[1]/div/section/div/div[1]/section[6]/div[2]/ul[2]/li[2]/div/ul/li[1]/a\").text\n"
   ]
  },
  {
   "attachments": {},
   "cell_type": "markdown",
   "metadata": {},
   "source": [
    "I know why. There needs to be a time-out between scrapes or it will come out as NaN"
   ]
  },
  {
   "cell_type": "code",
   "execution_count": 77,
   "metadata": {},
   "outputs": [
    {
     "name": "stderr",
     "output_type": "stream",
     "text": [
      "C:\\Users\\redoc\\AppData\\Local\\Temp\\ipykernel_9988\\3832095755.py:1: DeprecationWarning: executable_path has been deprecated, please pass in a Service object\n",
      "  wd = webdriver.Chrome(ChromeDriverManager().install())\n"
     ]
    }
   ],
   "source": [
    "wd = webdriver.Chrome(ChromeDriverManager().install())"
   ]
  },
  {
   "attachments": {},
   "cell_type": "markdown",
   "metadata": {},
   "source": [
    "Spare Code"
   ]
  },
  {
   "cell_type": "code",
   "execution_count": null,
   "metadata": {},
   "outputs": [],
   "source": [
    "'''\n",
    "for movie_index in movie_indices:\n",
    "    movie_title = df['Title'][movie_index] # get movie title\n",
    "    wd.get('https://www.imdb.com/') # go to imdb main site\n",
    "    search_movie = wd.find_element(\"xpath\", \"//*[@id='suggestion-search']\") # find the search text box\n",
    "    search_movie.send_keys(movie_title) # key in the movie title in search box\n",
    "    wd.find_element(\"xpath\", \"//*[@id='suggestion-search-button']\").click() # click the search button\n",
    "    # Next find first result on the search page\n",
    "    movie_link = wd.find_element(\"xpath\", \"//*[@id='__next']/main/div[2]/div[3]/section/div/div[1]/section[2]/div[2]/ul/li[1]/div[2]/div[1]/a\").get_attribute('href')\n",
    "    # open the movie link\n",
    "    wd.get(movie_link)\n",
    "\n",
    "    df.iloc[movie_index]['Duration']= wd.find_element(\"xpath\",\"//*[@id='__next']/main/div/section[1]/section/div[3]/section/section/div[2]/div[1]/div/ul/li[3]\").text\n",
    "    df.iloc[movie_index]['MPAA Rating']= wd.find_element(\"xpath\",\"//*[@id='__next']/main/div/section[1]/section/div[3]/section/section/div[2]/div[1]/div/ul/li[2]/span[1]\").text\n",
    "    df.iloc[movie_index]['IMDB Rating']= wd.find_element(\"xpath\",\"//*[@id='__next']/main/div/section[1]/section/div[3]/section/section/div[3]/div[2]/div[1]/div[2]/div/div[1]/a/div/div/div[2]/div[1]/span[1]\").text\n",
    "    df.iloc[movie_index]['Voter Numbers']= wd.find_element(\"xpath\",\"//*[@id='__next']/main/div/section[1]/section/div[3]/section/section/div[3]/div[2]/div[1]/div[2]/div/div[1]/a/div/div/div[2]/div[3]\").text\n",
    "    df.iloc[movie_index]['Metascore']= wd.find_element(\"xpath\",\"//*[@id='__next']/main/div/section[1]/section/div[3]/section/section/div[3]/div[2]/div[2]/ul/li[3]/a/span/span[1]/span[1]\").text\n",
    "    df.iloc[movie_index]['Genre']= wd.find_element(\"xpath\",\"//*[@id='__next']/main/div/section[1]/div/section/div/div[1]/section[7]/div[2]/ul[2]/li[1]/div/ul/li[1]/a\").text\n",
    "    #df.iloc[movie_index]['Language']= wd.find_element(\"xpath\",\"\").text\n",
    "'''\n",
    "\n",
    "    "
   ]
  },
  {
   "attachments": {},
   "cell_type": "markdown",
   "metadata": {},
   "source": [
    "What if I just scrape a column at a time?"
   ]
  },
  {
   "attachments": {},
   "cell_type": "markdown",
   "metadata": {},
   "source": [
    "# USE THIS - df['Duration'][movie_index]\n",
    "\n",
    "This will solve all problems\n",
    "\n",
    "Scrape ONE COLUMN AT A TIME"
   ]
  },
  {
   "attachments": {},
   "cell_type": "markdown",
   "metadata": {},
   "source": [
    "---"
   ]
  },
  {
   "attachments": {},
   "cell_type": "markdown",
   "metadata": {},
   "source": [
    "# CONTINUE/START HERE"
   ]
  },
  {
   "cell_type": "code",
   "execution_count": 21,
   "metadata": {},
   "outputs": [],
   "source": [
    "from selenium import webdriver\n",
    "import pandas as pd\n",
    "from bs4 import BeautifulSoup as bs\n",
    "from pprint import pprint\n",
    "import numpy as np\n",
    "from webdriver_manager.chrome import ChromeDriverManager"
   ]
  },
  {
   "cell_type": "code",
   "execution_count": 22,
   "metadata": {},
   "outputs": [],
   "source": [
    "movie_indices = np.arange(0,6355,1)"
   ]
  },
  {
   "cell_type": "code",
   "execution_count": 24,
   "metadata": {},
   "outputs": [],
   "source": [
    "df =pd.read_csv('GEA1000 Movie Scrape All - GEA1000 Movie Scrape All 24122022.csv')"
   ]
  },
  {
   "cell_type": "code",
   "execution_count": 7,
   "metadata": {},
   "outputs": [
    {
     "name": "stderr",
     "output_type": "stream",
     "text": [
      "C:\\Users\\redoc\\AppData\\Local\\Temp\\ipykernel_81868\\2606108284.py:1: DeprecationWarning: executable_path has been deprecated, please pass in a Service object\n",
      "  wd = webdriver.Chrome(ChromeDriverManager().install())\n",
      "C:\\Users\\redoc\\AppData\\Local\\Temp\\ipykernel_81868\\2606108284.py:17: SettingWithCopyWarning: \n",
      "A value is trying to be set on a copy of a slice from a DataFrame\n",
      "\n",
      "See the caveats in the documentation: https://pandas.pydata.org/pandas-docs/stable/user_guide/indexing.html#returning-a-view-versus-a-copy\n",
      "  df['Genre'][movie_index] = wd.find_element(\"xpath\",\"//*[@id='__next']/main/div/section[1]/section/div[3]/section/section/div[3]/div[2]/div[1]/div[1]/div/div[2]/a[1]/span\").text\n",
      "C:\\Users\\redoc\\AppData\\Local\\Temp\\ipykernel_81868\\2606108284.py:18: SettingWithCopyWarning: \n",
      "A value is trying to be set on a copy of a slice from a DataFrame\n",
      "\n",
      "See the caveats in the documentation: https://pandas.pydata.org/pandas-docs/stable/user_guide/indexing.html#returning-a-view-versus-a-copy\n",
      "  df['Duration'][movie_index]= wd.find_element(\"xpath\",\"//*[@id='__next']/main/div/section[1]/section/div[3]/section/section/div[2]/div[1]/div/ul/li[3]\").text\n",
      "C:\\Users\\redoc\\AppData\\Local\\Temp\\ipykernel_81868\\2606108284.py:20: SettingWithCopyWarning: \n",
      "A value is trying to be set on a copy of a slice from a DataFrame\n",
      "\n",
      "See the caveats in the documentation: https://pandas.pydata.org/pandas-docs/stable/user_guide/indexing.html#returning-a-view-versus-a-copy\n",
      "  df['IMDB Rating'][movie_index]= wd.find_element(\"xpath\",\"//*[@id='__next']/main/div/section[1]/section/div[3]/section/section/div[3]/div[2]/div[1]/div[2]/div/div[1]/a/div/div/div[2]/div[1]/span[1]\").text\n"
     ]
    },
    {
     "ename": "KeyError",
     "evalue": "6354",
     "output_type": "error",
     "traceback": [
      "\u001b[1;31m---------------------------------------------------------------------------\u001b[0m",
      "\u001b[1;31mValueError\u001b[0m                                Traceback (most recent call last)",
      "File \u001b[1;32mc:\\Users\\redoc\\AppData\\Local\\Programs\\Python\\Python310\\lib\\site-packages\\pandas\\core\\indexes\\range.py:385\u001b[0m, in \u001b[0;36mRangeIndex.get_loc\u001b[1;34m(self, key, method, tolerance)\u001b[0m\n\u001b[0;32m    384\u001b[0m \u001b[39mtry\u001b[39;00m:\n\u001b[1;32m--> 385\u001b[0m     \u001b[39mreturn\u001b[39;00m \u001b[39mself\u001b[39;49m\u001b[39m.\u001b[39;49m_range\u001b[39m.\u001b[39;49mindex(new_key)\n\u001b[0;32m    386\u001b[0m \u001b[39mexcept\u001b[39;00m \u001b[39mValueError\u001b[39;00m \u001b[39mas\u001b[39;00m err:\n",
      "\u001b[1;31mValueError\u001b[0m: 6354 is not in range",
      "\nThe above exception was the direct cause of the following exception:\n",
      "\u001b[1;31mKeyError\u001b[0m                                  Traceback (most recent call last)",
      "\u001b[1;32mc:\\Users\\redoc\\OneDrive\\Desktop\\NUS GEA1000\\GEA1000 Movie Project\\imdb-scrape-MAIN.ipynb Cell 52\u001b[0m in \u001b[0;36m<cell line: 3>\u001b[1;34m()\u001b[0m\n\u001b[0;32m      <a href='vscode-notebook-cell:/c%3A/Users/redoc/OneDrive/Desktop/NUS%20GEA1000/GEA1000%20Movie%20Project/imdb-scrape-MAIN.ipynb#Y101sZmlsZQ%3D%3D?line=0'>1</a>\u001b[0m wd \u001b[39m=\u001b[39m webdriver\u001b[39m.\u001b[39mChrome(ChromeDriverManager()\u001b[39m.\u001b[39minstall())\n\u001b[0;32m      <a href='vscode-notebook-cell:/c%3A/Users/redoc/OneDrive/Desktop/NUS%20GEA1000/GEA1000%20Movie%20Project/imdb-scrape-MAIN.ipynb#Y101sZmlsZQ%3D%3D?line=2'>3</a>\u001b[0m \u001b[39mfor\u001b[39;00m movie_index \u001b[39min\u001b[39;00m movie_indices[\u001b[39m6017\u001b[39m:]:\n\u001b[1;32m----> <a href='vscode-notebook-cell:/c%3A/Users/redoc/OneDrive/Desktop/NUS%20GEA1000/GEA1000%20Movie%20Project/imdb-scrape-MAIN.ipynb#Y101sZmlsZQ%3D%3D?line=3'>4</a>\u001b[0m     movie_title \u001b[39m=\u001b[39m df[\u001b[39m'\u001b[39;49m\u001b[39mTitle\u001b[39;49m\u001b[39m'\u001b[39;49m][movie_index] \u001b[39m# get movie title\u001b[39;00m\n\u001b[0;32m      <a href='vscode-notebook-cell:/c%3A/Users/redoc/OneDrive/Desktop/NUS%20GEA1000/GEA1000%20Movie%20Project/imdb-scrape-MAIN.ipynb#Y101sZmlsZQ%3D%3D?line=4'>5</a>\u001b[0m     wd\u001b[39m.\u001b[39mget(\u001b[39m'\u001b[39m\u001b[39mhttps://www.imdb.com/\u001b[39m\u001b[39m'\u001b[39m) \u001b[39m# go to imdb main site\u001b[39;00m\n\u001b[0;32m      <a href='vscode-notebook-cell:/c%3A/Users/redoc/OneDrive/Desktop/NUS%20GEA1000/GEA1000%20Movie%20Project/imdb-scrape-MAIN.ipynb#Y101sZmlsZQ%3D%3D?line=5'>6</a>\u001b[0m     search_movie \u001b[39m=\u001b[39m wd\u001b[39m.\u001b[39mfind_element(\u001b[39m\"\u001b[39m\u001b[39mxpath\u001b[39m\u001b[39m\"\u001b[39m, \u001b[39m\"\u001b[39m\u001b[39m//*[@id=\u001b[39m\u001b[39m'\u001b[39m\u001b[39msuggestion-search\u001b[39m\u001b[39m'\u001b[39m\u001b[39m]\u001b[39m\u001b[39m\"\u001b[39m) \u001b[39m# find the search text box\u001b[39;00m\n",
      "File \u001b[1;32mc:\\Users\\redoc\\AppData\\Local\\Programs\\Python\\Python310\\lib\\site-packages\\pandas\\core\\series.py:958\u001b[0m, in \u001b[0;36mSeries.__getitem__\u001b[1;34m(self, key)\u001b[0m\n\u001b[0;32m    955\u001b[0m     \u001b[39mreturn\u001b[39;00m \u001b[39mself\u001b[39m\u001b[39m.\u001b[39m_values[key]\n\u001b[0;32m    957\u001b[0m \u001b[39melif\u001b[39;00m key_is_scalar:\n\u001b[1;32m--> 958\u001b[0m     \u001b[39mreturn\u001b[39;00m \u001b[39mself\u001b[39;49m\u001b[39m.\u001b[39;49m_get_value(key)\n\u001b[0;32m    960\u001b[0m \u001b[39mif\u001b[39;00m is_hashable(key):\n\u001b[0;32m    961\u001b[0m     \u001b[39m# Otherwise index.get_value will raise InvalidIndexError\u001b[39;00m\n\u001b[0;32m    962\u001b[0m     \u001b[39mtry\u001b[39;00m:\n\u001b[0;32m    963\u001b[0m         \u001b[39m# For labels that don't resolve as scalars like tuples and frozensets\u001b[39;00m\n",
      "File \u001b[1;32mc:\\Users\\redoc\\AppData\\Local\\Programs\\Python\\Python310\\lib\\site-packages\\pandas\\core\\series.py:1069\u001b[0m, in \u001b[0;36mSeries._get_value\u001b[1;34m(self, label, takeable)\u001b[0m\n\u001b[0;32m   1066\u001b[0m     \u001b[39mreturn\u001b[39;00m \u001b[39mself\u001b[39m\u001b[39m.\u001b[39m_values[label]\n\u001b[0;32m   1068\u001b[0m \u001b[39m# Similar to Index.get_value, but we do not fall back to positional\u001b[39;00m\n\u001b[1;32m-> 1069\u001b[0m loc \u001b[39m=\u001b[39m \u001b[39mself\u001b[39;49m\u001b[39m.\u001b[39;49mindex\u001b[39m.\u001b[39;49mget_loc(label)\n\u001b[0;32m   1070\u001b[0m \u001b[39mreturn\u001b[39;00m \u001b[39mself\u001b[39m\u001b[39m.\u001b[39mindex\u001b[39m.\u001b[39m_get_values_for_loc(\u001b[39mself\u001b[39m, loc, label)\n",
      "File \u001b[1;32mc:\\Users\\redoc\\AppData\\Local\\Programs\\Python\\Python310\\lib\\site-packages\\pandas\\core\\indexes\\range.py:387\u001b[0m, in \u001b[0;36mRangeIndex.get_loc\u001b[1;34m(self, key, method, tolerance)\u001b[0m\n\u001b[0;32m    385\u001b[0m         \u001b[39mreturn\u001b[39;00m \u001b[39mself\u001b[39m\u001b[39m.\u001b[39m_range\u001b[39m.\u001b[39mindex(new_key)\n\u001b[0;32m    386\u001b[0m     \u001b[39mexcept\u001b[39;00m \u001b[39mValueError\u001b[39;00m \u001b[39mas\u001b[39;00m err:\n\u001b[1;32m--> 387\u001b[0m         \u001b[39mraise\u001b[39;00m \u001b[39mKeyError\u001b[39;00m(key) \u001b[39mfrom\u001b[39;00m \u001b[39merr\u001b[39;00m\n\u001b[0;32m    388\u001b[0m \u001b[39mself\u001b[39m\u001b[39m.\u001b[39m_check_indexing_error(key)\n\u001b[0;32m    389\u001b[0m \u001b[39mraise\u001b[39;00m \u001b[39mKeyError\u001b[39;00m(key)\n",
      "\u001b[1;31mKeyError\u001b[0m: 6354"
     ]
    }
   ],
   "source": [
    "wd = webdriver.Chrome(ChromeDriverManager().install())\n",
    "\n",
    "for movie_index in movie_indices[6017:]:\n",
    "    movie_title = df['Title'][movie_index] # get movie title\n",
    "    wd.get('https://www.imdb.com/') # go to imdb main site\n",
    "    search_movie = wd.find_element(\"xpath\", \"//*[@id='suggestion-search']\") # find the search text box\n",
    "    search_movie.send_keys(movie_title) # key in the movie title in search box\n",
    "    \n",
    "    try:\n",
    "        wd.find_element(\"xpath\", \"//*[@id='suggestion-search-button']\").click() # click the search button\n",
    "        # Next find first result on the search page\n",
    "        movie_link = wd.find_element(\"xpath\", \"//*[@id='__next']/main/div[2]/div[3]/section/div/div[1]/section[2]/div[2]/ul/li[1]/div[2]/div[1]/a\").get_attribute('href')\n",
    "        # open the movie link\n",
    "        wd.get(movie_link)\n",
    "\n",
    "        try:\n",
    "            df['Genre'][movie_index] = wd.find_element(\"xpath\",\"//*[@id='__next']/main/div/section[1]/section/div[3]/section/section/div[3]/div[2]/div[1]/div[1]/div/div[2]/a[1]/span\").text\n",
    "            df['Duration'][movie_index]= wd.find_element(\"xpath\",\"//*[@id='__next']/main/div/section[1]/section/div[3]/section/section/div[2]/div[1]/div/ul/li[3]\").text\n",
    "            #df.iloc[movie_index]['MPAA Rating']= wd.find_element(\"xpath\",\"//*[@id='__next']/main/div/section[1]/section/div[3]/section/section/div[2]/div[1]/div/ul/li[2]/span[1]\").text\n",
    "            df['IMDB Rating'][movie_index]= wd.find_element(\"xpath\",\"//*[@id='__next']/main/div/section[1]/section/div[3]/section/section/div[3]/div[2]/div[1]/div[2]/div/div[1]/a/div/div/div[2]/div[1]/span[1]\").text\n",
    "            #df.iloc[movie_index]['Voter Numbers']= wd.find_element(\"xpath\",\"//*[@id='__next']/main/div/section[1]/section/div[3]/section/section/div[3]/div[2]/div[1]/div[2]/div/div[1]/a/div/div/div[2]/div[3]\").text\n",
    "            #df.iloc[movie_index]['Metascore']= wd.find_element(\"xpath\",\"//*[@id='__next']/main/div/section[1]/section/div[3]/section/section/div[3]/div[2]/div[2]/ul/li[3]/a/span/span[1]/span[1]\").text\n",
    "            #df.iloc[movie_index]['Language']= wd.find_element(\"xpath\",\"\").text\n",
    "        except:\n",
    "            pass\n",
    "    except:\n",
    "        pass\n"
   ]
  },
  {
   "cell_type": "code",
   "execution_count": 9,
   "metadata": {},
   "outputs": [
    {
     "name": "stderr",
     "output_type": "stream",
     "text": [
      "C:\\Users\\redoc\\AppData\\Local\\Temp\\ipykernel_81868\\3421765883.py:1: DeprecationWarning: executable_path has been deprecated, please pass in a Service object\n",
      "  wd = webdriver.Chrome(ChromeDriverManager().install())\n"
     ]
    }
   ],
   "source": [
    "wd = webdriver.Chrome(ChromeDriverManager().install())\n",
    "# Get missing IMDB Ratings\n",
    "for movie_index in movie_indices[615:1341]:\n",
    "    #if pd.isna(df['IMDB Rating'][movie_index]) == True or pd.isnull(df['IMDB Rating'][movie_index]) == True:\n",
    "    try:\n",
    "        movie_title = df['Title'][movie_index] # get movie title\n",
    "        wd.get('https://www.imdb.com/') # go to imdb main site\n",
    "        search_movie = wd.find_element(\"xpath\", \"//*[@id='suggestion-search']\") # find the search text box\n",
    "        search_movie.send_keys(movie_title) # key in the movie title in search box\n",
    "        wd.find_element(\"xpath\", \"//*[@id='suggestion-search-button']\").click() # click the search button\n",
    "        # Next find first result on the search page\n",
    "        movie_link = wd.find_element(\"xpath\", \"//*[@id='__next']/main/div[2]/div[3]/section/div/div[1]/section[2]/div[2]/ul/li[1]/div[2]/div[1]/a\").get_attribute('href')\n",
    "        # open the movie link\n",
    "        wd.get(movie_link)\n",
    "\n",
    "        try:\n",
    "            df['IMDB Rating'][movie_index]= wd.find_element(\"xpath\",\"//*[@id='__next']/main/div/section[1]/section/div[3]/section/section/div[2]/div[2]/div/div[1]/a/div/div/div[2]/div[1]/span[1]\").text\n",
    "            \n",
    "        except:\n",
    "            pass\n",
    "\n",
    "    except:\n",
    "        pass\n",
    "    "
   ]
  },
  {
   "cell_type": "code",
   "execution_count": 37,
   "metadata": {},
   "outputs": [
    {
     "name": "stderr",
     "output_type": "stream",
     "text": [
      "C:\\Users\\redoc\\AppData\\Local\\Temp\\ipykernel_15560\\1687004179.py:1: DeprecationWarning: executable_path has been deprecated, please pass in a Service object\n",
      "  wd = webdriver.Chrome(ChromeDriverManager().install())\n"
     ]
    }
   ],
   "source": [
    "wd = webdriver.Chrome(ChromeDriverManager().install())\n",
    "\n",
    "for movie_index in movie_indices[1273:1341]:\n",
    "    movie_title = df['Title'][movie_index] # get movie title\n",
    "    wd.get('https://www.imdb.com/') # go to imdb main site\n",
    "    search_movie = wd.find_element(\"xpath\", \"//*[@id='suggestion-search']\") # find the search text box\n",
    "    search_movie.send_keys(movie_title) # key in the movie title in search box\n",
    "    \n",
    "    try:\n",
    "        wd.find_element(\"xpath\", \"//*[@id='suggestion-search-button']\").click() # click the search button\n",
    "        # Next find first result on the search page\n",
    "        movie_link = wd.find_element(\"xpath\", \"//*[@id='__next']/main/div[2]/div[3]/section/div/div[1]/section[2]/div[2]/ul/li[1]/div[2]/div[1]/a\").get_attribute('href')\n",
    "        # open the movie link\n",
    "        wd.get(movie_link)\n",
    "\n",
    "        try:\n",
    "            #df['Genre'][movie_index] = wd.find_element(\"xpath\",\"//*[@id='__next']/main/div/section[1]/section/div[3]/section/section/div[3]/div[2]/div[1]/div[1]/div/div[2]/a[1]/span\").text\n",
    "            #df['Duration'][movie_index]= wd.find_element(\"xpath\",\"//*[@id='__next']/main/div/section[1]/section/div[3]/section/section/div[2]/div[1]/div/ul/li[3]\").text\n",
    "            #df['MPAA Rating'][movie_index]= wd.find_element(\"xpath\",\"//*[@id='__next']/main/div/section[1]/section/div[3]/section/section/div[2]/div[1]/div/ul/li[2]/a\").text\n",
    "            df['IMDB Rating'][movie_index]= wd.find_element(\"xpath\",\"//*[@id='__next']/main/div/section[1]/section/div[3]/section/section/div[3]/div[2]/div[1]/div[2]/div/div[1]/a/div/div/div[2]/div[1]/span[1]\").text\n",
    "            #df['Voter Numbers'][movie_index]= wd.find_element(\"xpath\",\"/html/body/div[2]/main/div/section[1]/section/div[3]/section/section/div[2]/div[2]/div/div[1]/a/div/div/div[2]/div[3]\").text\n",
    "            #df['Metascore'][movie_index]= wd.find_element(\"xpath\",\"//*[@id='__next']/main/div/section[1]/section/div[3]/section/section/div[3]/div[2]/div[2]/ul/li[3]/a/span/span[1]/span[1]\").text\n",
    "            #df['Language'][movie_index]= wd.find_element(\"xpath\",\"//*[@id='__next']/main/div/section[1]/div/section/div/div[1]/section[13]/div[2]/ul/li[4]/div/ul/li[1]/a\").text\n",
    "        except:\n",
    "            pass\n",
    "    except:\n",
    "        pass"
   ]
  },
  {
   "cell_type": "code",
   "execution_count": 38,
   "metadata": {},
   "outputs": [],
   "source": [
    "df.to_csv('GEA1000 Movie Scrape All - GEA1000 Movie Scrape All 24122022.csv')"
   ]
  },
  {
   "attachments": {},
   "cell_type": "markdown",
   "metadata": {},
   "source": [
    "---"
   ]
  },
  {
   "cell_type": "code",
   "execution_count": 11,
   "metadata": {},
   "outputs": [
    {
     "name": "stderr",
     "output_type": "stream",
     "text": [
      "C:\\Users\\redoc\\AppData\\Local\\Temp\\ipykernel_15560\\3832095755.py:1: DeprecationWarning: executable_path has been deprecated, please pass in a Service object\n",
      "  wd = webdriver.Chrome(ChromeDriverManager().install())\n"
     ]
    }
   ],
   "source": [
    "wd = webdriver.Chrome(ChromeDriverManager().install())"
   ]
  },
  {
   "cell_type": "code",
   "execution_count": 12,
   "metadata": {},
   "outputs": [],
   "source": [
    "wd.get('https://www.imdb.com/')"
   ]
  },
  {
   "cell_type": "code",
   "execution_count": 18,
   "metadata": {},
   "outputs": [
    {
     "data": {
      "text/plain": [
       "'6.9'"
      ]
     },
     "execution_count": 18,
     "metadata": {},
     "output_type": "execute_result"
    }
   ],
   "source": [
    "wd.find_element(\"xpath\",\"//*[@id='__next']/main/div/section[1]/section/div[3]/section/section/div[3]/div[2]/div[1]/div[2]/div/div[1]/a/div/div/div[2]/div[1]/span[1]\").text"
   ]
  },
  {
   "cell_type": "code",
   "execution_count": null,
   "metadata": {},
   "outputs": [],
   "source": [
    "//*[@id=\"__next\"]/main/div/section[1]/section/div[3]/section/section/div[2]/div[2]/div/div[1]/a/div/div/div[2]/div[1]/span[1]"
   ]
  },
  {
   "cell_type": "code",
   "execution_count": 30,
   "metadata": {},
   "outputs": [
    {
     "data": {
      "text/plain": [
       "'1.3M'"
      ]
     },
     "execution_count": 30,
     "metadata": {},
     "output_type": "execute_result"
    }
   ],
   "source": [
    "wd.find_element(\"xpath\",\"/html/body/div[2]/main/div/section[1]/section/div[3]/section/section/div[2]/div[2]/div/div[1]/a/div/div/div[2]/div[3]\").text"
   ]
  },
  {
   "cell_type": "code",
   "execution_count": 32,
   "metadata": {},
   "outputs": [
    {
     "data": {
      "text/plain": [
       "'83'"
      ]
     },
     "execution_count": 32,
     "metadata": {},
     "output_type": "execute_result"
    }
   ],
   "source": [
    "wd.find_element(\"xpath\",\"//*[@id='__next']/main/div/section[1]/section/div[3]/section/section/div[3]/div[2]/div[2]/ul/li[3]/a/span/span[1]/span[1]\").text"
   ]
  },
  {
   "attachments": {},
   "cell_type": "markdown",
   "metadata": {},
   "source": [
    "---"
   ]
  },
  {
   "attachments": {},
   "cell_type": "markdown",
   "metadata": {},
   "source": [
    "# Check Percentage Null Values"
   ]
  },
  {
   "cell_type": "code",
   "execution_count": 39,
   "metadata": {},
   "outputs": [],
   "source": [
    "df =pd.read_csv('GEA1000 Movie Scrape All (COMPLETE).csv')"
   ]
  },
  {
   "cell_type": "code",
   "execution_count": 41,
   "metadata": {},
   "outputs": [],
   "source": [
    "df['Opening Weekend']=np.nan"
   ]
  },
  {
   "cell_type": "code",
   "execution_count": 44,
   "metadata": {},
   "outputs": [],
   "source": [
    "df.drop('Unnamed: 0', axis=1, inplace=True)"
   ]
  },
  {
   "cell_type": "code",
   "execution_count": 45,
   "metadata": {},
   "outputs": [
    {
     "data": {
      "text/html": [
       "<div>\n",
       "<style scoped>\n",
       "    .dataframe tbody tr th:only-of-type {\n",
       "        vertical-align: middle;\n",
       "    }\n",
       "\n",
       "    .dataframe tbody tr th {\n",
       "        vertical-align: top;\n",
       "    }\n",
       "\n",
       "    .dataframe thead th {\n",
       "        text-align: right;\n",
       "    }\n",
       "</style>\n",
       "<table border=\"1\" class=\"dataframe\">\n",
       "  <thead>\n",
       "    <tr style=\"text-align: right;\">\n",
       "      <th></th>\n",
       "      <th>Column_Name</th>\n",
       "      <th>Percent_Missing_Values</th>\n",
       "    </tr>\n",
       "  </thead>\n",
       "  <tbody>\n",
       "    <tr>\n",
       "      <th>Title</th>\n",
       "      <td>Title</td>\n",
       "      <td>0.000000</td>\n",
       "    </tr>\n",
       "    <tr>\n",
       "      <th>Budget</th>\n",
       "      <td>Budget</td>\n",
       "      <td>0.000000</td>\n",
       "    </tr>\n",
       "    <tr>\n",
       "      <th>Worldwide</th>\n",
       "      <td>Worldwide</td>\n",
       "      <td>0.000000</td>\n",
       "    </tr>\n",
       "    <tr>\n",
       "      <th>Domestic</th>\n",
       "      <td>Domestic</td>\n",
       "      <td>0.000000</td>\n",
       "    </tr>\n",
       "    <tr>\n",
       "      <th>Release</th>\n",
       "      <td>Release</td>\n",
       "      <td>0.000000</td>\n",
       "    </tr>\n",
       "    <tr>\n",
       "      <th>Duration</th>\n",
       "      <td>Duration</td>\n",
       "      <td>4.721435</td>\n",
       "    </tr>\n",
       "    <tr>\n",
       "      <th>MPAA Rating</th>\n",
       "      <td>MPAA Rating</td>\n",
       "      <td>4.532578</td>\n",
       "    </tr>\n",
       "    <tr>\n",
       "      <th>IMDB Rating</th>\n",
       "      <td>IMDB Rating</td>\n",
       "      <td>5.067674</td>\n",
       "    </tr>\n",
       "    <tr>\n",
       "      <th>Voter Numbers</th>\n",
       "      <td>Voter Numbers</td>\n",
       "      <td>4.752912</td>\n",
       "    </tr>\n",
       "    <tr>\n",
       "      <th>Metascore</th>\n",
       "      <td>Metascore</td>\n",
       "      <td>19.074599</td>\n",
       "    </tr>\n",
       "    <tr>\n",
       "      <th>Genre</th>\n",
       "      <td>Genre</td>\n",
       "      <td>1.935788</td>\n",
       "    </tr>\n",
       "    <tr>\n",
       "      <th>Language</th>\n",
       "      <td>Language</td>\n",
       "      <td>100.000000</td>\n",
       "    </tr>\n",
       "    <tr>\n",
       "      <th>Opening Weekend</th>\n",
       "      <td>Opening Weekend</td>\n",
       "      <td>100.000000</td>\n",
       "    </tr>\n",
       "  </tbody>\n",
       "</table>\n",
       "</div>"
      ],
      "text/plain": [
       "                     Column_Name  Percent_Missing_Values\n",
       "Title                      Title                0.000000\n",
       "Budget                    Budget                0.000000\n",
       "Worldwide              Worldwide                0.000000\n",
       "Domestic                Domestic                0.000000\n",
       "Release                  Release                0.000000\n",
       "Duration                Duration                4.721435\n",
       "MPAA Rating          MPAA Rating                4.532578\n",
       "IMDB Rating          IMDB Rating                5.067674\n",
       "Voter Numbers      Voter Numbers                4.752912\n",
       "Metascore              Metascore               19.074599\n",
       "Genre                      Genre                1.935788\n",
       "Language                Language              100.000000\n",
       "Opening Weekend  Opening Weekend              100.000000"
      ]
     },
     "execution_count": 45,
     "metadata": {},
     "output_type": "execute_result"
    }
   ],
   "source": [
    "percent_missing = df.isnull().sum() * 100 / len(df)\n",
    "missing_value_df = pd.DataFrame({'Column_Name': df.columns,\n",
    "                                 'Percent_Missing_Values': percent_missing})\n",
    "missing_value_df"
   ]
  },
  {
   "cell_type": "code",
   "execution_count": 46,
   "metadata": {},
   "outputs": [
    {
     "data": {
      "text/plain": [
       "Title              6354\n",
       "Budget             6354\n",
       "Worldwide          6354\n",
       "Domestic           6354\n",
       "Release            6354\n",
       "Duration           6054\n",
       "MPAA Rating        6066\n",
       "IMDB Rating        6032\n",
       "Voter Numbers      6052\n",
       "Metascore          5142\n",
       "Genre              6231\n",
       "Language              0\n",
       "Opening Weekend       0\n",
       "dtype: int64"
      ]
     },
     "execution_count": 46,
     "metadata": {},
     "output_type": "execute_result"
    }
   ],
   "source": [
    "df.count()"
   ]
  },
  {
   "attachments": {},
   "cell_type": "markdown",
   "metadata": {},
   "source": [
    "---"
   ]
  },
  {
   "attachments": {},
   "cell_type": "markdown",
   "metadata": {},
   "source": [
    "# Scrape Opening Weekend and Language from the-numbers.com"
   ]
  },
  {
   "cell_type": "code",
   "execution_count": 1,
   "metadata": {},
   "outputs": [],
   "source": [
    "from selenium import webdriver\n",
    "import pandas as pd\n",
    "from bs4 import BeautifulSoup as bs\n",
    "from pprint import pprint\n",
    "import numpy as np\n",
    "from webdriver_manager.chrome import ChromeDriverManager\n",
    "from selenium.webdriver.common.keys import Keys"
   ]
  },
  {
   "cell_type": "code",
   "execution_count": 4,
   "metadata": {},
   "outputs": [
    {
     "name": "stderr",
     "output_type": "stream",
     "text": [
      "C:\\Users\\redoc\\AppData\\Local\\Temp\\ipykernel_48640\\150154627.py:1: DeprecationWarning: executable_path has been deprecated, please pass in a Service object\n",
      "  wd = webdriver.Chrome(ChromeDriverManager().install())\n",
      "C:\\Users\\redoc\\AppData\\Local\\Temp\\ipykernel_48640\\150154627.py:22: SettingWithCopyWarning: \n",
      "A value is trying to be set on a copy of a slice from a DataFrame\n",
      "\n",
      "See the caveats in the documentation: https://pandas.pydata.org/pandas-docs/stable/user_guide/indexing.html#returning-a-view-versus-a-copy\n",
      "  df['Opening Weekend'][movie_index] = wd.find_element(\"xpath\",\"//*[@id='summary']/table[1]/tbody/tr[1]/td[2]\").text\n",
      "C:\\Users\\redoc\\AppData\\Local\\Temp\\ipykernel_48640\\150154627.py:23: SettingWithCopyWarning: \n",
      "A value is trying to be set on a copy of a slice from a DataFrame\n",
      "\n",
      "See the caveats in the documentation: https://pandas.pydata.org/pandas-docs/stable/user_guide/indexing.html#returning-a-view-versus-a-copy\n",
      "  df['Language'][movie_index]= wd.find_element(\"xpath\",\"//*[@id='summary']/table[3]/tbody/tr[15]/td[2]/a\").text\n"
     ]
    }
   ],
   "source": [
    "wd = webdriver.Chrome(ChromeDriverManager().install())\n",
    "\n",
    "df =pd.read_csv('GEA1000 Movie Scrape All (COMPLETE).csv')\n",
    "\n",
    "movie_indices = np.arange(0,6355,1)\n",
    "\n",
    "for movie_index in movie_indices[6001:6352]:\n",
    "    movie_title = df['Title'][movie_index] # get movie title\n",
    "    wd.get('https://www.the-numbers.com/movie/budgets/all') # go to imdb main site\n",
    "    search_movie = wd.find_element(\"xpath\", \"//*[@id='header']/span[2]/form/input\") # find the search text box\n",
    "    search_movie.send_keys(movie_title) # key in the movie title in search box\n",
    "    search_movie.send_keys(Keys.RETURN) # click the search button in this case PRESS ENTER\n",
    "    \n",
    "    try:\n",
    "        \n",
    "        # Next find first result on the search page\n",
    "        movie_link = wd.find_element(\"xpath\", \"//*[@id='page_filling_chart']/center/table/tbody/tr[2]/td[3]/b/a\").get_attribute('href')\n",
    "        # open the movie link\n",
    "        wd.get(movie_link)\n",
    "\n",
    "        try:\n",
    "            df['Opening Weekend'][movie_index] = wd.find_element(\"xpath\",\"//*[@id='summary']/table[1]/tbody/tr[1]/td[2]\").text\n",
    "            df['Language'][movie_index]= wd.find_element(\"xpath\",\"//*[@id='summary']/table[3]/tbody/tr[15]/td[2]/a\").text\n",
    "        except:\n",
    "            pass\n",
    "    except:\n",
    "        pass\n",
    "    # df.to_csv('GEA1000 Movie Scrape All (COMPLETE).csv')"
   ]
  },
  {
   "cell_type": "code",
   "execution_count": 7,
   "metadata": {},
   "outputs": [],
   "source": [
    "df.to_csv('GEA1000 Movie Scrape All (COMPLETE).csv')"
   ]
  },
  {
   "attachments": {},
   "cell_type": "markdown",
   "metadata": {},
   "source": [
    "---"
   ]
  },
  {
   "cell_type": "code",
   "execution_count": 91,
   "metadata": {},
   "outputs": [],
   "source": [
    "opening = wd.find_element(\"xpath\", \"//*[@id='summary']/table[1]/tbody/tr[1]/td[2]\").text\n",
    "\n",
    "language = wd.find_element(\"xpath\", \"//*[@id='summary']/table[3]/tbody/tr[15]/td[2]/a\").text"
   ]
  },
  {
   "cell_type": "code",
   "execution_count": 92,
   "metadata": {},
   "outputs": [
    {
     "name": "stdout",
     "output_type": "stream",
     "text": [
      "$191,271,109 (41.7% of total gross)\n",
      "English\n"
     ]
    }
   ],
   "source": [
    "print(opening)\n",
    "print(language)"
   ]
  },
  {
   "cell_type": "code",
   "execution_count": 93,
   "metadata": {},
   "outputs": [
    {
     "data": {
      "text/html": [
       "<div>\n",
       "<style scoped>\n",
       "    .dataframe tbody tr th:only-of-type {\n",
       "        vertical-align: middle;\n",
       "    }\n",
       "\n",
       "    .dataframe tbody tr th {\n",
       "        vertical-align: top;\n",
       "    }\n",
       "\n",
       "    .dataframe thead th {\n",
       "        text-align: right;\n",
       "    }\n",
       "</style>\n",
       "<table border=\"1\" class=\"dataframe\">\n",
       "  <thead>\n",
       "    <tr style=\"text-align: right;\">\n",
       "      <th></th>\n",
       "      <th>Title</th>\n",
       "      <th>Budget</th>\n",
       "      <th>Worldwide</th>\n",
       "      <th>Domestic</th>\n",
       "      <th>Release</th>\n",
       "      <th>Duration</th>\n",
       "      <th>MPAA Rating</th>\n",
       "      <th>IMDB Rating</th>\n",
       "      <th>Voter Numbers</th>\n",
       "      <th>Metascore</th>\n",
       "      <th>Genre</th>\n",
       "      <th>Language</th>\n",
       "      <th>Opening Weekend</th>\n",
       "    </tr>\n",
       "  </thead>\n",
       "  <tbody>\n",
       "    <tr>\n",
       "      <th>0</th>\n",
       "      <td>Indiana Jones and the Kingdom of the Crystal S...</td>\n",
       "      <td>$185,000,000</td>\n",
       "      <td>$786,635,413</td>\n",
       "      <td>$317,101,119</td>\n",
       "      <td>May 22, 2008</td>\n",
       "      <td>2h 2m</td>\n",
       "      <td>PG-13</td>\n",
       "      <td>6.2</td>\n",
       "      <td>457K</td>\n",
       "      <td>65.0</td>\n",
       "      <td>Action</td>\n",
       "      <td>NaN</td>\n",
       "      <td>NaN</td>\n",
       "    </tr>\n",
       "    <tr>\n",
       "      <th>1</th>\n",
       "      <td>Brave</td>\n",
       "      <td>$185,000,000</td>\n",
       "      <td>$554,606,532</td>\n",
       "      <td>$237,282,182</td>\n",
       "      <td>Jun 21, 2012</td>\n",
       "      <td>1h 33m</td>\n",
       "      <td>PG</td>\n",
       "      <td>7.1</td>\n",
       "      <td>414K</td>\n",
       "      <td>69.0</td>\n",
       "      <td>Animation</td>\n",
       "      <td>NaN</td>\n",
       "      <td>NaN</td>\n",
       "    </tr>\n",
       "    <tr>\n",
       "      <th>2</th>\n",
       "      <td>Kong: Skull Island</td>\n",
       "      <td>$185,000,000</td>\n",
       "      <td>$561,072,059</td>\n",
       "      <td>$168,052,812</td>\n",
       "      <td>Feb 23, 2017</td>\n",
       "      <td>1h 58m</td>\n",
       "      <td>PG-13</td>\n",
       "      <td>6.6</td>\n",
       "      <td>321K</td>\n",
       "      <td>62.0</td>\n",
       "      <td>Action</td>\n",
       "      <td>NaN</td>\n",
       "      <td>NaN</td>\n",
       "    </tr>\n",
       "    <tr>\n",
       "      <th>3</th>\n",
       "      <td>Star Trek Beyond</td>\n",
       "      <td>$185,000,000</td>\n",
       "      <td>$335,673,708</td>\n",
       "      <td>$158,848,340</td>\n",
       "      <td>Jul 21, 2016</td>\n",
       "      <td>2h 2m</td>\n",
       "      <td>PG-13</td>\n",
       "      <td>7.0</td>\n",
       "      <td>248K</td>\n",
       "      <td>68.0</td>\n",
       "      <td>Action</td>\n",
       "      <td>NaN</td>\n",
       "      <td>NaN</td>\n",
       "    </tr>\n",
       "    <tr>\n",
       "      <th>4</th>\n",
       "      <td>Maleficent: Mistress of Evil</td>\n",
       "      <td>$185,000,000</td>\n",
       "      <td>$489,181,357</td>\n",
       "      <td>$113,929,605</td>\n",
       "      <td>Oct 17, 2019</td>\n",
       "      <td>1h 59m</td>\n",
       "      <td>PG</td>\n",
       "      <td>6.6</td>\n",
       "      <td>107K</td>\n",
       "      <td>43.0</td>\n",
       "      <td>Adventure</td>\n",
       "      <td>NaN</td>\n",
       "      <td>NaN</td>\n",
       "    </tr>\n",
       "  </tbody>\n",
       "</table>\n",
       "</div>"
      ],
      "text/plain": [
       "                                               Title        Budget  \\\n",
       "0  Indiana Jones and the Kingdom of the Crystal S...  $185,000,000   \n",
       "1                                              Brave  $185,000,000   \n",
       "2                                 Kong: Skull Island  $185,000,000   \n",
       "3                                   Star Trek Beyond  $185,000,000   \n",
       "4                       Maleficent: Mistress of Evil  $185,000,000   \n",
       "\n",
       "      Worldwide      Domestic       Release Duration MPAA Rating  IMDB Rating  \\\n",
       "0  $786,635,413  $317,101,119  May 22, 2008    2h 2m       PG-13          6.2   \n",
       "1  $554,606,532  $237,282,182  Jun 21, 2012   1h 33m          PG          7.1   \n",
       "2  $561,072,059  $168,052,812  Feb 23, 2017   1h 58m       PG-13          6.6   \n",
       "3  $335,673,708  $158,848,340  Jul 21, 2016    2h 2m       PG-13          7.0   \n",
       "4  $489,181,357  $113,929,605  Oct 17, 2019   1h 59m          PG          6.6   \n",
       "\n",
       "  Voter Numbers  Metascore      Genre  Language  Opening Weekend  \n",
       "0          457K       65.0     Action       NaN              NaN  \n",
       "1          414K       69.0  Animation       NaN              NaN  \n",
       "2          321K       62.0     Action       NaN              NaN  \n",
       "3          248K       68.0     Action       NaN              NaN  \n",
       "4          107K       43.0  Adventure       NaN              NaN  "
      ]
     },
     "execution_count": 93,
     "metadata": {},
     "output_type": "execute_result"
    }
   ],
   "source": [
    "df.head()"
   ]
  }
 ],
 "metadata": {
  "kernelspec": {
   "display_name": "Python 3",
   "language": "python",
   "name": "python3"
  },
  "language_info": {
   "codemirror_mode": {
    "name": "ipython",
    "version": 3
   },
   "file_extension": ".py",
   "mimetype": "text/x-python",
   "name": "python",
   "nbconvert_exporter": "python",
   "pygments_lexer": "ipython3",
   "version": "3.10.5 (tags/v3.10.5:f377153, Jun  6 2022, 16:14:13) [MSC v.1929 64 bit (AMD64)]"
  },
  "orig_nbformat": 4,
  "vscode": {
   "interpreter": {
    "hash": "f1131d84b9e97d700f196cec3f143c1c5ca4787d89ba01101505d30befb8a4c0"
   }
  }
 },
 "nbformat": 4,
 "nbformat_minor": 2
}
