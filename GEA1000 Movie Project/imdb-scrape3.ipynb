{
 "cells": [
  {
   "cell_type": "code",
   "execution_count": 55,
   "metadata": {},
   "outputs": [],
   "source": [
    "from selenium import webdriver\n",
    "import pandas as pd\n",
    "from bs4 import BeautifulSoup as bs\n",
    "from pprint import pprint\n",
    "import numpy as np\n",
    "from webdriver_manager.chrome import ChromeDriverManager"
   ]
  },
  {
   "cell_type": "code",
   "execution_count": 56,
   "metadata": {},
   "outputs": [],
   "source": [
    "df = pd.read_csv('Data\\Movie_Scrape_All.csv')"
   ]
  },
  {
   "cell_type": "code",
   "execution_count": 57,
   "metadata": {},
   "outputs": [
    {
     "data": {
      "text/html": [
       "<div>\n",
       "<style scoped>\n",
       "    .dataframe tbody tr th:only-of-type {\n",
       "        vertical-align: middle;\n",
       "    }\n",
       "\n",
       "    .dataframe tbody tr th {\n",
       "        vertical-align: top;\n",
       "    }\n",
       "\n",
       "    .dataframe thead th {\n",
       "        text-align: right;\n",
       "    }\n",
       "</style>\n",
       "<table border=\"1\" class=\"dataframe\">\n",
       "  <thead>\n",
       "    <tr style=\"text-align: right;\">\n",
       "      <th></th>\n",
       "      <th>Unnamed: 0</th>\n",
       "      <th>Title</th>\n",
       "      <th>Budget</th>\n",
       "      <th>Worldwide</th>\n",
       "      <th>Domestic</th>\n",
       "      <th>Release</th>\n",
       "    </tr>\n",
       "  </thead>\n",
       "  <tbody>\n",
       "    <tr>\n",
       "      <th>0</th>\n",
       "      <td>0</td>\n",
       "      <td>Indiana Jones and the Kingdom of the Crystal S...</td>\n",
       "      <td>$185,000,000</td>\n",
       "      <td>$786,635,413</td>\n",
       "      <td>$317,101,119</td>\n",
       "      <td>May 22, 2008</td>\n",
       "    </tr>\n",
       "    <tr>\n",
       "      <th>1</th>\n",
       "      <td>1</td>\n",
       "      <td>Brave</td>\n",
       "      <td>$185,000,000</td>\n",
       "      <td>$554,606,532</td>\n",
       "      <td>$237,282,182</td>\n",
       "      <td>Jun 21, 2012</td>\n",
       "    </tr>\n",
       "    <tr>\n",
       "      <th>2</th>\n",
       "      <td>2</td>\n",
       "      <td>Kong: Skull Island</td>\n",
       "      <td>$185,000,000</td>\n",
       "      <td>$561,072,059</td>\n",
       "      <td>$168,052,812</td>\n",
       "      <td>Feb 23, 2017</td>\n",
       "    </tr>\n",
       "    <tr>\n",
       "      <th>3</th>\n",
       "      <td>3</td>\n",
       "      <td>Star Trek Beyond</td>\n",
       "      <td>$185,000,000</td>\n",
       "      <td>$335,673,708</td>\n",
       "      <td>$158,848,340</td>\n",
       "      <td>Jul 21, 2016</td>\n",
       "    </tr>\n",
       "    <tr>\n",
       "      <th>4</th>\n",
       "      <td>4</td>\n",
       "      <td>Maleficent: Mistress of Evil</td>\n",
       "      <td>$185,000,000</td>\n",
       "      <td>$489,181,357</td>\n",
       "      <td>$113,929,605</td>\n",
       "      <td>Oct 17, 2019</td>\n",
       "    </tr>\n",
       "  </tbody>\n",
       "</table>\n",
       "</div>"
      ],
      "text/plain": [
       "   Unnamed: 0                                              Title  \\\n",
       "0           0  Indiana Jones and the Kingdom of the Crystal S...   \n",
       "1           1                                              Brave   \n",
       "2           2                                 Kong: Skull Island   \n",
       "3           3                                   Star Trek Beyond   \n",
       "4           4                       Maleficent: Mistress of Evil   \n",
       "\n",
       "          Budget      Worldwide       Domestic       Release  \n",
       "0   $185,000,000   $786,635,413   $317,101,119  May 22, 2008  \n",
       "1   $185,000,000   $554,606,532   $237,282,182  Jun 21, 2012  \n",
       "2   $185,000,000   $561,072,059   $168,052,812  Feb 23, 2017  \n",
       "3   $185,000,000   $335,673,708   $158,848,340  Jul 21, 2016  \n",
       "4   $185,000,000   $489,181,357   $113,929,605  Oct 17, 2019  "
      ]
     },
     "execution_count": 57,
     "metadata": {},
     "output_type": "execute_result"
    }
   ],
   "source": [
    "df.head()"
   ]
  },
  {
   "cell_type": "code",
   "execution_count": 58,
   "metadata": {},
   "outputs": [],
   "source": [
    "df.drop('Unnamed: 0', axis=1, inplace=True)"
   ]
  },
  {
   "cell_type": "code",
   "execution_count": 59,
   "metadata": {},
   "outputs": [
    {
     "data": {
      "text/html": [
       "<div>\n",
       "<style scoped>\n",
       "    .dataframe tbody tr th:only-of-type {\n",
       "        vertical-align: middle;\n",
       "    }\n",
       "\n",
       "    .dataframe tbody tr th {\n",
       "        vertical-align: top;\n",
       "    }\n",
       "\n",
       "    .dataframe thead th {\n",
       "        text-align: right;\n",
       "    }\n",
       "</style>\n",
       "<table border=\"1\" class=\"dataframe\">\n",
       "  <thead>\n",
       "    <tr style=\"text-align: right;\">\n",
       "      <th></th>\n",
       "      <th>Title</th>\n",
       "      <th>Budget</th>\n",
       "      <th>Worldwide</th>\n",
       "      <th>Domestic</th>\n",
       "      <th>Release</th>\n",
       "    </tr>\n",
       "  </thead>\n",
       "  <tbody>\n",
       "    <tr>\n",
       "      <th>0</th>\n",
       "      <td>Indiana Jones and the Kingdom of the Crystal S...</td>\n",
       "      <td>$185,000,000</td>\n",
       "      <td>$786,635,413</td>\n",
       "      <td>$317,101,119</td>\n",
       "      <td>May 22, 2008</td>\n",
       "    </tr>\n",
       "    <tr>\n",
       "      <th>1</th>\n",
       "      <td>Brave</td>\n",
       "      <td>$185,000,000</td>\n",
       "      <td>$554,606,532</td>\n",
       "      <td>$237,282,182</td>\n",
       "      <td>Jun 21, 2012</td>\n",
       "    </tr>\n",
       "    <tr>\n",
       "      <th>2</th>\n",
       "      <td>Kong: Skull Island</td>\n",
       "      <td>$185,000,000</td>\n",
       "      <td>$561,072,059</td>\n",
       "      <td>$168,052,812</td>\n",
       "      <td>Feb 23, 2017</td>\n",
       "    </tr>\n",
       "    <tr>\n",
       "      <th>3</th>\n",
       "      <td>Star Trek Beyond</td>\n",
       "      <td>$185,000,000</td>\n",
       "      <td>$335,673,708</td>\n",
       "      <td>$158,848,340</td>\n",
       "      <td>Jul 21, 2016</td>\n",
       "    </tr>\n",
       "    <tr>\n",
       "      <th>4</th>\n",
       "      <td>Maleficent: Mistress of Evil</td>\n",
       "      <td>$185,000,000</td>\n",
       "      <td>$489,181,357</td>\n",
       "      <td>$113,929,605</td>\n",
       "      <td>Oct 17, 2019</td>\n",
       "    </tr>\n",
       "  </tbody>\n",
       "</table>\n",
       "</div>"
      ],
      "text/plain": [
       "                                               Title         Budget  \\\n",
       "0  Indiana Jones and the Kingdom of the Crystal S...   $185,000,000   \n",
       "1                                              Brave   $185,000,000   \n",
       "2                                 Kong: Skull Island   $185,000,000   \n",
       "3                                   Star Trek Beyond   $185,000,000   \n",
       "4                       Maleficent: Mistress of Evil   $185,000,000   \n",
       "\n",
       "       Worldwide       Domestic       Release  \n",
       "0   $786,635,413   $317,101,119  May 22, 2008  \n",
       "1   $554,606,532   $237,282,182  Jun 21, 2012  \n",
       "2   $561,072,059   $168,052,812  Feb 23, 2017  \n",
       "3   $335,673,708   $158,848,340  Jul 21, 2016  \n",
       "4   $489,181,357   $113,929,605  Oct 17, 2019  "
      ]
     },
     "execution_count": 59,
     "metadata": {},
     "output_type": "execute_result"
    }
   ],
   "source": [
    "df.head()"
   ]
  },
  {
   "attachments": {},
   "cell_type": "markdown",
   "metadata": {},
   "source": [
    "Add new columns"
   ]
  },
  {
   "cell_type": "code",
   "execution_count": 60,
   "metadata": {},
   "outputs": [],
   "source": [
    "df['Duration']=np.nan\n",
    "df['MPAA Rating']=np.nan\n",
    "df['IMDB Rating']=np.nan\n",
    "df['Voter Numbers']=np.nan\n",
    "df['Metascore']=np.nan\n",
    "df['Genre']=np.nan\n",
    "df['Language']=np.nan"
   ]
  },
  {
   "cell_type": "code",
   "execution_count": 61,
   "metadata": {},
   "outputs": [
    {
     "data": {
      "text/plain": [
       "(6354, 12)"
      ]
     },
     "execution_count": 61,
     "metadata": {},
     "output_type": "execute_result"
    }
   ],
   "source": [
    "df.shape"
   ]
  },
  {
   "cell_type": "code",
   "execution_count": 62,
   "metadata": {},
   "outputs": [
    {
     "data": {
      "text/html": [
       "<div>\n",
       "<style scoped>\n",
       "    .dataframe tbody tr th:only-of-type {\n",
       "        vertical-align: middle;\n",
       "    }\n",
       "\n",
       "    .dataframe tbody tr th {\n",
       "        vertical-align: top;\n",
       "    }\n",
       "\n",
       "    .dataframe thead th {\n",
       "        text-align: right;\n",
       "    }\n",
       "</style>\n",
       "<table border=\"1\" class=\"dataframe\">\n",
       "  <thead>\n",
       "    <tr style=\"text-align: right;\">\n",
       "      <th></th>\n",
       "      <th>Title</th>\n",
       "      <th>Budget</th>\n",
       "      <th>Worldwide</th>\n",
       "      <th>Domestic</th>\n",
       "      <th>Release</th>\n",
       "      <th>Duration</th>\n",
       "      <th>MPAA Rating</th>\n",
       "      <th>IMDB Rating</th>\n",
       "      <th>Voter Numbers</th>\n",
       "      <th>Metascore</th>\n",
       "      <th>Genre</th>\n",
       "      <th>Language</th>\n",
       "    </tr>\n",
       "  </thead>\n",
       "  <tbody>\n",
       "    <tr>\n",
       "      <th>0</th>\n",
       "      <td>Indiana Jones and the Kingdom of the Crystal S...</td>\n",
       "      <td>$185,000,000</td>\n",
       "      <td>$786,635,413</td>\n",
       "      <td>$317,101,119</td>\n",
       "      <td>May 22, 2008</td>\n",
       "      <td>NaN</td>\n",
       "      <td>NaN</td>\n",
       "      <td>NaN</td>\n",
       "      <td>NaN</td>\n",
       "      <td>NaN</td>\n",
       "      <td>NaN</td>\n",
       "      <td>NaN</td>\n",
       "    </tr>\n",
       "    <tr>\n",
       "      <th>1</th>\n",
       "      <td>Brave</td>\n",
       "      <td>$185,000,000</td>\n",
       "      <td>$554,606,532</td>\n",
       "      <td>$237,282,182</td>\n",
       "      <td>Jun 21, 2012</td>\n",
       "      <td>NaN</td>\n",
       "      <td>NaN</td>\n",
       "      <td>NaN</td>\n",
       "      <td>NaN</td>\n",
       "      <td>NaN</td>\n",
       "      <td>NaN</td>\n",
       "      <td>NaN</td>\n",
       "    </tr>\n",
       "    <tr>\n",
       "      <th>2</th>\n",
       "      <td>Kong: Skull Island</td>\n",
       "      <td>$185,000,000</td>\n",
       "      <td>$561,072,059</td>\n",
       "      <td>$168,052,812</td>\n",
       "      <td>Feb 23, 2017</td>\n",
       "      <td>NaN</td>\n",
       "      <td>NaN</td>\n",
       "      <td>NaN</td>\n",
       "      <td>NaN</td>\n",
       "      <td>NaN</td>\n",
       "      <td>NaN</td>\n",
       "      <td>NaN</td>\n",
       "    </tr>\n",
       "    <tr>\n",
       "      <th>3</th>\n",
       "      <td>Star Trek Beyond</td>\n",
       "      <td>$185,000,000</td>\n",
       "      <td>$335,673,708</td>\n",
       "      <td>$158,848,340</td>\n",
       "      <td>Jul 21, 2016</td>\n",
       "      <td>NaN</td>\n",
       "      <td>NaN</td>\n",
       "      <td>NaN</td>\n",
       "      <td>NaN</td>\n",
       "      <td>NaN</td>\n",
       "      <td>NaN</td>\n",
       "      <td>NaN</td>\n",
       "    </tr>\n",
       "    <tr>\n",
       "      <th>4</th>\n",
       "      <td>Maleficent: Mistress of Evil</td>\n",
       "      <td>$185,000,000</td>\n",
       "      <td>$489,181,357</td>\n",
       "      <td>$113,929,605</td>\n",
       "      <td>Oct 17, 2019</td>\n",
       "      <td>NaN</td>\n",
       "      <td>NaN</td>\n",
       "      <td>NaN</td>\n",
       "      <td>NaN</td>\n",
       "      <td>NaN</td>\n",
       "      <td>NaN</td>\n",
       "      <td>NaN</td>\n",
       "    </tr>\n",
       "  </tbody>\n",
       "</table>\n",
       "</div>"
      ],
      "text/plain": [
       "                                               Title         Budget  \\\n",
       "0  Indiana Jones and the Kingdom of the Crystal S...   $185,000,000   \n",
       "1                                              Brave   $185,000,000   \n",
       "2                                 Kong: Skull Island   $185,000,000   \n",
       "3                                   Star Trek Beyond   $185,000,000   \n",
       "4                       Maleficent: Mistress of Evil   $185,000,000   \n",
       "\n",
       "       Worldwide       Domestic       Release  Duration  MPAA Rating  \\\n",
       "0   $786,635,413   $317,101,119  May 22, 2008       NaN          NaN   \n",
       "1   $554,606,532   $237,282,182  Jun 21, 2012       NaN          NaN   \n",
       "2   $561,072,059   $168,052,812  Feb 23, 2017       NaN          NaN   \n",
       "3   $335,673,708   $158,848,340  Jul 21, 2016       NaN          NaN   \n",
       "4   $489,181,357   $113,929,605  Oct 17, 2019       NaN          NaN   \n",
       "\n",
       "   IMDB Rating  Voter Numbers  Metascore  Genre  Language  \n",
       "0          NaN            NaN        NaN    NaN       NaN  \n",
       "1          NaN            NaN        NaN    NaN       NaN  \n",
       "2          NaN            NaN        NaN    NaN       NaN  \n",
       "3          NaN            NaN        NaN    NaN       NaN  \n",
       "4          NaN            NaN        NaN    NaN       NaN  "
      ]
     },
     "execution_count": 62,
     "metadata": {},
     "output_type": "execute_result"
    }
   ],
   "source": [
    "df.head(5)"
   ]
  },
  {
   "cell_type": "code",
   "execution_count": 99,
   "metadata": {},
   "outputs": [
    {
     "data": {
      "text/plain": [
       "array([   0,    1,    2, ..., 6352, 6353, 6354])"
      ]
     },
     "execution_count": 99,
     "metadata": {},
     "output_type": "execute_result"
    }
   ],
   "source": [
    "movie_indices = np.arange(0,6355,1)\n",
    "movie_indices"
   ]
  },
  {
   "cell_type": "code",
   "execution_count": 64,
   "metadata": {},
   "outputs": [
    {
     "data": {
      "text/plain": [
       "'The Mummy: Tomb of the Dragon Emperor'"
      ]
     },
     "execution_count": 64,
     "metadata": {},
     "output_type": "execute_result"
    }
   ],
   "source": [
    "df['Title'][35]"
   ]
  },
  {
   "cell_type": "code",
   "execution_count": 65,
   "metadata": {},
   "outputs": [
    {
     "name": "stderr",
     "output_type": "stream",
     "text": [
      "C:\\Users\\redoc\\AppData\\Local\\Temp\\ipykernel_5000\\3832095755.py:1: DeprecationWarning: executable_path has been deprecated, please pass in a Service object\n",
      "  wd = webdriver.Chrome(ChromeDriverManager().install())\n"
     ]
    }
   ],
   "source": [
    "wd = webdriver.Chrome(ChromeDriverManager().install())"
   ]
  },
  {
   "attachments": {},
   "cell_type": "markdown",
   "metadata": {},
   "source": [
    "Go to IMDB Main Site"
   ]
  },
  {
   "cell_type": "code",
   "execution_count": 66,
   "metadata": {},
   "outputs": [],
   "source": [
    "wd.get('https://www.imdb.com/')"
   ]
  },
  {
   "attachments": {},
   "cell_type": "markdown",
   "metadata": {},
   "source": [
    "Go to Search Bar"
   ]
  },
  {
   "cell_type": "code",
   "execution_count": 67,
   "metadata": {},
   "outputs": [],
   "source": [
    "search_movie = wd.find_element(\"xpath\", \"//*[@id='suggestion-search']\")"
   ]
  },
  {
   "attachments": {},
   "cell_type": "markdown",
   "metadata": {},
   "source": [
    "Enter Movie Name in Search Bar"
   ]
  },
  {
   "cell_type": "code",
   "execution_count": 68,
   "metadata": {},
   "outputs": [],
   "source": [
    "search_movie.send_keys(\"The Chronicles of Narnia: The Lion, the Witch a…\")"
   ]
  },
  {
   "attachments": {},
   "cell_type": "markdown",
   "metadata": {},
   "source": [
    "Click Search Button"
   ]
  },
  {
   "cell_type": "code",
   "execution_count": 69,
   "metadata": {},
   "outputs": [],
   "source": [
    "wd.find_element(\"xpath\", \"//*[@id='suggestion-search-button']\").click()"
   ]
  },
  {
   "attachments": {},
   "cell_type": "markdown",
   "metadata": {},
   "source": [
    "Check each searched page to see first result"
   ]
  },
  {
   "attachments": {},
   "cell_type": "markdown",
   "metadata": {},
   "source": [
    "Xpath of first result\n",
    "\n",
    "//*[@id=\"__next\"]/main/div[2]/div[3]/section/div/div[1]/section[2]/div[2]/ul/li[1]/div[2]/div[1]/a\n",
    "\n",
    "//*[@id=\"__next\"]/main/div[2]/div[3]/section/div/div[1]/section[2]/div[2]/ul/li[1]/div[2]/div[1]/a\n",
    "\n",
    "//*[@id=\"__next\"]/main/div[2]/div[3]/section/div/div[1]/section[2]/div[2]/ul/li[1]/div[2]/div[1]/a\n",
    "\n",
    "ALL THE SAME!!!!"
   ]
  },
  {
   "cell_type": "code",
   "execution_count": 70,
   "metadata": {},
   "outputs": [],
   "source": [
    "movie_link = wd.find_element(\"xpath\", \"//*[@id='__next']/main/div[2]/div[3]/section/div/div[1]/section[2]/div[2]/ul/li[1]/div[2]/div[1]/a\").get_attribute('href')"
   ]
  },
  {
   "attachments": {},
   "cell_type": "markdown",
   "metadata": {},
   "source": [
    "Go to movie link website"
   ]
  },
  {
   "cell_type": "code",
   "execution_count": 71,
   "metadata": {},
   "outputs": [],
   "source": [
    "wd.get(movie_link)"
   ]
  },
  {
   "cell_type": "code",
   "execution_count": 72,
   "metadata": {},
   "outputs": [
    {
     "data": {
      "text/plain": [
       "Index(['Title', 'Budget', 'Worldwide', 'Domestic', 'Release', 'Duration',\n",
       "       'MPAA Rating', 'IMDB Rating', 'Voter Numbers', 'Metascore', 'Genre',\n",
       "       'Language'],\n",
       "      dtype='object')"
      ]
     },
     "execution_count": 72,
     "metadata": {},
     "output_type": "execute_result"
    }
   ],
   "source": [
    "df.columns"
   ]
  },
  {
   "cell_type": "code",
   "execution_count": 73,
   "metadata": {},
   "outputs": [],
   "source": [
    "import time"
   ]
  },
  {
   "attachments": {},
   "cell_type": "markdown",
   "metadata": {},
   "source": [
    "Duration"
   ]
  },
  {
   "cell_type": "code",
   "execution_count": 74,
   "metadata": {},
   "outputs": [
    {
     "data": {
      "text/plain": [
       "'2h 23m'"
      ]
     },
     "execution_count": 74,
     "metadata": {},
     "output_type": "execute_result"
    }
   ],
   "source": [
    "wd.find_element(\"xpath\",\"//*[@id='__next']/main/div/section[1]/section/div[3]/section/section/div[2]/div[1]/div/ul/li[3]\").text"
   ]
  },
  {
   "cell_type": "code",
   "execution_count": 75,
   "metadata": {},
   "outputs": [],
   "source": [
    "time.sleep(6)"
   ]
  },
  {
   "attachments": {},
   "cell_type": "markdown",
   "metadata": {},
   "source": [
    "MPAA Rating"
   ]
  },
  {
   "cell_type": "code",
   "execution_count": 76,
   "metadata": {},
   "outputs": [
    {
     "data": {
      "text/plain": [
       "''"
      ]
     },
     "execution_count": 76,
     "metadata": {},
     "output_type": "execute_result"
    }
   ],
   "source": [
    "wd.find_element(\"xpath\",\"//*[@id='__next']/main/div/section[1]/section/div[3]/section/section/div[2]/div[1]/div/ul/li[2]/span[1]\").text"
   ]
  },
  {
   "cell_type": "code",
   "execution_count": 77,
   "metadata": {},
   "outputs": [],
   "source": [
    "time.sleep(6)"
   ]
  },
  {
   "attachments": {},
   "cell_type": "markdown",
   "metadata": {},
   "source": [
    "IMDB Rating"
   ]
  },
  {
   "cell_type": "code",
   "execution_count": 78,
   "metadata": {},
   "outputs": [
    {
     "data": {
      "text/plain": [
       "''"
      ]
     },
     "execution_count": 78,
     "metadata": {},
     "output_type": "execute_result"
    }
   ],
   "source": [
    "wd.find_element(\"xpath\",\"//*[@id='__next']/main/div/section[1]/section/div[3]/section/section/div[3]/div[2]/div[1]/div[2]/div/div[1]/a/div/div/div[2]/div[1]/span[1]\").text\n"
   ]
  },
  {
   "cell_type": "code",
   "execution_count": 79,
   "metadata": {},
   "outputs": [],
   "source": [
    "time.sleep(6)"
   ]
  },
  {
   "attachments": {},
   "cell_type": "markdown",
   "metadata": {},
   "source": [
    "Voter Numbers"
   ]
  },
  {
   "cell_type": "code",
   "execution_count": 80,
   "metadata": {},
   "outputs": [
    {
     "data": {
      "text/plain": [
       "''"
      ]
     },
     "execution_count": 80,
     "metadata": {},
     "output_type": "execute_result"
    }
   ],
   "source": [
    "wd.find_element(\"xpath\",\"//*[@id='__next']/main/div/section[1]/section/div[3]/section/section/div[3]/div[2]/div[1]/div[2]/div/div[1]/a/div/div/div[2]/div[3]\").text\n"
   ]
  },
  {
   "cell_type": "code",
   "execution_count": 81,
   "metadata": {},
   "outputs": [],
   "source": [
    "time.sleep(6)"
   ]
  },
  {
   "attachments": {},
   "cell_type": "markdown",
   "metadata": {},
   "source": [
    "Meta Score"
   ]
  },
  {
   "cell_type": "code",
   "execution_count": 82,
   "metadata": {},
   "outputs": [
    {
     "data": {
      "text/plain": [
       "'75'"
      ]
     },
     "execution_count": 82,
     "metadata": {},
     "output_type": "execute_result"
    }
   ],
   "source": [
    "wd.find_element(\"xpath\",\"//*[@id='__next']/main/div/section[1]/section/div[3]/section/section/div[3]/div[2]/div[2]/ul/li[3]/a/span/span[1]/span[1]\").text\n"
   ]
  },
  {
   "cell_type": "code",
   "execution_count": 83,
   "metadata": {},
   "outputs": [],
   "source": [
    "time.sleep(6)"
   ]
  },
  {
   "attachments": {},
   "cell_type": "markdown",
   "metadata": {},
   "source": [
    "## Scraping Genre Is the Main Problem"
   ]
  },
  {
   "cell_type": "code",
   "execution_count": 84,
   "metadata": {},
   "outputs": [
    {
     "data": {
      "text/plain": [
       "'Adventure'"
      ]
     },
     "execution_count": 84,
     "metadata": {},
     "output_type": "execute_result"
    }
   ],
   "source": [
    "wd.find_element(\"xpath\",\"//*[@id='__next']/main/div/section[1]/div/section/div/div[1]/section[6]/div[2]/ul[2]/li[2]/div/ul/li[1]/a\").text\n"
   ]
  },
  {
   "attachments": {},
   "cell_type": "markdown",
   "metadata": {},
   "source": [
    "I know why. There needs to be a time-out between scrapes or it will come out as NaN"
   ]
  },
  {
   "cell_type": "code",
   "execution_count": null,
   "metadata": {},
   "outputs": [],
   "source": [
    "wd = webdriver.Chrome(ChromeDriverManager().install())"
   ]
  },
  {
   "cell_type": "code",
   "execution_count": null,
   "metadata": {},
   "outputs": [],
   "source": [
    "for movie_index in movie_indices:\n",
    "    movie_title = df['Title'][movie_index] # get movie title\n",
    "    wd.get('https://www.imdb.com/') # go to imdb main site\n",
    "    search_movie = wd.find_element(\"xpath\", \"//*[@id='suggestion-search']\") # find the search text box\n",
    "    search_movie.send_keys(movie_title) # key in the movie title in search box\n",
    "    wd.find_element(\"xpath\", \"//*[@id='suggestion-search-button']\").click() # click the search button\n",
    "    # Next find first result on the search page\n",
    "    movie_link = wd.find_element(\"xpath\", \"//*[@id='__next']/main/div[2]/div[3]/section/div/div[1]/section[2]/div[2]/ul/li[1]/div[2]/div[1]/a\").get_attribute('href')\n",
    "    # open the movie link\n",
    "    wd.get(movie_link)\n",
    "\n",
    "    df.iloc[movie_index]['Duration']= wd.find_element(\"xpath\",\"//*[@id='__next']/main/div/section[1]/section/div[3]/section/section/div[2]/div[1]/div/ul/li[3]\").text\n",
    "    df.iloc[movie_index]['MPAA Rating']= wd.find_element(\"xpath\",\"//*[@id='__next']/main/div/section[1]/section/div[3]/section/section/div[2]/div[1]/div/ul/li[2]/span[1]\").text\n",
    "    df.iloc[movie_index]['IMDB Rating']= wd.find_element(\"xpath\",\"//*[@id='__next']/main/div/section[1]/section/div[3]/section/section/div[3]/div[2]/div[1]/div[2]/div/div[1]/a/div/div/div[2]/div[1]/span[1]\").text\n",
    "    df.iloc[movie_index]['Voter Numbers']= wd.find_element(\"xpath\",\"//*[@id='__next']/main/div/section[1]/section/div[3]/section/section/div[3]/div[2]/div[1]/div[2]/div/div[1]/a/div/div/div[2]/div[3]\").text\n",
    "    df.iloc[movie_index]['Metascore']= wd.find_element(\"xpath\",\"//*[@id='__next']/main/div/section[1]/section/div[3]/section/section/div[3]/div[2]/div[2]/ul/li[3]/a/span/span[1]/span[1]\").text\n",
    "    df.iloc[movie_index]['Genre']= wd.find_element(\"xpath\",\"//*[@id='__next']/main/div/section[1]/div/section/div/div[1]/section[7]/div[2]/ul[2]/li[1]/div/ul/li[1]/a\").text\n",
    "    #df.iloc[movie_index]['Language']= wd.find_element(\"xpath\",\"\").text\n",
    "\n",
    "\n",
    "    "
   ]
  },
  {
   "attachments": {},
   "cell_type": "markdown",
   "metadata": {},
   "source": [
    "What if I just scrape a column at a time?"
   ]
  },
  {
   "cell_type": "code",
   "execution_count": 88,
   "metadata": {},
   "outputs": [
    {
     "name": "stdout",
     "output_type": "stream",
     "text": [
      "<class 'numpy.int32'>\n"
     ]
    }
   ],
   "source": [
    "print(type(movie_indices[12]))"
   ]
  },
  {
   "cell_type": "code",
   "execution_count": 95,
   "metadata": {},
   "outputs": [
    {
     "name": "stderr",
     "output_type": "stream",
     "text": [
      "C:\\Users\\redoc\\AppData\\Local\\Temp\\ipykernel_5000\\3832095755.py:1: DeprecationWarning: executable_path has been deprecated, please pass in a Service object\n",
      "  wd = webdriver.Chrome(ChromeDriverManager().install())\n"
     ]
    }
   ],
   "source": [
    "wd = webdriver.Chrome(ChromeDriverManager().install())"
   ]
  },
  {
   "attachments": {},
   "cell_type": "markdown",
   "metadata": {},
   "source": [
    "# USE THIS - df['Duration'][movie_index]\n",
    "\n",
    "This will solve all problems\n",
    "\n",
    "Scrape ONE COLUMN AT A TIME"
   ]
  },
  {
   "cell_type": "code",
   "execution_count": 96,
   "metadata": {},
   "outputs": [
    {
     "ename": "NoSuchWindowException",
     "evalue": "Message: no such window: target window already closed\nfrom unknown error: web view not found\n  (Session info: chrome=108.0.5359.125)\nStacktrace:\nBacktrace:\n\t(No symbol) [0x00ABF243]\n\t(No symbol) [0x00A47FD1]\n\t(No symbol) [0x0093D04D]\n\t(No symbol) [0x00922D7A]\n\t(No symbol) [0x0098BE7B]\n\t(No symbol) [0x0099C196]\n\t(No symbol) [0x00988386]\n\t(No symbol) [0x0096163C]\n\t(No symbol) [0x0096269D]\n\tGetHandleVerifier [0x00D59A22+2655074]\n\tGetHandleVerifier [0x00D4CA24+2601828]\n\tGetHandleVerifier [0x00B68C0A+619850]\n\tGetHandleVerifier [0x00B67830+614768]\n\t(No symbol) [0x00A505FC]\n\t(No symbol) [0x00A55968]\n\t(No symbol) [0x00A55A55]\n\t(No symbol) [0x00A6051B]\n\tBaseThreadInitThunk [0x76B96BD9+25]\n\tRtlGetFullPathName_UEx [0x774F8FD2+1218]\n\tRtlGetFullPathName_UEx [0x774F8F9D+1165]\n",
     "output_type": "error",
     "traceback": [
      "\u001b[1;31m---------------------------------------------------------------------------\u001b[0m",
      "\u001b[1;31mNoSuchWindowException\u001b[0m                     Traceback (most recent call last)",
      "\u001b[1;32mc:\\Users\\redoc\\OneDrive\\Desktop\\NUS GEA1000\\GEA1000 Movie Project\\imdb-scrape3.ipynb Cell 52\u001b[0m in \u001b[0;36m<cell line: 1>\u001b[1;34m()\u001b[0m\n\u001b[0;32m      <a href='vscode-notebook-cell:/c%3A/Users/redoc/OneDrive/Desktop/NUS%20GEA1000/GEA1000%20Movie%20Project/imdb-scrape3.ipynb#X55sZmlsZQ%3D%3D?line=1'>2</a>\u001b[0m movie_title \u001b[39m=\u001b[39m df[\u001b[39m'\u001b[39m\u001b[39mTitle\u001b[39m\u001b[39m'\u001b[39m][movie_index] \u001b[39m# get movie title\u001b[39;00m\n\u001b[0;32m      <a href='vscode-notebook-cell:/c%3A/Users/redoc/OneDrive/Desktop/NUS%20GEA1000/GEA1000%20Movie%20Project/imdb-scrape3.ipynb#X55sZmlsZQ%3D%3D?line=2'>3</a>\u001b[0m wd\u001b[39m.\u001b[39mget(\u001b[39m'\u001b[39m\u001b[39mhttps://www.imdb.com/\u001b[39m\u001b[39m'\u001b[39m) \u001b[39m# go to imdb main site\u001b[39;00m\n\u001b[1;32m----> <a href='vscode-notebook-cell:/c%3A/Users/redoc/OneDrive/Desktop/NUS%20GEA1000/GEA1000%20Movie%20Project/imdb-scrape3.ipynb#X55sZmlsZQ%3D%3D?line=3'>4</a>\u001b[0m search_movie \u001b[39m=\u001b[39m wd\u001b[39m.\u001b[39;49mfind_element(\u001b[39m\"\u001b[39;49m\u001b[39mxpath\u001b[39;49m\u001b[39m\"\u001b[39;49m, \u001b[39m\"\u001b[39;49m\u001b[39m//*[@id=\u001b[39;49m\u001b[39m'\u001b[39;49m\u001b[39msuggestion-search\u001b[39;49m\u001b[39m'\u001b[39;49m\u001b[39m]\u001b[39;49m\u001b[39m\"\u001b[39;49m) \u001b[39m# find the search text box\u001b[39;00m\n\u001b[0;32m      <a href='vscode-notebook-cell:/c%3A/Users/redoc/OneDrive/Desktop/NUS%20GEA1000/GEA1000%20Movie%20Project/imdb-scrape3.ipynb#X55sZmlsZQ%3D%3D?line=4'>5</a>\u001b[0m search_movie\u001b[39m.\u001b[39msend_keys(movie_title) \u001b[39m# key in the movie title in search box\u001b[39;00m\n\u001b[0;32m      <a href='vscode-notebook-cell:/c%3A/Users/redoc/OneDrive/Desktop/NUS%20GEA1000/GEA1000%20Movie%20Project/imdb-scrape3.ipynb#X55sZmlsZQ%3D%3D?line=5'>6</a>\u001b[0m wd\u001b[39m.\u001b[39mfind_element(\u001b[39m\"\u001b[39m\u001b[39mxpath\u001b[39m\u001b[39m\"\u001b[39m, \u001b[39m\"\u001b[39m\u001b[39m//*[@id=\u001b[39m\u001b[39m'\u001b[39m\u001b[39msuggestion-search-button\u001b[39m\u001b[39m'\u001b[39m\u001b[39m]\u001b[39m\u001b[39m\"\u001b[39m)\u001b[39m.\u001b[39mclick() \u001b[39m# click the search button\u001b[39;00m\n",
      "File \u001b[1;32mc:\\Users\\redoc\\AppData\\Local\\Programs\\Python\\Python310\\lib\\site-packages\\selenium\\webdriver\\remote\\webdriver.py:856\u001b[0m, in \u001b[0;36mWebDriver.find_element\u001b[1;34m(self, by, value)\u001b[0m\n\u001b[0;32m    853\u001b[0m     by \u001b[39m=\u001b[39m By\u001b[39m.\u001b[39mCSS_SELECTOR\n\u001b[0;32m    854\u001b[0m     value \u001b[39m=\u001b[39m \u001b[39m'\u001b[39m\u001b[39m[name=\u001b[39m\u001b[39m\"\u001b[39m\u001b[39m%s\u001b[39;00m\u001b[39m\"\u001b[39m\u001b[39m]\u001b[39m\u001b[39m'\u001b[39m \u001b[39m%\u001b[39m value\n\u001b[1;32m--> 856\u001b[0m \u001b[39mreturn\u001b[39;00m \u001b[39mself\u001b[39;49m\u001b[39m.\u001b[39;49mexecute(Command\u001b[39m.\u001b[39;49mFIND_ELEMENT, {\n\u001b[0;32m    857\u001b[0m     \u001b[39m'\u001b[39;49m\u001b[39musing\u001b[39;49m\u001b[39m'\u001b[39;49m: by,\n\u001b[0;32m    858\u001b[0m     \u001b[39m'\u001b[39;49m\u001b[39mvalue\u001b[39;49m\u001b[39m'\u001b[39;49m: value})[\u001b[39m'\u001b[39m\u001b[39mvalue\u001b[39m\u001b[39m'\u001b[39m]\n",
      "File \u001b[1;32mc:\\Users\\redoc\\AppData\\Local\\Programs\\Python\\Python310\\lib\\site-packages\\selenium\\webdriver\\remote\\webdriver.py:429\u001b[0m, in \u001b[0;36mWebDriver.execute\u001b[1;34m(self, driver_command, params)\u001b[0m\n\u001b[0;32m    427\u001b[0m response \u001b[39m=\u001b[39m \u001b[39mself\u001b[39m\u001b[39m.\u001b[39mcommand_executor\u001b[39m.\u001b[39mexecute(driver_command, params)\n\u001b[0;32m    428\u001b[0m \u001b[39mif\u001b[39;00m response:\n\u001b[1;32m--> 429\u001b[0m     \u001b[39mself\u001b[39;49m\u001b[39m.\u001b[39;49merror_handler\u001b[39m.\u001b[39;49mcheck_response(response)\n\u001b[0;32m    430\u001b[0m     response[\u001b[39m'\u001b[39m\u001b[39mvalue\u001b[39m\u001b[39m'\u001b[39m] \u001b[39m=\u001b[39m \u001b[39mself\u001b[39m\u001b[39m.\u001b[39m_unwrap_value(\n\u001b[0;32m    431\u001b[0m         response\u001b[39m.\u001b[39mget(\u001b[39m'\u001b[39m\u001b[39mvalue\u001b[39m\u001b[39m'\u001b[39m, \u001b[39mNone\u001b[39;00m))\n\u001b[0;32m    432\u001b[0m     \u001b[39mreturn\u001b[39;00m response\n",
      "File \u001b[1;32mc:\\Users\\redoc\\AppData\\Local\\Programs\\Python\\Python310\\lib\\site-packages\\selenium\\webdriver\\remote\\errorhandler.py:243\u001b[0m, in \u001b[0;36mErrorHandler.check_response\u001b[1;34m(self, response)\u001b[0m\n\u001b[0;32m    241\u001b[0m         alert_text \u001b[39m=\u001b[39m value[\u001b[39m'\u001b[39m\u001b[39malert\u001b[39m\u001b[39m'\u001b[39m]\u001b[39m.\u001b[39mget(\u001b[39m'\u001b[39m\u001b[39mtext\u001b[39m\u001b[39m'\u001b[39m)\n\u001b[0;32m    242\u001b[0m     \u001b[39mraise\u001b[39;00m exception_class(message, screen, stacktrace, alert_text)  \u001b[39m# type: ignore[call-arg]  # mypy is not smart enough here\u001b[39;00m\n\u001b[1;32m--> 243\u001b[0m \u001b[39mraise\u001b[39;00m exception_class(message, screen, stacktrace)\n",
      "\u001b[1;31mNoSuchWindowException\u001b[0m: Message: no such window: target window already closed\nfrom unknown error: web view not found\n  (Session info: chrome=108.0.5359.125)\nStacktrace:\nBacktrace:\n\t(No symbol) [0x00ABF243]\n\t(No symbol) [0x00A47FD1]\n\t(No symbol) [0x0093D04D]\n\t(No symbol) [0x00922D7A]\n\t(No symbol) [0x0098BE7B]\n\t(No symbol) [0x0099C196]\n\t(No symbol) [0x00988386]\n\t(No symbol) [0x0096163C]\n\t(No symbol) [0x0096269D]\n\tGetHandleVerifier [0x00D59A22+2655074]\n\tGetHandleVerifier [0x00D4CA24+2601828]\n\tGetHandleVerifier [0x00B68C0A+619850]\n\tGetHandleVerifier [0x00B67830+614768]\n\t(No symbol) [0x00A505FC]\n\t(No symbol) [0x00A55968]\n\t(No symbol) [0x00A55A55]\n\t(No symbol) [0x00A6051B]\n\tBaseThreadInitThunk [0x76B96BD9+25]\n\tRtlGetFullPathName_UEx [0x774F8FD2+1218]\n\tRtlGetFullPathName_UEx [0x774F8F9D+1165]\n"
     ]
    }
   ],
   "source": [
    "for movie_index in movie_indices:\n",
    "    movie_title = df['Title'][movie_index] # get movie title\n",
    "    wd.get('https://www.imdb.com/') # go to imdb main site\n",
    "    search_movie = wd.find_element(\"xpath\", \"//*[@id='suggestion-search']\") # find the search text box\n",
    "    search_movie.send_keys(movie_title) # key in the movie title in search box\n",
    "    wd.find_element(\"xpath\", \"//*[@id='suggestion-search-button']\").click() # click the search button\n",
    "    # Next find first result on the search page\n",
    "    movie_link = wd.find_element(\"xpath\", \"//*[@id='__next']/main/div[2]/div[3]/section/div/div[1]/section[2]/div[2]/ul/li[1]/div[2]/div[1]/a\").get_attribute('href')\n",
    "    # open the movie link\n",
    "    wd.get(movie_link)\n",
    "\n",
    "    df['Duration'][movie_index]= wd.find_element(\"xpath\",\"//*[@id='__next']/main/div/section[1]/section/div[3]/section/section/div[2]/div[1]/div/ul/li[3]\").text\n",
    "    #df.iloc[movie_index]['MPAA Rating']= wd.find_element(\"xpath\",\"//*[@id='__next']/main/div/section[1]/section/div[3]/section/section/div[2]/div[1]/div/ul/li[2]/span[1]\").text\n",
    "    #df.iloc[movie_index]['IMDB Rating']= wd.find_element(\"xpath\",\"//*[@id='__next']/main/div/section[1]/section/div[3]/section/section/div[3]/div[2]/div[1]/div[2]/div/div[1]/a/div/div/div[2]/div[1]/span[1]\").text\n",
    "    #df.iloc[movie_index]['Voter Numbers']= wd.find_element(\"xpath\",\"//*[@id='__next']/main/div/section[1]/section/div[3]/section/section/div[3]/div[2]/div[1]/div[2]/div/div[1]/a/div/div/div[2]/div[3]\").text\n",
    "    #df.iloc[movie_index]['Metascore']= wd.find_element(\"xpath\",\"//*[@id='__next']/main/div/section[1]/section/div[3]/section/section/div[3]/div[2]/div[2]/ul/li[3]/a/span/span[1]/span[1]\").text\n",
    "    #df.iloc[movie_index]['Genre']= wd.find_element(\"xpath\",\"//*[@id='__next']/main/div/section[1]/div/section/div/div[1]/section[7]/div[2]/ul[2]/li[1]/div/ul/li[1]/a\").text\n",
    "    #df.iloc[movie_index]['Language']= wd.find_element(\"xpath\",\"\").text\n",
    "\n",
    "\n",
    "    "
   ]
  },
  {
   "cell_type": "code",
   "execution_count": 98,
   "metadata": {},
   "outputs": [
    {
     "data": {
      "text/html": [
       "<div>\n",
       "<style scoped>\n",
       "    .dataframe tbody tr th:only-of-type {\n",
       "        vertical-align: middle;\n",
       "    }\n",
       "\n",
       "    .dataframe tbody tr th {\n",
       "        vertical-align: top;\n",
       "    }\n",
       "\n",
       "    .dataframe thead th {\n",
       "        text-align: right;\n",
       "    }\n",
       "</style>\n",
       "<table border=\"1\" class=\"dataframe\">\n",
       "  <thead>\n",
       "    <tr style=\"text-align: right;\">\n",
       "      <th></th>\n",
       "      <th>Title</th>\n",
       "      <th>Budget</th>\n",
       "      <th>Worldwide</th>\n",
       "      <th>Domestic</th>\n",
       "      <th>Release</th>\n",
       "      <th>Duration</th>\n",
       "      <th>MPAA Rating</th>\n",
       "      <th>IMDB Rating</th>\n",
       "      <th>Voter Numbers</th>\n",
       "      <th>Metascore</th>\n",
       "      <th>Genre</th>\n",
       "      <th>Language</th>\n",
       "    </tr>\n",
       "  </thead>\n",
       "  <tbody>\n",
       "    <tr>\n",
       "      <th>0</th>\n",
       "      <td>Indiana Jones and the Kingdom of the Crystal S...</td>\n",
       "      <td>$185,000,000</td>\n",
       "      <td>$786,635,413</td>\n",
       "      <td>$317,101,119</td>\n",
       "      <td>May 22, 2008</td>\n",
       "      <td>NaN</td>\n",
       "      <td>NaN</td>\n",
       "      <td>NaN</td>\n",
       "      <td>NaN</td>\n",
       "      <td>NaN</td>\n",
       "      <td>NaN</td>\n",
       "      <td>NaN</td>\n",
       "    </tr>\n",
       "    <tr>\n",
       "      <th>1</th>\n",
       "      <td>Brave</td>\n",
       "      <td>$185,000,000</td>\n",
       "      <td>$554,606,532</td>\n",
       "      <td>$237,282,182</td>\n",
       "      <td>Jun 21, 2012</td>\n",
       "      <td>1h 33m</td>\n",
       "      <td>NaN</td>\n",
       "      <td>NaN</td>\n",
       "      <td>NaN</td>\n",
       "      <td>NaN</td>\n",
       "      <td>NaN</td>\n",
       "      <td>NaN</td>\n",
       "    </tr>\n",
       "    <tr>\n",
       "      <th>2</th>\n",
       "      <td>Kong: Skull Island</td>\n",
       "      <td>$185,000,000</td>\n",
       "      <td>$561,072,059</td>\n",
       "      <td>$168,052,812</td>\n",
       "      <td>Feb 23, 2017</td>\n",
       "      <td>1h 58m</td>\n",
       "      <td>NaN</td>\n",
       "      <td>NaN</td>\n",
       "      <td>NaN</td>\n",
       "      <td>NaN</td>\n",
       "      <td>NaN</td>\n",
       "      <td>NaN</td>\n",
       "    </tr>\n",
       "    <tr>\n",
       "      <th>3</th>\n",
       "      <td>Star Trek Beyond</td>\n",
       "      <td>$185,000,000</td>\n",
       "      <td>$335,673,708</td>\n",
       "      <td>$158,848,340</td>\n",
       "      <td>Jul 21, 2016</td>\n",
       "      <td>2h 2m</td>\n",
       "      <td>NaN</td>\n",
       "      <td>NaN</td>\n",
       "      <td>NaN</td>\n",
       "      <td>NaN</td>\n",
       "      <td>NaN</td>\n",
       "      <td>NaN</td>\n",
       "    </tr>\n",
       "    <tr>\n",
       "      <th>4</th>\n",
       "      <td>Maleficent: Mistress of Evil</td>\n",
       "      <td>$185,000,000</td>\n",
       "      <td>$489,181,357</td>\n",
       "      <td>$113,929,605</td>\n",
       "      <td>Oct 17, 2019</td>\n",
       "      <td>1h 59m</td>\n",
       "      <td>NaN</td>\n",
       "      <td>NaN</td>\n",
       "      <td>NaN</td>\n",
       "      <td>NaN</td>\n",
       "      <td>NaN</td>\n",
       "      <td>NaN</td>\n",
       "    </tr>\n",
       "    <tr>\n",
       "      <th>5</th>\n",
       "      <td>Blade Runner 2049</td>\n",
       "      <td>$185,000,000</td>\n",
       "      <td>$258,829,058</td>\n",
       "      <td>$92,054,159</td>\n",
       "      <td>Sep 29, 2017</td>\n",
       "      <td>2h 44m</td>\n",
       "      <td>NaN</td>\n",
       "      <td>NaN</td>\n",
       "      <td>NaN</td>\n",
       "      <td>NaN</td>\n",
       "      <td>NaN</td>\n",
       "      <td>NaN</td>\n",
       "    </tr>\n",
       "    <tr>\n",
       "      <th>6</th>\n",
       "      <td>Terminator: Dark Fate</td>\n",
       "      <td>$185,000,000</td>\n",
       "      <td>$250,367,666</td>\n",
       "      <td>$62,253,077</td>\n",
       "      <td>Oct 25, 2019</td>\n",
       "      <td>2h 8m</td>\n",
       "      <td>NaN</td>\n",
       "      <td>NaN</td>\n",
       "      <td>NaN</td>\n",
       "      <td>NaN</td>\n",
       "      <td>NaN</td>\n",
       "      <td>NaN</td>\n",
       "    </tr>\n",
       "    <tr>\n",
       "      <th>7</th>\n",
       "      <td>The Suicide Squad</td>\n",
       "      <td>$185,000,000</td>\n",
       "      <td>$167,097,737</td>\n",
       "      <td>$55,817,425</td>\n",
       "      <td>Jul 28, 2021</td>\n",
       "      <td>2h 12m</td>\n",
       "      <td>NaN</td>\n",
       "      <td>NaN</td>\n",
       "      <td>NaN</td>\n",
       "      <td>NaN</td>\n",
       "      <td>NaN</td>\n",
       "      <td>NaN</td>\n",
       "    </tr>\n",
       "    <tr>\n",
       "      <th>8</th>\n",
       "      <td>Aladdin</td>\n",
       "      <td>$182,000,000</td>\n",
       "      <td>$1,046,587,513</td>\n",
       "      <td>$355,559,216</td>\n",
       "      <td>May 22, 2019</td>\n",
       "      <td>2h 8m</td>\n",
       "      <td>NaN</td>\n",
       "      <td>NaN</td>\n",
       "      <td>NaN</td>\n",
       "      <td>NaN</td>\n",
       "      <td>NaN</td>\n",
       "      <td>NaN</td>\n",
       "    </tr>\n",
       "    <tr>\n",
       "      <th>9</th>\n",
       "      <td>Thor: Ragnarok</td>\n",
       "      <td>$180,000,000</td>\n",
       "      <td>$850,482,778</td>\n",
       "      <td>$315,058,289</td>\n",
       "      <td>Oct 25, 2017</td>\n",
       "      <td>2h 10m</td>\n",
       "      <td>NaN</td>\n",
       "      <td>NaN</td>\n",
       "      <td>NaN</td>\n",
       "      <td>NaN</td>\n",
       "      <td>NaN</td>\n",
       "      <td>NaN</td>\n",
       "    </tr>\n",
       "    <tr>\n",
       "      <th>10</th>\n",
       "      <td>The Chronicles of Narnia: The Lion, the Witch a…</td>\n",
       "      <td>$180,000,000</td>\n",
       "      <td>$720,539,572</td>\n",
       "      <td>$291,710,957</td>\n",
       "      <td>Dec 9, 2005</td>\n",
       "      <td>2h 23m</td>\n",
       "      <td>NaN</td>\n",
       "      <td>NaN</td>\n",
       "      <td>NaN</td>\n",
       "      <td>NaN</td>\n",
       "      <td>NaN</td>\n",
       "      <td>NaN</td>\n",
       "    </tr>\n",
       "    <tr>\n",
       "      <th>11</th>\n",
       "      <td>Maleficent</td>\n",
       "      <td>$180,000,000</td>\n",
       "      <td>$758,536,735</td>\n",
       "      <td>$241,407,328</td>\n",
       "      <td>May 28, 2014</td>\n",
       "      <td>1h 37m</td>\n",
       "      <td>NaN</td>\n",
       "      <td>NaN</td>\n",
       "      <td>NaN</td>\n",
       "      <td>NaN</td>\n",
       "      <td>NaN</td>\n",
       "      <td>NaN</td>\n",
       "    </tr>\n",
       "    <tr>\n",
       "      <th>12</th>\n",
       "      <td>Fantastic Beasts and Where to Find Them</td>\n",
       "      <td>$180,000,000</td>\n",
       "      <td>$811,724,385</td>\n",
       "      <td>$234,037,575</td>\n",
       "      <td>Nov 14, 2016</td>\n",
       "      <td>2h 12m</td>\n",
       "      <td>NaN</td>\n",
       "      <td>NaN</td>\n",
       "      <td>NaN</td>\n",
       "      <td>NaN</td>\n",
       "      <td>NaN</td>\n",
       "      <td>NaN</td>\n",
       "    </tr>\n",
       "    <tr>\n",
       "      <th>13</th>\n",
       "      <td>WALL-E</td>\n",
       "      <td>$180,000,000</td>\n",
       "      <td>$532,508,025</td>\n",
       "      <td>$223,808,164</td>\n",
       "      <td>Jun 27, 2008</td>\n",
       "      <td>3h</td>\n",
       "      <td>NaN</td>\n",
       "      <td>NaN</td>\n",
       "      <td>NaN</td>\n",
       "      <td>NaN</td>\n",
       "      <td>NaN</td>\n",
       "      <td>NaN</td>\n",
       "    </tr>\n",
       "    <tr>\n",
       "      <th>14</th>\n",
       "      <td>Rush Hour 3</td>\n",
       "      <td>$180,000,000</td>\n",
       "      <td>$256,585,882</td>\n",
       "      <td>$140,125,968</td>\n",
       "      <td>Aug 10, 2007</td>\n",
       "      <td>1h 31m</td>\n",
       "      <td>NaN</td>\n",
       "      <td>NaN</td>\n",
       "      <td>NaN</td>\n",
       "      <td>NaN</td>\n",
       "      <td>NaN</td>\n",
       "      <td>NaN</td>\n",
       "    </tr>\n",
       "    <tr>\n",
       "      <th>15</th>\n",
       "      <td>The Legend of Tarzan</td>\n",
       "      <td>$180,000,000</td>\n",
       "      <td>$348,902,025</td>\n",
       "      <td>$126,643,061</td>\n",
       "      <td>Jun 27, 2016</td>\n",
       "      <td>1h 50m</td>\n",
       "      <td>NaN</td>\n",
       "      <td>NaN</td>\n",
       "      <td>NaN</td>\n",
       "      <td>NaN</td>\n",
       "      <td>NaN</td>\n",
       "      <td>NaN</td>\n",
       "    </tr>\n",
       "    <tr>\n",
       "      <th>16</th>\n",
       "      <td>Hugo</td>\n",
       "      <td>$180,000,000</td>\n",
       "      <td>$180,047,784</td>\n",
       "      <td>$73,864,507</td>\n",
       "      <td>Nov 23, 2011</td>\n",
       "      <td>2h 6m</td>\n",
       "      <td>NaN</td>\n",
       "      <td>NaN</td>\n",
       "      <td>NaN</td>\n",
       "      <td>NaN</td>\n",
       "      <td>NaN</td>\n",
       "      <td>NaN</td>\n",
       "    </tr>\n",
       "    <tr>\n",
       "      <th>17</th>\n",
       "      <td>Valerian and the City of a Thousand Planets</td>\n",
       "      <td>$180,000,000</td>\n",
       "      <td>$215,098,356</td>\n",
       "      <td>$40,479,370</td>\n",
       "      <td>Jul 20, 2017</td>\n",
       "      <td>2h 16m</td>\n",
       "      <td>NaN</td>\n",
       "      <td>NaN</td>\n",
       "      <td>NaN</td>\n",
       "      <td>NaN</td>\n",
       "      <td>NaN</td>\n",
       "      <td>NaN</td>\n",
       "    </tr>\n",
       "    <tr>\n",
       "      <th>18</th>\n",
       "      <td>Jupiter Ascending</td>\n",
       "      <td>$179,000,000</td>\n",
       "      <td>$181,982,519</td>\n",
       "      <td>$47,482,519</td>\n",
       "      <td>Feb 6, 2015</td>\n",
       "      <td>2h 7m</td>\n",
       "      <td>NaN</td>\n",
       "      <td>NaN</td>\n",
       "      <td>NaN</td>\n",
       "      <td>NaN</td>\n",
       "      <td>NaN</td>\n",
       "      <td>NaN</td>\n",
       "    </tr>\n",
       "    <tr>\n",
       "      <th>19</th>\n",
       "      <td>Mission: Impossible—Fallout</td>\n",
       "      <td>$178,000,000</td>\n",
       "      <td>$787,176,729</td>\n",
       "      <td>$220,159,104</td>\n",
       "      <td>Jul 16, 2018</td>\n",
       "      <td>2h 27m</td>\n",
       "      <td>NaN</td>\n",
       "      <td>NaN</td>\n",
       "      <td>NaN</td>\n",
       "      <td>NaN</td>\n",
       "      <td>NaN</td>\n",
       "      <td>NaN</td>\n",
       "    </tr>\n",
       "  </tbody>\n",
       "</table>\n",
       "</div>"
      ],
      "text/plain": [
       "                                                Title         Budget  \\\n",
       "0   Indiana Jones and the Kingdom of the Crystal S...   $185,000,000   \n",
       "1                                               Brave   $185,000,000   \n",
       "2                                  Kong: Skull Island   $185,000,000   \n",
       "3                                    Star Trek Beyond   $185,000,000   \n",
       "4                        Maleficent: Mistress of Evil   $185,000,000   \n",
       "5                                   Blade Runner 2049   $185,000,000   \n",
       "6                               Terminator: Dark Fate   $185,000,000   \n",
       "7                                   The Suicide Squad   $185,000,000   \n",
       "8                                             Aladdin   $182,000,000   \n",
       "9                                      Thor: Ragnarok   $180,000,000   \n",
       "10   The Chronicles of Narnia: The Lion, the Witch a…   $180,000,000   \n",
       "11                                         Maleficent   $180,000,000   \n",
       "12            Fantastic Beasts and Where to Find Them   $180,000,000   \n",
       "13                                             WALL-E   $180,000,000   \n",
       "14                                        Rush Hour 3   $180,000,000   \n",
       "15                               The Legend of Tarzan   $180,000,000   \n",
       "16                                               Hugo   $180,000,000   \n",
       "17        Valerian and the City of a Thousand Planets   $180,000,000   \n",
       "18                                  Jupiter Ascending   $179,000,000   \n",
       "19                        Mission: Impossible—Fallout   $178,000,000   \n",
       "\n",
       "          Worldwide       Domestic       Release Duration  MPAA Rating  \\\n",
       "0      $786,635,413   $317,101,119  May 22, 2008      NaN          NaN   \n",
       "1      $554,606,532   $237,282,182  Jun 21, 2012   1h 33m          NaN   \n",
       "2      $561,072,059   $168,052,812  Feb 23, 2017   1h 58m          NaN   \n",
       "3      $335,673,708   $158,848,340  Jul 21, 2016    2h 2m          NaN   \n",
       "4      $489,181,357   $113,929,605  Oct 17, 2019   1h 59m          NaN   \n",
       "5      $258,829,058    $92,054,159  Sep 29, 2017   2h 44m          NaN   \n",
       "6      $250,367,666    $62,253,077  Oct 25, 2019    2h 8m          NaN   \n",
       "7      $167,097,737    $55,817,425  Jul 28, 2021   2h 12m          NaN   \n",
       "8    $1,046,587,513   $355,559,216  May 22, 2019    2h 8m          NaN   \n",
       "9      $850,482,778   $315,058,289  Oct 25, 2017   2h 10m          NaN   \n",
       "10     $720,539,572   $291,710,957   Dec 9, 2005   2h 23m          NaN   \n",
       "11     $758,536,735   $241,407,328  May 28, 2014   1h 37m          NaN   \n",
       "12     $811,724,385   $234,037,575  Nov 14, 2016   2h 12m          NaN   \n",
       "13     $532,508,025   $223,808,164  Jun 27, 2008       3h          NaN   \n",
       "14     $256,585,882   $140,125,968  Aug 10, 2007   1h 31m          NaN   \n",
       "15     $348,902,025   $126,643,061  Jun 27, 2016   1h 50m          NaN   \n",
       "16     $180,047,784    $73,864,507  Nov 23, 2011    2h 6m          NaN   \n",
       "17     $215,098,356    $40,479,370  Jul 20, 2017   2h 16m          NaN   \n",
       "18     $181,982,519    $47,482,519   Feb 6, 2015    2h 7m          NaN   \n",
       "19     $787,176,729   $220,159,104  Jul 16, 2018   2h 27m          NaN   \n",
       "\n",
       "    IMDB Rating  Voter Numbers  Metascore  Genre  Language  \n",
       "0           NaN            NaN        NaN    NaN       NaN  \n",
       "1           NaN            NaN        NaN    NaN       NaN  \n",
       "2           NaN            NaN        NaN    NaN       NaN  \n",
       "3           NaN            NaN        NaN    NaN       NaN  \n",
       "4           NaN            NaN        NaN    NaN       NaN  \n",
       "5           NaN            NaN        NaN    NaN       NaN  \n",
       "6           NaN            NaN        NaN    NaN       NaN  \n",
       "7           NaN            NaN        NaN    NaN       NaN  \n",
       "8           NaN            NaN        NaN    NaN       NaN  \n",
       "9           NaN            NaN        NaN    NaN       NaN  \n",
       "10          NaN            NaN        NaN    NaN       NaN  \n",
       "11          NaN            NaN        NaN    NaN       NaN  \n",
       "12          NaN            NaN        NaN    NaN       NaN  \n",
       "13          NaN            NaN        NaN    NaN       NaN  \n",
       "14          NaN            NaN        NaN    NaN       NaN  \n",
       "15          NaN            NaN        NaN    NaN       NaN  \n",
       "16          NaN            NaN        NaN    NaN       NaN  \n",
       "17          NaN            NaN        NaN    NaN       NaN  \n",
       "18          NaN            NaN        NaN    NaN       NaN  \n",
       "19          NaN            NaN        NaN    NaN       NaN  "
      ]
     },
     "execution_count": 98,
     "metadata": {},
     "output_type": "execute_result"
    }
   ],
   "source": [
    "df.head(20)"
   ]
  },
  {
   "attachments": {},
   "cell_type": "markdown",
   "metadata": {},
   "source": [
    "# IT WORKS - SCRAPE COLUMN BY COLUMN"
   ]
  },
  {
   "cell_type": "code",
   "execution_count": null,
   "metadata": {},
   "outputs": [],
   "source": []
  }
 ],
 "metadata": {
  "kernelspec": {
   "display_name": "Python 3",
   "language": "python",
   "name": "python3"
  },
  "language_info": {
   "codemirror_mode": {
    "name": "ipython",
    "version": 3
   },
   "file_extension": ".py",
   "mimetype": "text/x-python",
   "name": "python",
   "nbconvert_exporter": "python",
   "pygments_lexer": "ipython3",
   "version": "3.10.5"
  },
  "orig_nbformat": 4,
  "vscode": {
   "interpreter": {
    "hash": "f1131d84b9e97d700f196cec3f143c1c5ca4787d89ba01101505d30befb8a4c0"
   }
  }
 },
 "nbformat": 4,
 "nbformat_minor": 2
}
