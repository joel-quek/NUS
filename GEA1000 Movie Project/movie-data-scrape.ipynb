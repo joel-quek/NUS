{
 "cells": [
  {
   "attachments": {},
   "cell_type": "markdown",
   "metadata": {},
   "source": [
    "# GEA1000 Movie Data Scrape"
   ]
  },
  {
   "attachments": {},
   "cell_type": "markdown",
   "metadata": {},
   "source": [
    "Source: \n",
    "\n",
    "Numbers.com https://www.the-numbers.com/movie/budgets/all\n",
    "\n",
    "Watch Mojo https://www.boxofficemojo.com/\n",
    "\n",
    "GitHub https://github.com/rfordatascience/tidytuesday/tree/master/data/2018/2018-10-23\n",
    "\n"
   ]
  },
  {
   "attachments": {},
   "cell_type": "markdown",
   "metadata": {},
   "source": [
    "---"
   ]
  },
  {
   "attachments": {},
   "cell_type": "markdown",
   "metadata": {},
   "source": [
    "## Scrape from [Numbers.com](https://www.the-numbers.com/movie/budgets/all)"
   ]
  },
  {
   "attachments": {},
   "cell_type": "markdown",
   "metadata": {},
   "source": [
    "Every page has 100 movies listed with Production Budget, Worldwide Gross and Domestic Gross.\n",
    "\n",
    "And every URL has the following format\n",
    "\n",
    "https://www.the-numbers.com/movie/budgets/all/101\n",
    "\n",
    "https://www.the-numbers.com/movie/budgets/all/2401\n",
    "\n",
    "https://www.the-numbers.com/movie/budgets/all/3901\n",
    "\n",
    "https://www.the-numbers.com/movie/budgets/all/4501\n",
    "\n",
    "https://www.the-numbers.com/movie/budgets/all/6301\n",
    "\n",
    "The maximum is 6354 movies. More than what we need."
   ]
  },
  {
   "attachments": {},
   "cell_type": "markdown",
   "metadata": {},
   "source": [
    "---"
   ]
  },
  {
   "attachments": {},
   "cell_type": "markdown",
   "metadata": {},
   "source": [
    "## Create URL List for Scraping"
   ]
  },
  {
   "cell_type": "code",
   "execution_count": 2,
   "metadata": {},
   "outputs": [],
   "source": [
    "import numpy as np"
   ]
  },
  {
   "cell_type": "code",
   "execution_count": 5,
   "metadata": {},
   "outputs": [
    {
     "data": {
      "text/plain": [
       "array([   1,  101,  201,  301,  401,  501,  601,  701,  801,  901, 1001,\n",
       "       1101, 1201, 1301, 1401, 1501, 1601, 1701, 1801, 1901, 2001, 2101,\n",
       "       2201, 2301, 2401, 2501, 2601, 2701, 2801, 2901, 3001, 3101, 3201,\n",
       "       3301, 3401, 3501, 3601, 3701, 3801, 3901, 4001, 4101, 4201, 4301,\n",
       "       4401, 4501, 4601, 4701, 4801, 4901, 5001, 5101, 5201, 5301, 5401,\n",
       "       5501, 5601, 5701, 5801, 5901, 6001, 6101, 6201, 6301])"
      ]
     },
     "execution_count": 5,
     "metadata": {},
     "output_type": "execute_result"
    }
   ],
   "source": [
    "index_list = np.arange(1,6302,100)\n",
    "index_list"
   ]
  },
  {
   "cell_type": "code",
   "execution_count": 6,
   "metadata": {},
   "outputs": [
    {
     "name": "stdout",
     "output_type": "stream",
     "text": [
      "<class 'numpy.int32'>\n"
     ]
    }
   ],
   "source": [
    "print(type(index_list[2]))"
   ]
  },
  {
   "cell_type": "code",
   "execution_count": 12,
   "metadata": {},
   "outputs": [],
   "source": [
    "url_list = []\n",
    "\n",
    "for i in np.arange(101,6302,100):\n",
    "    url = \"https://www.the-numbers.com/movie/budgets/all/\"+str(i)\n",
    "    url_list.append(url)"
   ]
  },
  {
   "cell_type": "code",
   "execution_count": 13,
   "metadata": {},
   "outputs": [
    {
     "data": {
      "text/plain": [
       "['https://www.the-numbers.com/movie/budgets/all/101',\n",
       " 'https://www.the-numbers.com/movie/budgets/all/201',\n",
       " 'https://www.the-numbers.com/movie/budgets/all/301',\n",
       " 'https://www.the-numbers.com/movie/budgets/all/401',\n",
       " 'https://www.the-numbers.com/movie/budgets/all/501',\n",
       " 'https://www.the-numbers.com/movie/budgets/all/601',\n",
       " 'https://www.the-numbers.com/movie/budgets/all/701',\n",
       " 'https://www.the-numbers.com/movie/budgets/all/801',\n",
       " 'https://www.the-numbers.com/movie/budgets/all/901',\n",
       " 'https://www.the-numbers.com/movie/budgets/all/1001']"
      ]
     },
     "execution_count": 13,
     "metadata": {},
     "output_type": "execute_result"
    }
   ],
   "source": [
    "url_list[:10] # first 10 URLS"
   ]
  },
  {
   "cell_type": "code",
   "execution_count": 14,
   "metadata": {},
   "outputs": [
    {
     "data": {
      "text/plain": [
       "['https://www.the-numbers.com/movie/budgets/all/5401',\n",
       " 'https://www.the-numbers.com/movie/budgets/all/5501',\n",
       " 'https://www.the-numbers.com/movie/budgets/all/5601',\n",
       " 'https://www.the-numbers.com/movie/budgets/all/5701',\n",
       " 'https://www.the-numbers.com/movie/budgets/all/5801',\n",
       " 'https://www.the-numbers.com/movie/budgets/all/5901',\n",
       " 'https://www.the-numbers.com/movie/budgets/all/6001',\n",
       " 'https://www.the-numbers.com/movie/budgets/all/6101',\n",
       " 'https://www.the-numbers.com/movie/budgets/all/6201',\n",
       " 'https://www.the-numbers.com/movie/budgets/all/6301']"
      ]
     },
     "execution_count": 14,
     "metadata": {},
     "output_type": "execute_result"
    }
   ],
   "source": [
    "url_list[-10:] # last 10 URLS"
   ]
  },
  {
   "attachments": {},
   "cell_type": "markdown",
   "metadata": {},
   "source": [
    "---"
   ]
  },
  {
   "attachments": {},
   "cell_type": "markdown",
   "metadata": {},
   "source": [
    "## First Data Pull (1st 100 Movies)"
   ]
  },
  {
   "attachments": {},
   "cell_type": "markdown",
   "metadata": {},
   "source": [
    "First 100 movies have the different URL format (https://www.the-numbers.com/movie/budgets/all)\n",
    "\n",
    "I will pull data from the first 100 as a trial first"
   ]
  },
  {
   "cell_type": "code",
   "execution_count": 15,
   "metadata": {},
   "outputs": [],
   "source": [
    "from bs4 import BeautifulSoup\n",
    "import requests"
   ]
  },
  {
   "cell_type": "code",
   "execution_count": 20,
   "metadata": {},
   "outputs": [],
   "source": [
    "response = requests.get(\"https://www.the-numbers.com/movie/budgets/all/101\")"
   ]
  },
  {
   "cell_type": "code",
   "execution_count": 21,
   "metadata": {},
   "outputs": [
    {
     "data": {
      "text/plain": [
       "<html>\n",
       "<head>\n",
       "<title>403 Forbidden</title>\n",
       "</head>\n",
       "<body>\n",
       "<h1>Forbidden</h1>\n",
       "You do not have permission to access this document.\n",
       "<p>\n",
       "</p><hr/>\n",
       "<address>\n",
       "Web Server at the-numbers.com\n",
       "</address>\n",
       "</body>\n",
       "</html>\n",
       "<!--\n",
       "   - Unfortunately, Microsoft has added a clever new\n",
       "   - \"feature\" to Internet Explorer. If the text of\n",
       "   - an error's message is \"too small\", specifically\n",
       "   - less than 512 bytes, Internet Explorer returns\n",
       "   - its own error message. You can turn that off,\n",
       "   - but it's pretty tricky to find switch called\n",
       "   - \"smart error messages\". That means, of course,\n",
       "   - that short error messages are censored by default.\n",
       "   - IIS always returns error messages that are long\n",
       "   - enough to make Internet Explorer happy. The\n",
       "   - workaround is pretty simple: pad the error\n",
       "   - message with a big comment like this to push it\n",
       "   - over the five hundred and twelve bytes minimum.\n",
       "   - Of course, that's exactly what you're reading\n",
       "   - right now.\n",
       "   -->"
      ]
     },
     "execution_count": 21,
     "metadata": {},
     "output_type": "execute_result"
    }
   ],
   "source": [
    "soup = BeautifulSoup(response.text, \"lxml\")\n",
    "soup"
   ]
  },
  {
   "cell_type": "code",
   "execution_count": 22,
   "metadata": {},
   "outputs": [],
   "source": [
    "result_list = soup.find_all('td', {'class':'data'})"
   ]
  },
  {
   "cell_type": "code",
   "execution_count": 23,
   "metadata": {},
   "outputs": [
    {
     "data": {
      "text/plain": [
       "[]"
      ]
     },
     "execution_count": 23,
     "metadata": {},
     "output_type": "execute_result"
    }
   ],
   "source": [
    "result_list"
   ]
  },
  {
   "attachments": {},
   "cell_type": "markdown",
   "metadata": {},
   "source": [
    "The website blocks my scraping attempts. Let me try a different approach."
   ]
  },
  {
   "attachments": {},
   "cell_type": "markdown",
   "metadata": {},
   "source": [
    "## Headless Mode"
   ]
  },
  {
   "attachments": {},
   "cell_type": "markdown",
   "metadata": {},
   "source": [
    "### Version 1"
   ]
  },
  {
   "attachments": {},
   "cell_type": "markdown",
   "metadata": {},
   "source": [
    "Source: https://stackoverflow.com/questions/62018274/how-to-scrape-the-actual-data-from-the-website-in-headless-mode-chrome-python"
   ]
  },
  {
   "cell_type": "code",
   "execution_count": 32,
   "metadata": {},
   "outputs": [
    {
     "name": "stderr",
     "output_type": "stream",
     "text": [
      "C:\\Users\\redoc\\AppData\\Local\\Temp\\ipykernel_142600\\3869379956.py:8: DeprecationWarning: executable_path has been deprecated, please pass in a Service object\n",
      "  wd = webdriver.Chrome(ChromeDriverManager().install())\n"
     ]
    }
   ],
   "source": [
    "'''\n",
    "from selenium.webdriver import Chrome\n",
    "from selenium.webdriver.chrome.options import Options\n",
    "from selenium.webdriver.common.keys import Keys\n",
    "\n",
    "opts = Options()\n",
    "opts.add_argument(\"--headless\")\n",
    "assert opts.headless  # Operating in headless mode\n",
    "wd = webdriver.Chrome(ChromeDriverManager().install())\n",
    "wd.implicitly_wait(3)\n",
    "wd.get('https://www.the-numbers.com/movie/budgets/all/101')\n",
    "\n",
    "#results = browser.find_elements_by_xpath('//*[@id=\"quote-header-info\"]/div[3]/div/div/span[1]')\n",
    "#print(results)\n",
    "'''"
   ]
  },
  {
   "cell_type": "code",
   "execution_count": 34,
   "metadata": {},
   "outputs": [
    {
     "ename": "NoSuchElementException",
     "evalue": "Message: no such element: Unable to locate element: {\"method\":\"xpath\",\"selector\":\"//*[@id=\"td\"]\"}\n  (Session info: chrome=108.0.5359.125)\nStacktrace:\nBacktrace:\n\t(No symbol) [0x00BAF243]\n\t(No symbol) [0x00B37FD1]\n\t(No symbol) [0x00A2D04D]\n\t(No symbol) [0x00A5C0B0]\n\t(No symbol) [0x00A5C22B]\n\t(No symbol) [0x00A8E612]\n\t(No symbol) [0x00A785D4]\n\t(No symbol) [0x00A8C9EB]\n\t(No symbol) [0x00A78386]\n\t(No symbol) [0x00A5163C]\n\t(No symbol) [0x00A5269D]\n\tGetHandleVerifier [0x00E49A22+2655074]\n\tGetHandleVerifier [0x00E3CA24+2601828]\n\tGetHandleVerifier [0x00C58C0A+619850]\n\tGetHandleVerifier [0x00C57830+614768]\n\t(No symbol) [0x00B405FC]\n\t(No symbol) [0x00B45968]\n\t(No symbol) [0x00B45A55]\n\t(No symbol) [0x00B5051B]\n\tBaseThreadInitThunk [0x76356939+25]\n\tRtlGetFullPathName_UEx [0x77B08FD2+1218]\n\tRtlGetFullPathName_UEx [0x77B08F9D+1165]\n",
     "output_type": "error",
     "traceback": [
      "\u001b[1;31m---------------------------------------------------------------------------\u001b[0m",
      "\u001b[1;31mNoSuchElementException\u001b[0m                    Traceback (most recent call last)",
      "\u001b[1;32mc:\\Users\\redoc\\OneDrive\\Desktop\\NUS GEA1000\\GEA1000 Movie Project\\movie-data-scrape.ipynb Cell 27\u001b[0m in \u001b[0;36m<cell line: 1>\u001b[1;34m()\u001b[0m\n\u001b[1;32m----> <a href='vscode-notebook-cell:/c%3A/Users/redoc/OneDrive/Desktop/NUS%20GEA1000/GEA1000%20Movie%20Project/movie-data-scrape.ipynb#X42sZmlsZQ%3D%3D?line=0'>1</a>\u001b[0m results \u001b[39m=\u001b[39m wd\u001b[39m.\u001b[39;49mfind_element(\u001b[39m\"\u001b[39;49m\u001b[39mxpath\u001b[39;49m\u001b[39m\"\u001b[39;49m, \u001b[39m'\u001b[39;49m\u001b[39m//*[@id=\u001b[39;49m\u001b[39m\"\u001b[39;49m\u001b[39mtd\u001b[39;49m\u001b[39m\"\u001b[39;49m\u001b[39m]\u001b[39;49m\u001b[39m'\u001b[39;49m) \u001b[39m#('//*[@id=\"td\"]/div[3]/div/div/span[1]')\u001b[39;00m\n\u001b[0;32m      <a href='vscode-notebook-cell:/c%3A/Users/redoc/OneDrive/Desktop/NUS%20GEA1000/GEA1000%20Movie%20Project/movie-data-scrape.ipynb#X42sZmlsZQ%3D%3D?line=2'>3</a>\u001b[0m \u001b[39mfor\u001b[39;00m result \u001b[39min\u001b[39;00m results:\n\u001b[0;32m      <a href='vscode-notebook-cell:/c%3A/Users/redoc/OneDrive/Desktop/NUS%20GEA1000/GEA1000%20Movie%20Project/movie-data-scrape.ipynb#X42sZmlsZQ%3D%3D?line=3'>4</a>\u001b[0m     \u001b[39mprint\u001b[39m(result\u001b[39m.\u001b[39mtext)\n",
      "File \u001b[1;32mc:\\Users\\redoc\\AppData\\Local\\Programs\\Python\\Python310\\lib\\site-packages\\selenium\\webdriver\\remote\\webdriver.py:856\u001b[0m, in \u001b[0;36mWebDriver.find_element\u001b[1;34m(self, by, value)\u001b[0m\n\u001b[0;32m    853\u001b[0m     by \u001b[39m=\u001b[39m By\u001b[39m.\u001b[39mCSS_SELECTOR\n\u001b[0;32m    854\u001b[0m     value \u001b[39m=\u001b[39m \u001b[39m'\u001b[39m\u001b[39m[name=\u001b[39m\u001b[39m\"\u001b[39m\u001b[39m%s\u001b[39;00m\u001b[39m\"\u001b[39m\u001b[39m]\u001b[39m\u001b[39m'\u001b[39m \u001b[39m%\u001b[39m value\n\u001b[1;32m--> 856\u001b[0m \u001b[39mreturn\u001b[39;00m \u001b[39mself\u001b[39;49m\u001b[39m.\u001b[39;49mexecute(Command\u001b[39m.\u001b[39;49mFIND_ELEMENT, {\n\u001b[0;32m    857\u001b[0m     \u001b[39m'\u001b[39;49m\u001b[39musing\u001b[39;49m\u001b[39m'\u001b[39;49m: by,\n\u001b[0;32m    858\u001b[0m     \u001b[39m'\u001b[39;49m\u001b[39mvalue\u001b[39;49m\u001b[39m'\u001b[39;49m: value})[\u001b[39m'\u001b[39m\u001b[39mvalue\u001b[39m\u001b[39m'\u001b[39m]\n",
      "File \u001b[1;32mc:\\Users\\redoc\\AppData\\Local\\Programs\\Python\\Python310\\lib\\site-packages\\selenium\\webdriver\\remote\\webdriver.py:429\u001b[0m, in \u001b[0;36mWebDriver.execute\u001b[1;34m(self, driver_command, params)\u001b[0m\n\u001b[0;32m    427\u001b[0m response \u001b[39m=\u001b[39m \u001b[39mself\u001b[39m\u001b[39m.\u001b[39mcommand_executor\u001b[39m.\u001b[39mexecute(driver_command, params)\n\u001b[0;32m    428\u001b[0m \u001b[39mif\u001b[39;00m response:\n\u001b[1;32m--> 429\u001b[0m     \u001b[39mself\u001b[39;49m\u001b[39m.\u001b[39;49merror_handler\u001b[39m.\u001b[39;49mcheck_response(response)\n\u001b[0;32m    430\u001b[0m     response[\u001b[39m'\u001b[39m\u001b[39mvalue\u001b[39m\u001b[39m'\u001b[39m] \u001b[39m=\u001b[39m \u001b[39mself\u001b[39m\u001b[39m.\u001b[39m_unwrap_value(\n\u001b[0;32m    431\u001b[0m         response\u001b[39m.\u001b[39mget(\u001b[39m'\u001b[39m\u001b[39mvalue\u001b[39m\u001b[39m'\u001b[39m, \u001b[39mNone\u001b[39;00m))\n\u001b[0;32m    432\u001b[0m     \u001b[39mreturn\u001b[39;00m response\n",
      "File \u001b[1;32mc:\\Users\\redoc\\AppData\\Local\\Programs\\Python\\Python310\\lib\\site-packages\\selenium\\webdriver\\remote\\errorhandler.py:243\u001b[0m, in \u001b[0;36mErrorHandler.check_response\u001b[1;34m(self, response)\u001b[0m\n\u001b[0;32m    241\u001b[0m         alert_text \u001b[39m=\u001b[39m value[\u001b[39m'\u001b[39m\u001b[39malert\u001b[39m\u001b[39m'\u001b[39m]\u001b[39m.\u001b[39mget(\u001b[39m'\u001b[39m\u001b[39mtext\u001b[39m\u001b[39m'\u001b[39m)\n\u001b[0;32m    242\u001b[0m     \u001b[39mraise\u001b[39;00m exception_class(message, screen, stacktrace, alert_text)  \u001b[39m# type: ignore[call-arg]  # mypy is not smart enough here\u001b[39;00m\n\u001b[1;32m--> 243\u001b[0m \u001b[39mraise\u001b[39;00m exception_class(message, screen, stacktrace)\n",
      "\u001b[1;31mNoSuchElementException\u001b[0m: Message: no such element: Unable to locate element: {\"method\":\"xpath\",\"selector\":\"//*[@id=\"td\"]\"}\n  (Session info: chrome=108.0.5359.125)\nStacktrace:\nBacktrace:\n\t(No symbol) [0x00BAF243]\n\t(No symbol) [0x00B37FD1]\n\t(No symbol) [0x00A2D04D]\n\t(No symbol) [0x00A5C0B0]\n\t(No symbol) [0x00A5C22B]\n\t(No symbol) [0x00A8E612]\n\t(No symbol) [0x00A785D4]\n\t(No symbol) [0x00A8C9EB]\n\t(No symbol) [0x00A78386]\n\t(No symbol) [0x00A5163C]\n\t(No symbol) [0x00A5269D]\n\tGetHandleVerifier [0x00E49A22+2655074]\n\tGetHandleVerifier [0x00E3CA24+2601828]\n\tGetHandleVerifier [0x00C58C0A+619850]\n\tGetHandleVerifier [0x00C57830+614768]\n\t(No symbol) [0x00B405FC]\n\t(No symbol) [0x00B45968]\n\t(No symbol) [0x00B45A55]\n\t(No symbol) [0x00B5051B]\n\tBaseThreadInitThunk [0x76356939+25]\n\tRtlGetFullPathName_UEx [0x77B08FD2+1218]\n\tRtlGetFullPathName_UEx [0x77B08F9D+1165]\n"
     ]
    }
   ],
   "source": [
    "'''\n",
    "results = wd.find_element(\"xpath\", '//*[@id=\"td\"]') #('//*[@id=\"td\"]/div[3]/div/div/span[1]')\n",
    "\n",
    "for result in results:\n",
    "    print(result.text)\n",
    "'''"
   ]
  },
  {
   "attachments": {},
   "cell_type": "markdown",
   "metadata": {},
   "source": [
    "---"
   ]
  },
  {
   "attachments": {},
   "cell_type": "markdown",
   "metadata": {},
   "source": [
    "### Version 2"
   ]
  },
  {
   "attachments": {},
   "cell_type": "markdown",
   "metadata": {},
   "source": [
    "Source: https://www.youtube.com/watch?v=Zb-CrK04PmM"
   ]
  },
  {
   "cell_type": "code",
   "execution_count": 26,
   "metadata": {},
   "outputs": [],
   "source": [
    "from selenium import webdriver\n",
    "import pandas as pd\n",
    "from bs4 import BeautifulSoup as bs\n",
    "from pprint import pprint"
   ]
  },
  {
   "cell_type": "code",
   "execution_count": 27,
   "metadata": {},
   "outputs": [],
   "source": [
    "from webdriver_manager.chrome import ChromeDriverManager"
   ]
  },
  {
   "cell_type": "code",
   "execution_count": 36,
   "metadata": {},
   "outputs": [
    {
     "name": "stderr",
     "output_type": "stream",
     "text": [
      "C:\\Users\\redoc\\AppData\\Local\\Temp\\ipykernel_142600\\4224076169.py:2: DeprecationWarning: executable_path has been deprecated, please pass in a Service object\n",
      "  wd = webdriver.Chrome(ChromeDriverManager().install())\n"
     ]
    }
   ],
   "source": [
    "# install webdriver for Chrome with ChromeDriverManager\n",
    "wd = webdriver.Chrome(ChromeDriverManager().install())"
   ]
  },
  {
   "cell_type": "code",
   "execution_count": 37,
   "metadata": {},
   "outputs": [],
   "source": [
    "url = \"https://www.the-numbers.com/movie/budgets/all/101\""
   ]
  },
  {
   "cell_type": "code",
   "execution_count": 38,
   "metadata": {},
   "outputs": [],
   "source": [
    "wd.get(url)"
   ]
  },
  {
   "cell_type": "code",
   "execution_count": 31,
   "metadata": {},
   "outputs": [],
   "source": [
    "wd.maximize_window()"
   ]
  },
  {
   "attachments": {},
   "cell_type": "markdown",
   "metadata": {},
   "source": [
    "---"
   ]
  },
  {
   "attachments": {},
   "cell_type": "markdown",
   "metadata": {},
   "source": [
    "#### Row XPaths\n",
    "\n",
    "//*[@id='page_filling_chart']/center/table/tbody/tr[2]\n",
    "\n",
    "//*[@id=\"page_filling_chart\"]/center/table/tbody/tr[74]\n",
    "\n",
    "//*[@id=\"page_filling_chart\"]/center/table/tbody/tr[100]\n",
    "\n",
    "They all end with tr followed by the index.\n",
    "\n",
    "Each page starts with **//*[@id=\"page_filling_chart\"]/center/table/tbody/tr[2]**\n",
    "\n",
    "And ends with **//*[@id=\"page_filling_chart\"]/center/table/tbody/tr[101]**"
   ]
  },
  {
   "attachments": {},
   "cell_type": "markdown",
   "metadata": {},
   "source": [
    "Confirmation\n",
    "\n",
    "//*[@id=\"page_filling_chart\"]/center/table/tbody/tr[2]\n",
    "\n",
    "//*[@id=\"page_filling_chart\"]/center/table/tbody/tr[101]"
   ]
  },
  {
   "attachments": {},
   "cell_type": "markdown",
   "metadata": {},
   "source": [
    "**tr[  ] is the row indexing**"
   ]
  },
  {
   "cell_type": "code",
   "execution_count": 58,
   "metadata": {},
   "outputs": [],
   "source": [
    "row_ = wd.find_element(\"xpath\", \"//*[@id='page_filling_chart']/center/table/tbody/tr[2]\")"
   ]
  },
  {
   "cell_type": "code",
   "execution_count": 59,
   "metadata": {},
   "outputs": [
    {
     "name": "stdout",
     "output_type": "stream",
     "text": [
      "102 Jun 21, 2012 Brave  $185,000,000  $237,282,182  $554,606,532\n"
     ]
    }
   ],
   "source": [
    "print(row2_.text)"
   ]
  },
  {
   "attachments": {},
   "cell_type": "markdown",
   "metadata": {},
   "source": [
    "Create list per page for row indexing"
   ]
  },
  {
   "cell_type": "code",
   "execution_count": 66,
   "metadata": {},
   "outputs": [
    {
     "data": {
      "text/plain": [
       "[2,\n",
       " 3,\n",
       " 4,\n",
       " 5,\n",
       " 6,\n",
       " 7,\n",
       " 8,\n",
       " 9,\n",
       " 10,\n",
       " 11,\n",
       " 12,\n",
       " 13,\n",
       " 14,\n",
       " 15,\n",
       " 16,\n",
       " 17,\n",
       " 18,\n",
       " 19,\n",
       " 20,\n",
       " 21,\n",
       " 22,\n",
       " 23,\n",
       " 24,\n",
       " 25,\n",
       " 26,\n",
       " 27,\n",
       " 28,\n",
       " 29,\n",
       " 30,\n",
       " 31,\n",
       " 32,\n",
       " 33,\n",
       " 34,\n",
       " 35,\n",
       " 36,\n",
       " 37,\n",
       " 38,\n",
       " 39,\n",
       " 40,\n",
       " 41,\n",
       " 42,\n",
       " 43,\n",
       " 44,\n",
       " 45,\n",
       " 46,\n",
       " 47,\n",
       " 48,\n",
       " 49,\n",
       " 50,\n",
       " 51,\n",
       " 52,\n",
       " 53,\n",
       " 54,\n",
       " 55,\n",
       " 56,\n",
       " 57,\n",
       " 58,\n",
       " 59,\n",
       " 60,\n",
       " 61,\n",
       " 62,\n",
       " 63,\n",
       " 64,\n",
       " 65,\n",
       " 66,\n",
       " 67,\n",
       " 68,\n",
       " 69,\n",
       " 70,\n",
       " 71,\n",
       " 72,\n",
       " 73,\n",
       " 74,\n",
       " 75,\n",
       " 76,\n",
       " 77,\n",
       " 78,\n",
       " 79,\n",
       " 80,\n",
       " 81,\n",
       " 82,\n",
       " 83,\n",
       " 84,\n",
       " 85,\n",
       " 86,\n",
       " 87,\n",
       " 88,\n",
       " 89,\n",
       " 90,\n",
       " 91,\n",
       " 92,\n",
       " 93,\n",
       " 94,\n",
       " 95,\n",
       " 96,\n",
       " 97,\n",
       " 98,\n",
       " 99,\n",
       " 100,\n",
       " 101]"
      ]
     },
     "execution_count": 66,
     "metadata": {},
     "output_type": "execute_result"
    }
   ],
   "source": [
    "row_index_list = list(range(2,102))\n",
    "row_index_list"
   ]
  },
  {
   "attachments": {},
   "cell_type": "markdown",
   "metadata": {},
   "source": [
    "---"
   ]
  },
  {
   "attachments": {},
   "cell_type": "markdown",
   "metadata": {},
   "source": [
    "#### Release Date XPaths\n",
    "\n",
    "//*[@id=\"page_filling_chart\"]/center/table/tbody/tr[101]/td[2]/a\n",
    "\n",
    "//*[@id=\"page_filling_chart\"]/center/table/tbody/tr[95]/td[2]/a\n",
    "\n",
    "They all end with **/td[2]/a**"
   ]
  },
  {
   "cell_type": "code",
   "execution_count": 56,
   "metadata": {},
   "outputs": [],
   "source": [
    "release_date = wd.find_element(\"xpath\", \"//*[@id='page_filling_chart']/center/table/tbody/tr[101]/td[2]/a\")"
   ]
  },
  {
   "cell_type": "code",
   "execution_count": 57,
   "metadata": {},
   "outputs": [
    {
     "name": "stdout",
     "output_type": "stream",
     "text": [
      "Jul 1, 2008\n"
     ]
    }
   ],
   "source": [
    "print(release_date.text)"
   ]
  },
  {
   "attachments": {},
   "cell_type": "markdown",
   "metadata": {},
   "source": [
    "---"
   ]
  },
  {
   "attachments": {},
   "cell_type": "markdown",
   "metadata": {},
   "source": [
    "#### Title XPaths\n",
    "\n",
    "//*[@id=\"page_filling_chart\"]/center/table/tbody/tr[95]/td[3]/b/a\n",
    "\n",
    "//*[@id=\"page_filling_chart\"]/center/table/tbody/tr[80]/td[3]/b/a\n",
    "\n",
    "They all end with **td[3]/b/a**"
   ]
  },
  {
   "cell_type": "code",
   "execution_count": 61,
   "metadata": {},
   "outputs": [],
   "source": [
    "title = wd.find_element(\"xpath\", \"//*[@id='page_filling_chart']/center/table/tbody/tr[97]/td[3]/b/a\")"
   ]
  },
  {
   "cell_type": "code",
   "execution_count": 62,
   "metadata": {},
   "outputs": [
    {
     "name": "stdout",
     "output_type": "stream",
     "text": [
      "Harry Potter and the Goblet of Fire\n"
     ]
    }
   ],
   "source": [
    "print(title.text)"
   ]
  },
  {
   "attachments": {},
   "cell_type": "markdown",
   "metadata": {},
   "source": [
    "---"
   ]
  },
  {
   "attachments": {},
   "cell_type": "markdown",
   "metadata": {},
   "source": [
    "#### Production Budget XPaths\n",
    "\n",
    "//*[@id=\"page_filling_chart\"]/center/table/tbody/tr[2]/td[4]\n",
    "\n",
    "//*[@id=\"page_filling_chart\"]/center/table/tbody/tr[16]/td[4]\n",
    "\n",
    "//*[@id=\"page_filling_chart\"]/center/table/tbody/tr[25]/td[4]\n",
    "\n",
    "They all end with **td[4]**"
   ]
  },
  {
   "cell_type": "code",
   "execution_count": 63,
   "metadata": {},
   "outputs": [
    {
     "name": "stdout",
     "output_type": "stream",
     "text": [
      " $178,000,000\n"
     ]
    }
   ],
   "source": [
    "budget = wd.find_element(\"xpath\", \"//*[@id='page_filling_chart']/center/table/tbody/tr[21]/td[4]\")\n",
    "\n",
    "print(budget.text)"
   ]
  },
  {
   "attachments": {},
   "cell_type": "markdown",
   "metadata": {},
   "source": [
    "---"
   ]
  },
  {
   "attachments": {},
   "cell_type": "markdown",
   "metadata": {},
   "source": [
    "#### Worldwide Gross XPaths\n",
    "\n",
    "//*[@id=\"page_filling_chart\"]/center/table/tbody/tr[70]/td[6]\n",
    "\n",
    "//*[@id=\"page_filling_chart\"]/center/table/tbody/tr[91]/td[6]\n",
    "\n",
    "//*[@id=\"page_filling_chart\"]/center/table/tbody/tr[100]/td[6]\n",
    "\n",
    "End with **td[6]**"
   ]
  },
  {
   "attachments": {},
   "cell_type": "markdown",
   "metadata": {},
   "source": [
    "---"
   ]
  },
  {
   "attachments": {},
   "cell_type": "markdown",
   "metadata": {},
   "source": [
    "#### Domestic Gross XPaths\n",
    "\n",
    "//*[@id=\"page_filling_chart\"]/center/table/tbody/tr[6]/td[5]\n",
    "\n",
    "//*[@id=\"page_filling_chart\"]/center/table/tbody/tr[27]/td[5]\n",
    "\n",
    "//*[@id=\"page_filling_chart\"]/center/table/tbody/tr[55]/td[5]\n",
    "\n",
    "End with **td[5]**"
   ]
  },
  {
   "attachments": {},
   "cell_type": "markdown",
   "metadata": {},
   "source": [
    "---"
   ]
  },
  {
   "attachments": {},
   "cell_type": "markdown",
   "metadata": {},
   "source": [
    "Scrape https://www.the-numbers.com/movie/budgets/all/101"
   ]
  },
  {
   "cell_type": "code",
   "execution_count": 70,
   "metadata": {},
   "outputs": [],
   "source": [
    "row_xpath = []\n",
    "\n",
    "for i in row_index_list:\n",
    "    x_path = \"//*[@id='page_filling_chart']/center/table/tbody/tr[\"+str(i)+\"]\"\n",
    "    row_xpath.append(x_path)\n"
   ]
  },
  {
   "cell_type": "code",
   "execution_count": 71,
   "metadata": {},
   "outputs": [
    {
     "data": {
      "text/plain": [
       "[\"//*[@id='page_filling_chart']/center/table/tbody/tr[2]\",\n",
       " \"//*[@id='page_filling_chart']/center/table/tbody/tr[3]\",\n",
       " \"//*[@id='page_filling_chart']/center/table/tbody/tr[4]\",\n",
       " \"//*[@id='page_filling_chart']/center/table/tbody/tr[5]\",\n",
       " \"//*[@id='page_filling_chart']/center/table/tbody/tr[6]\",\n",
       " \"//*[@id='page_filling_chart']/center/table/tbody/tr[7]\",\n",
       " \"//*[@id='page_filling_chart']/center/table/tbody/tr[8]\",\n",
       " \"//*[@id='page_filling_chart']/center/table/tbody/tr[9]\",\n",
       " \"//*[@id='page_filling_chart']/center/table/tbody/tr[10]\",\n",
       " \"//*[@id='page_filling_chart']/center/table/tbody/tr[11]\",\n",
       " \"//*[@id='page_filling_chart']/center/table/tbody/tr[12]\",\n",
       " \"//*[@id='page_filling_chart']/center/table/tbody/tr[13]\",\n",
       " \"//*[@id='page_filling_chart']/center/table/tbody/tr[14]\",\n",
       " \"//*[@id='page_filling_chart']/center/table/tbody/tr[15]\",\n",
       " \"//*[@id='page_filling_chart']/center/table/tbody/tr[16]\",\n",
       " \"//*[@id='page_filling_chart']/center/table/tbody/tr[17]\",\n",
       " \"//*[@id='page_filling_chart']/center/table/tbody/tr[18]\",\n",
       " \"//*[@id='page_filling_chart']/center/table/tbody/tr[19]\",\n",
       " \"//*[@id='page_filling_chart']/center/table/tbody/tr[20]\",\n",
       " \"//*[@id='page_filling_chart']/center/table/tbody/tr[21]\",\n",
       " \"//*[@id='page_filling_chart']/center/table/tbody/tr[22]\",\n",
       " \"//*[@id='page_filling_chart']/center/table/tbody/tr[23]\",\n",
       " \"//*[@id='page_filling_chart']/center/table/tbody/tr[24]\",\n",
       " \"//*[@id='page_filling_chart']/center/table/tbody/tr[25]\",\n",
       " \"//*[@id='page_filling_chart']/center/table/tbody/tr[26]\",\n",
       " \"//*[@id='page_filling_chart']/center/table/tbody/tr[27]\",\n",
       " \"//*[@id='page_filling_chart']/center/table/tbody/tr[28]\",\n",
       " \"//*[@id='page_filling_chart']/center/table/tbody/tr[29]\",\n",
       " \"//*[@id='page_filling_chart']/center/table/tbody/tr[30]\",\n",
       " \"//*[@id='page_filling_chart']/center/table/tbody/tr[31]\",\n",
       " \"//*[@id='page_filling_chart']/center/table/tbody/tr[32]\",\n",
       " \"//*[@id='page_filling_chart']/center/table/tbody/tr[33]\",\n",
       " \"//*[@id='page_filling_chart']/center/table/tbody/tr[34]\",\n",
       " \"//*[@id='page_filling_chart']/center/table/tbody/tr[35]\",\n",
       " \"//*[@id='page_filling_chart']/center/table/tbody/tr[36]\",\n",
       " \"//*[@id='page_filling_chart']/center/table/tbody/tr[37]\",\n",
       " \"//*[@id='page_filling_chart']/center/table/tbody/tr[38]\",\n",
       " \"//*[@id='page_filling_chart']/center/table/tbody/tr[39]\",\n",
       " \"//*[@id='page_filling_chart']/center/table/tbody/tr[40]\",\n",
       " \"//*[@id='page_filling_chart']/center/table/tbody/tr[41]\",\n",
       " \"//*[@id='page_filling_chart']/center/table/tbody/tr[42]\",\n",
       " \"//*[@id='page_filling_chart']/center/table/tbody/tr[43]\",\n",
       " \"//*[@id='page_filling_chart']/center/table/tbody/tr[44]\",\n",
       " \"//*[@id='page_filling_chart']/center/table/tbody/tr[45]\",\n",
       " \"//*[@id='page_filling_chart']/center/table/tbody/tr[46]\",\n",
       " \"//*[@id='page_filling_chart']/center/table/tbody/tr[47]\",\n",
       " \"//*[@id='page_filling_chart']/center/table/tbody/tr[48]\",\n",
       " \"//*[@id='page_filling_chart']/center/table/tbody/tr[49]\",\n",
       " \"//*[@id='page_filling_chart']/center/table/tbody/tr[50]\",\n",
       " \"//*[@id='page_filling_chart']/center/table/tbody/tr[51]\",\n",
       " \"//*[@id='page_filling_chart']/center/table/tbody/tr[52]\",\n",
       " \"//*[@id='page_filling_chart']/center/table/tbody/tr[53]\",\n",
       " \"//*[@id='page_filling_chart']/center/table/tbody/tr[54]\",\n",
       " \"//*[@id='page_filling_chart']/center/table/tbody/tr[55]\",\n",
       " \"//*[@id='page_filling_chart']/center/table/tbody/tr[56]\",\n",
       " \"//*[@id='page_filling_chart']/center/table/tbody/tr[57]\",\n",
       " \"//*[@id='page_filling_chart']/center/table/tbody/tr[58]\",\n",
       " \"//*[@id='page_filling_chart']/center/table/tbody/tr[59]\",\n",
       " \"//*[@id='page_filling_chart']/center/table/tbody/tr[60]\",\n",
       " \"//*[@id='page_filling_chart']/center/table/tbody/tr[61]\",\n",
       " \"//*[@id='page_filling_chart']/center/table/tbody/tr[62]\",\n",
       " \"//*[@id='page_filling_chart']/center/table/tbody/tr[63]\",\n",
       " \"//*[@id='page_filling_chart']/center/table/tbody/tr[64]\",\n",
       " \"//*[@id='page_filling_chart']/center/table/tbody/tr[65]\",\n",
       " \"//*[@id='page_filling_chart']/center/table/tbody/tr[66]\",\n",
       " \"//*[@id='page_filling_chart']/center/table/tbody/tr[67]\",\n",
       " \"//*[@id='page_filling_chart']/center/table/tbody/tr[68]\",\n",
       " \"//*[@id='page_filling_chart']/center/table/tbody/tr[69]\",\n",
       " \"//*[@id='page_filling_chart']/center/table/tbody/tr[70]\",\n",
       " \"//*[@id='page_filling_chart']/center/table/tbody/tr[71]\",\n",
       " \"//*[@id='page_filling_chart']/center/table/tbody/tr[72]\",\n",
       " \"//*[@id='page_filling_chart']/center/table/tbody/tr[73]\",\n",
       " \"//*[@id='page_filling_chart']/center/table/tbody/tr[74]\",\n",
       " \"//*[@id='page_filling_chart']/center/table/tbody/tr[75]\",\n",
       " \"//*[@id='page_filling_chart']/center/table/tbody/tr[76]\",\n",
       " \"//*[@id='page_filling_chart']/center/table/tbody/tr[77]\",\n",
       " \"//*[@id='page_filling_chart']/center/table/tbody/tr[78]\",\n",
       " \"//*[@id='page_filling_chart']/center/table/tbody/tr[79]\",\n",
       " \"//*[@id='page_filling_chart']/center/table/tbody/tr[80]\",\n",
       " \"//*[@id='page_filling_chart']/center/table/tbody/tr[81]\",\n",
       " \"//*[@id='page_filling_chart']/center/table/tbody/tr[82]\",\n",
       " \"//*[@id='page_filling_chart']/center/table/tbody/tr[83]\",\n",
       " \"//*[@id='page_filling_chart']/center/table/tbody/tr[84]\",\n",
       " \"//*[@id='page_filling_chart']/center/table/tbody/tr[85]\",\n",
       " \"//*[@id='page_filling_chart']/center/table/tbody/tr[86]\",\n",
       " \"//*[@id='page_filling_chart']/center/table/tbody/tr[87]\",\n",
       " \"//*[@id='page_filling_chart']/center/table/tbody/tr[88]\",\n",
       " \"//*[@id='page_filling_chart']/center/table/tbody/tr[89]\",\n",
       " \"//*[@id='page_filling_chart']/center/table/tbody/tr[90]\",\n",
       " \"//*[@id='page_filling_chart']/center/table/tbody/tr[91]\",\n",
       " \"//*[@id='page_filling_chart']/center/table/tbody/tr[92]\",\n",
       " \"//*[@id='page_filling_chart']/center/table/tbody/tr[93]\",\n",
       " \"//*[@id='page_filling_chart']/center/table/tbody/tr[94]\",\n",
       " \"//*[@id='page_filling_chart']/center/table/tbody/tr[95]\",\n",
       " \"//*[@id='page_filling_chart']/center/table/tbody/tr[96]\",\n",
       " \"//*[@id='page_filling_chart']/center/table/tbody/tr[97]\",\n",
       " \"//*[@id='page_filling_chart']/center/table/tbody/tr[98]\",\n",
       " \"//*[@id='page_filling_chart']/center/table/tbody/tr[99]\",\n",
       " \"//*[@id='page_filling_chart']/center/table/tbody/tr[100]\",\n",
       " \"//*[@id='page_filling_chart']/center/table/tbody/tr[101]\"]"
      ]
     },
     "execution_count": 71,
     "metadata": {},
     "output_type": "execute_result"
    }
   ],
   "source": [
    "row_xpath"
   ]
  },
  {
   "cell_type": "code",
   "execution_count": 72,
   "metadata": {},
   "outputs": [
    {
     "name": "stdout",
     "output_type": "stream",
     "text": [
      "<class 'str'>\n"
     ]
    }
   ],
   "source": [
    "print(type(row_xpath[3]))"
   ]
  },
  {
   "cell_type": "code",
   "execution_count": 69,
   "metadata": {},
   "outputs": [
    {
     "name": "stderr",
     "output_type": "stream",
     "text": [
      "C:\\Users\\redoc\\AppData\\Local\\Temp\\ipykernel_142600\\177395902.py:2: DeprecationWarning: executable_path has been deprecated, please pass in a Service object\n",
      "  wd = webdriver.Chrome(ChromeDriverManager().install())\n"
     ]
    }
   ],
   "source": [
    "# install webdriver for Chrome with ChromeDriverManager\n",
    "wd = webdriver.Chrome(ChromeDriverManager().install())\n",
    "\n",
    "url = \"https://www.the-numbers.com/movie/budgets/all/101\"\n",
    "\n",
    "wd.get(url)"
   ]
  },
  {
   "cell_type": "code",
   "execution_count": 73,
   "metadata": {},
   "outputs": [],
   "source": [
    "movies_all = []"
   ]
  },
  {
   "cell_type": "code",
   "execution_count": 78,
   "metadata": {},
   "outputs": [
    {
     "data": {
      "text/plain": [
       "[\"//*[@id='page_filling_chart']/center/table/tbody/tr[2]\",\n",
       " \"//*[@id='page_filling_chart']/center/table/tbody/tr[3]\",\n",
       " \"//*[@id='page_filling_chart']/center/table/tbody/tr[4]\",\n",
       " \"//*[@id='page_filling_chart']/center/table/tbody/tr[5]\",\n",
       " \"//*[@id='page_filling_chart']/center/table/tbody/tr[6]\"]"
      ]
     },
     "execution_count": 78,
     "metadata": {},
     "output_type": "execute_result"
    }
   ],
   "source": [
    "row_xpath[0:5]"
   ]
  },
  {
   "cell_type": "code",
   "execution_count": 81,
   "metadata": {},
   "outputs": [
    {
     "name": "stdout",
     "output_type": "stream",
     "text": [
      "//*[@id='page_filling_chart']/center/table/tbody/tr[2]\n",
      "//*[@id='page_filling_chart']/center/table/tbody/tr[3]\n",
      "//*[@id='page_filling_chart']/center/table/tbody/tr[4]\n",
      "//*[@id='page_filling_chart']/center/table/tbody/tr[5]\n",
      "//*[@id='page_filling_chart']/center/table/tbody/tr[6]\n"
     ]
    }
   ],
   "source": [
    "for row_ in row_xpath[0:5]:\n",
    "    print(row_)\n",
    "    #print(wd.find_element(\"xpath\", row_+\"td[4]\").text)"
   ]
  },
  {
   "cell_type": "code",
   "execution_count": 83,
   "metadata": {},
   "outputs": [],
   "source": [
    "for row_ in row_xpath:\n",
    "    movie = {}\n",
    "    movie['Title'] = wd.find_element(\"xpath\", row_+\"/td[3]/b/a\").text\n",
    "    movie['Budget'] = wd.find_element(\"xpath\", row_+\"/td[4]\").text\n",
    "    movie['Worldwide'] = wd.find_element(\"xpath\", row_+\"/td[6]\").text\n",
    "    movie['Domestic'] = wd.find_element(\"xpath\", row_+\"/td[5]\").text\n",
    "    movie['Release'] = wd.find_element(\"xpath\", row_+\"/td[2]/a\").text\n",
    "    movies_all.append(movie)"
   ]
  },
  {
   "cell_type": "code",
   "execution_count": 84,
   "metadata": {},
   "outputs": [
    {
     "data": {
      "text/html": [
       "<div>\n",
       "<style scoped>\n",
       "    .dataframe tbody tr th:only-of-type {\n",
       "        vertical-align: middle;\n",
       "    }\n",
       "\n",
       "    .dataframe tbody tr th {\n",
       "        vertical-align: top;\n",
       "    }\n",
       "\n",
       "    .dataframe thead th {\n",
       "        text-align: right;\n",
       "    }\n",
       "</style>\n",
       "<table border=\"1\" class=\"dataframe\">\n",
       "  <thead>\n",
       "    <tr style=\"text-align: right;\">\n",
       "      <th></th>\n",
       "      <th>Title</th>\n",
       "      <th>Budget</th>\n",
       "      <th>Worldwide</th>\n",
       "      <th>Domestic</th>\n",
       "      <th>Release</th>\n",
       "    </tr>\n",
       "  </thead>\n",
       "  <tbody>\n",
       "    <tr>\n",
       "      <th>0</th>\n",
       "      <td>Indiana Jones and the Kingdom of the Crystal S...</td>\n",
       "      <td>$185,000,000</td>\n",
       "      <td>$786,635,413</td>\n",
       "      <td>$317,101,119</td>\n",
       "      <td>May 22, 2008</td>\n",
       "    </tr>\n",
       "    <tr>\n",
       "      <th>1</th>\n",
       "      <td>Brave</td>\n",
       "      <td>$185,000,000</td>\n",
       "      <td>$554,606,532</td>\n",
       "      <td>$237,282,182</td>\n",
       "      <td>Jun 21, 2012</td>\n",
       "    </tr>\n",
       "    <tr>\n",
       "      <th>2</th>\n",
       "      <td>Kong: Skull Island</td>\n",
       "      <td>$185,000,000</td>\n",
       "      <td>$561,072,059</td>\n",
       "      <td>$168,052,812</td>\n",
       "      <td>Feb 23, 2017</td>\n",
       "    </tr>\n",
       "    <tr>\n",
       "      <th>3</th>\n",
       "      <td>Star Trek Beyond</td>\n",
       "      <td>$185,000,000</td>\n",
       "      <td>$335,673,708</td>\n",
       "      <td>$158,848,340</td>\n",
       "      <td>Jul 21, 2016</td>\n",
       "    </tr>\n",
       "    <tr>\n",
       "      <th>4</th>\n",
       "      <td>Maleficent: Mistress of Evil</td>\n",
       "      <td>$185,000,000</td>\n",
       "      <td>$489,181,357</td>\n",
       "      <td>$113,929,605</td>\n",
       "      <td>Oct 17, 2019</td>\n",
       "    </tr>\n",
       "    <tr>\n",
       "      <th>...</th>\n",
       "      <td>...</td>\n",
       "      <td>...</td>\n",
       "      <td>...</td>\n",
       "      <td>...</td>\n",
       "      <td>...</td>\n",
       "    </tr>\n",
       "    <tr>\n",
       "      <th>95</th>\n",
       "      <td>Harry Potter and the Goblet of Fire</td>\n",
       "      <td>$150,000,000</td>\n",
       "      <td>$886,742,787</td>\n",
       "      <td>$290,201,752</td>\n",
       "      <td>Nov 18, 2005</td>\n",
       "    </tr>\n",
       "    <tr>\n",
       "      <th>96</th>\n",
       "      <td>The Matrix Reloaded</td>\n",
       "      <td>$150,000,000</td>\n",
       "      <td>$738,576,929</td>\n",
       "      <td>$281,553,689</td>\n",
       "      <td>May 15, 2003</td>\n",
       "    </tr>\n",
       "    <tr>\n",
       "      <th>97</th>\n",
       "      <td>I am Legend</td>\n",
       "      <td>$150,000,000</td>\n",
       "      <td>$585,532,684</td>\n",
       "      <td>$256,393,010</td>\n",
       "      <td>Dec 14, 2007</td>\n",
       "    </tr>\n",
       "    <tr>\n",
       "      <th>98</th>\n",
       "      <td>Moana</td>\n",
       "      <td>$150,000,000</td>\n",
       "      <td>$631,499,621</td>\n",
       "      <td>$248,757,044</td>\n",
       "      <td>Jan 27, 2016</td>\n",
       "    </tr>\n",
       "    <tr>\n",
       "      <th>99</th>\n",
       "      <td>Hancock</td>\n",
       "      <td>$150,000,000</td>\n",
       "      <td>$624,234,272</td>\n",
       "      <td>$227,946,274</td>\n",
       "      <td>Jul 1, 2008</td>\n",
       "    </tr>\n",
       "  </tbody>\n",
       "</table>\n",
       "<p>100 rows × 5 columns</p>\n",
       "</div>"
      ],
      "text/plain": [
       "                                                Title         Budget  \\\n",
       "0   Indiana Jones and the Kingdom of the Crystal S...   $185,000,000   \n",
       "1                                               Brave   $185,000,000   \n",
       "2                                  Kong: Skull Island   $185,000,000   \n",
       "3                                    Star Trek Beyond   $185,000,000   \n",
       "4                        Maleficent: Mistress of Evil   $185,000,000   \n",
       "..                                                ...            ...   \n",
       "95                Harry Potter and the Goblet of Fire   $150,000,000   \n",
       "96                                The Matrix Reloaded   $150,000,000   \n",
       "97                                        I am Legend   $150,000,000   \n",
       "98                                              Moana   $150,000,000   \n",
       "99                                            Hancock   $150,000,000   \n",
       "\n",
       "        Worldwide       Domestic       Release  \n",
       "0    $786,635,413   $317,101,119  May 22, 2008  \n",
       "1    $554,606,532   $237,282,182  Jun 21, 2012  \n",
       "2    $561,072,059   $168,052,812  Feb 23, 2017  \n",
       "3    $335,673,708   $158,848,340  Jul 21, 2016  \n",
       "4    $489,181,357   $113,929,605  Oct 17, 2019  \n",
       "..            ...            ...           ...  \n",
       "95   $886,742,787   $290,201,752  Nov 18, 2005  \n",
       "96   $738,576,929   $281,553,689  May 15, 2003  \n",
       "97   $585,532,684   $256,393,010  Dec 14, 2007  \n",
       "98   $631,499,621   $248,757,044  Jan 27, 2016  \n",
       "99   $624,234,272   $227,946,274   Jul 1, 2008  \n",
       "\n",
       "[100 rows x 5 columns]"
      ]
     },
     "execution_count": 84,
     "metadata": {},
     "output_type": "execute_result"
    }
   ],
   "source": [
    "pd.DataFrame(movies_all)"
   ]
  }
 ],
 "metadata": {
  "kernelspec": {
   "display_name": "Python 3",
   "language": "python",
   "name": "python3"
  },
  "language_info": {
   "codemirror_mode": {
    "name": "ipython",
    "version": 3
   },
   "file_extension": ".py",
   "mimetype": "text/x-python",
   "name": "python",
   "nbconvert_exporter": "python",
   "pygments_lexer": "ipython3",
   "version": "3.10.5"
  },
  "orig_nbformat": 4,
  "vscode": {
   "interpreter": {
    "hash": "f1131d84b9e97d700f196cec3f143c1c5ca4787d89ba01101505d30befb8a4c0"
   }
  }
 },
 "nbformat": 4,
 "nbformat_minor": 2
}
