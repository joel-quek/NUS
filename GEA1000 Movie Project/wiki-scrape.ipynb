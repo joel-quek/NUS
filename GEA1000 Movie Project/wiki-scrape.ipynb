{
 "cells": [
  {
   "cell_type": "code",
   "execution_count": 1,
   "metadata": {},
   "outputs": [],
   "source": [
    "from selenium import webdriver\n",
    "import pandas as pd\n",
    "from bs4 import BeautifulSoup as bs\n",
    "from pprint import pprint\n",
    "import numpy as np"
   ]
  },
  {
   "cell_type": "code",
   "execution_count": 2,
   "metadata": {},
   "outputs": [],
   "source": [
    "from webdriver_manager.chrome import ChromeDriverManager"
   ]
  },
  {
   "cell_type": "code",
   "execution_count": 5,
   "metadata": {},
   "outputs": [
    {
     "name": "stderr",
     "output_type": "stream",
     "text": [
      "C:\\Users\\redoc\\AppData\\Local\\Temp\\ipykernel_157988\\3832095755.py:1: DeprecationWarning: executable_path has been deprecated, please pass in a Service object\n",
      "  wd = webdriver.Chrome(ChromeDriverManager().install())\n"
     ]
    }
   ],
   "source": [
    "wd = webdriver.Chrome(ChromeDriverManager().install())"
   ]
  },
  {
   "attachments": {},
   "cell_type": "markdown",
   "metadata": {},
   "source": [
    "# 1. Action Films"
   ]
  },
  {
   "cell_type": "code",
   "execution_count": 6,
   "metadata": {},
   "outputs": [],
   "source": [
    "url = \"https://en.wikipedia.org/wiki/Lists_of_action_films\""
   ]
  },
  {
   "cell_type": "code",
   "execution_count": 7,
   "metadata": {},
   "outputs": [],
   "source": [
    "wd.get(url)"
   ]
  },
  {
   "cell_type": "code",
   "execution_count": 8,
   "metadata": {},
   "outputs": [
    {
     "data": {
      "text/plain": [
       "'https://en.wikipedia.org/wiki/List_of_action_films_of_the_1960s'"
      ]
     },
     "execution_count": 8,
     "metadata": {},
     "output_type": "execute_result"
    }
   ],
   "source": [
    "wd.find_element(\"xpath\", \"//*[@id='mw-content-text']/div[1]/ul[1]/li[1]/a\").get_attribute(\"href\")"
   ]
  },
  {
   "cell_type": "code",
   "execution_count": 9,
   "metadata": {},
   "outputs": [
    {
     "data": {
      "text/plain": [
       "'https://en.wikipedia.org/wiki/List_of_action_films_of_the_1970s'"
      ]
     },
     "execution_count": 9,
     "metadata": {},
     "output_type": "execute_result"
    }
   ],
   "source": [
    "wd.find_element(\"xpath\", \"//*[@id='mw-content-text']/div[1]/ul[1]/li[2]/a\").get_attribute(\"href\")"
   ]
  },
  {
   "attachments": {},
   "cell_type": "markdown",
   "metadata": {},
   "source": [
    "## Generate Decade List"
   ]
  },
  {
   "cell_type": "code",
   "execution_count": 10,
   "metadata": {},
   "outputs": [
    {
     "data": {
      "text/plain": [
       "array([1960, 1970, 1980, 1990, 2000, 2010, 2020])"
      ]
     },
     "execution_count": 10,
     "metadata": {},
     "output_type": "execute_result"
    }
   ],
   "source": [
    "np.arange(1960, 2021, 10)"
   ]
  },
  {
   "cell_type": "code",
   "execution_count": 9,
   "metadata": {},
   "outputs": [
    {
     "data": {
      "text/plain": [
       "['https://en.wikipedia.org/wiki/List_of_action_films_of_the_1960s',\n",
       " 'https://en.wikipedia.org/wiki/List_of_action_films_of_the_1970s',\n",
       " 'https://en.wikipedia.org/wiki/List_of_action_films_of_the_1980s',\n",
       " 'https://en.wikipedia.org/wiki/List_of_action_films_of_the_1990s',\n",
       " 'https://en.wikipedia.org/wiki/List_of_action_films_of_the_2000s',\n",
       " 'https://en.wikipedia.org/wiki/List_of_action_films_of_the_2010s',\n",
       " 'https://en.wikipedia.org/wiki/List_of_action_films_of_the_2020s']"
      ]
     },
     "execution_count": 9,
     "metadata": {},
     "output_type": "execute_result"
    }
   ],
   "source": [
    "url_action_list = []\n",
    "\n",
    "for i in np.arange(1960, 2021, 10):\n",
    "    url_ = 'https://en.wikipedia.org/wiki/List_of_action_films_of_the_'+str(i)+'s'\n",
    "    url_action_list.append(url_)\n",
    "\n",
    "url_action_list"
   ]
  },
  {
   "attachments": {},
   "cell_type": "markdown",
   "metadata": {},
   "source": [
    "## Check Each Website for Data XPaths"
   ]
  },
  {
   "attachments": {},
   "cell_type": "markdown",
   "metadata": {},
   "source": [
    "### Base XPath\n",
    "\n",
    "//*[@id=\"mw-content-text\"]/div[1]/table[2]/tbody/tr[index]\n",
    "\n",
    "Ball park I am going to use 300 movies per decade as the gauge."
   ]
  },
  {
   "cell_type": "code",
   "execution_count": 10,
   "metadata": {},
   "outputs": [],
   "source": [
    "row_xpath = np.arange(0,300,1)"
   ]
  },
  {
   "cell_type": "code",
   "execution_count": 11,
   "metadata": {},
   "outputs": [
    {
     "data": {
      "text/plain": [
       "array([  0,   1,   2,   3,   4,   5,   6,   7,   8,   9,  10,  11,  12,\n",
       "        13,  14,  15,  16,  17,  18,  19,  20,  21,  22,  23,  24,  25,\n",
       "        26,  27,  28,  29,  30,  31,  32,  33,  34,  35,  36,  37,  38,\n",
       "        39,  40,  41,  42,  43,  44,  45,  46,  47,  48,  49,  50,  51,\n",
       "        52,  53,  54,  55,  56,  57,  58,  59,  60,  61,  62,  63,  64,\n",
       "        65,  66,  67,  68,  69,  70,  71,  72,  73,  74,  75,  76,  77,\n",
       "        78,  79,  80,  81,  82,  83,  84,  85,  86,  87,  88,  89,  90,\n",
       "        91,  92,  93,  94,  95,  96,  97,  98,  99, 100, 101, 102, 103,\n",
       "       104, 105, 106, 107, 108, 109, 110, 111, 112, 113, 114, 115, 116,\n",
       "       117, 118, 119, 120, 121, 122, 123, 124, 125, 126, 127, 128, 129,\n",
       "       130, 131, 132, 133, 134, 135, 136, 137, 138, 139, 140, 141, 142,\n",
       "       143, 144, 145, 146, 147, 148, 149, 150, 151, 152, 153, 154, 155,\n",
       "       156, 157, 158, 159, 160, 161, 162, 163, 164, 165, 166, 167, 168,\n",
       "       169, 170, 171, 172, 173, 174, 175, 176, 177, 178, 179, 180, 181,\n",
       "       182, 183, 184, 185, 186, 187, 188, 189, 190, 191, 192, 193, 194,\n",
       "       195, 196, 197, 198, 199, 200, 201, 202, 203, 204, 205, 206, 207,\n",
       "       208, 209, 210, 211, 212, 213, 214, 215, 216, 217, 218, 219, 220,\n",
       "       221, 222, 223, 224, 225, 226, 227, 228, 229, 230, 231, 232, 233,\n",
       "       234, 235, 236, 237, 238, 239, 240, 241, 242, 243, 244, 245, 246,\n",
       "       247, 248, 249, 250, 251, 252, 253, 254, 255, 256, 257, 258, 259,\n",
       "       260, 261, 262, 263, 264, 265, 266, 267, 268, 269, 270, 271, 272,\n",
       "       273, 274, 275, 276, 277, 278, 279, 280, 281, 282, 283, 284, 285,\n",
       "       286, 287, 288, 289, 290, 291, 292, 293, 294, 295, 296, 297, 298,\n",
       "       299])"
      ]
     },
     "execution_count": 11,
     "metadata": {},
     "output_type": "execute_result"
    }
   ],
   "source": [
    "row_xpath"
   ]
  },
  {
   "attachments": {},
   "cell_type": "markdown",
   "metadata": {},
   "source": [
    "### Title XPaths\n",
    "\n",
    "//*[@id=\"mw-content-text\"]/div[1]/table[2]/tbody/tr[3]/td[1]/i/b/a\n",
    "\n",
    "//*[@id=\"mw-content-text\"]/div[1]/table[2]/tbody/tr[4]/td[1]/i/b/a\n",
    "\n",
    "//*[@id=\"mw-content-text\"]/div[1]/table[2]/tbody/tr[8]/td[1]/i/b/a\n",
    "\n",
    "//*[@id=\"mw-content-text\"]/div[1]/table[2]/tbody/tr[254]/td[1]/i/b/a\n",
    "\n",
    "tr[ ] indicates the indexing of rows, BUT not all rows have titles - so use TRY-EXCEPT\n",
    "\n",
    "All Xpath for Title ends with **td[1]/i/b/a**\n"
   ]
  },
  {
   "cell_type": "code",
   "execution_count": 12,
   "metadata": {},
   "outputs": [],
   "source": [
    "wd.get(url_action_list[1])"
   ]
  },
  {
   "cell_type": "code",
   "execution_count": 13,
   "metadata": {},
   "outputs": [],
   "source": [
    "title_ = wd.find_element(\"xpath\", \"//*[@id='mw-content-text']/div[1]/table[2]/tbody/tr[254]/td[1]/i/b/a\").text"
   ]
  },
  {
   "cell_type": "code",
   "execution_count": 14,
   "metadata": {},
   "outputs": [
    {
     "data": {
      "text/plain": [
       "'Ten Tigers from Kwangtung'"
      ]
     },
     "execution_count": 14,
     "metadata": {},
     "output_type": "execute_result"
    }
   ],
   "source": [
    "title_"
   ]
  },
  {
   "attachments": {},
   "cell_type": "markdown",
   "metadata": {},
   "source": [
    "### Country"
   ]
  },
  {
   "attachments": {},
   "cell_type": "markdown",
   "metadata": {},
   "source": [
    "//*[@id=\"mw-content-text\"]/div[1]/table[2]/tbody/tr[3]/td[4]\n",
    "\n",
    "//*[@id=\"mw-content-text\"]/div[1]/table[2]/tbody/tr[18]/td[4]\n",
    "\n",
    "//*[@id=\"mw-content-text\"]/div[1]/table[2]/tbody/tr[34]/td[4]\n",
    "\n",
    "Xpath for country ends with **td[4]**"
   ]
  },
  {
   "cell_type": "code",
   "execution_count": 15,
   "metadata": {},
   "outputs": [
    {
     "data": {
      "text/plain": [
       "'Hong Kong'"
      ]
     },
     "execution_count": 15,
     "metadata": {},
     "output_type": "execute_result"
    }
   ],
   "source": [
    "title_ = wd.find_element(\"xpath\", \"//*[@id='mw-content-text']/div[1]/table[2]/tbody/tr[254]/td[4]\").text\n",
    "\n",
    "title_"
   ]
  },
  {
   "attachments": {},
   "cell_type": "markdown",
   "metadata": {},
   "source": [
    "### Subgenre"
   ]
  },
  {
   "attachments": {},
   "cell_type": "markdown",
   "metadata": {},
   "source": [
    "//*[@id=\"mw-content-text\"]/div[1]/table[2]/tbody/tr[5]/td[5]\n",
    "\n",
    "//*[@id=\"mw-content-text\"]/div[1]/table[2]/tbody/tr[17]/td[5]\n",
    "\n",
    "Xpath for Subgenre ends with **td[5]**"
   ]
  },
  {
   "cell_type": "code",
   "execution_count": 16,
   "metadata": {},
   "outputs": [
    {
     "data": {
      "text/plain": [
       "'Martial arts film[7]'"
      ]
     },
     "execution_count": 16,
     "metadata": {},
     "output_type": "execute_result"
    }
   ],
   "source": [
    "title_ = wd.find_element(\"xpath\", \"//*[@id='mw-content-text']/div[1]/table[2]/tbody/tr[17]/td[5]\").text\n",
    "\n",
    "title_"
   ]
  },
  {
   "attachments": {},
   "cell_type": "markdown",
   "metadata": {},
   "source": [
    "---"
   ]
  },
  {
   "cell_type": "code",
   "execution_count": 17,
   "metadata": {},
   "outputs": [],
   "source": [
    "action_movies = []"
   ]
  },
  {
   "cell_type": "code",
   "execution_count": 18,
   "metadata": {},
   "outputs": [],
   "source": [
    "for i in url_action_list:\n",
    "    wd.get(i)\n",
    "\n",
    "    for row_ in row_xpath:\n",
    "        movie = {}\n",
    "        try:\n",
    "            movie['Title'] = wd.find_element(\"xpath\", \"//*[@id='mw-content-text']/div[1]/table[2]/tbody/tr[\"+str(row_)+\"]/td[1]/i/b/a\").text\n",
    "            movie['Country'] = wd.find_element(\"xpath\", \"//*[@id='mw-content-text']/div[1]/table[2]/tbody/tr[\"+str(row_)+\"]/td[4]\").text\n",
    "            movie['Subgenre'] = wd.find_element(\"xpath\", \"//*[@id='mw-content-text']/div[1]/table[2]/tbody/tr[\"+str(row_)+\"]/td[5]\").text\n",
    "        except:\n",
    "            pass\n",
    "        action_movies.append(movie)"
   ]
  },
  {
   "cell_type": "code",
   "execution_count": null,
   "metadata": {},
   "outputs": [],
   "source": [
    "action_movies_df = pd.DataFrame(action_movies)"
   ]
  },
  {
   "cell_type": "code",
   "execution_count": null,
   "metadata": {},
   "outputs": [],
   "source": [
    "action_movies_df.dropna(axis = 0, how = 'all', inplace = True)"
   ]
  },
  {
   "cell_type": "code",
   "execution_count": null,
   "metadata": {},
   "outputs": [],
   "source": [
    "action_movies_df.to_csv(\"Action_Movie_Scrape.csv\")"
   ]
  },
  {
   "attachments": {},
   "cell_type": "markdown",
   "metadata": {},
   "source": [
    "---"
   ]
  },
  {
   "cell_type": "code",
   "execution_count": 11,
   "metadata": {},
   "outputs": [],
   "source": [
    "df = pd.read_csv('Action_Movie_Scrape.csv')"
   ]
  },
  {
   "cell_type": "code",
   "execution_count": 12,
   "metadata": {},
   "outputs": [],
   "source": [
    "df['Genre']='Action'"
   ]
  },
  {
   "cell_type": "code",
   "execution_count": 13,
   "metadata": {},
   "outputs": [
    {
     "data": {
      "text/html": [
       "<div>\n",
       "<style scoped>\n",
       "    .dataframe tbody tr th:only-of-type {\n",
       "        vertical-align: middle;\n",
       "    }\n",
       "\n",
       "    .dataframe tbody tr th {\n",
       "        vertical-align: top;\n",
       "    }\n",
       "\n",
       "    .dataframe thead th {\n",
       "        text-align: right;\n",
       "    }\n",
       "</style>\n",
       "<table border=\"1\" class=\"dataframe\">\n",
       "  <thead>\n",
       "    <tr style=\"text-align: right;\">\n",
       "      <th></th>\n",
       "      <th>Unnamed: 0</th>\n",
       "      <th>Title</th>\n",
       "      <th>Country</th>\n",
       "      <th>Subgenre</th>\n",
       "      <th>Genre</th>\n",
       "    </tr>\n",
       "  </thead>\n",
       "  <tbody>\n",
       "    <tr>\n",
       "      <th>0</th>\n",
       "      <td>3</td>\n",
       "      <td>Dr. No</td>\n",
       "      <td>United Kingdom\\nUnited States</td>\n",
       "      <td>[3]</td>\n",
       "      <td>Action</td>\n",
       "    </tr>\n",
       "    <tr>\n",
       "      <th>1</th>\n",
       "      <td>4</td>\n",
       "      <td>Shinobi no Mono</td>\n",
       "      <td>Japan</td>\n",
       "      <td>Martial arts film[4]</td>\n",
       "      <td>Action</td>\n",
       "    </tr>\n",
       "    <tr>\n",
       "      <th>2</th>\n",
       "      <td>6</td>\n",
       "      <td>From Russia with Love</td>\n",
       "      <td>United Kingdom\\nUnited States</td>\n",
       "      <td>[5]</td>\n",
       "      <td>Action</td>\n",
       "    </tr>\n",
       "    <tr>\n",
       "      <th>3</th>\n",
       "      <td>8</td>\n",
       "      <td>Goldfinger</td>\n",
       "      <td>United Kingdom\\nUnited States</td>\n",
       "      <td>[6]</td>\n",
       "      <td>Action</td>\n",
       "    </tr>\n",
       "    <tr>\n",
       "      <th>4</th>\n",
       "      <td>9</td>\n",
       "      <td>Greed in the Sun</td>\n",
       "      <td>France\\nItaly</td>\n",
       "      <td>Action comedy[7]</td>\n",
       "      <td>Action</td>\n",
       "    </tr>\n",
       "  </tbody>\n",
       "</table>\n",
       "</div>"
      ],
      "text/plain": [
       "   Unnamed: 0                  Title                        Country  \\\n",
       "0           3                 Dr. No  United Kingdom\\nUnited States   \n",
       "1           4        Shinobi no Mono                          Japan   \n",
       "2           6  From Russia with Love  United Kingdom\\nUnited States   \n",
       "3           8             Goldfinger  United Kingdom\\nUnited States   \n",
       "4           9       Greed in the Sun                  France\\nItaly   \n",
       "\n",
       "               Subgenre   Genre  \n",
       "0                   [3]  Action  \n",
       "1  Martial arts film[4]  Action  \n",
       "2                   [5]  Action  \n",
       "3                   [6]  Action  \n",
       "4      Action comedy[7]  Action  "
      ]
     },
     "execution_count": 13,
     "metadata": {},
     "output_type": "execute_result"
    }
   ],
   "source": [
    "df.head()"
   ]
  },
  {
   "cell_type": "code",
   "execution_count": 14,
   "metadata": {},
   "outputs": [],
   "source": [
    "df.to_csv('Action_Movie_Scrape_Final.csv')"
   ]
  },
  {
   "attachments": {},
   "cell_type": "markdown",
   "metadata": {},
   "source": [
    "---"
   ]
  },
  {
   "attachments": {},
   "cell_type": "markdown",
   "metadata": {},
   "source": [
    "## Remaining Categories\n",
    "\n",
    "https://en.wikipedia.org/wiki/Lists_of_adventure_films\n",
    "\n",
    "https://en.wikipedia.org/wiki/Lists_of_comedy_films\n",
    "\n",
    "https://en.wikipedia.org/wiki/List_of_drama_films\n",
    "\n",
    "https://en.wikipedia.org/wiki/Lists_of_horror_films"
   ]
  },
  {
   "attachments": {},
   "cell_type": "markdown",
   "metadata": {},
   "source": [
    "Wiki basically has all the film data tracing back till the 1920s. Compare all their URLs\n",
    "\n",
    "https://en.wikipedia.org/wiki/List_of_adventure_films_of_the_1920s\n",
    "\n",
    "https://en.wikipedia.org/wiki/List_of_comedy_films_of_the_1920s\n",
    "\n",
    "https://en.wikipedia.org/wiki/List_of_drama_films_of_the_1920s\n",
    "\n",
    "https://en.wikipedia.org/wiki/List_of_horror_films_of_the_1920s\n",
    "\n",
    "They basically spelled out what we want."
   ]
  },
  {
   "attachments": {},
   "cell_type": "markdown",
   "metadata": {},
   "source": [
    "---"
   ]
  },
  {
   "attachments": {},
   "cell_type": "markdown",
   "metadata": {},
   "source": [
    "# Adventure Films"
   ]
  },
  {
   "attachments": {},
   "cell_type": "markdown",
   "metadata": {},
   "source": [
    "https://en.wikipedia.org/wiki/Lists_of_adventure_films"
   ]
  },
  {
   "attachments": {},
   "cell_type": "markdown",
   "metadata": {},
   "source": [
    "## XPaths\n",
    "\n",
    "**Note** table[ ] and tr[ ] are all indexed\n",
    "\n",
    "Title\n",
    "\n",
    "//*[@id=\"mw-content-text\"]/div[1]/table[2]/tbody/tr[2]/td[1]\n",
    "\n",
    "//*[@id=\"mw-content-text\"]/div[1]/table[2]/tbody/tr[8]/td[1]\n",
    "\n",
    "**td[1]**\n",
    "\n",
    "Country\n",
    "\n",
    "//*[@id=\"mw-content-text\"]/div[1]/table[2]/tbody/tr[5]/td[4]\n",
    "\n",
    "//*[@id=\"mw-content-text\"]/div[1]/table[3]/tbody/tr[8]/td[4]\n",
    "\n",
    "//*[@id=\"mw-content-text\"]/div[1]/table[11]/tbody/tr[13]/td[4]\n",
    "\n",
    "**td[4]**\n",
    "\n",
    "Subgenre\n",
    "\n",
    "//*[@id=\"mw-content-text\"]/div[1]/table[11]/tbody/tr[2]/td[5]\n",
    "\n",
    "//*[@id=\"mw-content-text\"]/div[1]/table[10]/tbody/tr[16]/td[5]\n",
    "\n",
    "**td[5]**"
   ]
  },
  {
   "attachments": {},
   "cell_type": "markdown",
   "metadata": {},
   "source": [
    "I will need to enumerate\n",
    "1. The Decades\n",
    "2. The Table Numbers\n",
    "3. The Row Indices"
   ]
  },
  {
   "cell_type": "code",
   "execution_count": 16,
   "metadata": {},
   "outputs": [
    {
     "data": {
      "text/plain": [
       "array([1950, 1960, 1970, 1980, 1990, 2000, 2010, 2020])"
      ]
     },
     "execution_count": 16,
     "metadata": {},
     "output_type": "execute_result"
    }
   ],
   "source": [
    "# Decades\n",
    "\n",
    "decades = np.arange(1950,2021,10)\n",
    "decades"
   ]
  },
  {
   "attachments": {},
   "cell_type": "markdown",
   "metadata": {},
   "source": [
    "Table Numbers\n",
    "\n",
    "First table //*[@id=\"mw-content-text\"]/div[1]/table[2]/tbody/tr[2]/td[1]/i/b/a\n",
    "\n",
    "Last Table //*[@id=\"mw-content-text\"]/div[1]/table[11]/tbody/tr[26]/td[1]"
   ]
  },
  {
   "cell_type": "code",
   "execution_count": 9,
   "metadata": {},
   "outputs": [
    {
     "data": {
      "text/plain": [
       "array([ 1,  2,  3,  4,  5,  6,  7,  8,  9, 10, 11])"
      ]
     },
     "execution_count": 9,
     "metadata": {},
     "output_type": "execute_result"
    }
   ],
   "source": [
    "# Table Numbers\n",
    "\n",
    "tables_ = np.arange(1,12,1)\n",
    "tables_"
   ]
  },
  {
   "cell_type": "code",
   "execution_count": 10,
   "metadata": {},
   "outputs": [
    {
     "data": {
      "text/plain": [
       "array([ 1,  2,  3,  4,  5,  6,  7,  8,  9, 10, 11, 12, 13, 14, 15, 16, 17,\n",
       "       18, 19, 20, 21, 22, 23, 24, 25, 26, 27, 28, 29, 30, 31, 32, 33, 34,\n",
       "       35, 36, 37, 38, 39, 40, 41, 42, 43, 44, 45, 46, 47, 48, 49, 50])"
      ]
     },
     "execution_count": 10,
     "metadata": {},
     "output_type": "execute_result"
    }
   ],
   "source": [
    "# Row Indices\n",
    "# Ball Park 50\n",
    "\n",
    "rows_ = np.arange(1,51,1)\n",
    "rows_"
   ]
  },
  {
   "attachments": {},
   "cell_type": "markdown",
   "metadata": {},
   "source": [
    "Base xpath \n",
    "\n",
    "//*[@id=\"mw-content-text\"]/div[1]/table[??]/tbody/tr[??]/"
   ]
  },
  {
   "attachments": {},
   "cell_type": "markdown",
   "metadata": {},
   "source": [
    "Base Website\n",
    "\n",
    "https://en.wikipedia.org/wiki/List_of_adventure_films_of_the_1990s"
   ]
  },
  {
   "cell_type": "code",
   "execution_count": 19,
   "metadata": {},
   "outputs": [],
   "source": [
    "adventure_movies = []"
   ]
  },
  {
   "cell_type": "code",
   "execution_count": 21,
   "metadata": {},
   "outputs": [
    {
     "name": "stderr",
     "output_type": "stream",
     "text": [
      "C:\\Users\\redoc\\AppData\\Local\\Temp\\ipykernel_157988\\3832095755.py:1: DeprecationWarning: executable_path has been deprecated, please pass in a Service object\n",
      "  wd = webdriver.Chrome(ChromeDriverManager().install())\n"
     ]
    }
   ],
   "source": [
    "wd = webdriver.Chrome(ChromeDriverManager().install())"
   ]
  },
  {
   "cell_type": "code",
   "execution_count": 22,
   "metadata": {},
   "outputs": [],
   "source": [
    "for decade_ in decades:\n",
    "    wd.get('https://en.wikipedia.org/wiki/List_of_adventure_films_of_the_'+str(decade_)+'s')\n",
    "\n",
    "    for table_ in tables_:\n",
    "        for row_ in rows_:\n",
    "            adventure_movie = {}\n",
    "            try:\n",
    "                adventure_movie['Title'] = wd.find_element(\"xpath\", \"//*[@id='mw-content-text']/div[1]/table[\"+str(table_)+\"]/tbody/tr[\"+str(row_)+\"]/\"+\"td[1]\").text\n",
    "                adventure_movie['Country'] = wd.find_element(\"xpath\", \"//*[@id='mw-content-text']/div[1]/table[\"+str(table_)+\"]/tbody/tr[\"+str(row_)+\"]/\"+\"td[4]\").text\n",
    "                adventure_movie['Subgenre'] = wd.find_element(\"xpath\", \"//*[@id='mw-content-text']/div[1]/table[\"+str(table_)+\"]/tbody/tr[\"+str(row_)+\"]/\"+\"td[5]\").text\n",
    "            except:\n",
    "                pass\n",
    "            adventure_movies.append(adventure_movie)"
   ]
  },
  {
   "cell_type": "code",
   "execution_count": 23,
   "metadata": {},
   "outputs": [],
   "source": [
    "adventure_movies_df = pd.DataFrame(adventure_movies)"
   ]
  },
  {
   "cell_type": "code",
   "execution_count": 24,
   "metadata": {},
   "outputs": [],
   "source": [
    "adventure_movies_df.dropna(axis = 0, how = 'all', inplace = True) # drop rows with all NaN values"
   ]
  },
  {
   "cell_type": "code",
   "execution_count": 27,
   "metadata": {},
   "outputs": [],
   "source": [
    "adventure_movies_df['Genre']='Adventure'"
   ]
  },
  {
   "cell_type": "code",
   "execution_count": 28,
   "metadata": {},
   "outputs": [
    {
     "data": {
      "text/html": [
       "<div>\n",
       "<style scoped>\n",
       "    .dataframe tbody tr th:only-of-type {\n",
       "        vertical-align: middle;\n",
       "    }\n",
       "\n",
       "    .dataframe tbody tr th {\n",
       "        vertical-align: top;\n",
       "    }\n",
       "\n",
       "    .dataframe thead th {\n",
       "        text-align: right;\n",
       "    }\n",
       "</style>\n",
       "<table border=\"1\" class=\"dataframe\">\n",
       "  <thead>\n",
       "    <tr style=\"text-align: right;\">\n",
       "      <th></th>\n",
       "      <th>Title</th>\n",
       "      <th>Country</th>\n",
       "      <th>Subgenre</th>\n",
       "      <th>Genre</th>\n",
       "    </tr>\n",
       "  </thead>\n",
       "  <tbody>\n",
       "    <tr>\n",
       "      <th>1</th>\n",
       "      <td></td>\n",
       "      <td>NaN</td>\n",
       "      <td>NaN</td>\n",
       "      <td>Adventure</td>\n",
       "    </tr>\n",
       "    <tr>\n",
       "      <th>3</th>\n",
       "      <td>Before 1920\\n1920s\\n1930s\\n1940s\\n1950s\\n1960s...</td>\n",
       "      <td>NaN</td>\n",
       "      <td>NaN</td>\n",
       "      <td>Adventure</td>\n",
       "    </tr>\n",
       "    <tr>\n",
       "      <th>4</th>\n",
       "      <td>vte</td>\n",
       "      <td>NaN</td>\n",
       "      <td>NaN</td>\n",
       "      <td>Adventure</td>\n",
       "    </tr>\n",
       "    <tr>\n",
       "      <th>51</th>\n",
       "      <td>Abbott and Costello in the Foreign Legion</td>\n",
       "      <td>United States</td>\n",
       "      <td>Adventure comedy[1]</td>\n",
       "      <td>Adventure</td>\n",
       "    </tr>\n",
       "    <tr>\n",
       "      <th>52</th>\n",
       "      <td>The Avengers</td>\n",
       "      <td>United States</td>\n",
       "      <td>[2][3]</td>\n",
       "      <td>Adventure</td>\n",
       "    </tr>\n",
       "    <tr>\n",
       "      <th>53</th>\n",
       "      <td>Les Aventuriers de l'air [fr]</td>\n",
       "      <td>France</td>\n",
       "      <td>[4][unreliable source?]</td>\n",
       "      <td>Adventure</td>\n",
       "    </tr>\n",
       "    <tr>\n",
       "      <th>54</th>\n",
       "      <td>The Bandit Queen</td>\n",
       "      <td>United States</td>\n",
       "      <td>Western[5]</td>\n",
       "      <td>Adventure</td>\n",
       "    </tr>\n",
       "    <tr>\n",
       "      <th>55</th>\n",
       "      <td>Bitter Springs</td>\n",
       "      <td>Australia\\nUnited Kingdom</td>\n",
       "      <td>[6]</td>\n",
       "      <td>Adventure</td>\n",
       "    </tr>\n",
       "    <tr>\n",
       "      <th>56</th>\n",
       "      <td>Black Jack</td>\n",
       "      <td>France\\nUnited States\\nSpain</td>\n",
       "      <td>Sea adventure[7][unreliable source?]</td>\n",
       "      <td>Adventure</td>\n",
       "    </tr>\n",
       "    <tr>\n",
       "      <th>57</th>\n",
       "      <td>The Black Rose</td>\n",
       "      <td>United States</td>\n",
       "      <td>[8]</td>\n",
       "      <td>Adventure</td>\n",
       "    </tr>\n",
       "  </tbody>\n",
       "</table>\n",
       "</div>"
      ],
      "text/plain": [
       "                                                Title  \\\n",
       "1                                                       \n",
       "3   Before 1920\\n1920s\\n1930s\\n1940s\\n1950s\\n1960s...   \n",
       "4                                                 vte   \n",
       "51          Abbott and Costello in the Foreign Legion   \n",
       "52                                       The Avengers   \n",
       "53                      Les Aventuriers de l'air [fr]   \n",
       "54                                   The Bandit Queen   \n",
       "55                                     Bitter Springs   \n",
       "56                                         Black Jack   \n",
       "57                                     The Black Rose   \n",
       "\n",
       "                         Country                              Subgenre  \\\n",
       "1                            NaN                                   NaN   \n",
       "3                            NaN                                   NaN   \n",
       "4                            NaN                                   NaN   \n",
       "51                 United States                   Adventure comedy[1]   \n",
       "52                 United States                                [2][3]   \n",
       "53                        France               [4][unreliable source?]   \n",
       "54                 United States                            Western[5]   \n",
       "55     Australia\\nUnited Kingdom                                   [6]   \n",
       "56  France\\nUnited States\\nSpain  Sea adventure[7][unreliable source?]   \n",
       "57                 United States                                   [8]   \n",
       "\n",
       "        Genre  \n",
       "1   Adventure  \n",
       "3   Adventure  \n",
       "4   Adventure  \n",
       "51  Adventure  \n",
       "52  Adventure  \n",
       "53  Adventure  \n",
       "54  Adventure  \n",
       "55  Adventure  \n",
       "56  Adventure  \n",
       "57  Adventure  "
      ]
     },
     "execution_count": 28,
     "metadata": {},
     "output_type": "execute_result"
    }
   ],
   "source": [
    "adventure_movies_df.head(10)"
   ]
  },
  {
   "cell_type": "code",
   "execution_count": 29,
   "metadata": {},
   "outputs": [],
   "source": [
    "adventure_movies_df.to_csv('Adventure_Movie_Scrape_Final.csv')"
   ]
  },
  {
   "attachments": {},
   "cell_type": "markdown",
   "metadata": {},
   "source": [
    "---"
   ]
  },
  {
   "attachments": {},
   "cell_type": "markdown",
   "metadata": {},
   "source": [
    "# Comedy Films"
   ]
  },
  {
   "attachments": {},
   "cell_type": "markdown",
   "metadata": {},
   "source": [
    "https://en.wikipedia.org/wiki/Lists_of_comedy_films"
   ]
  },
  {
   "attachments": {},
   "cell_type": "markdown",
   "metadata": {},
   "source": [
    "## XPaths\n",
    "\n",
    "**Note** table[ ] and tr[ ] are all indexed\n",
    "\n",
    "Title\n",
    "\n",
    "//*[@id=\"mw-content-text\"]/div[1]/table[3]/tbody/tr[8]/td[1]\n",
    "\n",
    "//*[@id=\"mw-content-text\"]/div[1]/table[3]/tbody/tr[17]/td[1]\n",
    "\n",
    "**td[1]**\n",
    "\n",
    "Country\n",
    "\n",
    "//*[@id=\"mw-content-text\"]/div[1]/table[3]/tbody/tr[14]/td[4]\n",
    "\n",
    "//*[@id=\"mw-content-text\"]/div[1]/table[3]/tbody/tr[35]/td[4]\n",
    "\n",
    "**td[4]**\n",
    "\n",
    "Subgenre\n",
    "\n",
    "//*[@id=\"mw-content-text\"]/div[1]/table[3]/tbody/tr[15]/td[5]\n",
    "\n",
    "//*[@id=\"mw-content-text\"]/div[1]/table[3]/tbody/tr[69]/td[5]\n",
    "\n",
    "**td[5]**"
   ]
  },
  {
   "cell_type": "code",
   "execution_count": 30,
   "metadata": {},
   "outputs": [],
   "source": [
    "comedy_movies = []"
   ]
  },
  {
   "cell_type": "code",
   "execution_count": 31,
   "metadata": {},
   "outputs": [
    {
     "name": "stderr",
     "output_type": "stream",
     "text": [
      "C:\\Users\\redoc\\AppData\\Local\\Temp\\ipykernel_157988\\3832095755.py:1: DeprecationWarning: executable_path has been deprecated, please pass in a Service object\n",
      "  wd = webdriver.Chrome(ChromeDriverManager().install())\n"
     ]
    }
   ],
   "source": [
    "wd = webdriver.Chrome(ChromeDriverManager().install())"
   ]
  },
  {
   "cell_type": "code",
   "execution_count": 32,
   "metadata": {},
   "outputs": [],
   "source": [
    "for decade_ in decades:\n",
    "    wd.get('https://en.wikipedia.org/wiki/List_of_comedy_films_of_the_'+str(decade_)+'s')\n",
    "\n",
    "    for table_ in tables_:\n",
    "        for row_ in rows_:\n",
    "            comedy_movie = {}\n",
    "            try:\n",
    "                comedy_movie['Title'] = wd.find_element(\"xpath\", \"//*[@id='mw-content-text']/div[1]/table[\"+str(table_)+\"]/tbody/tr[\"+str(row_)+\"]/\"+\"td[1]\").text\n",
    "                comedy_movie['Country'] = wd.find_element(\"xpath\", \"//*[@id='mw-content-text']/div[1]/table[\"+str(table_)+\"]/tbody/tr[\"+str(row_)+\"]/\"+\"td[4]\").text\n",
    "                comedy_movie['Subgenre'] = wd.find_element(\"xpath\", \"//*[@id='mw-content-text']/div[1]/table[\"+str(table_)+\"]/tbody/tr[\"+str(row_)+\"]/\"+\"td[5]\").text\n",
    "            except:\n",
    "                pass\n",
    "            comedy_movies.append(comedy_movie)"
   ]
  },
  {
   "cell_type": "code",
   "execution_count": 33,
   "metadata": {},
   "outputs": [],
   "source": [
    "comedy_movies_df = pd.DataFrame(comedy_movies)\n",
    "\n",
    "comedy_movies_df.dropna(axis = 0, how = 'all', inplace = True) # drop rows with all NaN values\n",
    "\n",
    "comedy_movies_df['Genre']='Comedy'\n",
    "\n",
    "comedy_movies_df.head()\n",
    "\n",
    "comedy_movies_df.to_csv('Comedy_Movie_Scrape_Final.csv')"
   ]
  },
  {
   "attachments": {},
   "cell_type": "markdown",
   "metadata": {},
   "source": [
    "---"
   ]
  },
  {
   "attachments": {},
   "cell_type": "markdown",
   "metadata": {},
   "source": [
    "# Drama Films"
   ]
  },
  {
   "attachments": {},
   "cell_type": "markdown",
   "metadata": {},
   "source": [
    "https://en.wikipedia.org/wiki/List_of_drama_films"
   ]
  },
  {
   "attachments": {},
   "cell_type": "markdown",
   "metadata": {},
   "source": [
    "The drama films listed are not intable format. Scrape last."
   ]
  },
  {
   "attachments": {},
   "cell_type": "markdown",
   "metadata": {},
   "source": [
    "---"
   ]
  },
  {
   "attachments": {},
   "cell_type": "markdown",
   "metadata": {},
   "source": [
    "# Horror Films"
   ]
  },
  {
   "attachments": {},
   "cell_type": "markdown",
   "metadata": {},
   "source": [
    "https://en.wikipedia.org/wiki/Lists_of_horror_films"
   ]
  },
  {
   "attachments": {},
   "cell_type": "markdown",
   "metadata": {},
   "source": [
    "URL Formats\n",
    "\n",
    "https://en.wikipedia.org/wiki/List_of_horror_films_of_2000\n",
    "\n",
    "https://en.wikipedia.org/wiki/List_of_horror_films_of_1984\n",
    "\n",
    "They end by the year"
   ]
  },
  {
   "cell_type": "code",
   "execution_count": 6,
   "metadata": {},
   "outputs": [
    {
     "data": {
      "text/plain": [
       "array([1960, 1961, 1962, 1963, 1964, 1965, 1966, 1967, 1968, 1969, 1970,\n",
       "       1971, 1972, 1973, 1974, 1975, 1976, 1977, 1978, 1979, 1980, 1981,\n",
       "       1982, 1983, 1984, 1985, 1986, 1987, 1988, 1989, 1990, 1991, 1992,\n",
       "       1993, 1994, 1995, 1996, 1997, 1998, 1999, 2000, 2001, 2002, 2003,\n",
       "       2004, 2005, 2006, 2007, 2008, 2009, 2010, 2011, 2012, 2013, 2014,\n",
       "       2015, 2016, 2017, 2018, 2019, 2020, 2021])"
      ]
     },
     "execution_count": 6,
     "metadata": {},
     "output_type": "execute_result"
    }
   ],
   "source": [
    "# Enumerate Years\n",
    "\n",
    "years_ = np.arange(1960,2022,1)\n",
    "years_"
   ]
  },
  {
   "attachments": {},
   "cell_type": "markdown",
   "metadata": {},
   "source": [
    "XPath\n",
    "\n",
    "Title\n",
    "\n",
    "//*[@id=\"mw-content-text\"]/div[1]/table[2]/tbody/tr[1]/th\n",
    "\n",
    "//*[@id=\"mw-content-text\"]/div[1]/table[2]/tbody/tr[7]/th \n",
    "\n",
    "//*[@id=\"mw-content-text\"]/div[1]/table[2]/tbody/tr[11]/th\n",
    "\n",
    "Country\n",
    "\n",
    "//*[@id=\"mw-content-text\"]/div[1]/table[2]/tbody/tr[11]/td[3]\n",
    "\n",
    "//*[@id=\"mw-content-text\"]/div[1]/table[2]/tbody/tr[33]/td[3]\n",
    "\n",
    "Note: No subgenre"
   ]
  },
  {
   "cell_type": "code",
   "execution_count": 3,
   "metadata": {},
   "outputs": [],
   "source": [
    "horror_movies = []"
   ]
  },
  {
   "cell_type": "code",
   "execution_count": 4,
   "metadata": {},
   "outputs": [
    {
     "name": "stderr",
     "output_type": "stream",
     "text": [
      "C:\\Users\\redoc\\AppData\\Local\\Temp\\ipykernel_179044\\3832095755.py:1: DeprecationWarning: executable_path has been deprecated, please pass in a Service object\n",
      "  wd = webdriver.Chrome(ChromeDriverManager().install())\n"
     ]
    }
   ],
   "source": [
    "wd = webdriver.Chrome(ChromeDriverManager().install())"
   ]
  },
  {
   "cell_type": "code",
   "execution_count": 11,
   "metadata": {},
   "outputs": [],
   "source": [
    "for year_ in years_:\n",
    "    wd.get('https://en.wikipedia.org/wiki/List_of_horror_films_of_'+str(year_))\n",
    "\n",
    "    for table_ in tables_:\n",
    "        for row_ in rows_:\n",
    "            horror_movie = {}\n",
    "            try:\n",
    "                horror_movie['Title'] = wd.find_element(\"xpath\", \"//*[@id='mw-content-text']/div[1]/table[\"+str(table_)+\"]/tbody/tr[\"+str(row_)+\"]/\"+\"th\").text\n",
    "                horror_movie['Country'] = wd.find_element(\"xpath\", \"//*[@id='mw-content-text']/div[1]/table[\"+str(table_)+\"]/tbody/tr[\"+str(row_)+\"]/\"+\"td[3]\").text\n",
    "                # horror_movie['Subgenre'] = wd.find_element(\"xpath\", \"//*[@id='mw-content-text']/div[1]/table[\"+str(table_)+\"]/tbody/tr[\"+str(row_)+\"]/\"+\"td[5]\").text\n",
    "            except:\n",
    "                pass\n",
    "            horror_movies.append(horror_movie)"
   ]
  },
  {
   "cell_type": "code",
   "execution_count": 12,
   "metadata": {},
   "outputs": [],
   "source": [
    "horror_movies_df = pd.DataFrame(horror_movies)\n",
    "\n",
    "horror_movies_df.dropna(axis = 0, how = 'all', inplace = True) # drop rows with all NaN values\n",
    "\n",
    "horror_movies_df['Genre']='horror'\n",
    "\n",
    "horror_movies_df['Subgenre']=np.nan\n",
    "\n",
    "horror_movies_df.head()\n",
    "\n",
    "horror_movies_df.to_csv('horror_Movie_Scrape_Final.csv')"
   ]
  },
  {
   "attachments": {},
   "cell_type": "markdown",
   "metadata": {},
   "source": [
    "---"
   ]
  }
 ],
 "metadata": {
  "kernelspec": {
   "display_name": "Python 3",
   "language": "python",
   "name": "python3"
  },
  "language_info": {
   "codemirror_mode": {
    "name": "ipython",
    "version": 3
   },
   "file_extension": ".py",
   "mimetype": "text/x-python",
   "name": "python",
   "nbconvert_exporter": "python",
   "pygments_lexer": "ipython3",
   "version": "3.10.5"
  },
  "orig_nbformat": 4,
  "vscode": {
   "interpreter": {
    "hash": "f1131d84b9e97d700f196cec3f143c1c5ca4787d89ba01101505d30befb8a4c0"
   }
  }
 },
 "nbformat": 4,
 "nbformat_minor": 2
}
