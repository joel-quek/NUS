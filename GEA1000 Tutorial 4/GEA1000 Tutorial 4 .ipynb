{
 "cells": [
  {
   "cell_type": "markdown",
   "id": "f09492f6",
   "metadata": {},
   "source": [
    "# GEA1000 Tutorial 4\n",
    "Done By: Joel Quek"
   ]
  },
  {
   "cell_type": "markdown",
   "id": "4a82cba9",
   "metadata": {},
   "source": [
    "## Open CSV as a Data Frame"
   ]
  },
  {
   "cell_type": "code",
   "execution_count": 2,
   "id": "35bbcf4f",
   "metadata": {},
   "outputs": [],
   "source": [
    "trees <- read.csv(\"trees.csv\", header=TRUE)"
   ]
  },
  {
   "cell_type": "code",
   "execution_count": 4,
   "id": "1143f1e6",
   "metadata": {},
   "outputs": [
    {
     "data": {
      "text/html": [
       "<table class=\"dataframe\">\n",
       "<caption>A data.frame: 6 × 8</caption>\n",
       "<thead>\n",
       "\t<tr><th></th><th scope=col>tree_id</th><th scope=col>species_id</th><th scope=col>species_name</th><th scope=col>common_name</th><th scope=col>girth</th><th scope=col>height</th><th scope=col>age</th><th scope=col>geometry</th></tr>\n",
       "\t<tr><th></th><th scope=col>&lt;dbl&gt;</th><th scope=col>&lt;int&gt;</th><th scope=col>&lt;chr&gt;</th><th scope=col>&lt;chr&gt;</th><th scope=col>&lt;dbl&gt;</th><th scope=col>&lt;int&gt;</th><th scope=col>&lt;int&gt;</th><th scope=col>&lt;chr&gt;</th></tr>\n",
       "</thead>\n",
       "<tbody>\n",
       "\t<tr><th scope=row>1</th><td>1999.001</td><td>1907</td><td>Xanthostemon chrysanthus</td><td>Golden Myrtle    </td><td>0.6</td><td> 6</td><td>18</td><td>POINT (103.744379 1.38631) </td></tr>\n",
       "\t<tr><th scope=row>2</th><td>2009.013</td><td>1873</td><td>Syzygium zeylanicum     </td><td>Gelam Tikus      </td><td>0.4</td><td> 6</td><td> 8</td><td>POINT (103.823069 1.318688)</td></tr>\n",
       "\t<tr><th scope=row>3</th><td>2008.003</td><td>1848</td><td>Sterculia parviflora    </td><td>Kelumpang Burong </td><td>1.0</td><td> 9</td><td>10</td><td>POINT (103.800919 1.429295)</td></tr>\n",
       "\t<tr><th scope=row>4</th><td>2000.004</td><td>1907</td><td>Xanthostemon chrysanthus</td><td>Golden Myrtle    </td><td>1.5</td><td>18</td><td>18</td><td>POINT (103.794618 1.332331)</td></tr>\n",
       "\t<tr><th scope=row>5</th><td>1997.341</td><td>1857</td><td>Swietenia macrophylla   </td><td>American Mahogany</td><td>2.5</td><td>12</td><td>18</td><td>POINT (103.928155 1.309291)</td></tr>\n",
       "\t<tr><th scope=row>6</th><td>2005.016</td><td>1907</td><td>Xanthostemon chrysanthus</td><td>Golden Myrtle    </td><td>1.2</td><td>15</td><td>15</td><td>POINT (103.844473 1.376908)</td></tr>\n",
       "</tbody>\n",
       "</table>\n"
      ],
      "text/latex": [
       "A data.frame: 6 × 8\n",
       "\\begin{tabular}{r|llllllll}\n",
       "  & tree\\_id & species\\_id & species\\_name & common\\_name & girth & height & age & geometry\\\\\n",
       "  & <dbl> & <int> & <chr> & <chr> & <dbl> & <int> & <int> & <chr>\\\\\n",
       "\\hline\n",
       "\t1 & 1999.001 & 1907 & Xanthostemon chrysanthus & Golden Myrtle     & 0.6 &  6 & 18 & POINT (103.744379 1.38631) \\\\\n",
       "\t2 & 2009.013 & 1873 & Syzygium zeylanicum      & Gelam Tikus       & 0.4 &  6 &  8 & POINT (103.823069 1.318688)\\\\\n",
       "\t3 & 2008.003 & 1848 & Sterculia parviflora     & Kelumpang Burong  & 1.0 &  9 & 10 & POINT (103.800919 1.429295)\\\\\n",
       "\t4 & 2000.004 & 1907 & Xanthostemon chrysanthus & Golden Myrtle     & 1.5 & 18 & 18 & POINT (103.794618 1.332331)\\\\\n",
       "\t5 & 1997.341 & 1857 & Swietenia macrophylla    & American Mahogany & 2.5 & 12 & 18 & POINT (103.928155 1.309291)\\\\\n",
       "\t6 & 2005.016 & 1907 & Xanthostemon chrysanthus & Golden Myrtle     & 1.2 & 15 & 15 & POINT (103.844473 1.376908)\\\\\n",
       "\\end{tabular}\n"
      ],
      "text/markdown": [
       "\n",
       "A data.frame: 6 × 8\n",
       "\n",
       "| <!--/--> | tree_id &lt;dbl&gt; | species_id &lt;int&gt; | species_name &lt;chr&gt; | common_name &lt;chr&gt; | girth &lt;dbl&gt; | height &lt;int&gt; | age &lt;int&gt; | geometry &lt;chr&gt; |\n",
       "|---|---|---|---|---|---|---|---|---|\n",
       "| 1 | 1999.001 | 1907 | Xanthostemon chrysanthus | Golden Myrtle     | 0.6 |  6 | 18 | POINT (103.744379 1.38631)  |\n",
       "| 2 | 2009.013 | 1873 | Syzygium zeylanicum      | Gelam Tikus       | 0.4 |  6 |  8 | POINT (103.823069 1.318688) |\n",
       "| 3 | 2008.003 | 1848 | Sterculia parviflora     | Kelumpang Burong  | 1.0 |  9 | 10 | POINT (103.800919 1.429295) |\n",
       "| 4 | 2000.004 | 1907 | Xanthostemon chrysanthus | Golden Myrtle     | 1.5 | 18 | 18 | POINT (103.794618 1.332331) |\n",
       "| 5 | 1997.341 | 1857 | Swietenia macrophylla    | American Mahogany | 2.5 | 12 | 18 | POINT (103.928155 1.309291) |\n",
       "| 6 | 2005.016 | 1907 | Xanthostemon chrysanthus | Golden Myrtle     | 1.2 | 15 | 15 | POINT (103.844473 1.376908) |\n",
       "\n"
      ],
      "text/plain": [
       "  tree_id  species_id species_name             common_name       girth height\n",
       "1 1999.001 1907       Xanthostemon chrysanthus Golden Myrtle     0.6    6    \n",
       "2 2009.013 1873       Syzygium zeylanicum      Gelam Tikus       0.4    6    \n",
       "3 2008.003 1848       Sterculia parviflora     Kelumpang Burong  1.0    9    \n",
       "4 2000.004 1907       Xanthostemon chrysanthus Golden Myrtle     1.5   18    \n",
       "5 1997.341 1857       Swietenia macrophylla    American Mahogany 2.5   12    \n",
       "6 2005.016 1907       Xanthostemon chrysanthus Golden Myrtle     1.2   15    \n",
       "  age geometry                   \n",
       "1 18  POINT (103.744379 1.38631) \n",
       "2  8  POINT (103.823069 1.318688)\n",
       "3 10  POINT (103.800919 1.429295)\n",
       "4 18  POINT (103.794618 1.332331)\n",
       "5 18  POINT (103.928155 1.309291)\n",
       "6 15  POINT (103.844473 1.376908)"
      ]
     },
     "metadata": {},
     "output_type": "display_data"
    }
   ],
   "source": [
    "head(trees)"
   ]
  },
  {
   "cell_type": "code",
   "execution_count": 6,
   "id": "9ef05fc5",
   "metadata": {},
   "outputs": [
    {
     "data": {
      "text/plain": [
       "    tree_id       species_id    species_name       common_name       \n",
       " Min.   :1997   Min.   :  170   Length:20000       Length:20000      \n",
       " 1st Qu.:1997   1st Qu.: 1649   Class :character   Class :character  \n",
       " Median :2004   Median : 1813   Mode  :character   Mode  :character  \n",
       " Mean   :2003   Mean   : 2330                                        \n",
       " 3rd Qu.:2007   3rd Qu.: 1907                                        \n",
       " Max.   :2018   Max.   :32842                                        \n",
       "     girth            height           age           geometry        \n",
       " Min.   : 0.100   Min.   : 3.00   Min.   :  0.00   Length:20000      \n",
       " 1st Qu.: 0.600   1st Qu.: 6.00   1st Qu.: 11.00   Class :character  \n",
       " Median : 0.800   Median : 9.00   Median : 14.00   Mode  :character  \n",
       " Mean   : 1.005   Mean   :10.05   Mean   : 13.95                     \n",
       " 3rd Qu.: 1.300   3rd Qu.:12.00   3rd Qu.: 17.00                     \n",
       " Max.   :36.000   Max.   :24.00   Max.   :200.00                     "
      ]
     },
     "metadata": {},
     "output_type": "display_data"
    }
   ],
   "source": [
    "summary(trees)"
   ]
  },
  {
   "cell_type": "markdown",
   "id": "0c780eb2",
   "metadata": {},
   "source": [
    "## Instantiate Variables"
   ]
  },
  {
   "cell_type": "code",
   "execution_count": 5,
   "id": "8599c1aa",
   "metadata": {},
   "outputs": [],
   "source": [
    "arr_prop = numeric(10000) # Number of Samples\n",
    "pp_in_CI = logical(10000) # False 10000 times\n",
    "sd_sd = sqrt((0.3*0.7)/200) \n",
    "left_end = 0.3-(1.96*sd_sd) \n",
    "right_end = 0.3+(1.96*sd_sd) \n",
    "prop_in = 0 "
   ]
  },
  {
   "cell_type": "code",
   "execution_count": 8,
   "id": "6b3eea22",
   "metadata": {},
   "outputs": [],
   "source": [
    "for (i in 1:10000) { \n",
    "    s = sample(trees[,\"species_name\"], 200) \n",
    "    number = sum(s == \"Xanthostemon chrysanthus\") \n",
    "    arr_prop[i] = (number/200) \n",
    "    if (arr_prop[i] >= left_end & arr_prop[i] <= right_end) { \n",
    "    prop_in = prop_in + 1 \n",
    "} \n",
    "if (abs(arr_prop[i]-0.3) <= 1.96*sqrt((arr_prop[i]*(1-\n",
    "    arr_prop[i]))/200)) { \n",
    "    pp_in_CI[i] = TRUE \n",
    "    } \n",
    "} "
   ]
  },
  {
   "cell_type": "code",
   "execution_count": 9,
   "id": "d7752679",
   "metadata": {},
   "outputs": [
    {
     "data": {
      "image/png": "[encoded data removed]",
      "text/plain": [
       "Plot with title \"Histogram of Sample Proportions\""
      ]
     },
     "metadata": {
      "image/png": {
       "height": 420,
       "width": 420
      }
     },
     "output_type": "display_data"
    }
   ],
   "source": [
    "hist(arr_prop,  \n",
    "main = \"Histogram of Sample Proportions\", \n",
    "xlab = \"Sample Proportion\",  \n",
    "xlim = c(0.2, 0.4),  \n",
    "breaks = seq(min(arr_prop), max(arr_prop), length.out = \n",
    "((max(arr_prop)-min(arr_prop))*200)+1),  \n",
    "freq=FALSE) "
   ]
  },
  {
   "cell_type": "code",
   "execution_count": null,
   "id": "9ae374ef",
   "metadata": {},
   "outputs": [],
   "source": []
  },
  {
   "cell_type": "code",
   "execution_count": null,
   "id": "ad5d131f",
   "metadata": {},
   "outputs": [],
   "source": []
  }
 ],
 "metadata": {
  "kernelspec": {
   "display_name": "R",
   "language": "R",
   "name": "ir"
  },
  "language_info": {
   "codemirror_mode": "r",
   "file_extension": ".r",
   "mimetype": "text/x-r-source",
   "name": "R",
   "pygments_lexer": "r",
   "version": "4.2.2"
  }
 },
 "nbformat": 4,
 "nbformat_minor": 5
}
