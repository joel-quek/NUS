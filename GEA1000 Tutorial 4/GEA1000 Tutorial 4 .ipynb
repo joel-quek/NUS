{
 "cells": [
  {
   "cell_type": "markdown",
   "id": "ee3097a4",
   "metadata": {},
   "source": [
    "# GEA1000 Tutorial 4\n",
    "Done By: Joel Quek"
   ]
  },
  {
   "cell_type": "markdown",
   "id": "1f1c4811",
   "metadata": {},
   "source": [
    "## Part 2: Sampling distributions of the sample proportion are approximately normal"
   ]
  },
  {
   "cell_type": "markdown",
   "id": "19887bad",
   "metadata": {},
   "source": [
    "Part 1 is not missing. I excluded it from this notebook because it can be completed using Excel.\n",
    "\n",
    "Recall that in Part 1, the Overall Population Proportion for *Xanthostemon chrysanthus* is $0.2999850007 \\approx 0.3$\n",
    "\n",
    "We have the luxury of knowing this value of P beforehand\n",
    "\n",
    "$p = 0.3$ is very important for this question"
   ]
  },
  {
   "cell_type": "markdown",
   "id": "16c9e99b",
   "metadata": {},
   "source": [
    "### Open CSV as a Data Frame"
   ]
  },
  {
   "cell_type": "markdown",
   "id": "bde70864",
   "metadata": {},
   "source": [
    "Note: To run this notebook you must have the *trees.csv* file in the same root folder"
   ]
  },
  {
   "cell_type": "code",
   "execution_count": 53,
   "id": "fea312db",
   "metadata": {},
   "outputs": [],
   "source": [
    "trees <- read.csv(\"trees.csv\", header=TRUE)"
   ]
  },
  {
   "cell_type": "code",
   "execution_count": 54,
   "id": "bc724a86",
   "metadata": {},
   "outputs": [
    {
     "data": {
      "text/html": [
       "<table class=\"dataframe\">\n",
       "<caption>A data.frame: 6 × 8</caption>\n",
       "<thead>\n",
       "\t<tr><th></th><th scope=col>tree_id</th><th scope=col>species_id</th><th scope=col>species_name</th><th scope=col>common_name</th><th scope=col>girth</th><th scope=col>height</th><th scope=col>age</th><th scope=col>geometry</th></tr>\n",
       "\t<tr><th></th><th scope=col>&lt;dbl&gt;</th><th scope=col>&lt;int&gt;</th><th scope=col>&lt;chr&gt;</th><th scope=col>&lt;chr&gt;</th><th scope=col>&lt;dbl&gt;</th><th scope=col>&lt;int&gt;</th><th scope=col>&lt;int&gt;</th><th scope=col>&lt;chr&gt;</th></tr>\n",
       "</thead>\n",
       "<tbody>\n",
       "\t<tr><th scope=row>1</th><td>1999.001</td><td>1907</td><td>Xanthostemon chrysanthus</td><td>Golden Myrtle    </td><td>0.6</td><td> 6</td><td>18</td><td>POINT (103.744379 1.38631) </td></tr>\n",
       "\t<tr><th scope=row>2</th><td>2009.013</td><td>1873</td><td>Syzygium zeylanicum     </td><td>Gelam Tikus      </td><td>0.4</td><td> 6</td><td> 8</td><td>POINT (103.823069 1.318688)</td></tr>\n",
       "\t<tr><th scope=row>3</th><td>2008.003</td><td>1848</td><td>Sterculia parviflora    </td><td>Kelumpang Burong </td><td>1.0</td><td> 9</td><td>10</td><td>POINT (103.800919 1.429295)</td></tr>\n",
       "\t<tr><th scope=row>4</th><td>2000.004</td><td>1907</td><td>Xanthostemon chrysanthus</td><td>Golden Myrtle    </td><td>1.5</td><td>18</td><td>18</td><td>POINT (103.794618 1.332331)</td></tr>\n",
       "\t<tr><th scope=row>5</th><td>1997.341</td><td>1857</td><td>Swietenia macrophylla   </td><td>American Mahogany</td><td>2.5</td><td>12</td><td>18</td><td>POINT (103.928155 1.309291)</td></tr>\n",
       "\t<tr><th scope=row>6</th><td>2005.016</td><td>1907</td><td>Xanthostemon chrysanthus</td><td>Golden Myrtle    </td><td>1.2</td><td>15</td><td>15</td><td>POINT (103.844473 1.376908)</td></tr>\n",
       "</tbody>\n",
       "</table>\n"
      ],
      "text/latex": [
       "A data.frame: 6 × 8\n",
       "\\begin{tabular}{r|llllllll}\n",
       "  & tree\\_id & species\\_id & species\\_name & common\\_name & girth & height & age & geometry\\\\\n",
       "  & <dbl> & <int> & <chr> & <chr> & <dbl> & <int> & <int> & <chr>\\\\\n",
       "\\hline\n",
       "\t1 & 1999.001 & 1907 & Xanthostemon chrysanthus & Golden Myrtle     & 0.6 &  6 & 18 & POINT (103.744379 1.38631) \\\\\n",
       "\t2 & 2009.013 & 1873 & Syzygium zeylanicum      & Gelam Tikus       & 0.4 &  6 &  8 & POINT (103.823069 1.318688)\\\\\n",
       "\t3 & 2008.003 & 1848 & Sterculia parviflora     & Kelumpang Burong  & 1.0 &  9 & 10 & POINT (103.800919 1.429295)\\\\\n",
       "\t4 & 2000.004 & 1907 & Xanthostemon chrysanthus & Golden Myrtle     & 1.5 & 18 & 18 & POINT (103.794618 1.332331)\\\\\n",
       "\t5 & 1997.341 & 1857 & Swietenia macrophylla    & American Mahogany & 2.5 & 12 & 18 & POINT (103.928155 1.309291)\\\\\n",
       "\t6 & 2005.016 & 1907 & Xanthostemon chrysanthus & Golden Myrtle     & 1.2 & 15 & 15 & POINT (103.844473 1.376908)\\\\\n",
       "\\end{tabular}\n"
      ],
      "text/markdown": [
       "\n",
       "A data.frame: 6 × 8\n",
       "\n",
       "| <!--/--> | tree_id &lt;dbl&gt; | species_id &lt;int&gt; | species_name &lt;chr&gt; | common_name &lt;chr&gt; | girth &lt;dbl&gt; | height &lt;int&gt; | age &lt;int&gt; | geometry &lt;chr&gt; |\n",
       "|---|---|---|---|---|---|---|---|---|\n",
       "| 1 | 1999.001 | 1907 | Xanthostemon chrysanthus | Golden Myrtle     | 0.6 |  6 | 18 | POINT (103.744379 1.38631)  |\n",
       "| 2 | 2009.013 | 1873 | Syzygium zeylanicum      | Gelam Tikus       | 0.4 |  6 |  8 | POINT (103.823069 1.318688) |\n",
       "| 3 | 2008.003 | 1848 | Sterculia parviflora     | Kelumpang Burong  | 1.0 |  9 | 10 | POINT (103.800919 1.429295) |\n",
       "| 4 | 2000.004 | 1907 | Xanthostemon chrysanthus | Golden Myrtle     | 1.5 | 18 | 18 | POINT (103.794618 1.332331) |\n",
       "| 5 | 1997.341 | 1857 | Swietenia macrophylla    | American Mahogany | 2.5 | 12 | 18 | POINT (103.928155 1.309291) |\n",
       "| 6 | 2005.016 | 1907 | Xanthostemon chrysanthus | Golden Myrtle     | 1.2 | 15 | 15 | POINT (103.844473 1.376908) |\n",
       "\n"
      ],
      "text/plain": [
       "  tree_id  species_id species_name             common_name       girth height\n",
       "1 1999.001 1907       Xanthostemon chrysanthus Golden Myrtle     0.6    6    \n",
       "2 2009.013 1873       Syzygium zeylanicum      Gelam Tikus       0.4    6    \n",
       "3 2008.003 1848       Sterculia parviflora     Kelumpang Burong  1.0    9    \n",
       "4 2000.004 1907       Xanthostemon chrysanthus Golden Myrtle     1.5   18    \n",
       "5 1997.341 1857       Swietenia macrophylla    American Mahogany 2.5   12    \n",
       "6 2005.016 1907       Xanthostemon chrysanthus Golden Myrtle     1.2   15    \n",
       "  age geometry                   \n",
       "1 18  POINT (103.744379 1.38631) \n",
       "2  8  POINT (103.823069 1.318688)\n",
       "3 10  POINT (103.800919 1.429295)\n",
       "4 18  POINT (103.794618 1.332331)\n",
       "5 18  POINT (103.928155 1.309291)\n",
       "6 15  POINT (103.844473 1.376908)"
      ]
     },
     "metadata": {},
     "output_type": "display_data"
    }
   ],
   "source": [
    "head(trees)"
   ]
  },
  {
   "cell_type": "code",
   "execution_count": 55,
   "id": "5f9b080a",
   "metadata": {},
   "outputs": [
    {
     "data": {
      "text/plain": [
       "    tree_id       species_id    species_name       common_name       \n",
       " Min.   :1997   Min.   :  170   Length:20000       Length:20000      \n",
       " 1st Qu.:1997   1st Qu.: 1649   Class :character   Class :character  \n",
       " Median :2004   Median : 1813   Mode  :character   Mode  :character  \n",
       " Mean   :2003   Mean   : 2330                                        \n",
       " 3rd Qu.:2007   3rd Qu.: 1907                                        \n",
       " Max.   :2018   Max.   :32842                                        \n",
       "     girth            height           age           geometry        \n",
       " Min.   : 0.100   Min.   : 3.00   Min.   :  0.00   Length:20000      \n",
       " 1st Qu.: 0.600   1st Qu.: 6.00   1st Qu.: 11.00   Class :character  \n",
       " Median : 0.800   Median : 9.00   Median : 14.00   Mode  :character  \n",
       " Mean   : 1.005   Mean   :10.05   Mean   : 13.95                     \n",
       " 3rd Qu.: 1.300   3rd Qu.:12.00   3rd Qu.: 17.00                     \n",
       " Max.   :36.000   Max.   :24.00   Max.   :200.00                     "
      ]
     },
     "metadata": {},
     "output_type": "display_data"
    }
   ],
   "source": [
    "summary(trees)"
   ]
  },
  {
   "cell_type": "markdown",
   "id": "402f2d4d",
   "metadata": {},
   "source": [
    "## Question 5"
   ]
  },
  {
   "cell_type": "markdown",
   "id": "ad917706",
   "metadata": {},
   "source": [
    "### Instantiate Variables"
   ]
  },
  {
   "cell_type": "code",
   "execution_count": 56,
   "id": "92ec334d",
   "metadata": {},
   "outputs": [],
   "source": [
    "arr_prop = numeric(10000) # Array of Proportions: Array of 10000 zeroes. The zeroes are arbitrary values.\n",
    "pp_in_CI = logical(10000) # Array of 10000 FALSE Values. The FALSE Values are arbitrary.\n",
    "\n",
    "sd_sd = sqrt((0.3*0.7)/200) # square root of p(1-p)/n. This is ARBITRARY. To give a value to the sd_sd\n",
    "# Why is p=0.3 chosen? Because the values we got for p were around 0.27 to 0.29. Refer to part 1.\n",
    "# And the variance when approximating to a Normal Distribution is p(1-p)/N. Hence we take squareroot for sd.\n",
    "left_end = 0.3-(1.96*sd_sd) # left bound of 95% of the Normal Distribution\n",
    "right_end = 0.3+(1.96*sd_sd) # Right bound of 95% of the Normal Distribution\n",
    "\n",
    "prop_in = 0 # This is a COUNT variable. Denoting if the proportion is within 95% of the Normal Distribution."
   ]
  },
  {
   "cell_type": "markdown",
   "id": "daa6c942",
   "metadata": {},
   "source": [
    "### Plot 1"
   ]
  },
  {
   "cell_type": "code",
   "execution_count": 72,
   "id": "b4f80746",
   "metadata": {},
   "outputs": [],
   "source": [
    "for (i in 1:10000) { # Performing the same code 10000 times\n",
    "    s = sample(trees[,\"species_name\"], 200) # random samples of size 200 from the trees dataframe\n",
    "    number = sum(s == \"Xanthostemon chrysanthus\") # count the number of the specific flower\n",
    "    arr_prop[i] = (number/200) # populate the arr_prop array with the proportions of the specific flower\n",
    "    \n",
    "    # This portion of the code relates to the Approximated Normal Distribution generated by the FULL Dataset\n",
    "    if (arr_prop[i] >= left_end & arr_prop[i] <= right_end) { \n",
    "    # if the Sample proportion is between left and right bounds. ie it is within 95% of the Normal Distribution\n",
    "    prop_in = prop_in + 1 \n",
    "    # then add 1 to the COUNT\n",
    "    # prop_in is basically the count of whether the sample proportion in IN or WITHIN the 95% of Normal Distribution\n",
    "    } \n",
    "    \n",
    "    # This portion of the code relates to the CIs created by EACH of the 10000 samples\n",
    "    # The next line of code means that the absolute difference between the \n",
    "    # Sample proportion (p*) and the Population proportion (p) is less than\n",
    "    # the error term of the Sample CI\n",
    "    # Which means this line of code finds the samples \n",
    "    # where the population proportion is WITHIN the sample CI\n",
    "    if (abs(arr_prop[i]-0.3) <= 1.96*sqrt((arr_prop[i]*(1-arr_prop[i]))/200)) { \n",
    "        # if array proportion minus 0.3 is less than 1.96*Sqrt((p)(1-p)/n)\n",
    "        pp_in_CI[i] = TRUE #this just says that the population proportion is within the CI.\n",
    "        # We want to find out what percentage of these sample CIs contain the pupulation proportion\n",
    "    } \n",
    "} "
   ]
  },
  {
   "cell_type": "code",
   "execution_count": 73,
   "id": "277dd024",
   "metadata": {},
   "outputs": [
    {
     "data": {
      "image/png": "[encoded data removed]",
      "text/plain": [
       "Plot with title \"Histogram of Sample Proportions\""
      ]
     },
     "metadata": {
      "image/png": {
       "height": 420,
       "width": 420
      }
     },
     "output_type": "display_data"
    }
   ],
   "source": [
    "hist(arr_prop,  # arr_prop is the choice for the plot\n",
    "    main = \"Histogram of Sample Proportions\", # Title\n",
    "    xlab = \"Sample Proportion\",  # X Label\n",
    "    xlim = c(0.2, 0.4),  # X-axis bounds/limits\n",
    "    breaks = seq(min(arr_prop), max(arr_prop), length.out = ((max(arr_prop)-min(arr_prop))*200)+1), \n",
    "    # number of breaks/bins\n",
    "    freq=FALSE) "
   ]
  },
  {
   "cell_type": "markdown",
   "id": "0b07430a",
   "metadata": {},
   "source": [
    "### Plot 2"
   ]
  },
  {
   "cell_type": "markdown",
   "id": "a887cf9b",
   "metadata": {},
   "source": [
    "Plotting twice is not necessary, but to show that two plots will look different from each other."
   ]
  },
  {
   "cell_type": "code",
   "execution_count": 74,
   "id": "14a3862e",
   "metadata": {},
   "outputs": [],
   "source": [
    "for (i in 1:10000) { # Performing the same code 10000 times\n",
    "    s = sample(trees[,\"species_name\"], 200) # random samples of size 200 from the trees dataframe\n",
    "    number = sum(s == \"Xanthostemon chrysanthus\") # count the number of the specific flower\n",
    "    arr_prop[i] = (number/200) # populate the arr_prop array with the proportions of the specific flower\n",
    "    \n",
    "    # This portion of the code relates to the Approximated Normal Distribution generated by the FULL Dataset\n",
    "    if (arr_prop[i] >= left_end & arr_prop[i] <= right_end) { \n",
    "    # if the Sample proportion is between left and right bounds. ie it is within 95% of the Normal Distribution\n",
    "    prop_in = prop_in + 1 \n",
    "    # then add 1 to the COUNT\n",
    "    # prop_in is basically the count of whether the sample proportion in IN or WITHIN the 95% of Normal Distribution\n",
    "    } \n",
    "    \n",
    "    # This portion of the code relates to the CIs created by EACH of the 10000 samples\n",
    "    # The next line of code means that the absolute difference between the \n",
    "    # Sample proportion (p*) and the Population proportion (p) is less than\n",
    "    # the error term of the Sample CI\n",
    "    # Which means this line of code finds the samples \n",
    "    # where the population proportion is WITHIN the sample CI\n",
    "    if (abs(arr_prop[i]-0.3) <= 1.96*sqrt((arr_prop[i]*(1-arr_prop[i]))/200)) { \n",
    "        # if array proportion minus 0.3 is less than 1.96*Sqrt((p)(1-p)/n)\n",
    "        pp_in_CI[i] = TRUE #this just says that the population proportion is within the CI.\n",
    "        # We want to find out what percentage of these sample CIs contain the pupulation proportion\n",
    "    } \n",
    "} "
   ]
  },
  {
   "cell_type": "code",
   "execution_count": 75,
   "id": "df501002",
   "metadata": {},
   "outputs": [
    {
     "data": {
      "image/png": "[encoded data removed]",
      "text/plain": [
       "Plot with title \"Histogram of Sample Proportions\""
      ]
     },
     "metadata": {
      "image/png": {
       "height": 420,
       "width": 420
      }
     },
     "output_type": "display_data"
    }
   ],
   "source": [
    "hist(arr_prop,  # arr_prop is the choice for the plot\n",
    "    main = \"Histogram of Sample Proportions\", # Title\n",
    "    xlab = \"Sample Proportion\",  # X Label\n",
    "    xlim = c(0.2, 0.4),  # X-axis bounds/limits\n",
    "    breaks = seq(min(arr_prop), max(arr_prop), length.out = ((max(arr_prop)-min(arr_prop))*200)+1),  \n",
    "     # number of breaks/bins\n",
    "    freq=FALSE) "
   ]
  },
  {
   "cell_type": "markdown",
   "id": "a7abcae3",
   "metadata": {},
   "source": [
    "### Q-Q Plots (Not in Syllabus)"
   ]
  },
  {
   "cell_type": "markdown",
   "id": "cd9cdde1",
   "metadata": {},
   "source": [
    "How do you know if a distribution is Normally Distributed?\n",
    "\n",
    "\"It looks symmetrical\" will not cut it\n",
    "\n",
    "Use a Q-Q Plot (or a Quantile-Quantile Plot"
   ]
  },
  {
   "cell_type": "markdown",
   "id": "c072311c",
   "metadata": {},
   "source": [
    "Stat Quest: https://www.youtube.com/watch?v=okjYjClSjOg"
   ]
  },
  {
   "cell_type": "code",
   "execution_count": 76,
   "id": "7e848d5b",
   "metadata": {},
   "outputs": [
    {
     "data": {
      "image/png": "[encoded data removed]",
      "text/plain": [
       "Plot with title \"Normal Q-Q Plot\""
      ]
     },
     "metadata": {
      "image/png": {
       "height": 420,
       "width": 420
      }
     },
     "output_type": "display_data"
    }
   ],
   "source": [
    "qqnorm(arr_prop)"
   ]
  },
  {
   "attachments": {
    "image.png": {
     "image/png": "[encoded data removed]"
    }
   },
   "cell_type": "markdown",
   "id": "e55956b9",
   "metadata": {},
   "source": [
    "### Question 7\n",
    "\n",
    "In the editor, append the following to the code in Step 5.\n",
    "\n",
    "![image.png](attachment:image.png)\n"
   ]
  },
  {
   "cell_type": "code",
   "execution_count": 77,
   "id": "53ec8c4f",
   "metadata": {},
   "outputs": [],
   "source": [
    "for (i in 1:10000) { # Performing the same code 10000 times\n",
    "    s = sample(trees[,\"species_name\"], 200) # random samples of size 200 from the trees dataframe\n",
    "    number = sum(s == \"Xanthostemon chrysanthus\") # count the number of the specific flower\n",
    "    arr_prop[i] = (number/200) # populate the arr_prop array with the proportions of the specific flower\n",
    "    \n",
    "    # This portion of the code relates to the Approximated Normal Distribution generated by the FULL Dataset\n",
    "    if (arr_prop[i] >= left_end & arr_prop[i] <= right_end) { \n",
    "    # if the Sample proportion is between left and right bounds. ie it is within 95% of the Normal Distribution\n",
    "    prop_in = prop_in + 1 \n",
    "    # then add 1 to the COUNT\n",
    "    # prop_in is basically the count of whether the sample proportion in IN or WITHIN the 95% of Normal Distribution\n",
    "    } \n",
    "    \n",
    "    # This portion of the code relates to the CIs created by EACH of the 10000 samples\n",
    "    # The next line of code means that the absolute difference between the \n",
    "    # Sample proportion (p*) and the Population proportion (p) is less than\n",
    "    # the error term of the Sample CI\n",
    "    # Which means this line of code finds the samples \n",
    "    # where the population proportion is WITHIN the sample CI\n",
    "    if (abs(arr_prop[i]-0.3) <= 1.96*sqrt((arr_prop[i]*(1-arr_prop[i]))/200)) { \n",
    "        # if array proportion minus 0.3 is less than 1.96*Sqrt((p)(1-p)/n)\n",
    "        pp_in_CI[i] = TRUE #this just says that the population proportion is within the CI.\n",
    "        # We want to find out what percentage of these sample CIs contain the pupulation proportion\n",
    "    } \n",
    "} "
   ]
  },
  {
   "cell_type": "code",
   "execution_count": 78,
   "id": "d01d71db",
   "metadata": {},
   "outputs": [
    {
     "data": {
      "image/png": "[encoded data removed]",
      "text/plain": [
       "Plot with title \"Histogram of Sample Proportions\""
      ]
     },
     "metadata": {
      "image/png": {
       "height": 420,
       "width": 420
      }
     },
     "output_type": "display_data"
    }
   ],
   "source": [
    "hist(arr_prop,  # arr_prop is the choice for the plot\n",
    "    main = \"Histogram of Sample Proportions\", # Title\n",
    "    xlab = \"Sample Proportion\",  # X Label\n",
    "    xlim = c(0.2, 0.4),  # X-axis bounds/limits\n",
    "    breaks = seq(min(arr_prop), max(arr_prop), length.out = ((max(arr_prop)-min(arr_prop))*200)+1),  \n",
    "     # number of breaks/bins\n",
    "    freq=FALSE) \n",
    "\n",
    "# The appended code just adds a Normal Curve onto the original Density Plot\n",
    "curve(dnorm(x, mean=0.3, sd=sd_sd),\n",
    "           col=\"darkblue\",\n",
    "           lwd=2,\n",
    "           add=TRUE)"
   ]
  },
  {
   "cell_type": "markdown",
   "id": "54d46301",
   "metadata": {},
   "source": [
    "How do we know which normal distribution to use in approximating a sampling distribution of the sample proportion? \n",
    "\n",
    "It is known that the said sampling distribution tends towards the \n",
    "\n",
    "**Normal Distribution** with mean $p$ and variance $\\frac{p(1-p)}{n}$, \n",
    "\n",
    "where p is the population proportion and n is the sample size. \n",
    "\n"
   ]
  },
  {
   "cell_type": "markdown",
   "id": "4bd4a5d1",
   "metadata": {},
   "source": [
    "## Part 3: Confidence intervals for POPULATION PROPORTIONS\n"
   ]
  },
  {
   "attachments": {
    "image.png": {
     "image/png": "[encoded data removed]"
    }
   },
   "cell_type": "markdown",
   "id": "6894c947",
   "metadata": {},
   "source": [
    "In the editor, append the following to the code resulting from Step 7. \n",
    "\n",
    "![image.png](attachment:image.png)"
   ]
  },
  {
   "cell_type": "code",
   "execution_count": 79,
   "id": "fdc38b86",
   "metadata": {},
   "outputs": [],
   "source": [
    "for (i in 1:10000) { # Performing the same code 10000 times\n",
    "    s = sample(trees[,\"species_name\"], 200) # random samples of size 200 from the trees dataframe\n",
    "    number = sum(s == \"Xanthostemon chrysanthus\") # count the number of the specific flower\n",
    "    arr_prop[i] = (number/200) # populate the arr_prop array with the proportions of the specific flower\n",
    "    \n",
    "    # This portion of the code relates to the Approximated Normal Distribution generated by the FULL Dataset\n",
    "    if (arr_prop[i] >= left_end & arr_prop[i] <= right_end) { \n",
    "    # if the Sample proportion is between left and right bounds. ie it is within 95% of the Normal Distribution\n",
    "    prop_in = prop_in + 1 \n",
    "    # then add 1 to the COUNT\n",
    "    # prop_in is basically the count of whether the sample proportion in IN or WITHIN the 95% of Normal Distribution\n",
    "    } \n",
    "    \n",
    "    # This portion of the code relates to the CIs created by EACH of the 10000 samples\n",
    "    # The next line of code means that the absolute difference between the \n",
    "    # Sample proportion (p*) and the Population proportion (p) is less than\n",
    "    # the error term of the Sample CI\n",
    "    # Which means this line of code finds the samples \n",
    "    # where the population proportion is WITHIN the sample CI\n",
    "    if (abs(arr_prop[i]-0.3) <= 1.96*sqrt((arr_prop[i]*(1-arr_prop[i]))/200)) { \n",
    "        # if array proportion minus 0.3 is less than 1.96*Sqrt((p)(1-p)/n)\n",
    "        pp_in_CI[i] = TRUE #this just says that the population proportion is within the CI.\n",
    "        # We want to find out what percentage of these sample CIs contain the pupulation proportion\n",
    "    } \n",
    "} "
   ]
  },
  {
   "cell_type": "code",
   "execution_count": 80,
   "id": "c7c96811",
   "metadata": {},
   "outputs": [
    {
     "data": {
      "image/png": "[encoded data removed]",
      "text/plain": [
       "Plot with title \"Histogram of Sample Proportions\""
      ]
     },
     "metadata": {
      "image/png": {
       "height": 420,
       "width": 420
      }
     },
     "output_type": "display_data"
    }
   ],
   "source": [
    "hist(arr_prop,  # arr_prop is the choice for the plot\n",
    "    main = \"Histogram of Sample Proportions\", # Title\n",
    "    xlab = \"Sample Proportion\",  # X Label\n",
    "    xlim = c(0.2, 0.4),  # X-axis bounds/limits\n",
    "    breaks = seq(min(arr_prop), max(arr_prop), length.out = ((max(arr_prop)-min(arr_prop))*200)+1),  \n",
    "     # number of breaks/bins\n",
    "    freq=FALSE) \n",
    "\n",
    "# The appended code just adds a Normal Curve onto the original Density Plot\n",
    "curve(dnorm(x, mean=0.3, sd=sd_sd),\n",
    "           col=\"darkblue\",\n",
    "           lwd=2,\n",
    "           add=TRUE)\n",
    "\n",
    "# The new appended code just adds two vertical lines showing the boundaries\n",
    "abline(v=left_end, col='red',lwd=2)\n",
    "\n",
    "abline(v=right_end,col='red',lwd=2)"
   ]
  },
  {
   "cell_type": "markdown",
   "id": "6a801344",
   "metadata": {},
   "source": [
    "(a) It is known that the area under any normal density curve, within 1.96 standard deviations from its mean, is approximately 0.95. In the plot you have generated, what is the estimated area of the histogram between the vertical lines?\n"
   ]
  },
  {
   "cell_type": "markdown",
   "id": "f4a66928",
   "metadata": {},
   "source": [
    "Answer: As the density curve plotted is of the normal distribution $N(0.3,\\frac{0.3(0.7)}{200})$, \n",
    "\n",
    "the two vertical lines are 1.96 standard deviations away from its mean. Therefore, the area under the curve between the two vertical lines is approximately 0.95. \n",
    "\n",
    "That the area under the curve is almost equal to the area of the histogram between the lines, then gives us 0.95 as the estimated area in question."
   ]
  },
  {
   "cell_type": "markdown",
   "id": "c3a223da",
   "metadata": {},
   "source": [
    "[Not in Syllabus] Calculation of Area Under Curve (AUC) for Normal Distribution with mean= 0.3 and sd =  $\\sqrt{\\frac{0.3*0.7}{200}}$"
   ]
  },
  {
   "cell_type": "code",
   "execution_count": 81,
   "id": "37ac942a",
   "metadata": {},
   "outputs": [
    {
     "data": {
      "text/html": [
       "0.950004209703559"
      ],
      "text/latex": [
       "0.950004209703559"
      ],
      "text/markdown": [
       "0.950004209703559"
      ],
      "text/plain": [
       "[1] 0.9500042"
      ]
     },
     "metadata": {},
     "output_type": "display_data"
    }
   ],
   "source": [
    "pnorm(right_end,mean=0.3,sd=sd_sd)-pnorm(left_end,mean=0.3,sd=sd_sd)"
   ]
  },
  {
   "cell_type": "markdown",
   "id": "022bf46c",
   "metadata": {},
   "source": [
    "---"
   ]
  },
  {
   "cell_type": "markdown",
   "id": "fe0c45ec",
   "metadata": {},
   "source": [
    "### Question 11 and 12"
   ]
  },
  {
   "cell_type": "markdown",
   "id": "c40556d5",
   "metadata": {},
   "source": [
    "Since we know the area of every density histogram equals 1, we can infer that about 95% of (the area of) the histogram lies between the vertical lines. \n",
    "\n",
    "\n",
    "This is akin to saying, about **95% of the sample proportions** of Xanthostemon chrysanthus lie within the interval $0.3±1.96*\\sqrt{\\frac{0.3(0.7)}{200}}$.\n"
   ]
  },
  {
   "cell_type": "code",
   "execution_count": 84,
   "id": "ff12f189",
   "metadata": {},
   "outputs": [],
   "source": [
    "# I need to restart the prop_in count from ZERO (Not required to know why)\n",
    "prop_in = 0"
   ]
  },
  {
   "cell_type": "code",
   "execution_count": 85,
   "id": "de130ab7",
   "metadata": {},
   "outputs": [],
   "source": [
    "for (i in 1:10000) { # Performing the same code 10000 times\n",
    "    s = sample(trees[,\"species_name\"], 200) # random samples of size 200 from the trees dataframe\n",
    "    number = sum(s == \"Xanthostemon chrysanthus\") # count the number of the specific flower\n",
    "    arr_prop[i] = (number/200) # populate the arr_prop array with the proportions of the specific flower\n",
    "    \n",
    "    # This portion of the code relates to the Approximated Normal Distribution generated by the FULL Dataset\n",
    "    if (arr_prop[i] >= left_end & arr_prop[i] <= right_end) { \n",
    "    # if the Sample proportion is between left and right bounds. ie it is within 95% of the Normal Distribution\n",
    "    prop_in = prop_in + 1 \n",
    "    # then add 1 to the COUNT\n",
    "    # prop_in is basically the count of whether the sample proportion in IN or WITHIN the 95% of Normal Distribution\n",
    "    } \n",
    "    \n",
    "    # This portion of the code relates to the CIs created by EACH of the 10000 samples\n",
    "    # The next line of code means that the absolute difference between the \n",
    "    # Sample proportion (p*) and the Population proportion (p) is less than\n",
    "    # the error term of the Sample CI\n",
    "    # Which means this line of code finds the samples \n",
    "    # where the population proportion is WITHIN the sample CI\n",
    "    if (abs(arr_prop[i]-0.3) <= 1.96*sqrt((arr_prop[i]*(1-arr_prop[i]))/200)) { \n",
    "        # if array proportion minus 0.3 is less than 1.96*Sqrt((p)(1-p)/n)\n",
    "        pp_in_CI[i] = TRUE #this just says that the population proportion is within the CI.\n",
    "        # We want to find out what percentage of these sample CIs contain the pupulation proportion\n",
    "    } \n",
    "} "
   ]
  },
  {
   "cell_type": "code",
   "execution_count": 86,
   "id": "6e3e59c0",
   "metadata": {},
   "outputs": [
    {
     "name": "stdout",
     "output_type": "stream",
     "text": [
      "[1] Proportion of sample proportions within the given interval =  0.9462\n"
     ]
    },
    {
     "data": {
      "image/png": "[encoded data removed]",
      "text/plain": [
       "Plot with title \"Histogram of Sample Proportions\""
      ]
     },
     "metadata": {
      "image/png": {
       "height": 420,
       "width": 420
      }
     },
     "output_type": "display_data"
    }
   ],
   "source": [
    "hist(arr_prop,  # arr_prop is the choice for the plot\n",
    "    main = \"Histogram of Sample Proportions\", # Title\n",
    "    xlab = \"Sample Proportion\",  # X Label\n",
    "    xlim = c(0.2, 0.4),  # X-axis bounds/limits\n",
    "    breaks = seq(min(arr_prop), max(arr_prop), length.out = ((max(arr_prop)-min(arr_prop))*200)+1),  \n",
    "     # number of breaks/bins\n",
    "    freq=FALSE) \n",
    "\n",
    "# The appended code just adds a Normal Curve onto the original Density Plot\n",
    "curve(dnorm(x, mean=0.3, sd=sd_sd),\n",
    "           col=\"darkblue\",\n",
    "           lwd=2,\n",
    "           add=TRUE)\n",
    "\n",
    "# The new appended code just adds two vertical lines showing the boundaries\n",
    "abline(v=left_end, col='red',lwd=2)\n",
    "\n",
    "abline(v=right_end,col='red',lwd=2)\n",
    "\n",
    "# Append the statement for Qn 11\n",
    "print(paste(\"Proportion of sample proportions within the given interval = \", prop_in/10000), quote= FALSE)"
   ]
  },
  {
   "cell_type": "markdown",
   "id": "b58fe9cb",
   "metadata": {},
   "source": [
    "More generally, given a population proportion p, there is about 95% chance that the sample proportion p* of a random sample of size n lies within the interval $p ± 1.96*\\sqrt{\\frac{p(1-p)}{n}}$. \n",
    "\n",
    "This sounds similar to what we understand about CIs, but not exactly the exact definition."
   ]
  },
  {
   "cell_type": "markdown",
   "id": "d26db5ff",
   "metadata": {},
   "source": [
    "---"
   ]
  },
  {
   "cell_type": "code",
   "execution_count": 70,
   "id": "b22126ce",
   "metadata": {},
   "outputs": [
    {
     "name": "stdout",
     "output_type": "stream",
     "text": [
      "[1] Proportion of sample proportions within the given interval =  4.7411\n",
      "[1] Proportion of Confidence Intervals containing the population proportion= 1\n"
     ]
    },
    {
     "data": {
      "image/png": "[encoded data removed]",
      "text/plain": [
       "Plot with title \"Histogram of Sample Proportions\""
      ]
     },
     "metadata": {
      "image/png": {
       "height": 420,
       "width": 420
      }
     },
     "output_type": "display_data"
    }
   ],
   "source": [
    "hist(arr_prop,  # arr_prop is the choice for the plot\n",
    "    main = \"Histogram of Sample Proportions\", # Title\n",
    "    xlab = \"Sample Proportion\",  # X Label\n",
    "    xlim = c(0.2, 0.4),  # X-axis bounds/limits\n",
    "    breaks = seq(min(arr_prop), max(arr_prop), length.out = ((max(arr_prop)-min(arr_prop))*200)+1),  \n",
    "     # number of breaks/bins\n",
    "    freq=FALSE) \n",
    "\n",
    "# The appended code just adds a Normal Curve onto the original Density Plot\n",
    "curve(dnorm(x, mean=0.3, sd=sd_sd),\n",
    "           col=\"darkblue\",\n",
    "           lwd=2,\n",
    "           add=TRUE)\n",
    "\n",
    "# The new appended code just adds two vertical lines showing the boundaries\n",
    "abline(v=left_end, col='red',lwd=2)\n",
    "\n",
    "abline(v=right_end,col='red',lwd=2)\n",
    "\n",
    "# Append the statement for Qn 11\n",
    "print(paste(\"Proportion of sample proportions within the given interval = \", prop_in/10000), quote= FALSE)\n",
    "\n",
    "# Append Question 13 Code\n",
    "print(paste(\"Proportion of Confidence Intervals containing the population proportion=\",\n",
    "            sum(pp_in_CI)/10000),quote=FALSE)"
   ]
  },
  {
   "cell_type": "code",
   "execution_count": null,
   "id": "43300626",
   "metadata": {},
   "outputs": [],
   "source": []
  },
  {
   "cell_type": "markdown",
   "id": "6021ff7d",
   "metadata": {},
   "source": []
  },
  {
   "cell_type": "markdown",
   "id": "39e6b8ad",
   "metadata": {},
   "source": []
  }
 ],
 "metadata": {
  "kernelspec": {
   "display_name": "R",
   "language": "R",
   "name": "ir"
  },
  "language_info": {
   "codemirror_mode": "r",
   "file_extension": ".r",
   "mimetype": "text/x-r-source",
   "name": "R",
   "pygments_lexer": "r",
   "version": "4.2.2"
  }
 },
 "nbformat": 4,
 "nbformat_minor": 5
}
