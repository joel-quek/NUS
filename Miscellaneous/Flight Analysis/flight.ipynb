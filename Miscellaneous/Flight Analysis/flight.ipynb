{
 "cells": [
  {
   "attachments": {},
   "cell_type": "markdown",
   "metadata": {},
   "source": [
    "# ASA Flight Data"
   ]
  },
  {
   "attachments": {},
   "cell_type": "markdown",
   "metadata": {},
   "source": [
    "The 2009 ASA Statistical Computing and Graphics Data Expo consisted of flight arrival and departure\n",
    "details for all commercial flights on major carriers within the USA, from October 1987 to April 2008.\n",
    "This is a large dataset; there are nearly 120 million records in total, and takes up 1.6 gigabytes of space\n",
    "compressed and 12 gigabytes when uncompressed. The complete dataset along with supplementary\n",
    "information and variable descriptions can be downloaded from the Harvard Dataverse at:\n",
    "\n",
    "https://doi.org/10.7910/DVN/HG7NV7\n",
    "\n",
    "Choose any subset of (at least two) consecutive years and any of the supplementary information provided\n",
    "by the Harvard Dataverse to answer the following questions:\n",
    "\n",
    "1. When is the best time of day, day of the week, and time of year to fly to minimise delays?\n",
    "2. How does the number of people flying between different locations change over time?\n",
    "3. Can you detect cascading failures as delays in one airport create delays in others?\n",
    "4. Use the available variables to construct a model that predicts delays.\n",
    "\n",
    "All questions should be answered using Python for all tasks.\n",
    "\n",
    "Deliverables:\n",
    "• Provide a short written answer to each question clearly describing the methodology employed in\n",
    "your code. You can do this either as scripts or notebooks, clearly indicating with comments (or\n",
    "filename if multiple scripts/notebooks) which question it is addressing. Any databases you set\n",
    "up, data wrangling/cleaning operations you carry out, and any modelling decisions you make\n",
    "should be clearly described.\n",
    "• You should also supply the code you used to answer each question, in a way that can be used by\n",
    "someone else to replicate your analyses. Reminder that the code should be in Python for all tasks."
   ]
  },
  {
   "attachments": {},
   "cell_type": "markdown",
   "metadata": {},
   "source": [
    "## Extract Data\n",
    "\n",
    "Convert bz2 file type to csv by using BreeZip\n",
    "\n",
    "I used 1989 (my birth year) and 1990 data"
   ]
  },
  {
   "cell_type": "code",
   "execution_count": 34,
   "metadata": {},
   "outputs": [],
   "source": [
    "import csv\n",
    "import pandas as pd\n",
    "import seaborn as sns"
   ]
  },
  {
   "cell_type": "code",
   "execution_count": 8,
   "metadata": {},
   "outputs": [],
   "source": [
    "df_1989 =pd.read_csv('1989.csv')\n",
    "df_1990=pd.read_csv('1990.csv')"
   ]
  },
  {
   "attachments": {},
   "cell_type": "markdown",
   "metadata": {},
   "source": [
    "Check that the extracted files are Pandas dataframes"
   ]
  },
  {
   "cell_type": "code",
   "execution_count": 9,
   "metadata": {},
   "outputs": [
    {
     "name": "stdout",
     "output_type": "stream",
     "text": [
      "<class 'pandas.core.frame.DataFrame'>\n"
     ]
    }
   ],
   "source": [
    "print(type(df_1989))"
   ]
  },
  {
   "cell_type": "code",
   "execution_count": 10,
   "metadata": {},
   "outputs": [
    {
     "data": {
      "text/html": [
       "<div>\n",
       "<style scoped>\n",
       "    .dataframe tbody tr th:only-of-type {\n",
       "        vertical-align: middle;\n",
       "    }\n",
       "\n",
       "    .dataframe tbody tr th {\n",
       "        vertical-align: top;\n",
       "    }\n",
       "\n",
       "    .dataframe thead th {\n",
       "        text-align: right;\n",
       "    }\n",
       "</style>\n",
       "<table border=\"1\" class=\"dataframe\">\n",
       "  <thead>\n",
       "    <tr style=\"text-align: right;\">\n",
       "      <th></th>\n",
       "      <th>Year</th>\n",
       "      <th>Month</th>\n",
       "      <th>DayofMonth</th>\n",
       "      <th>DayOfWeek</th>\n",
       "      <th>DepTime</th>\n",
       "      <th>CRSDepTime</th>\n",
       "      <th>ArrTime</th>\n",
       "      <th>CRSArrTime</th>\n",
       "      <th>UniqueCarrier</th>\n",
       "      <th>FlightNum</th>\n",
       "      <th>...</th>\n",
       "      <th>TaxiIn</th>\n",
       "      <th>TaxiOut</th>\n",
       "      <th>Cancelled</th>\n",
       "      <th>CancellationCode</th>\n",
       "      <th>Diverted</th>\n",
       "      <th>CarrierDelay</th>\n",
       "      <th>WeatherDelay</th>\n",
       "      <th>NASDelay</th>\n",
       "      <th>SecurityDelay</th>\n",
       "      <th>LateAircraftDelay</th>\n",
       "    </tr>\n",
       "  </thead>\n",
       "  <tbody>\n",
       "    <tr>\n",
       "      <th>0</th>\n",
       "      <td>1989</td>\n",
       "      <td>1</td>\n",
       "      <td>23</td>\n",
       "      <td>1</td>\n",
       "      <td>1419.0</td>\n",
       "      <td>1230</td>\n",
       "      <td>1742.0</td>\n",
       "      <td>1552</td>\n",
       "      <td>UA</td>\n",
       "      <td>183</td>\n",
       "      <td>...</td>\n",
       "      <td>NaN</td>\n",
       "      <td>NaN</td>\n",
       "      <td>0</td>\n",
       "      <td>NaN</td>\n",
       "      <td>0</td>\n",
       "      <td>NaN</td>\n",
       "      <td>NaN</td>\n",
       "      <td>NaN</td>\n",
       "      <td>NaN</td>\n",
       "      <td>NaN</td>\n",
       "    </tr>\n",
       "    <tr>\n",
       "      <th>1</th>\n",
       "      <td>1989</td>\n",
       "      <td>1</td>\n",
       "      <td>24</td>\n",
       "      <td>2</td>\n",
       "      <td>1255.0</td>\n",
       "      <td>1230</td>\n",
       "      <td>1612.0</td>\n",
       "      <td>1552</td>\n",
       "      <td>UA</td>\n",
       "      <td>183</td>\n",
       "      <td>...</td>\n",
       "      <td>NaN</td>\n",
       "      <td>NaN</td>\n",
       "      <td>0</td>\n",
       "      <td>NaN</td>\n",
       "      <td>0</td>\n",
       "      <td>NaN</td>\n",
       "      <td>NaN</td>\n",
       "      <td>NaN</td>\n",
       "      <td>NaN</td>\n",
       "      <td>NaN</td>\n",
       "    </tr>\n",
       "    <tr>\n",
       "      <th>2</th>\n",
       "      <td>1989</td>\n",
       "      <td>1</td>\n",
       "      <td>25</td>\n",
       "      <td>3</td>\n",
       "      <td>1230.0</td>\n",
       "      <td>1230</td>\n",
       "      <td>1533.0</td>\n",
       "      <td>1552</td>\n",
       "      <td>UA</td>\n",
       "      <td>183</td>\n",
       "      <td>...</td>\n",
       "      <td>NaN</td>\n",
       "      <td>NaN</td>\n",
       "      <td>0</td>\n",
       "      <td>NaN</td>\n",
       "      <td>0</td>\n",
       "      <td>NaN</td>\n",
       "      <td>NaN</td>\n",
       "      <td>NaN</td>\n",
       "      <td>NaN</td>\n",
       "      <td>NaN</td>\n",
       "    </tr>\n",
       "    <tr>\n",
       "      <th>3</th>\n",
       "      <td>1989</td>\n",
       "      <td>1</td>\n",
       "      <td>26</td>\n",
       "      <td>4</td>\n",
       "      <td>1230.0</td>\n",
       "      <td>1230</td>\n",
       "      <td>1523.0</td>\n",
       "      <td>1552</td>\n",
       "      <td>UA</td>\n",
       "      <td>183</td>\n",
       "      <td>...</td>\n",
       "      <td>NaN</td>\n",
       "      <td>NaN</td>\n",
       "      <td>0</td>\n",
       "      <td>NaN</td>\n",
       "      <td>0</td>\n",
       "      <td>NaN</td>\n",
       "      <td>NaN</td>\n",
       "      <td>NaN</td>\n",
       "      <td>NaN</td>\n",
       "      <td>NaN</td>\n",
       "    </tr>\n",
       "    <tr>\n",
       "      <th>4</th>\n",
       "      <td>1989</td>\n",
       "      <td>1</td>\n",
       "      <td>27</td>\n",
       "      <td>5</td>\n",
       "      <td>1232.0</td>\n",
       "      <td>1230</td>\n",
       "      <td>1513.0</td>\n",
       "      <td>1552</td>\n",
       "      <td>UA</td>\n",
       "      <td>183</td>\n",
       "      <td>...</td>\n",
       "      <td>NaN</td>\n",
       "      <td>NaN</td>\n",
       "      <td>0</td>\n",
       "      <td>NaN</td>\n",
       "      <td>0</td>\n",
       "      <td>NaN</td>\n",
       "      <td>NaN</td>\n",
       "      <td>NaN</td>\n",
       "      <td>NaN</td>\n",
       "      <td>NaN</td>\n",
       "    </tr>\n",
       "  </tbody>\n",
       "</table>\n",
       "<p>5 rows × 29 columns</p>\n",
       "</div>"
      ],
      "text/plain": [
       "   Year  Month  DayofMonth  DayOfWeek  DepTime  CRSDepTime  ArrTime  \\\n",
       "0  1989      1          23          1   1419.0        1230   1742.0   \n",
       "1  1989      1          24          2   1255.0        1230   1612.0   \n",
       "2  1989      1          25          3   1230.0        1230   1533.0   \n",
       "3  1989      1          26          4   1230.0        1230   1523.0   \n",
       "4  1989      1          27          5   1232.0        1230   1513.0   \n",
       "\n",
       "   CRSArrTime UniqueCarrier  FlightNum  ...  TaxiIn  TaxiOut  Cancelled  \\\n",
       "0        1552            UA        183  ...     NaN      NaN          0   \n",
       "1        1552            UA        183  ...     NaN      NaN          0   \n",
       "2        1552            UA        183  ...     NaN      NaN          0   \n",
       "3        1552            UA        183  ...     NaN      NaN          0   \n",
       "4        1552            UA        183  ...     NaN      NaN          0   \n",
       "\n",
       "   CancellationCode  Diverted  CarrierDelay WeatherDelay NASDelay  \\\n",
       "0               NaN         0           NaN          NaN      NaN   \n",
       "1               NaN         0           NaN          NaN      NaN   \n",
       "2               NaN         0           NaN          NaN      NaN   \n",
       "3               NaN         0           NaN          NaN      NaN   \n",
       "4               NaN         0           NaN          NaN      NaN   \n",
       "\n",
       "   SecurityDelay  LateAircraftDelay  \n",
       "0            NaN                NaN  \n",
       "1            NaN                NaN  \n",
       "2            NaN                NaN  \n",
       "3            NaN                NaN  \n",
       "4            NaN                NaN  \n",
       "\n",
       "[5 rows x 29 columns]"
      ]
     },
     "execution_count": 10,
     "metadata": {},
     "output_type": "execute_result"
    }
   ],
   "source": [
    "df_1989.head()"
   ]
  },
  {
   "attachments": {},
   "cell_type": "markdown",
   "metadata": {},
   "source": [
    "Check the dimensions of each dataframe"
   ]
  },
  {
   "cell_type": "code",
   "execution_count": 15,
   "metadata": {},
   "outputs": [
    {
     "data": {
      "text/plain": [
       "(5041200, 29)"
      ]
     },
     "execution_count": 15,
     "metadata": {},
     "output_type": "execute_result"
    }
   ],
   "source": [
    "df_1989.shape"
   ]
  },
  {
   "cell_type": "code",
   "execution_count": 13,
   "metadata": {},
   "outputs": [
    {
     "data": {
      "text/plain": [
       "(5270893, 29)"
      ]
     },
     "execution_count": 13,
     "metadata": {},
     "output_type": "execute_result"
    }
   ],
   "source": [
    "df_1990.shape"
   ]
  },
  {
   "attachments": {},
   "cell_type": "markdown",
   "metadata": {},
   "source": [
    "We can see that each dataframe has the same number of columns"
   ]
  },
  {
   "cell_type": "code",
   "execution_count": 16,
   "metadata": {},
   "outputs": [
    {
     "data": {
      "text/plain": [
       "Index(['Year', 'Month', 'DayofMonth', 'DayOfWeek', 'DepTime', 'CRSDepTime',\n",
       "       'ArrTime', 'CRSArrTime', 'UniqueCarrier', 'FlightNum', 'TailNum',\n",
       "       'ActualElapsedTime', 'CRSElapsedTime', 'AirTime', 'ArrDelay',\n",
       "       'DepDelay', 'Origin', 'Dest', 'Distance', 'TaxiIn', 'TaxiOut',\n",
       "       'Cancelled', 'CancellationCode', 'Diverted', 'CarrierDelay',\n",
       "       'WeatherDelay', 'NASDelay', 'SecurityDelay', 'LateAircraftDelay'],\n",
       "      dtype='object')"
      ]
     },
     "execution_count": 16,
     "metadata": {},
     "output_type": "execute_result"
    }
   ],
   "source": [
    "df_1989.columns"
   ]
  },
  {
   "cell_type": "code",
   "execution_count": 17,
   "metadata": {},
   "outputs": [
    {
     "data": {
      "text/plain": [
       "Index(['Year', 'Month', 'DayofMonth', 'DayOfWeek', 'DepTime', 'CRSDepTime',\n",
       "       'ArrTime', 'CRSArrTime', 'UniqueCarrier', 'FlightNum', 'TailNum',\n",
       "       'ActualElapsedTime', 'CRSElapsedTime', 'AirTime', 'ArrDelay',\n",
       "       'DepDelay', 'Origin', 'Dest', 'Distance', 'TaxiIn', 'TaxiOut',\n",
       "       'Cancelled', 'CancellationCode', 'Diverted', 'CarrierDelay',\n",
       "       'WeatherDelay', 'NASDelay', 'SecurityDelay', 'LateAircraftDelay'],\n",
       "      dtype='object')"
      ]
     },
     "execution_count": 17,
     "metadata": {},
     "output_type": "execute_result"
    }
   ],
   "source": [
    "df_1990.columns"
   ]
  },
  {
   "attachments": {},
   "cell_type": "markdown",
   "metadata": {},
   "source": [
    "Both dataframes also have the same column labels"
   ]
  },
  {
   "attachments": {},
   "cell_type": "markdown",
   "metadata": {},
   "source": [
    "Join both dataframes on top of each other"
   ]
  },
  {
   "cell_type": "code",
   "execution_count": 20,
   "metadata": {},
   "outputs": [],
   "source": [
    "df_join = pd.concat([df_1989,df_1990])"
   ]
  },
  {
   "cell_type": "code",
   "execution_count": 21,
   "metadata": {},
   "outputs": [
    {
     "data": {
      "text/html": [
       "<div>\n",
       "<style scoped>\n",
       "    .dataframe tbody tr th:only-of-type {\n",
       "        vertical-align: middle;\n",
       "    }\n",
       "\n",
       "    .dataframe tbody tr th {\n",
       "        vertical-align: top;\n",
       "    }\n",
       "\n",
       "    .dataframe thead th {\n",
       "        text-align: right;\n",
       "    }\n",
       "</style>\n",
       "<table border=\"1\" class=\"dataframe\">\n",
       "  <thead>\n",
       "    <tr style=\"text-align: right;\">\n",
       "      <th></th>\n",
       "      <th>Year</th>\n",
       "      <th>Month</th>\n",
       "      <th>DayofMonth</th>\n",
       "      <th>DayOfWeek</th>\n",
       "      <th>DepTime</th>\n",
       "      <th>CRSDepTime</th>\n",
       "      <th>ArrTime</th>\n",
       "      <th>CRSArrTime</th>\n",
       "      <th>UniqueCarrier</th>\n",
       "      <th>FlightNum</th>\n",
       "      <th>...</th>\n",
       "      <th>TaxiIn</th>\n",
       "      <th>TaxiOut</th>\n",
       "      <th>Cancelled</th>\n",
       "      <th>CancellationCode</th>\n",
       "      <th>Diverted</th>\n",
       "      <th>CarrierDelay</th>\n",
       "      <th>WeatherDelay</th>\n",
       "      <th>NASDelay</th>\n",
       "      <th>SecurityDelay</th>\n",
       "      <th>LateAircraftDelay</th>\n",
       "    </tr>\n",
       "  </thead>\n",
       "  <tbody>\n",
       "    <tr>\n",
       "      <th>0</th>\n",
       "      <td>1989</td>\n",
       "      <td>1</td>\n",
       "      <td>23</td>\n",
       "      <td>1</td>\n",
       "      <td>1419.0</td>\n",
       "      <td>1230</td>\n",
       "      <td>1742.0</td>\n",
       "      <td>1552</td>\n",
       "      <td>UA</td>\n",
       "      <td>183</td>\n",
       "      <td>...</td>\n",
       "      <td>NaN</td>\n",
       "      <td>NaN</td>\n",
       "      <td>0</td>\n",
       "      <td>NaN</td>\n",
       "      <td>0</td>\n",
       "      <td>NaN</td>\n",
       "      <td>NaN</td>\n",
       "      <td>NaN</td>\n",
       "      <td>NaN</td>\n",
       "      <td>NaN</td>\n",
       "    </tr>\n",
       "    <tr>\n",
       "      <th>1</th>\n",
       "      <td>1989</td>\n",
       "      <td>1</td>\n",
       "      <td>24</td>\n",
       "      <td>2</td>\n",
       "      <td>1255.0</td>\n",
       "      <td>1230</td>\n",
       "      <td>1612.0</td>\n",
       "      <td>1552</td>\n",
       "      <td>UA</td>\n",
       "      <td>183</td>\n",
       "      <td>...</td>\n",
       "      <td>NaN</td>\n",
       "      <td>NaN</td>\n",
       "      <td>0</td>\n",
       "      <td>NaN</td>\n",
       "      <td>0</td>\n",
       "      <td>NaN</td>\n",
       "      <td>NaN</td>\n",
       "      <td>NaN</td>\n",
       "      <td>NaN</td>\n",
       "      <td>NaN</td>\n",
       "    </tr>\n",
       "    <tr>\n",
       "      <th>2</th>\n",
       "      <td>1989</td>\n",
       "      <td>1</td>\n",
       "      <td>25</td>\n",
       "      <td>3</td>\n",
       "      <td>1230.0</td>\n",
       "      <td>1230</td>\n",
       "      <td>1533.0</td>\n",
       "      <td>1552</td>\n",
       "      <td>UA</td>\n",
       "      <td>183</td>\n",
       "      <td>...</td>\n",
       "      <td>NaN</td>\n",
       "      <td>NaN</td>\n",
       "      <td>0</td>\n",
       "      <td>NaN</td>\n",
       "      <td>0</td>\n",
       "      <td>NaN</td>\n",
       "      <td>NaN</td>\n",
       "      <td>NaN</td>\n",
       "      <td>NaN</td>\n",
       "      <td>NaN</td>\n",
       "    </tr>\n",
       "    <tr>\n",
       "      <th>3</th>\n",
       "      <td>1989</td>\n",
       "      <td>1</td>\n",
       "      <td>26</td>\n",
       "      <td>4</td>\n",
       "      <td>1230.0</td>\n",
       "      <td>1230</td>\n",
       "      <td>1523.0</td>\n",
       "      <td>1552</td>\n",
       "      <td>UA</td>\n",
       "      <td>183</td>\n",
       "      <td>...</td>\n",
       "      <td>NaN</td>\n",
       "      <td>NaN</td>\n",
       "      <td>0</td>\n",
       "      <td>NaN</td>\n",
       "      <td>0</td>\n",
       "      <td>NaN</td>\n",
       "      <td>NaN</td>\n",
       "      <td>NaN</td>\n",
       "      <td>NaN</td>\n",
       "      <td>NaN</td>\n",
       "    </tr>\n",
       "    <tr>\n",
       "      <th>4</th>\n",
       "      <td>1989</td>\n",
       "      <td>1</td>\n",
       "      <td>27</td>\n",
       "      <td>5</td>\n",
       "      <td>1232.0</td>\n",
       "      <td>1230</td>\n",
       "      <td>1513.0</td>\n",
       "      <td>1552</td>\n",
       "      <td>UA</td>\n",
       "      <td>183</td>\n",
       "      <td>...</td>\n",
       "      <td>NaN</td>\n",
       "      <td>NaN</td>\n",
       "      <td>0</td>\n",
       "      <td>NaN</td>\n",
       "      <td>0</td>\n",
       "      <td>NaN</td>\n",
       "      <td>NaN</td>\n",
       "      <td>NaN</td>\n",
       "      <td>NaN</td>\n",
       "      <td>NaN</td>\n",
       "    </tr>\n",
       "  </tbody>\n",
       "</table>\n",
       "<p>5 rows × 29 columns</p>\n",
       "</div>"
      ],
      "text/plain": [
       "   Year  Month  DayofMonth  DayOfWeek  DepTime  CRSDepTime  ArrTime  \\\n",
       "0  1989      1          23          1   1419.0        1230   1742.0   \n",
       "1  1989      1          24          2   1255.0        1230   1612.0   \n",
       "2  1989      1          25          3   1230.0        1230   1533.0   \n",
       "3  1989      1          26          4   1230.0        1230   1523.0   \n",
       "4  1989      1          27          5   1232.0        1230   1513.0   \n",
       "\n",
       "   CRSArrTime UniqueCarrier  FlightNum  ...  TaxiIn  TaxiOut  Cancelled  \\\n",
       "0        1552            UA        183  ...     NaN      NaN          0   \n",
       "1        1552            UA        183  ...     NaN      NaN          0   \n",
       "2        1552            UA        183  ...     NaN      NaN          0   \n",
       "3        1552            UA        183  ...     NaN      NaN          0   \n",
       "4        1552            UA        183  ...     NaN      NaN          0   \n",
       "\n",
       "   CancellationCode  Diverted  CarrierDelay WeatherDelay NASDelay  \\\n",
       "0               NaN         0           NaN          NaN      NaN   \n",
       "1               NaN         0           NaN          NaN      NaN   \n",
       "2               NaN         0           NaN          NaN      NaN   \n",
       "3               NaN         0           NaN          NaN      NaN   \n",
       "4               NaN         0           NaN          NaN      NaN   \n",
       "\n",
       "   SecurityDelay  LateAircraftDelay  \n",
       "0            NaN                NaN  \n",
       "1            NaN                NaN  \n",
       "2            NaN                NaN  \n",
       "3            NaN                NaN  \n",
       "4            NaN                NaN  \n",
       "\n",
       "[5 rows x 29 columns]"
      ]
     },
     "execution_count": 21,
     "metadata": {},
     "output_type": "execute_result"
    }
   ],
   "source": [
    "df_join.head()"
   ]
  },
  {
   "cell_type": "code",
   "execution_count": 22,
   "metadata": {},
   "outputs": [
    {
     "data": {
      "text/plain": [
       "(10312093, 29)"
      ]
     },
     "execution_count": 22,
     "metadata": {},
     "output_type": "execute_result"
    }
   ],
   "source": [
    "df_join.shape"
   ]
  },
  {
   "attachments": {},
   "cell_type": "markdown",
   "metadata": {},
   "source": [
    "## 1. When is the best time of day, day of the week, and time of year to fly to minimise delays?"
   ]
  },
  {
   "attachments": {},
   "cell_type": "markdown",
   "metadata": {},
   "source": [
    "I would plot three charts\n",
    "1. Average Delays against Time of Day\n",
    "2. Average Delays against day of week\n",
    "3. Average Delays against time of year\n",
    "\n",
    "But first we need a data dictionary to see what the column labels mean"
   ]
  },
  {
   "cell_type": "code",
   "execution_count": 32,
   "metadata": {},
   "outputs": [],
   "source": [
    "data_dict =pd.read_csv('variable-descriptions.csv')"
   ]
  },
  {
   "cell_type": "code",
   "execution_count": 33,
   "metadata": {},
   "outputs": [
    {
     "data": {
      "text/html": [
       "<div>\n",
       "<style scoped>\n",
       "    .dataframe tbody tr th:only-of-type {\n",
       "        vertical-align: middle;\n",
       "    }\n",
       "\n",
       "    .dataframe tbody tr th {\n",
       "        vertical-align: top;\n",
       "    }\n",
       "\n",
       "    .dataframe thead th {\n",
       "        text-align: right;\n",
       "    }\n",
       "</style>\n",
       "<table border=\"1\" class=\"dataframe\">\n",
       "  <thead>\n",
       "    <tr style=\"text-align: right;\">\n",
       "      <th>1</th>\n",
       "      <th>Name</th>\n",
       "      <th>Description</th>\n",
       "    </tr>\n",
       "  </thead>\n",
       "  <tbody>\n",
       "    <tr>\n",
       "      <th>0</th>\n",
       "      <td>NaN</td>\n",
       "      <td>NaN</td>\n",
       "    </tr>\n",
       "    <tr>\n",
       "      <th>1</th>\n",
       "      <td>Name</td>\n",
       "      <td>Description</td>\n",
       "    </tr>\n",
       "    <tr>\n",
       "      <th>2</th>\n",
       "      <td>Year</td>\n",
       "      <td>1987-2008</td>\n",
       "    </tr>\n",
       "    <tr>\n",
       "      <th>3</th>\n",
       "      <td>Month</td>\n",
       "      <td>12-Jan</td>\n",
       "    </tr>\n",
       "    <tr>\n",
       "      <th>4</th>\n",
       "      <td>DayofMonth</td>\n",
       "      <td>31-Jan</td>\n",
       "    </tr>\n",
       "    <tr>\n",
       "      <th>5</th>\n",
       "      <td>DayOfWeek</td>\n",
       "      <td>1 (Monday) - 7 (Sunday)</td>\n",
       "    </tr>\n",
       "    <tr>\n",
       "      <th>6</th>\n",
       "      <td>DepTime</td>\n",
       "      <td>actual departure time (local, hhmm)</td>\n",
       "    </tr>\n",
       "    <tr>\n",
       "      <th>7</th>\n",
       "      <td>CRSDepTime</td>\n",
       "      <td>scheduled departure time (local, hhmm)</td>\n",
       "    </tr>\n",
       "    <tr>\n",
       "      <th>8</th>\n",
       "      <td>ArrTime</td>\n",
       "      <td>actual arrival time (local, hhmm)</td>\n",
       "    </tr>\n",
       "    <tr>\n",
       "      <th>9</th>\n",
       "      <td>CRSArrTime</td>\n",
       "      <td>scheduled arrival time (local, hhmm)</td>\n",
       "    </tr>\n",
       "    <tr>\n",
       "      <th>10</th>\n",
       "      <td>UniqueCarrier</td>\n",
       "      <td>unique carrier code</td>\n",
       "    </tr>\n",
       "    <tr>\n",
       "      <th>11</th>\n",
       "      <td>FlightNum</td>\n",
       "      <td>flight number</td>\n",
       "    </tr>\n",
       "    <tr>\n",
       "      <th>12</th>\n",
       "      <td>TailNum</td>\n",
       "      <td>plane tail number</td>\n",
       "    </tr>\n",
       "    <tr>\n",
       "      <th>13</th>\n",
       "      <td>ActualElapsedTime</td>\n",
       "      <td>in minutes</td>\n",
       "    </tr>\n",
       "    <tr>\n",
       "      <th>14</th>\n",
       "      <td>CRSElapsedTime</td>\n",
       "      <td>in minutes</td>\n",
       "    </tr>\n",
       "    <tr>\n",
       "      <th>15</th>\n",
       "      <td>AirTime</td>\n",
       "      <td>in minutes</td>\n",
       "    </tr>\n",
       "    <tr>\n",
       "      <th>16</th>\n",
       "      <td>ArrDelay</td>\n",
       "      <td>arrival delay, in minutes</td>\n",
       "    </tr>\n",
       "    <tr>\n",
       "      <th>17</th>\n",
       "      <td>DepDelay</td>\n",
       "      <td>departure delay, in minutes</td>\n",
       "    </tr>\n",
       "    <tr>\n",
       "      <th>18</th>\n",
       "      <td>Origin</td>\n",
       "      <td>origin IATA airport code</td>\n",
       "    </tr>\n",
       "    <tr>\n",
       "      <th>19</th>\n",
       "      <td>Dest</td>\n",
       "      <td>destination IATA airport code</td>\n",
       "    </tr>\n",
       "    <tr>\n",
       "      <th>20</th>\n",
       "      <td>Distance</td>\n",
       "      <td>in miles</td>\n",
       "    </tr>\n",
       "    <tr>\n",
       "      <th>21</th>\n",
       "      <td>TaxiIn</td>\n",
       "      <td>taxi in time, in minutes</td>\n",
       "    </tr>\n",
       "    <tr>\n",
       "      <th>22</th>\n",
       "      <td>TaxiOut</td>\n",
       "      <td>taxi out time in minutes</td>\n",
       "    </tr>\n",
       "    <tr>\n",
       "      <th>23</th>\n",
       "      <td>Cancelled</td>\n",
       "      <td>was the flight cancelled?</td>\n",
       "    </tr>\n",
       "    <tr>\n",
       "      <th>24</th>\n",
       "      <td>CancellationCode</td>\n",
       "      <td>reason for cancellation (A = carrier, B = weat...</td>\n",
       "    </tr>\n",
       "    <tr>\n",
       "      <th>25</th>\n",
       "      <td>Diverted</td>\n",
       "      <td>1 = yes, 0 = no</td>\n",
       "    </tr>\n",
       "    <tr>\n",
       "      <th>26</th>\n",
       "      <td>CarrierDelay</td>\n",
       "      <td>in minutes</td>\n",
       "    </tr>\n",
       "    <tr>\n",
       "      <th>27</th>\n",
       "      <td>WeatherDelay</td>\n",
       "      <td>in minutes</td>\n",
       "    </tr>\n",
       "    <tr>\n",
       "      <th>28</th>\n",
       "      <td>NASDelay</td>\n",
       "      <td>in minutes</td>\n",
       "    </tr>\n",
       "    <tr>\n",
       "      <th>29</th>\n",
       "      <td>SecurityDelay</td>\n",
       "      <td>in minutes</td>\n",
       "    </tr>\n",
       "    <tr>\n",
       "      <th>30</th>\n",
       "      <td>LateAircraftDelay</td>\n",
       "      <td>in minutes</td>\n",
       "    </tr>\n",
       "  </tbody>\n",
       "</table>\n",
       "</div>"
      ],
      "text/plain": [
       "1                Name                                        Description\n",
       "0                 NaN                                                NaN\n",
       "1                Name                                        Description\n",
       "2                Year                                          1987-2008\n",
       "3               Month                                             12-Jan\n",
       "4          DayofMonth                                             31-Jan\n",
       "5           DayOfWeek                            1 (Monday) - 7 (Sunday)\n",
       "6             DepTime                actual departure time (local, hhmm)\n",
       "7          CRSDepTime             scheduled departure time (local, hhmm)\n",
       "8             ArrTime                  actual arrival time (local, hhmm)\n",
       "9          CRSArrTime               scheduled arrival time (local, hhmm)\n",
       "10      UniqueCarrier                                unique carrier code\n",
       "11          FlightNum                                      flight number\n",
       "12            TailNum                                  plane tail number\n",
       "13  ActualElapsedTime                                         in minutes\n",
       "14     CRSElapsedTime                                         in minutes\n",
       "15            AirTime                                         in minutes\n",
       "16           ArrDelay                          arrival delay, in minutes\n",
       "17           DepDelay                        departure delay, in minutes\n",
       "18             Origin                           origin IATA airport code\n",
       "19               Dest                      destination IATA airport code\n",
       "20           Distance                                           in miles\n",
       "21             TaxiIn                           taxi in time, in minutes\n",
       "22            TaxiOut                           taxi out time in minutes\n",
       "23          Cancelled                          was the flight cancelled?\n",
       "24   CancellationCode  reason for cancellation (A = carrier, B = weat...\n",
       "25           Diverted                                    1 = yes, 0 = no\n",
       "26       CarrierDelay                                         in minutes\n",
       "27       WeatherDelay                                         in minutes\n",
       "28           NASDelay                                         in minutes\n",
       "29      SecurityDelay                                         in minutes\n",
       "30  LateAircraftDelay                                         in minutes"
      ]
     },
     "execution_count": 33,
     "metadata": {},
     "output_type": "execute_result"
    }
   ],
   "source": [
    "data_dict.drop(['Variable descriptions'],axis=1, inplace=True)\n",
    "data_dict.columns=data_dict.iloc[1]\n",
    "data_dict"
   ]
  },
  {
   "attachments": {},
   "cell_type": "markdown",
   "metadata": {},
   "source": [
    "I will do the first plot, and see if Time of Day affects departure delay, so the columns I care about are\n",
    "1. CRSDepTime\n",
    "2. DepDelay"
   ]
  },
  {
   "cell_type": "code",
   "execution_count": 35,
   "metadata": {},
   "outputs": [
    {
     "data": {
      "text/plain": [
       "<seaborn.axisgrid.FacetGrid at 0x166030f35e0>"
      ]
     },
     "execution_count": 35,
     "metadata": {},
     "output_type": "execute_result"
    },
    {
     "data": {
      "image/png": "[encoded data removed]",
      "text/plain": [
       "<Figure size 360x360 with 1 Axes>"
      ]
     },
     "metadata": {
      "needs_background": "light"
     },
     "output_type": "display_data"
    }
   ],
   "source": [
    "sns.relplot(data=df_join, x=\"CRSDepTime\", y=\"DepDelay\")"
   ]
  },
  {
   "attachments": {},
   "cell_type": "markdown",
   "metadata": {},
   "source": [
    "I believe you can see when there is the least delay in flight time based on the scatter plot. Try the rest yourself!\n",
    "\n",
    "You should now plot \n",
    "\n",
    "2. Average Delays against day of week\n",
    "3. Average Delays against time of year"
   ]
  },
  {
   "attachments": {},
   "cell_type": "markdown",
   "metadata": {},
   "source": [
    "## 2. How does the number of people flying between different locations change over time?"
   ]
  },
  {
   "attachments": {},
   "cell_type": "markdown",
   "metadata": {},
   "source": [
    "I cant seem to find any data related to the number of people flying. Let me know if you found something."
   ]
  },
  {
   "cell_type": "code",
   "execution_count": null,
   "metadata": {},
   "outputs": [],
   "source": []
  },
  {
   "attachments": {},
   "cell_type": "markdown",
   "metadata": {},
   "source": [
    "# 3. Can you detect cascading failures as delays in one airport create delays in others?"
   ]
  },
  {
   "attachments": {},
   "cell_type": "markdown",
   "metadata": {},
   "source": [
    "Hint\n",
    "\n",
    "1. Use the columns Origin and Dest\n",
    "2. Check the FlightNum to make sure it matches\n",
    "3. It would make sense that FlightNums would repeat themselves because there are departure and arrival destinations for every flight"
   ]
  },
  {
   "cell_type": "code",
   "execution_count": null,
   "metadata": {},
   "outputs": [],
   "source": []
  },
  {
   "attachments": {},
   "cell_type": "markdown",
   "metadata": {},
   "source": [
    "# 4. Use the available variables to construct a model that predicts delays."
   ]
  },
  {
   "attachments": {},
   "cell_type": "markdown",
   "metadata": {},
   "source": [
    "Hint\n",
    "1. Use sklearn library to import LinearRegression\n",
    "2. Determine which variables are categorical and which are numerical\n",
    "3. For categorical variables you will need to create dummies (https://www.geeksforgeeks.org/how-to-create-dummy-variables-in-python-with-pandas/)\n",
    "4. For numerical variables you will need to normalise them (https://www.digitalocean.com/community/tutorials/normalize-data-in-python)\n",
    "5. After you do all these, remove the NaN values\n",
    "6. Then perform multilinear regression with DepDelay as the response variable (https://scikit-learn.org/stable/modules/generated/sklearn.linear_model.LinearRegression.html)\n",
    "\n",
    "You may refer to an example where I performed linear regression to predict house prices (https://github.com/joel-quek/General-Assembly-DSI/blob/main/Projects/Project%202/joel_project_2%20Final.ipynb)"
   ]
  },
  {
   "cell_type": "code",
   "execution_count": null,
   "metadata": {},
   "outputs": [],
   "source": []
  }
 ],
 "metadata": {
  "kernelspec": {
   "display_name": "Python 3",
   "language": "python",
   "name": "python3"
  },
  "language_info": {
   "codemirror_mode": {
    "name": "ipython",
    "version": 3
   },
   "file_extension": ".py",
   "mimetype": "text/x-python",
   "name": "python",
   "nbconvert_exporter": "python",
   "pygments_lexer": "ipython3",
   "version": "3.10.5"
  },
  "orig_nbformat": 4
 },
 "nbformat": 4,
 "nbformat_minor": 2
}
