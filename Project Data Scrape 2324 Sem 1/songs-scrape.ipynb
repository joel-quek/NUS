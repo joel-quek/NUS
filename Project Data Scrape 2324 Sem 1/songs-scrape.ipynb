{
 "cells": [
  {
   "cell_type": "code",
   "execution_count": 1,
   "metadata": {},
   "outputs": [],
   "source": [
    "import pandas as pd\n",
    "from bs4 import BeautifulSoup as bs\n",
    "from pprint import pprint\n",
    "import numpy as np\n",
    "\n",
    "from selenium import webdriver\n",
    "from webdriver_manager.chrome import ChromeDriverManager\n",
    "import time\n",
    "from time import sleep\n",
    "import re "
   ]
  },
  {
   "cell_type": "code",
   "execution_count": 3,
   "metadata": {},
   "outputs": [],
   "source": [
    "df = pd.read_csv('Scraped.csv')"
   ]
  },
  {
   "cell_type": "code",
   "execution_count": 4,
   "metadata": {},
   "outputs": [],
   "source": [
    "def remove_brackets_inverted_commas(string):\n",
    "    return re.sub(r\"[\\[\\]']\", \"\", string)"
   ]
  },
  {
   "cell_type": "code",
   "execution_count": 5,
   "metadata": {},
   "outputs": [],
   "source": [
    "df['artists'] = df['artists'].apply(remove_brackets_inverted_commas)"
   ]
  },
  {
   "cell_type": "code",
   "execution_count": 6,
   "metadata": {},
   "outputs": [
    {
     "name": "stdout",
     "output_type": "stream",
     "text": [
      "(6835, 23)\n"
     ]
    },
    {
     "data": {
      "text/html": [
       "<div>\n",
       "<style scoped>\n",
       "    .dataframe tbody tr th:only-of-type {\n",
       "        vertical-align: middle;\n",
       "    }\n",
       "\n",
       "    .dataframe tbody tr th {\n",
       "        vertical-align: top;\n",
       "    }\n",
       "\n",
       "    .dataframe thead th {\n",
       "        text-align: right;\n",
       "    }\n",
       "</style>\n",
       "<table border=\"1\" class=\"dataframe\">\n",
       "  <thead>\n",
       "    <tr style=\"text-align: right;\">\n",
       "      <th></th>\n",
       "      <th>acousticness</th>\n",
       "      <th>artists</th>\n",
       "      <th>danceability</th>\n",
       "      <th>duration_ms</th>\n",
       "      <th>energy</th>\n",
       "      <th>explicit</th>\n",
       "      <th>id</th>\n",
       "      <th>instrumentalness</th>\n",
       "      <th>key</th>\n",
       "      <th>liveness</th>\n",
       "      <th>...</th>\n",
       "      <th>popularity</th>\n",
       "      <th>release_date</th>\n",
       "      <th>speechiness</th>\n",
       "      <th>tempo</th>\n",
       "      <th>valence</th>\n",
       "      <th>year</th>\n",
       "      <th>Sub Genre</th>\n",
       "      <th>Genre</th>\n",
       "      <th>Unnamed: 21</th>\n",
       "      <th>Unnamed: 22</th>\n",
       "    </tr>\n",
       "  </thead>\n",
       "  <tbody>\n",
       "    <tr>\n",
       "      <th>0</th>\n",
       "      <td>0.321000</td>\n",
       "      <td>Etta James</td>\n",
       "      <td>0.821</td>\n",
       "      <td>360240</td>\n",
       "      <td>0.4180</td>\n",
       "      <td>No</td>\n",
       "      <td>4JVeqfE2tpi7Pv63LJZtPh</td>\n",
       "      <td>0.000372</td>\n",
       "      <td>A</td>\n",
       "      <td>0.2220</td>\n",
       "      <td>...</td>\n",
       "      <td>51</td>\n",
       "      <td>12/12/2000</td>\n",
       "      <td>0.0407</td>\n",
       "      <td>117.382</td>\n",
       "      <td>0.8030</td>\n",
       "      <td>2000</td>\n",
       "      <td>alternative hip hop</td>\n",
       "      <td>HIP HOP</td>\n",
       "      <td>NaN</td>\n",
       "      <td>ROCK</td>\n",
       "    </tr>\n",
       "    <tr>\n",
       "      <th>1</th>\n",
       "      <td>0.006590</td>\n",
       "      <td>Quasimoto</td>\n",
       "      <td>0.706</td>\n",
       "      <td>202507</td>\n",
       "      <td>0.6020</td>\n",
       "      <td>Yes</td>\n",
       "      <td>5pxtdhLAi0RTh1gNqhGMNA</td>\n",
       "      <td>0.000138</td>\n",
       "      <td>A#</td>\n",
       "      <td>0.4000</td>\n",
       "      <td>...</td>\n",
       "      <td>44</td>\n",
       "      <td>6/13/2000</td>\n",
       "      <td>0.3420</td>\n",
       "      <td>89.692</td>\n",
       "      <td>0.4790</td>\n",
       "      <td>2000</td>\n",
       "      <td>NaN</td>\n",
       "      <td>NaN</td>\n",
       "      <td>NaN</td>\n",
       "      <td>POP</td>\n",
       "    </tr>\n",
       "    <tr>\n",
       "      <th>2</th>\n",
       "      <td>0.003900</td>\n",
       "      <td>Millencolin</td>\n",
       "      <td>0.368</td>\n",
       "      <td>173360</td>\n",
       "      <td>0.9770</td>\n",
       "      <td>No</td>\n",
       "      <td>3jRsoe4Vkxa4BMYqGHX8L0</td>\n",
       "      <td>0.000000</td>\n",
       "      <td>A#</td>\n",
       "      <td>0.3500</td>\n",
       "      <td>...</td>\n",
       "      <td>52</td>\n",
       "      <td>2/22/2000</td>\n",
       "      <td>0.1270</td>\n",
       "      <td>165.889</td>\n",
       "      <td>0.5480</td>\n",
       "      <td>2000</td>\n",
       "      <td>Skate Punk</td>\n",
       "      <td>ROCK</td>\n",
       "      <td>NaN</td>\n",
       "      <td>COUNTRY</td>\n",
       "    </tr>\n",
       "    <tr>\n",
       "      <th>3</th>\n",
       "      <td>0.122000</td>\n",
       "      <td>Steve Chou</td>\n",
       "      <td>0.501</td>\n",
       "      <td>344200</td>\n",
       "      <td>0.5110</td>\n",
       "      <td>No</td>\n",
       "      <td>4mronxcllhfyhBRqyZi8kU</td>\n",
       "      <td>0.000000</td>\n",
       "      <td>G</td>\n",
       "      <td>0.2790</td>\n",
       "      <td>...</td>\n",
       "      <td>53</td>\n",
       "      <td>12/25/2000</td>\n",
       "      <td>0.0291</td>\n",
       "      <td>78.045</td>\n",
       "      <td>0.1130</td>\n",
       "      <td>2000</td>\n",
       "      <td>NaN</td>\n",
       "      <td>NaN</td>\n",
       "      <td>NaN</td>\n",
       "      <td>METAL</td>\n",
       "    </tr>\n",
       "    <tr>\n",
       "      <th>4</th>\n",
       "      <td>0.066600</td>\n",
       "      <td>Prodigy, Nas</td>\n",
       "      <td>0.829</td>\n",
       "      <td>195293</td>\n",
       "      <td>0.6140</td>\n",
       "      <td>Yes</td>\n",
       "      <td>0SlljMy4uEgoVPCyavtcHH</td>\n",
       "      <td>0.000850</td>\n",
       "      <td>C#</td>\n",
       "      <td>0.0975</td>\n",
       "      <td>...</td>\n",
       "      <td>46</td>\n",
       "      <td>11/6/2000</td>\n",
       "      <td>0.2670</td>\n",
       "      <td>90.924</td>\n",
       "      <td>0.4960</td>\n",
       "      <td>2000</td>\n",
       "      <td>Queens Hip Hop</td>\n",
       "      <td>HIP HOP</td>\n",
       "      <td>NaN</td>\n",
       "      <td>HIP HOP</td>\n",
       "    </tr>\n",
       "    <tr>\n",
       "      <th>5</th>\n",
       "      <td>0.079200</td>\n",
       "      <td>Barney</td>\n",
       "      <td>0.974</td>\n",
       "      <td>56893</td>\n",
       "      <td>0.6040</td>\n",
       "      <td>No</td>\n",
       "      <td>4Zp7iCDJU2BfD7SOLuSa6X</td>\n",
       "      <td>0.000000</td>\n",
       "      <td>G</td>\n",
       "      <td>0.0528</td>\n",
       "      <td>...</td>\n",
       "      <td>39</td>\n",
       "      <td>1/1/2000</td>\n",
       "      <td>0.0360</td>\n",
       "      <td>114.047</td>\n",
       "      <td>0.9980</td>\n",
       "      <td>2000</td>\n",
       "      <td>meme</td>\n",
       "      <td>MEME</td>\n",
       "      <td>NaN</td>\n",
       "      <td>CHRISTIAN MUSIC</td>\n",
       "    </tr>\n",
       "    <tr>\n",
       "      <th>6</th>\n",
       "      <td>0.000400</td>\n",
       "      <td>Godsmack</td>\n",
       "      <td>0.505</td>\n",
       "      <td>334893</td>\n",
       "      <td>0.6170</td>\n",
       "      <td>No</td>\n",
       "      <td>1losCJa0dcFV6HgZoqEESf</td>\n",
       "      <td>0.013100</td>\n",
       "      <td>G#</td>\n",
       "      <td>0.4210</td>\n",
       "      <td>...</td>\n",
       "      <td>41</td>\n",
       "      <td>10/31/2000</td>\n",
       "      <td>0.0251</td>\n",
       "      <td>96.976</td>\n",
       "      <td>0.4170</td>\n",
       "      <td>2000</td>\n",
       "      <td>Sad Sierreno</td>\n",
       "      <td>FOLK</td>\n",
       "      <td>NaN</td>\n",
       "      <td>RAP</td>\n",
       "    </tr>\n",
       "    <tr>\n",
       "      <th>7</th>\n",
       "      <td>0.759000</td>\n",
       "      <td>Hans Zimmer, Gavin Greenaway, The Lyndhurst Or...</td>\n",
       "      <td>0.170</td>\n",
       "      <td>181867</td>\n",
       "      <td>0.0504</td>\n",
       "      <td>No</td>\n",
       "      <td>4mWNwMmBADo548bT4xYtDo</td>\n",
       "      <td>0.948000</td>\n",
       "      <td>E</td>\n",
       "      <td>0.1120</td>\n",
       "      <td>...</td>\n",
       "      <td>47</td>\n",
       "      <td>4/25/2000</td>\n",
       "      <td>0.0377</td>\n",
       "      <td>127.418</td>\n",
       "      <td>0.0963</td>\n",
       "      <td>2000</td>\n",
       "      <td>Rock-And-Roll</td>\n",
       "      <td>ROCK</td>\n",
       "      <td>NaN</td>\n",
       "      <td>JAZZ/BLUES</td>\n",
       "    </tr>\n",
       "    <tr>\n",
       "      <th>8</th>\n",
       "      <td>0.575000</td>\n",
       "      <td>Billy Preston</td>\n",
       "      <td>0.809</td>\n",
       "      <td>157667</td>\n",
       "      <td>0.7260</td>\n",
       "      <td>No</td>\n",
       "      <td>5n9QhVJS3XSjSc9kNJNEIU</td>\n",
       "      <td>0.235000</td>\n",
       "      <td>A</td>\n",
       "      <td>0.1800</td>\n",
       "      <td>...</td>\n",
       "      <td>39</td>\n",
       "      <td>1/1/2000</td>\n",
       "      <td>0.0274</td>\n",
       "      <td>102.779</td>\n",
       "      <td>0.9200</td>\n",
       "      <td>2000</td>\n",
       "      <td>soul</td>\n",
       "      <td>SOUL</td>\n",
       "      <td>NaN</td>\n",
       "      <td>INDIE</td>\n",
       "    </tr>\n",
       "    <tr>\n",
       "      <th>9</th>\n",
       "      <td>0.655000</td>\n",
       "      <td>The Peasall Sisters</td>\n",
       "      <td>0.735</td>\n",
       "      <td>96133</td>\n",
       "      <td>0.5210</td>\n",
       "      <td>No</td>\n",
       "      <td>49rEKkP4P0nKhxMdPxaYzP</td>\n",
       "      <td>0.024000</td>\n",
       "      <td>C#</td>\n",
       "      <td>0.2070</td>\n",
       "      <td>...</td>\n",
       "      <td>42</td>\n",
       "      <td>12/5/2000</td>\n",
       "      <td>0.0317</td>\n",
       "      <td>113.545</td>\n",
       "      <td>0.9460</td>\n",
       "      <td>2000</td>\n",
       "      <td>Country Gospel</td>\n",
       "      <td>COUNTRY</td>\n",
       "      <td>NaN</td>\n",
       "      <td>SOUL</td>\n",
       "    </tr>\n",
       "    <tr>\n",
       "      <th>10</th>\n",
       "      <td>0.988000</td>\n",
       "      <td>The Cathedral Singers, Lorelei McDermott, Step...</td>\n",
       "      <td>0.233</td>\n",
       "      <td>248600</td>\n",
       "      <td>0.1220</td>\n",
       "      <td>No</td>\n",
       "      <td>4IyK8htJJzbRjPihpMouWu</td>\n",
       "      <td>0.003540</td>\n",
       "      <td>A#</td>\n",
       "      <td>0.0916</td>\n",
       "      <td>...</td>\n",
       "      <td>52</td>\n",
       "      <td>1/1/2000</td>\n",
       "      <td>0.0333</td>\n",
       "      <td>90.593</td>\n",
       "      <td>0.0991</td>\n",
       "      <td>2000</td>\n",
       "      <td>rosary</td>\n",
       "      <td>ROSARY</td>\n",
       "      <td>NaN</td>\n",
       "      <td>R&amp;B</td>\n",
       "    </tr>\n",
       "    <tr>\n",
       "      <th>11</th>\n",
       "      <td>0.197000</td>\n",
       "      <td>Dave Hollister</td>\n",
       "      <td>0.598</td>\n",
       "      <td>256493</td>\n",
       "      <td>0.5810</td>\n",
       "      <td>No</td>\n",
       "      <td>5i3lYkjBeJdbdNY383bJ1f</td>\n",
       "      <td>0.000000</td>\n",
       "      <td>G#</td>\n",
       "      <td>0.1210</td>\n",
       "      <td>...</td>\n",
       "      <td>38</td>\n",
       "      <td>1/1/2000</td>\n",
       "      <td>0.0418</td>\n",
       "      <td>73.071</td>\n",
       "      <td>0.6960</td>\n",
       "      <td>2000</td>\n",
       "      <td>r&amp;b</td>\n",
       "      <td>R&amp;B</td>\n",
       "      <td>NaN</td>\n",
       "      <td>FUSION</td>\n",
       "    </tr>\n",
       "    <tr>\n",
       "      <th>12</th>\n",
       "      <td>0.000061</td>\n",
       "      <td>The Clarks</td>\n",
       "      <td>0.314</td>\n",
       "      <td>195067</td>\n",
       "      <td>0.6880</td>\n",
       "      <td>No</td>\n",
       "      <td>1liqxWv5Stjdtor4n3S9cZ</td>\n",
       "      <td>0.000024</td>\n",
       "      <td>A#</td>\n",
       "      <td>0.1460</td>\n",
       "      <td>...</td>\n",
       "      <td>40</td>\n",
       "      <td>6/20/2000</td>\n",
       "      <td>0.0306</td>\n",
       "      <td>186.348</td>\n",
       "      <td>0.5360</td>\n",
       "      <td>2000</td>\n",
       "      <td>Vocal Harmony Group</td>\n",
       "      <td>VOCAL HARMONY GROUP</td>\n",
       "      <td>NaN</td>\n",
       "      <td>FOLK</td>\n",
       "    </tr>\n",
       "    <tr>\n",
       "      <th>13</th>\n",
       "      <td>0.004370</td>\n",
       "      <td>Ween</td>\n",
       "      <td>0.462</td>\n",
       "      <td>210600</td>\n",
       "      <td>0.7130</td>\n",
       "      <td>No</td>\n",
       "      <td>50PHi5BOQPjTng4JRKvm2L</td>\n",
       "      <td>0.358000</td>\n",
       "      <td>G</td>\n",
       "      <td>0.3820</td>\n",
       "      <td>...</td>\n",
       "      <td>40</td>\n",
       "      <td>5/2/2000</td>\n",
       "      <td>0.0315</td>\n",
       "      <td>133.736</td>\n",
       "      <td>0.6700</td>\n",
       "      <td>2000</td>\n",
       "      <td>Alternative Rock</td>\n",
       "      <td>ROCK</td>\n",
       "      <td>NaN</td>\n",
       "      <td>NaN</td>\n",
       "    </tr>\n",
       "    <tr>\n",
       "      <th>14</th>\n",
       "      <td>0.135000</td>\n",
       "      <td>Elvis Martinez</td>\n",
       "      <td>0.878</td>\n",
       "      <td>221080</td>\n",
       "      <td>0.5940</td>\n",
       "      <td>No</td>\n",
       "      <td>6YhrPNvIJga1ACuEmsyaPO</td>\n",
       "      <td>0.000077</td>\n",
       "      <td>C</td>\n",
       "      <td>0.0692</td>\n",
       "      <td>...</td>\n",
       "      <td>44</td>\n",
       "      <td>5/1/2000</td>\n",
       "      <td>0.0443</td>\n",
       "      <td>134.718</td>\n",
       "      <td>0.9160</td>\n",
       "      <td>2000</td>\n",
       "      <td>Bachata Dominicana</td>\n",
       "      <td>BACHATA DOMINICANA</td>\n",
       "      <td>NaN</td>\n",
       "      <td>NaN</td>\n",
       "    </tr>\n",
       "  </tbody>\n",
       "</table>\n",
       "<p>15 rows × 23 columns</p>\n",
       "</div>"
      ],
      "text/plain": [
       "    acousticness                                            artists  \\\n",
       "0       0.321000                                         Etta James   \n",
       "1       0.006590                                          Quasimoto   \n",
       "2       0.003900                                        Millencolin   \n",
       "3       0.122000                                         Steve Chou   \n",
       "4       0.066600                                       Prodigy, Nas   \n",
       "5       0.079200                                             Barney   \n",
       "6       0.000400                                           Godsmack   \n",
       "7       0.759000  Hans Zimmer, Gavin Greenaway, The Lyndhurst Or...   \n",
       "8       0.575000                                      Billy Preston   \n",
       "9       0.655000                                The Peasall Sisters   \n",
       "10      0.988000  The Cathedral Singers, Lorelei McDermott, Step...   \n",
       "11      0.197000                                     Dave Hollister   \n",
       "12      0.000061                                         The Clarks   \n",
       "13      0.004370                                               Ween   \n",
       "14      0.135000                                     Elvis Martinez   \n",
       "\n",
       "    danceability  duration_ms  energy explicit                      id  \\\n",
       "0          0.821       360240  0.4180       No  4JVeqfE2tpi7Pv63LJZtPh   \n",
       "1          0.706       202507  0.6020      Yes  5pxtdhLAi0RTh1gNqhGMNA   \n",
       "2          0.368       173360  0.9770       No  3jRsoe4Vkxa4BMYqGHX8L0   \n",
       "3          0.501       344200  0.5110       No  4mronxcllhfyhBRqyZi8kU   \n",
       "4          0.829       195293  0.6140      Yes  0SlljMy4uEgoVPCyavtcHH   \n",
       "5          0.974        56893  0.6040       No  4Zp7iCDJU2BfD7SOLuSa6X   \n",
       "6          0.505       334893  0.6170       No  1losCJa0dcFV6HgZoqEESf   \n",
       "7          0.170       181867  0.0504       No  4mWNwMmBADo548bT4xYtDo   \n",
       "8          0.809       157667  0.7260       No  5n9QhVJS3XSjSc9kNJNEIU   \n",
       "9          0.735        96133  0.5210       No  49rEKkP4P0nKhxMdPxaYzP   \n",
       "10         0.233       248600  0.1220       No  4IyK8htJJzbRjPihpMouWu   \n",
       "11         0.598       256493  0.5810       No  5i3lYkjBeJdbdNY383bJ1f   \n",
       "12         0.314       195067  0.6880       No  1liqxWv5Stjdtor4n3S9cZ   \n",
       "13         0.462       210600  0.7130       No  50PHi5BOQPjTng4JRKvm2L   \n",
       "14         0.878       221080  0.5940       No  6YhrPNvIJga1ACuEmsyaPO   \n",
       "\n",
       "    instrumentalness key  liveness  ...  popularity  release_date speechiness  \\\n",
       "0           0.000372   A    0.2220  ...          51    12/12/2000      0.0407   \n",
       "1           0.000138  A#    0.4000  ...          44     6/13/2000      0.3420   \n",
       "2           0.000000  A#    0.3500  ...          52     2/22/2000      0.1270   \n",
       "3           0.000000   G    0.2790  ...          53    12/25/2000      0.0291   \n",
       "4           0.000850  C#    0.0975  ...          46     11/6/2000      0.2670   \n",
       "5           0.000000   G    0.0528  ...          39      1/1/2000      0.0360   \n",
       "6           0.013100  G#    0.4210  ...          41    10/31/2000      0.0251   \n",
       "7           0.948000   E    0.1120  ...          47     4/25/2000      0.0377   \n",
       "8           0.235000   A    0.1800  ...          39      1/1/2000      0.0274   \n",
       "9           0.024000  C#    0.2070  ...          42     12/5/2000      0.0317   \n",
       "10          0.003540  A#    0.0916  ...          52      1/1/2000      0.0333   \n",
       "11          0.000000  G#    0.1210  ...          38      1/1/2000      0.0418   \n",
       "12          0.000024  A#    0.1460  ...          40     6/20/2000      0.0306   \n",
       "13          0.358000   G    0.3820  ...          40      5/2/2000      0.0315   \n",
       "14          0.000077   C    0.0692  ...          44      5/1/2000      0.0443   \n",
       "\n",
       "      tempo valence  year            Sub Genre                Genre  \\\n",
       "0   117.382  0.8030  2000  alternative hip hop              HIP HOP   \n",
       "1    89.692  0.4790  2000                  NaN                  NaN   \n",
       "2   165.889  0.5480  2000           Skate Punk                 ROCK   \n",
       "3    78.045  0.1130  2000                  NaN                  NaN   \n",
       "4    90.924  0.4960  2000       Queens Hip Hop              HIP HOP   \n",
       "5   114.047  0.9980  2000                 meme                 MEME   \n",
       "6    96.976  0.4170  2000         Sad Sierreno                 FOLK   \n",
       "7   127.418  0.0963  2000        Rock-And-Roll                 ROCK   \n",
       "8   102.779  0.9200  2000                 soul                 SOUL   \n",
       "9   113.545  0.9460  2000       Country Gospel              COUNTRY   \n",
       "10   90.593  0.0991  2000               rosary               ROSARY   \n",
       "11   73.071  0.6960  2000                  r&b                  R&B   \n",
       "12  186.348  0.5360  2000  Vocal Harmony Group  VOCAL HARMONY GROUP   \n",
       "13  133.736  0.6700  2000     Alternative Rock                 ROCK   \n",
       "14  134.718  0.9160  2000   Bachata Dominicana   BACHATA DOMINICANA   \n",
       "\n",
       "    Unnamed: 21      Unnamed: 22  \n",
       "0           NaN             ROCK  \n",
       "1           NaN              POP  \n",
       "2           NaN          COUNTRY  \n",
       "3           NaN            METAL  \n",
       "4           NaN          HIP HOP  \n",
       "5           NaN  CHRISTIAN MUSIC  \n",
       "6           NaN              RAP  \n",
       "7           NaN       JAZZ/BLUES  \n",
       "8           NaN            INDIE  \n",
       "9           NaN             SOUL  \n",
       "10          NaN              R&B  \n",
       "11          NaN           FUSION  \n",
       "12          NaN             FOLK  \n",
       "13          NaN              NaN  \n",
       "14          NaN              NaN  \n",
       "\n",
       "[15 rows x 23 columns]"
      ]
     },
     "execution_count": 6,
     "metadata": {},
     "output_type": "execute_result"
    }
   ],
   "source": [
    "print(df.shape)\n",
    "df.head(15)"
   ]
  },
  {
   "cell_type": "code",
   "execution_count": 9,
   "metadata": {},
   "outputs": [
    {
     "data": {
      "text/plain": [
       "(6835, 23)"
      ]
     },
     "execution_count": 9,
     "metadata": {},
     "output_type": "execute_result"
    }
   ],
   "source": [
    "df.shape"
   ]
  },
  {
   "cell_type": "code",
   "execution_count": 8,
   "metadata": {},
   "outputs": [
    {
     "data": {
      "text/plain": [
       "<bound method Series.unique of 0                                              Etta James\n",
       "1                                               Quasimoto\n",
       "2                                             Millencolin\n",
       "3                                              Steve Chou\n",
       "4                                            Prodigy, Nas\n",
       "                              ...                        \n",
       "6830                                         All Time Low\n",
       "6831    Andrew Rannells, Lewis Cleale, Jared Gertner, ...\n",
       "6832                                          Alex Turner\n",
       "6833                    Snoop Dogg, Wiz Khalifa, Curren$y\n",
       "6834                                   Nicole Scherzinger\n",
       "Name: artists, Length: 6835, dtype: object>"
      ]
     },
     "execution_count": 8,
     "metadata": {},
     "output_type": "execute_result"
    }
   ],
   "source": [
    "df['artists'].unique"
   ]
  },
  {
   "cell_type": "code",
   "execution_count": 7,
   "metadata": {},
   "outputs": [],
   "source": [
    "df.to_csv('Scraped.csv')"
   ]
  },
  {
   "attachments": {},
   "cell_type": "markdown",
   "metadata": {},
   "source": [
    "---"
   ]
  },
  {
   "attachments": {},
   "cell_type": "markdown",
   "metadata": {},
   "source": [
    "# Spotify Scrape"
   ]
  },
  {
   "cell_type": "code",
   "execution_count": 26,
   "metadata": {},
   "outputs": [],
   "source": [
    "import requests\n",
    "from lxml import html"
   ]
  },
  {
   "cell_type": "code",
   "execution_count": 10,
   "metadata": {},
   "outputs": [
    {
     "name": "stderr",
     "output_type": "stream",
     "text": [
      "[WDM] - Downloading: 100%|██████████| 6.30M/6.30M [00:00<00:00, 47.6MB/s]\n",
      "C:\\Users\\redoc\\AppData\\Local\\Temp\\ipykernel_18548\\3832095755.py:1: DeprecationWarning: executable_path has been deprecated, please pass in a Service object\n",
      "  wd = webdriver.Chrome(ChromeDriverManager().install())\n"
     ]
    }
   ],
   "source": [
    "wd = webdriver.Chrome(ChromeDriverManager().install())"
   ]
  },
  {
   "cell_type": "code",
   "execution_count": 35,
   "metadata": {},
   "outputs": [],
   "source": [
    "wd.get('https://open.spotify.com/search')"
   ]
  },
  {
   "cell_type": "code",
   "execution_count": 36,
   "metadata": {},
   "outputs": [],
   "source": [
    "search_song = wd.find_element(\"xpath\", \"//*[@id='main']/div/div[2]/div[1]/header/div[3]/div/div/form/input\") # //*[@id=\"search-word\"]"
   ]
  },
  {
   "cell_type": "code",
   "execution_count": 37,
   "metadata": {},
   "outputs": [],
   "source": [
    "search_song.send_keys(\"Rebels of the Sacred Heart\"+' '+'Flogging Molly'+' '+'2002')"
   ]
  },
  {
   "cell_type": "code",
   "execution_count": 38,
   "metadata": {},
   "outputs": [],
   "source": [
    "wd.find_element(\"xpath\", \"//*[@id='searchPage']/div/div/section[1]/div[2]/div/div/div/div[2]/a/div\").click()"
   ]
  },
  {
   "cell_type": "code",
   "execution_count": 39,
   "metadata": {},
   "outputs": [],
   "source": [
    "wd.find_element(\"xpath\", '//*[@id=\"main\"]/div/div[2]/div[4]/div[1]/div[2]/div[2]/div/div/div[2]/main/section/div/div[2]/div[3]/div[1]/div/div[1]/button/div').click()"
   ]
  },
  {
   "cell_type": "code",
   "execution_count": 73,
   "metadata": {},
   "outputs": [],
   "source": [
    "word = wd.find_element(\"xpath\", '//*[@id=\"main\"]/div/div[2]/div[4]/div[1]/div[2]/div[2]/div/div/div[2]/main/section/div/div[2]/div[3]/div[1]/div/div[1]/div').text"
   ]
  },
  {
   "cell_type": "code",
   "execution_count": 74,
   "metadata": {},
   "outputs": [
    {
     "data": {
      "text/plain": [
       "'1\\nChicks and Booze\\n2,287,754\\n3:42\\n2\\nMidadarie Sa Marawi\\nE\\n108,434\\n3:25\\n3\\nLake City\\nE\\n30,905\\n2:08\\n4\\nDa kasuwa\\nE\\n20,374\\n2:53\\n5\\nAreaone\\nE\\n9,769\\n2:55'"
      ]
     },
     "execution_count": 74,
     "metadata": {},
     "output_type": "execute_result"
    }
   ],
   "source": [
    "word"
   ]
  },
  {
   "cell_type": "code",
   "execution_count": 75,
   "metadata": {},
   "outputs": [
    {
     "ename": "ValueError",
     "evalue": "invalid literal for int() with base 10: 'E'",
     "output_type": "error",
     "traceback": [
      "\u001b[1;31m---------------------------------------------------------------------------\u001b[0m",
      "\u001b[1;31mValueError\u001b[0m                                Traceback (most recent call last)",
      "\u001b[1;32mc:\\Users\\redoc\\OneDrive\\Desktop\\GEA Project Scrape\\songs-scrape.ipynb Cell 20\u001b[0m in \u001b[0;36m<cell line: 11>\u001b[1;34m()\u001b[0m\n\u001b[0;32m      <a href='vscode-notebook-cell:/c%3A/Users/redoc/OneDrive/Desktop/GEA%20Project%20Scrape/songs-scrape.ipynb#Y110sZmlsZQ%3D%3D?line=7'>8</a>\u001b[0m df \u001b[39m=\u001b[39m pd\u001b[39m.\u001b[39mDataFrame(reshaped_data, columns\u001b[39m=\u001b[39m[\u001b[39m'\u001b[39m\u001b[39mIndex\u001b[39m\u001b[39m'\u001b[39m, \u001b[39m'\u001b[39m\u001b[39mTitle\u001b[39m\u001b[39m'\u001b[39m, \u001b[39m'\u001b[39m\u001b[39mViews\u001b[39m\u001b[39m'\u001b[39m, \u001b[39m'\u001b[39m\u001b[39mDuration\u001b[39m\u001b[39m'\u001b[39m])\n\u001b[0;32m     <a href='vscode-notebook-cell:/c%3A/Users/redoc/OneDrive/Desktop/GEA%20Project%20Scrape/songs-scrape.ipynb#Y110sZmlsZQ%3D%3D?line=9'>10</a>\u001b[0m \u001b[39m# Remove commas from the 'Views' column and convert it to numeric\u001b[39;00m\n\u001b[1;32m---> <a href='vscode-notebook-cell:/c%3A/Users/redoc/OneDrive/Desktop/GEA%20Project%20Scrape/songs-scrape.ipynb#Y110sZmlsZQ%3D%3D?line=10'>11</a>\u001b[0m df[\u001b[39m'\u001b[39m\u001b[39mViews\u001b[39m\u001b[39m'\u001b[39m] \u001b[39m=\u001b[39m df[\u001b[39m'\u001b[39;49m\u001b[39mViews\u001b[39;49m\u001b[39m'\u001b[39;49m]\u001b[39m.\u001b[39;49mstr\u001b[39m.\u001b[39;49mreplace(\u001b[39m'\u001b[39;49m\u001b[39m,\u001b[39;49m\u001b[39m'\u001b[39;49m, \u001b[39m'\u001b[39;49m\u001b[39m'\u001b[39;49m)\u001b[39m.\u001b[39;49mastype(\u001b[39mint\u001b[39;49m)\n\u001b[0;32m     <a href='vscode-notebook-cell:/c%3A/Users/redoc/OneDrive/Desktop/GEA%20Project%20Scrape/songs-scrape.ipynb#Y110sZmlsZQ%3D%3D?line=12'>13</a>\u001b[0m \u001b[39m# Print the DataFrame\u001b[39;00m\n\u001b[0;32m     <a href='vscode-notebook-cell:/c%3A/Users/redoc/OneDrive/Desktop/GEA%20Project%20Scrape/songs-scrape.ipynb#Y110sZmlsZQ%3D%3D?line=13'>14</a>\u001b[0m \u001b[39mprint\u001b[39m(df)\n",
      "File \u001b[1;32mc:\\Users\\redoc\\AppData\\Local\\Programs\\Python\\Python310\\lib\\site-packages\\pandas\\core\\generic.py:5912\u001b[0m, in \u001b[0;36mNDFrame.astype\u001b[1;34m(self, dtype, copy, errors)\u001b[0m\n\u001b[0;32m   5905\u001b[0m     results \u001b[39m=\u001b[39m [\n\u001b[0;32m   5906\u001b[0m         \u001b[39mself\u001b[39m\u001b[39m.\u001b[39miloc[:, i]\u001b[39m.\u001b[39mastype(dtype, copy\u001b[39m=\u001b[39mcopy)\n\u001b[0;32m   5907\u001b[0m         \u001b[39mfor\u001b[39;00m i \u001b[39min\u001b[39;00m \u001b[39mrange\u001b[39m(\u001b[39mlen\u001b[39m(\u001b[39mself\u001b[39m\u001b[39m.\u001b[39mcolumns))\n\u001b[0;32m   5908\u001b[0m     ]\n\u001b[0;32m   5910\u001b[0m \u001b[39melse\u001b[39;00m:\n\u001b[0;32m   5911\u001b[0m     \u001b[39m# else, only a single dtype is given\u001b[39;00m\n\u001b[1;32m-> 5912\u001b[0m     new_data \u001b[39m=\u001b[39m \u001b[39mself\u001b[39;49m\u001b[39m.\u001b[39;49m_mgr\u001b[39m.\u001b[39;49mastype(dtype\u001b[39m=\u001b[39;49mdtype, copy\u001b[39m=\u001b[39;49mcopy, errors\u001b[39m=\u001b[39;49merrors)\n\u001b[0;32m   5913\u001b[0m     \u001b[39mreturn\u001b[39;00m \u001b[39mself\u001b[39m\u001b[39m.\u001b[39m_constructor(new_data)\u001b[39m.\u001b[39m__finalize__(\u001b[39mself\u001b[39m, method\u001b[39m=\u001b[39m\u001b[39m\"\u001b[39m\u001b[39mastype\u001b[39m\u001b[39m\"\u001b[39m)\n\u001b[0;32m   5915\u001b[0m \u001b[39m# GH 33113: handle empty frame or series\u001b[39;00m\n",
      "File \u001b[1;32mc:\\Users\\redoc\\AppData\\Local\\Programs\\Python\\Python310\\lib\\site-packages\\pandas\\core\\internals\\managers.py:419\u001b[0m, in \u001b[0;36mBaseBlockManager.astype\u001b[1;34m(self, dtype, copy, errors)\u001b[0m\n\u001b[0;32m    418\u001b[0m \u001b[39mdef\u001b[39;00m \u001b[39mastype\u001b[39m(\u001b[39mself\u001b[39m: T, dtype, copy: \u001b[39mbool\u001b[39m \u001b[39m=\u001b[39m \u001b[39mFalse\u001b[39;00m, errors: \u001b[39mstr\u001b[39m \u001b[39m=\u001b[39m \u001b[39m\"\u001b[39m\u001b[39mraise\u001b[39m\u001b[39m\"\u001b[39m) \u001b[39m-\u001b[39m\u001b[39m>\u001b[39m T:\n\u001b[1;32m--> 419\u001b[0m     \u001b[39mreturn\u001b[39;00m \u001b[39mself\u001b[39;49m\u001b[39m.\u001b[39;49mapply(\u001b[39m\"\u001b[39;49m\u001b[39mastype\u001b[39;49m\u001b[39m\"\u001b[39;49m, dtype\u001b[39m=\u001b[39;49mdtype, copy\u001b[39m=\u001b[39;49mcopy, errors\u001b[39m=\u001b[39;49merrors)\n",
      "File \u001b[1;32mc:\\Users\\redoc\\AppData\\Local\\Programs\\Python\\Python310\\lib\\site-packages\\pandas\\core\\internals\\managers.py:304\u001b[0m, in \u001b[0;36mBaseBlockManager.apply\u001b[1;34m(self, f, align_keys, ignore_failures, **kwargs)\u001b[0m\n\u001b[0;32m    302\u001b[0m         applied \u001b[39m=\u001b[39m b\u001b[39m.\u001b[39mapply(f, \u001b[39m*\u001b[39m\u001b[39m*\u001b[39mkwargs)\n\u001b[0;32m    303\u001b[0m     \u001b[39melse\u001b[39;00m:\n\u001b[1;32m--> 304\u001b[0m         applied \u001b[39m=\u001b[39m \u001b[39mgetattr\u001b[39m(b, f)(\u001b[39m*\u001b[39m\u001b[39m*\u001b[39mkwargs)\n\u001b[0;32m    305\u001b[0m \u001b[39mexcept\u001b[39;00m (\u001b[39mTypeError\u001b[39;00m, \u001b[39mNotImplementedError\u001b[39;00m):\n\u001b[0;32m    306\u001b[0m     \u001b[39mif\u001b[39;00m \u001b[39mnot\u001b[39;00m ignore_failures:\n",
      "File \u001b[1;32mc:\\Users\\redoc\\AppData\\Local\\Programs\\Python\\Python310\\lib\\site-packages\\pandas\\core\\internals\\blocks.py:580\u001b[0m, in \u001b[0;36mBlock.astype\u001b[1;34m(self, dtype, copy, errors)\u001b[0m\n\u001b[0;32m    562\u001b[0m \u001b[39m\"\"\"\u001b[39;00m\n\u001b[0;32m    563\u001b[0m \u001b[39mCoerce to the new dtype.\u001b[39;00m\n\u001b[0;32m    564\u001b[0m \n\u001b[1;32m   (...)\u001b[0m\n\u001b[0;32m    576\u001b[0m \u001b[39mBlock\u001b[39;00m\n\u001b[0;32m    577\u001b[0m \u001b[39m\"\"\"\u001b[39;00m\n\u001b[0;32m    578\u001b[0m values \u001b[39m=\u001b[39m \u001b[39mself\u001b[39m\u001b[39m.\u001b[39mvalues\n\u001b[1;32m--> 580\u001b[0m new_values \u001b[39m=\u001b[39m astype_array_safe(values, dtype, copy\u001b[39m=\u001b[39;49mcopy, errors\u001b[39m=\u001b[39;49merrors)\n\u001b[0;32m    582\u001b[0m new_values \u001b[39m=\u001b[39m maybe_coerce_values(new_values)\n\u001b[0;32m    583\u001b[0m newb \u001b[39m=\u001b[39m \u001b[39mself\u001b[39m\u001b[39m.\u001b[39mmake_block(new_values)\n",
      "File \u001b[1;32mc:\\Users\\redoc\\AppData\\Local\\Programs\\Python\\Python310\\lib\\site-packages\\pandas\\core\\dtypes\\cast.py:1292\u001b[0m, in \u001b[0;36mastype_array_safe\u001b[1;34m(values, dtype, copy, errors)\u001b[0m\n\u001b[0;32m   1289\u001b[0m     dtype \u001b[39m=\u001b[39m dtype\u001b[39m.\u001b[39mnumpy_dtype\n\u001b[0;32m   1291\u001b[0m \u001b[39mtry\u001b[39;00m:\n\u001b[1;32m-> 1292\u001b[0m     new_values \u001b[39m=\u001b[39m astype_array(values, dtype, copy\u001b[39m=\u001b[39;49mcopy)\n\u001b[0;32m   1293\u001b[0m \u001b[39mexcept\u001b[39;00m (\u001b[39mValueError\u001b[39;00m, \u001b[39mTypeError\u001b[39;00m):\n\u001b[0;32m   1294\u001b[0m     \u001b[39m# e.g. astype_nansafe can fail on object-dtype of strings\u001b[39;00m\n\u001b[0;32m   1295\u001b[0m     \u001b[39m#  trying to convert to float\u001b[39;00m\n\u001b[0;32m   1296\u001b[0m     \u001b[39mif\u001b[39;00m errors \u001b[39m==\u001b[39m \u001b[39m\"\u001b[39m\u001b[39mignore\u001b[39m\u001b[39m\"\u001b[39m:\n",
      "File \u001b[1;32mc:\\Users\\redoc\\AppData\\Local\\Programs\\Python\\Python310\\lib\\site-packages\\pandas\\core\\dtypes\\cast.py:1237\u001b[0m, in \u001b[0;36mastype_array\u001b[1;34m(values, dtype, copy)\u001b[0m\n\u001b[0;32m   1234\u001b[0m     values \u001b[39m=\u001b[39m values\u001b[39m.\u001b[39mastype(dtype, copy\u001b[39m=\u001b[39mcopy)\n\u001b[0;32m   1236\u001b[0m \u001b[39melse\u001b[39;00m:\n\u001b[1;32m-> 1237\u001b[0m     values \u001b[39m=\u001b[39m astype_nansafe(values, dtype, copy\u001b[39m=\u001b[39;49mcopy)\n\u001b[0;32m   1239\u001b[0m \u001b[39m# in pandas we don't store numpy str dtypes, so convert to object\u001b[39;00m\n\u001b[0;32m   1240\u001b[0m \u001b[39mif\u001b[39;00m \u001b[39misinstance\u001b[39m(dtype, np\u001b[39m.\u001b[39mdtype) \u001b[39mand\u001b[39;00m \u001b[39missubclass\u001b[39m(values\u001b[39m.\u001b[39mdtype\u001b[39m.\u001b[39mtype, \u001b[39mstr\u001b[39m):\n",
      "File \u001b[1;32mc:\\Users\\redoc\\AppData\\Local\\Programs\\Python\\Python310\\lib\\site-packages\\pandas\\core\\dtypes\\cast.py:1154\u001b[0m, in \u001b[0;36mastype_nansafe\u001b[1;34m(arr, dtype, copy, skipna)\u001b[0m\n\u001b[0;32m   1150\u001b[0m \u001b[39melif\u001b[39;00m is_object_dtype(arr\u001b[39m.\u001b[39mdtype):\n\u001b[0;32m   1151\u001b[0m \n\u001b[0;32m   1152\u001b[0m     \u001b[39m# work around NumPy brokenness, #1987\u001b[39;00m\n\u001b[0;32m   1153\u001b[0m     \u001b[39mif\u001b[39;00m np\u001b[39m.\u001b[39missubdtype(dtype\u001b[39m.\u001b[39mtype, np\u001b[39m.\u001b[39minteger):\n\u001b[1;32m-> 1154\u001b[0m         \u001b[39mreturn\u001b[39;00m lib\u001b[39m.\u001b[39;49mastype_intsafe(arr, dtype)\n\u001b[0;32m   1156\u001b[0m     \u001b[39m# if we have a datetime/timedelta array of objects\u001b[39;00m\n\u001b[0;32m   1157\u001b[0m     \u001b[39m# then coerce to a proper dtype and recall astype_nansafe\u001b[39;00m\n\u001b[0;32m   1159\u001b[0m     \u001b[39melif\u001b[39;00m is_datetime64_dtype(dtype):\n",
      "File \u001b[1;32mc:\\Users\\redoc\\AppData\\Local\\Programs\\Python\\Python310\\lib\\site-packages\\pandas\\_libs\\lib.pyx:668\u001b[0m, in \u001b[0;36mpandas._libs.lib.astype_intsafe\u001b[1;34m()\u001b[0m\n",
      "\u001b[1;31mValueError\u001b[0m: invalid literal for int() with base 10: 'E'"
     ]
    }
   ],
   "source": [
    "# Split the string into individual data points\n",
    "data_list = word.split('\\n')\n",
    "\n",
    "# Reshape the data into a 2D list\n",
    "reshaped_data = [data_list[i:i+4] for i in range(0, len(data_list), 4)]\n",
    "\n",
    "# Create a DataFrame from the reshaped data\n",
    "df = pd.DataFrame(reshaped_data, columns=['Index', 'Title', 'Views', 'Duration'])\n",
    "\n",
    "# Remove commas from the 'Views' column and convert it to numeric\n",
    "df['Views'] = df['Views'].str.replace(',', '').astype(int)\n",
    "\n",
    "# Print the DataFrame\n",
    "print(df)\n"
   ]
  },
  {
   "cell_type": "code",
   "execution_count": 49,
   "metadata": {},
   "outputs": [
    {
     "data": {
      "text/plain": [
       "[['1', 'Drunken Lullabies', '80,707,977', '3:50'],\n",
       " ['2', \"Devil's Dance Floor\", '44,740,254', '3:59'],\n",
       " ['3', 'If I Ever Leave This World Alive', '45,466,576', '3:21'],\n",
       " ['4', 'Salty Dog', '17,713,595', '2:21'],\n",
       " ['5', 'Seven Deadly Sins', '18,714,015', '2:50'],\n",
       " ['6', \"What's Left of the Flag\", '26,352,488', '3:38'],\n",
       " ['7', 'Swagger', '8,422,803', '2:05'],\n",
       " ['8', 'The Worst Day Since Yesterday', '10,829,250', '3:38'],\n",
       " ['9', 'Float', '14,756,296', '4:53'],\n",
       " ['10', \"There's Nothing Left Pt. 1\", '4,866,739', '2:23']]"
      ]
     },
     "execution_count": 49,
     "metadata": {},
     "output_type": "execute_result"
    }
   ],
   "source": [
    "reshaped_data"
   ]
  },
  {
   "attachments": {},
   "cell_type": "markdown",
   "metadata": {},
   "source": [
    "---"
   ]
  },
  {
   "cell_type": "code",
   "execution_count": 104,
   "metadata": {},
   "outputs": [
    {
     "name": "stderr",
     "output_type": "stream",
     "text": [
      "C:\\Users\\redoc\\AppData\\Local\\Temp\\ipykernel_18548\\2775080001.py:1: DeprecationWarning: executable_path has been deprecated, please pass in a Service object\n",
      "  wd = webdriver.Chrome(ChromeDriverManager().install())\n"
     ]
    }
   ],
   "source": [
    "wd = webdriver.Chrome(ChromeDriverManager().install())\n",
    "\n",
    "wd.get('https://open.spotify.com/search')\n",
    "\n",
    "search_song = wd.find_element(\"xpath\", \"//*[@id='main']/div/div[2]/div[1]/header/div[3]/div/div/form/input\") "
   ]
  },
  {
   "cell_type": "code",
   "execution_count": 105,
   "metadata": {},
   "outputs": [],
   "source": [
    "search_song.send_keys('Big Moe')"
   ]
  },
  {
   "cell_type": "code",
   "execution_count": 106,
   "metadata": {},
   "outputs": [],
   "source": [
    "artist = wd.find_element(\"xpath\",\"//*[@id='main']/div/div[2]/div[4]/div[1]/div[2]/div[2]/div/div/div[2]/main/div[1]/div/div/div/div/div/a[2]/button/span\").click()"
   ]
  },
  {
   "cell_type": "code",
   "execution_count": 107,
   "metadata": {},
   "outputs": [],
   "source": [
    "wd.find_element(\"xpath\", \"//*[@id='searchPage']/div/div/div/div[1]/div[1]/div/div[3]\").click()"
   ]
  },
  {
   "cell_type": "code",
   "execution_count": 108,
   "metadata": {},
   "outputs": [],
   "source": [
    "wd.find_element(\"xpath\", \"//*[@id='main']/div/div[2]/div[4]/div[1]/div[2]/div[2]/div/div/div[2]/main/section/div/div[2]/div[3]/div[1]/div/div/button/div\").click()"
   ]
  },
  {
   "cell_type": "code",
   "execution_count": 130,
   "metadata": {},
   "outputs": [],
   "source": [
    "# Create an empty DataFrame with 10 rows and 3 columns\n",
    "df = pd.DataFrame(index=range(10), columns=['Artist', 'Song', 'Views'])\n",
    "\n",
    "# Populate the first column with \"Big Moe\"\n",
    "df['Artist'] = 'Big Moe'"
   ]
  },
  {
   "cell_type": "code",
   "execution_count": 131,
   "metadata": {},
   "outputs": [
    {
     "data": {
      "text/html": [
       "<div>\n",
       "<style scoped>\n",
       "    .dataframe tbody tr th:only-of-type {\n",
       "        vertical-align: middle;\n",
       "    }\n",
       "\n",
       "    .dataframe tbody tr th {\n",
       "        vertical-align: top;\n",
       "    }\n",
       "\n",
       "    .dataframe thead th {\n",
       "        text-align: right;\n",
       "    }\n",
       "</style>\n",
       "<table border=\"1\" class=\"dataframe\">\n",
       "  <thead>\n",
       "    <tr style=\"text-align: right;\">\n",
       "      <th></th>\n",
       "      <th>Artist</th>\n",
       "      <th>Song</th>\n",
       "      <th>Views</th>\n",
       "    </tr>\n",
       "  </thead>\n",
       "  <tbody>\n",
       "    <tr>\n",
       "      <th>0</th>\n",
       "      <td>Big Moe</td>\n",
       "      <td>NaN</td>\n",
       "      <td>NaN</td>\n",
       "    </tr>\n",
       "    <tr>\n",
       "      <th>1</th>\n",
       "      <td>Big Moe</td>\n",
       "      <td>NaN</td>\n",
       "      <td>NaN</td>\n",
       "    </tr>\n",
       "    <tr>\n",
       "      <th>2</th>\n",
       "      <td>Big Moe</td>\n",
       "      <td>NaN</td>\n",
       "      <td>NaN</td>\n",
       "    </tr>\n",
       "    <tr>\n",
       "      <th>3</th>\n",
       "      <td>Big Moe</td>\n",
       "      <td>NaN</td>\n",
       "      <td>NaN</td>\n",
       "    </tr>\n",
       "    <tr>\n",
       "      <th>4</th>\n",
       "      <td>Big Moe</td>\n",
       "      <td>NaN</td>\n",
       "      <td>NaN</td>\n",
       "    </tr>\n",
       "    <tr>\n",
       "      <th>5</th>\n",
       "      <td>Big Moe</td>\n",
       "      <td>NaN</td>\n",
       "      <td>NaN</td>\n",
       "    </tr>\n",
       "    <tr>\n",
       "      <th>6</th>\n",
       "      <td>Big Moe</td>\n",
       "      <td>NaN</td>\n",
       "      <td>NaN</td>\n",
       "    </tr>\n",
       "    <tr>\n",
       "      <th>7</th>\n",
       "      <td>Big Moe</td>\n",
       "      <td>NaN</td>\n",
       "      <td>NaN</td>\n",
       "    </tr>\n",
       "    <tr>\n",
       "      <th>8</th>\n",
       "      <td>Big Moe</td>\n",
       "      <td>NaN</td>\n",
       "      <td>NaN</td>\n",
       "    </tr>\n",
       "    <tr>\n",
       "      <th>9</th>\n",
       "      <td>Big Moe</td>\n",
       "      <td>NaN</td>\n",
       "      <td>NaN</td>\n",
       "    </tr>\n",
       "  </tbody>\n",
       "</table>\n",
       "</div>"
      ],
      "text/plain": [
       "    Artist Song Views\n",
       "0  Big Moe  NaN   NaN\n",
       "1  Big Moe  NaN   NaN\n",
       "2  Big Moe  NaN   NaN\n",
       "3  Big Moe  NaN   NaN\n",
       "4  Big Moe  NaN   NaN\n",
       "5  Big Moe  NaN   NaN\n",
       "6  Big Moe  NaN   NaN\n",
       "7  Big Moe  NaN   NaN\n",
       "8  Big Moe  NaN   NaN\n",
       "9  Big Moe  NaN   NaN"
      ]
     },
     "execution_count": 131,
     "metadata": {},
     "output_type": "execute_result"
    }
   ],
   "source": [
    "df"
   ]
  },
  {
   "cell_type": "code",
   "execution_count": 114,
   "metadata": {},
   "outputs": [
    {
     "data": {
      "text/plain": [
       "'Chicks and Booze'"
      ]
     },
     "execution_count": 114,
     "metadata": {},
     "output_type": "execute_result"
    }
   ],
   "source": [
    "wd.find_element(\"xpath\", \"//*[@id='main']/div/div[2]/div[4]/div[1]/div[2]/div[2]/div/div/div[2]/main/section/div/div[2]/div[3]/div[1]/div/div/div/div/div[2]/div[1]/div/div[2]/div/a/div\").text\n"
   ]
  },
  {
   "cell_type": "code",
   "execution_count": 132,
   "metadata": {},
   "outputs": [],
   "source": [
    "df.at[0,'Song']=wd.find_element(\"xpath\", \"//*[@id='main']/div/div[2]/div[4]/div[1]/div[2]/div[2]/div/div/div[2]/main/section/div/div[2]/div[3]/div[1]/div/div/div/div/div[2]/div[1]/div/div[2]/div/a/div\").text\n",
    "\n",
    "df.at[0,'Views']=wd.find_element(\"xpath\", \"//*[@id='main']/div/div[2]/div[4]/div[1]/div[2]/div[2]/div/div/div[2]/main/section/div/div[2]/div[3]/div[1]/div/div/div/div/div[2]/div[1]/div/div[3]/div\").text"
   ]
  },
  {
   "cell_type": "code",
   "execution_count": 133,
   "metadata": {},
   "outputs": [],
   "source": [
    "df.at[1,'Song']=wd.find_element(\"xpath\", \"//*[@id='main']/div/div[2]/div[4]/div[1]/div[2]/div[2]/div/div/div[2]/main/section/div/div[2]/div[3]/div[1]/div/div/div/div/div[2]/div[2]/div/div[2]/div/a/div\").text\n",
    "\n",
    "df.at[1,'Views']=wd.find_element(\"xpath\", \"//*[@id='main']/div/div[2]/div[4]/div[1]/div[2]/div[2]/div/div/div[2]/main/section/div/div[2]/div[3]/div[1]/div/div/div/div/div[2]/div[2]/div/div[3]\").text"
   ]
  },
  {
   "cell_type": "code",
   "execution_count": 136,
   "metadata": {},
   "outputs": [],
   "source": [
    "for i in range(0,10):\n",
    "    \n",
    "    df.at[i, 'Song'] = wd.find_element(\"xpath\", \"//*[@id='main']/div/div[2]/div[4]/div[1]/div[2]/div[2]/div/div/div[2]/main/section/div/div[2]/div[3]/div[1]/div/div/div/div/div[2]/div[\"+str(i+1)+\"]/div/div[2]/div/a/div\").text\n",
    "\n",
    "    df.at[i, 'Views'] = wd.find_element(\"xpath\", \"//*[@id='main']/div/div[2]/div[4]/div[1]/div[2]/div[2]/div/div/div[2]/main/section/div/div[2]/div[3]/div[1]/div/div/div/div/div[2]/div[\"+str(i+1)+\"]/div/div[3]\").text\n"
   ]
  },
  {
   "cell_type": "code",
   "execution_count": 137,
   "metadata": {},
   "outputs": [
    {
     "data": {
      "text/html": [
       "<div>\n",
       "<style scoped>\n",
       "    .dataframe tbody tr th:only-of-type {\n",
       "        vertical-align: middle;\n",
       "    }\n",
       "\n",
       "    .dataframe tbody tr th {\n",
       "        vertical-align: top;\n",
       "    }\n",
       "\n",
       "    .dataframe thead th {\n",
       "        text-align: right;\n",
       "    }\n",
       "</style>\n",
       "<table border=\"1\" class=\"dataframe\">\n",
       "  <thead>\n",
       "    <tr style=\"text-align: right;\">\n",
       "      <th></th>\n",
       "      <th>Artist</th>\n",
       "      <th>Song</th>\n",
       "      <th>Views</th>\n",
       "    </tr>\n",
       "  </thead>\n",
       "  <tbody>\n",
       "    <tr>\n",
       "      <th>0</th>\n",
       "      <td>Big Moe</td>\n",
       "      <td>Chicks and Booze</td>\n",
       "      <td>2,287,754</td>\n",
       "    </tr>\n",
       "    <tr>\n",
       "      <th>1</th>\n",
       "      <td>Big Moe</td>\n",
       "      <td>Midadarie Sa Marawi</td>\n",
       "      <td>108,434</td>\n",
       "    </tr>\n",
       "    <tr>\n",
       "      <th>2</th>\n",
       "      <td>Big Moe</td>\n",
       "      <td>Lake City</td>\n",
       "      <td>30,905</td>\n",
       "    </tr>\n",
       "    <tr>\n",
       "      <th>3</th>\n",
       "      <td>Big Moe</td>\n",
       "      <td>Da kasuwa</td>\n",
       "      <td>20,374</td>\n",
       "    </tr>\n",
       "    <tr>\n",
       "      <th>4</th>\n",
       "      <td>Big Moe</td>\n",
       "      <td>Areaone</td>\n",
       "      <td>9,769</td>\n",
       "    </tr>\n",
       "    <tr>\n",
       "      <th>5</th>\n",
       "      <td>Big Moe</td>\n",
       "      <td>Ad'n A Isa</td>\n",
       "      <td>5,394</td>\n",
       "    </tr>\n",
       "    <tr>\n",
       "      <th>6</th>\n",
       "      <td>Big Moe</td>\n",
       "      <td>Questions</td>\n",
       "      <td>1,507</td>\n",
       "    </tr>\n",
       "    <tr>\n",
       "      <th>7</th>\n",
       "      <td>Big Moe</td>\n",
       "      <td>Night Cycle</td>\n",
       "      <td>8,879</td>\n",
       "    </tr>\n",
       "    <tr>\n",
       "      <th>8</th>\n",
       "      <td>Big Moe</td>\n",
       "      <td>Panahon</td>\n",
       "      <td>9,616</td>\n",
       "    </tr>\n",
       "    <tr>\n",
       "      <th>9</th>\n",
       "      <td>Big Moe</td>\n",
       "      <td>Dalan</td>\n",
       "      <td>4,073</td>\n",
       "    </tr>\n",
       "  </tbody>\n",
       "</table>\n",
       "</div>"
      ],
      "text/plain": [
       "    Artist                 Song      Views\n",
       "0  Big Moe     Chicks and Booze  2,287,754\n",
       "1  Big Moe  Midadarie Sa Marawi    108,434\n",
       "2  Big Moe            Lake City     30,905\n",
       "3  Big Moe            Da kasuwa     20,374\n",
       "4  Big Moe              Areaone      9,769\n",
       "5  Big Moe           Ad'n A Isa      5,394\n",
       "6  Big Moe            Questions      1,507\n",
       "7  Big Moe          Night Cycle      8,879\n",
       "8  Big Moe              Panahon      9,616\n",
       "9  Big Moe                Dalan      4,073"
      ]
     },
     "execution_count": 137,
     "metadata": {},
     "output_type": "execute_result"
    }
   ],
   "source": [
    "df"
   ]
  },
  {
   "attachments": {},
   "cell_type": "markdown",
   "metadata": {},
   "source": [
    "---"
   ]
  },
  {
   "cell_type": "code",
   "execution_count": 89,
   "metadata": {},
   "outputs": [],
   "source": [
    "currentURL = wd.current_url"
   ]
  },
  {
   "cell_type": "code",
   "execution_count": 90,
   "metadata": {},
   "outputs": [
    {
     "name": "stdout",
     "output_type": "stream",
     "text": [
      "Empty DataFrame\n",
      "Columns: []\n",
      "Index: []\n"
     ]
    }
   ],
   "source": [
    "response = requests.get(currentURL)\n",
    "\n",
    "# Parse the HTML content using lxml\n",
    "tree = html.fromstring(response.content)\n",
    "\n",
    "# Use XPath to extract the desired data\n",
    "xpath_expression = '//*[@id=\"main\"]/div/div[2]/div[4]/div[1]/div[2]/div[2]/div/div/div[2]/main/section/div/div[2]/div[3]/div[1]/div/div/div'\n",
    "data = tree.xpath(xpath_expression)\n",
    "\n",
    "# Create a DataFrame from the extracted data\n",
    "df = pd.DataFrame(data)\n",
    "\n",
    "# Print the DataFrame\n",
    "print(df)"
   ]
  },
  {
   "attachments": {},
   "cell_type": "markdown",
   "metadata": {},
   "source": [
    "---"
   ]
  },
  {
   "cell_type": "code",
   "execution_count": 81,
   "metadata": {},
   "outputs": [],
   "source": [
    "word = wd.find_element(\"xpath\", \"//*[@id='main']/div/div[2]/div[4]/div[1]/div[2]/div[2]/div/div/div[2]/main/section/div/div[2]/div[3]/div[1]/div/div/div\").text"
   ]
  },
  {
   "cell_type": "code",
   "execution_count": 82,
   "metadata": {},
   "outputs": [
    {
     "data": {
      "text/plain": [
       "\"1\\nChicks and Booze\\n2,287,754\\n3:42\\n2\\nMidadarie Sa Marawi\\nE\\n108,434\\n3:25\\n3\\nLake City\\nE\\n30,905\\n2:08\\n4\\nDa kasuwa\\nE\\n20,374\\n2:53\\n5\\nAreaone\\nE\\n9,769\\n2:55\\nAd'n A Isa\\n5,394\\n3:28\\n7\\nQuestions\\n1,507\\n4:19\\n8\\nNight Cycle\\nE\\n8,879\\n3:26\\n9\\nPanahon\\nE\\n9,616\\n4:10\\n10\\nDalan\\nE\\n4,073\\n4:19\""
      ]
     },
     "execution_count": 82,
     "metadata": {},
     "output_type": "execute_result"
    }
   ],
   "source": [
    "word"
   ]
  },
  {
   "cell_type": "code",
   "execution_count": 88,
   "metadata": {},
   "outputs": [
    {
     "data": {
      "text/plain": [
       "['Chicks and Booze',\n",
       " 'Midadarie Sa Marawi',\n",
       " '3',\n",
       " '2:08',\n",
       " '20,374',\n",
       " 'E',\n",
       " '5,394',\n",
       " '1,507',\n",
       " 'E',\n",
       " 'Panahon',\n",
       " '10',\n",
       " '4:19']"
      ]
     },
     "execution_count": 88,
     "metadata": {},
     "output_type": "execute_result"
    }
   ],
   "source": [
    "song_titles"
   ]
  },
  {
   "cell_type": "code",
   "execution_count": 87,
   "metadata": {},
   "outputs": [
    {
     "ename": "ValueError",
     "evalue": "invalid literal for int() with base 10: 'E'",
     "output_type": "error",
     "traceback": [
      "\u001b[1;31m---------------------------------------------------------------------------\u001b[0m",
      "\u001b[1;31mValueError\u001b[0m                                Traceback (most recent call last)",
      "\u001b[1;32mc:\\Users\\redoc\\OneDrive\\Desktop\\GEA Project Scrape\\songs-scrape.ipynb Cell 31\u001b[0m in \u001b[0;36m<cell line: 6>\u001b[1;34m()\u001b[0m\n\u001b[0;32m      <a href='vscode-notebook-cell:/c%3A/Users/redoc/OneDrive/Desktop/GEA%20Project%20Scrape/songs-scrape.ipynb#Y125sZmlsZQ%3D%3D?line=3'>4</a>\u001b[0m \u001b[39m# Extract song titles and view counts\u001b[39;00m\n\u001b[0;32m      <a href='vscode-notebook-cell:/c%3A/Users/redoc/OneDrive/Desktop/GEA%20Project%20Scrape/songs-scrape.ipynb#Y125sZmlsZQ%3D%3D?line=4'>5</a>\u001b[0m song_titles \u001b[39m=\u001b[39m data_list[\u001b[39m1\u001b[39m::\u001b[39m4\u001b[39m]\n\u001b[1;32m----> <a href='vscode-notebook-cell:/c%3A/Users/redoc/OneDrive/Desktop/GEA%20Project%20Scrape/songs-scrape.ipynb#Y125sZmlsZQ%3D%3D?line=5'>6</a>\u001b[0m view_counts \u001b[39m=\u001b[39m [\u001b[39mint\u001b[39m(count\u001b[39m.\u001b[39mreplace(\u001b[39m'\u001b[39m\u001b[39m,\u001b[39m\u001b[39m'\u001b[39m, \u001b[39m'\u001b[39m\u001b[39m'\u001b[39m)) \u001b[39mfor\u001b[39;00m count \u001b[39min\u001b[39;00m data_list[\u001b[39m2\u001b[39m::\u001b[39m4\u001b[39m]]\n\u001b[0;32m      <a href='vscode-notebook-cell:/c%3A/Users/redoc/OneDrive/Desktop/GEA%20Project%20Scrape/songs-scrape.ipynb#Y125sZmlsZQ%3D%3D?line=7'>8</a>\u001b[0m \u001b[39m# Create a DataFrame from the extracted data\u001b[39;00m\n\u001b[0;32m      <a href='vscode-notebook-cell:/c%3A/Users/redoc/OneDrive/Desktop/GEA%20Project%20Scrape/songs-scrape.ipynb#Y125sZmlsZQ%3D%3D?line=8'>9</a>\u001b[0m df \u001b[39m=\u001b[39m pd\u001b[39m.\u001b[39mDataFrame({\u001b[39m'\u001b[39m\u001b[39mTitle\u001b[39m\u001b[39m'\u001b[39m: song_titles, \u001b[39m'\u001b[39m\u001b[39mViews\u001b[39m\u001b[39m'\u001b[39m: view_counts})\n",
      "\u001b[1;32mc:\\Users\\redoc\\OneDrive\\Desktop\\GEA Project Scrape\\songs-scrape.ipynb Cell 31\u001b[0m in \u001b[0;36m<listcomp>\u001b[1;34m(.0)\u001b[0m\n\u001b[0;32m      <a href='vscode-notebook-cell:/c%3A/Users/redoc/OneDrive/Desktop/GEA%20Project%20Scrape/songs-scrape.ipynb#Y125sZmlsZQ%3D%3D?line=3'>4</a>\u001b[0m \u001b[39m# Extract song titles and view counts\u001b[39;00m\n\u001b[0;32m      <a href='vscode-notebook-cell:/c%3A/Users/redoc/OneDrive/Desktop/GEA%20Project%20Scrape/songs-scrape.ipynb#Y125sZmlsZQ%3D%3D?line=4'>5</a>\u001b[0m song_titles \u001b[39m=\u001b[39m data_list[\u001b[39m1\u001b[39m::\u001b[39m4\u001b[39m]\n\u001b[1;32m----> <a href='vscode-notebook-cell:/c%3A/Users/redoc/OneDrive/Desktop/GEA%20Project%20Scrape/songs-scrape.ipynb#Y125sZmlsZQ%3D%3D?line=5'>6</a>\u001b[0m view_counts \u001b[39m=\u001b[39m [\u001b[39mint\u001b[39;49m(count\u001b[39m.\u001b[39;49mreplace(\u001b[39m'\u001b[39;49m\u001b[39m,\u001b[39;49m\u001b[39m'\u001b[39;49m, \u001b[39m'\u001b[39;49m\u001b[39m'\u001b[39;49m)) \u001b[39mfor\u001b[39;00m count \u001b[39min\u001b[39;00m data_list[\u001b[39m2\u001b[39m::\u001b[39m4\u001b[39m]]\n\u001b[0;32m      <a href='vscode-notebook-cell:/c%3A/Users/redoc/OneDrive/Desktop/GEA%20Project%20Scrape/songs-scrape.ipynb#Y125sZmlsZQ%3D%3D?line=7'>8</a>\u001b[0m \u001b[39m# Create a DataFrame from the extracted data\u001b[39;00m\n\u001b[0;32m      <a href='vscode-notebook-cell:/c%3A/Users/redoc/OneDrive/Desktop/GEA%20Project%20Scrape/songs-scrape.ipynb#Y125sZmlsZQ%3D%3D?line=8'>9</a>\u001b[0m df \u001b[39m=\u001b[39m pd\u001b[39m.\u001b[39mDataFrame({\u001b[39m'\u001b[39m\u001b[39mTitle\u001b[39m\u001b[39m'\u001b[39m: song_titles, \u001b[39m'\u001b[39m\u001b[39mViews\u001b[39m\u001b[39m'\u001b[39m: view_counts})\n",
      "\u001b[1;31mValueError\u001b[0m: invalid literal for int() with base 10: 'E'"
     ]
    }
   ],
   "source": [
    "# Split the string into individual data points\n",
    "data_list = word.split('\\n')\n",
    "\n",
    "# Extract song titles and view counts\n",
    "song_titles = data_list[1::4]\n",
    "view_counts = [int(count.replace(',', '')) for count in data_list[2::4]]\n",
    "\n",
    "# Create a DataFrame from the extracted data\n",
    "df = pd.DataFrame({'Title': song_titles, 'Views': view_counts})\n",
    "\n",
    "# Print the DataFrame\n",
    "print(df)"
   ]
  },
  {
   "attachments": {},
   "cell_type": "markdown",
   "metadata": {},
   "source": [
    "---"
   ]
  },
  {
   "cell_type": "code",
   "execution_count": 54,
   "metadata": {},
   "outputs": [
    {
     "name": "stderr",
     "output_type": "stream",
     "text": [
      "C:\\Users\\redoc\\AppData\\Local\\Temp\\ipykernel_18548\\4020692846.py:1: DeprecationWarning: executable_path has been deprecated, please pass in a Service object\n",
      "  wd = webdriver.Chrome(ChromeDriverManager().install())\n"
     ]
    },
    {
     "ename": "NoSuchElementException",
     "evalue": "Message: no such element: Unable to locate element: {\"method\":\"xpath\",\"selector\":\"//*[@id='main']/div/div[2]/div[4]/div[1]/div[2]/div[2]/div/div/div[2]/main/div[1]/div/div/div/div/div/a[3]/button/span\"}\n  (Session info: chrome=114.0.5735.199)\nStacktrace:\nBacktrace:\n\tGetHandleVerifier [0x0028A813+48355]\n\t(No symbol) [0x0021C4B1]\n\t(No symbol) [0x00125358]\n\t(No symbol) [0x001509A5]\n\t(No symbol) [0x00150B3B]\n\t(No symbol) [0x0017E232]\n\t(No symbol) [0x0016A784]\n\t(No symbol) [0x0017C922]\n\t(No symbol) [0x0016A536]\n\t(No symbol) [0x001482DC]\n\t(No symbol) [0x001493DD]\n\tGetHandleVerifier [0x004EAABD+2539405]\n\tGetHandleVerifier [0x0052A78F+2800735]\n\tGetHandleVerifier [0x0052456C+2775612]\n\tGetHandleVerifier [0x003151E0+616112]\n\t(No symbol) [0x00225F8C]\n\t(No symbol) [0x00222328]\n\t(No symbol) [0x0022240B]\n\t(No symbol) [0x00214FF7]\n\tBaseThreadInitThunk [0x75C27D59+25]\n\tRtlInitializeExceptionChain [0x771FB74B+107]\n\tRtlClearBits [0x771FB6CF+191]\n\t(No symbol) [0x00000000]\n",
     "output_type": "error",
     "traceback": [
      "\u001b[1;31m---------------------------------------------------------------------------\u001b[0m",
      "\u001b[1;31mNoSuchElementException\u001b[0m                    Traceback (most recent call last)",
      "\u001b[1;32mc:\\Users\\redoc\\OneDrive\\Desktop\\GEA Project Scrape\\songs-scrape.ipynb Cell 23\u001b[0m in \u001b[0;36m<cell line: 11>\u001b[1;34m()\u001b[0m\n\u001b[0;32m      <a href='vscode-notebook-cell:/c%3A/Users/redoc/OneDrive/Desktop/GEA%20Project%20Scrape/songs-scrape.ipynb#Y114sZmlsZQ%3D%3D?line=6'>7</a>\u001b[0m \u001b[39m# wd.find_element(\"xpath\", \"//*[@id='searchPage']/div/div/section[1]/div[2]/div/div/div/div[2]/a/div\").click()\u001b[39;00m\n\u001b[0;32m      <a href='vscode-notebook-cell:/c%3A/Users/redoc/OneDrive/Desktop/GEA%20Project%20Scrape/songs-scrape.ipynb#Y114sZmlsZQ%3D%3D?line=8'>9</a>\u001b[0m search_song\u001b[39m.\u001b[39msend_keys(\u001b[39m'\u001b[39m\u001b[39mBig Moe\u001b[39m\u001b[39m'\u001b[39m)\n\u001b[1;32m---> <a href='vscode-notebook-cell:/c%3A/Users/redoc/OneDrive/Desktop/GEA%20Project%20Scrape/songs-scrape.ipynb#Y114sZmlsZQ%3D%3D?line=10'>11</a>\u001b[0m artist \u001b[39m=\u001b[39m wd\u001b[39m.\u001b[39;49mfind_element(\u001b[39m\"\u001b[39;49m\u001b[39mxpath\u001b[39;49m\u001b[39m\"\u001b[39;49m,\u001b[39m\"\u001b[39;49m\u001b[39m//*[@id=\u001b[39;49m\u001b[39m'\u001b[39;49m\u001b[39mmain\u001b[39;49m\u001b[39m'\u001b[39;49m\u001b[39m]/div/div[2]/div[4]/div[1]/div[2]/div[2]/div/div/div[2]/main/div[1]/div/div/div/div/div/a[3]/button/span\u001b[39;49m\u001b[39m\"\u001b[39;49m)\u001b[39m.\u001b[39mclick()\n\u001b[0;32m     <a href='vscode-notebook-cell:/c%3A/Users/redoc/OneDrive/Desktop/GEA%20Project%20Scrape/songs-scrape.ipynb#Y114sZmlsZQ%3D%3D?line=12'>13</a>\u001b[0m wd\u001b[39m.\u001b[39mfind_element(\u001b[39m\"\u001b[39m\u001b[39mxpath\u001b[39m\u001b[39m\"\u001b[39m, \u001b[39m\"\u001b[39m\u001b[39m//*[@id=\u001b[39m\u001b[39m'\u001b[39m\u001b[39msearchPage\u001b[39m\u001b[39m'\u001b[39m\u001b[39m]/div/div/div/div[1]/div[1]/div/div[3]\u001b[39m\u001b[39m\"\u001b[39m)\u001b[39m.\u001b[39mclick()\n\u001b[0;32m     <a href='vscode-notebook-cell:/c%3A/Users/redoc/OneDrive/Desktop/GEA%20Project%20Scrape/songs-scrape.ipynb#Y114sZmlsZQ%3D%3D?line=14'>15</a>\u001b[0m \u001b[39m# wd.find_element(\"xpath\", \"//*[@id='searchPage']/div/div/section[1]/div[2]/div/div/div/div[2]/a/div\").click()\u001b[39;00m\n",
      "File \u001b[1;32mc:\\Users\\redoc\\AppData\\Local\\Programs\\Python\\Python310\\lib\\site-packages\\selenium\\webdriver\\remote\\webdriver.py:856\u001b[0m, in \u001b[0;36mWebDriver.find_element\u001b[1;34m(self, by, value)\u001b[0m\n\u001b[0;32m    853\u001b[0m     by \u001b[39m=\u001b[39m By\u001b[39m.\u001b[39mCSS_SELECTOR\n\u001b[0;32m    854\u001b[0m     value \u001b[39m=\u001b[39m \u001b[39m'\u001b[39m\u001b[39m[name=\u001b[39m\u001b[39m\"\u001b[39m\u001b[39m%s\u001b[39;00m\u001b[39m\"\u001b[39m\u001b[39m]\u001b[39m\u001b[39m'\u001b[39m \u001b[39m%\u001b[39m value\n\u001b[1;32m--> 856\u001b[0m \u001b[39mreturn\u001b[39;00m \u001b[39mself\u001b[39;49m\u001b[39m.\u001b[39;49mexecute(Command\u001b[39m.\u001b[39;49mFIND_ELEMENT, {\n\u001b[0;32m    857\u001b[0m     \u001b[39m'\u001b[39;49m\u001b[39musing\u001b[39;49m\u001b[39m'\u001b[39;49m: by,\n\u001b[0;32m    858\u001b[0m     \u001b[39m'\u001b[39;49m\u001b[39mvalue\u001b[39;49m\u001b[39m'\u001b[39;49m: value})[\u001b[39m'\u001b[39m\u001b[39mvalue\u001b[39m\u001b[39m'\u001b[39m]\n",
      "File \u001b[1;32mc:\\Users\\redoc\\AppData\\Local\\Programs\\Python\\Python310\\lib\\site-packages\\selenium\\webdriver\\remote\\webdriver.py:429\u001b[0m, in \u001b[0;36mWebDriver.execute\u001b[1;34m(self, driver_command, params)\u001b[0m\n\u001b[0;32m    427\u001b[0m response \u001b[39m=\u001b[39m \u001b[39mself\u001b[39m\u001b[39m.\u001b[39mcommand_executor\u001b[39m.\u001b[39mexecute(driver_command, params)\n\u001b[0;32m    428\u001b[0m \u001b[39mif\u001b[39;00m response:\n\u001b[1;32m--> 429\u001b[0m     \u001b[39mself\u001b[39;49m\u001b[39m.\u001b[39;49merror_handler\u001b[39m.\u001b[39;49mcheck_response(response)\n\u001b[0;32m    430\u001b[0m     response[\u001b[39m'\u001b[39m\u001b[39mvalue\u001b[39m\u001b[39m'\u001b[39m] \u001b[39m=\u001b[39m \u001b[39mself\u001b[39m\u001b[39m.\u001b[39m_unwrap_value(\n\u001b[0;32m    431\u001b[0m         response\u001b[39m.\u001b[39mget(\u001b[39m'\u001b[39m\u001b[39mvalue\u001b[39m\u001b[39m'\u001b[39m, \u001b[39mNone\u001b[39;00m))\n\u001b[0;32m    432\u001b[0m     \u001b[39mreturn\u001b[39;00m response\n",
      "File \u001b[1;32mc:\\Users\\redoc\\AppData\\Local\\Programs\\Python\\Python310\\lib\\site-packages\\selenium\\webdriver\\remote\\errorhandler.py:243\u001b[0m, in \u001b[0;36mErrorHandler.check_response\u001b[1;34m(self, response)\u001b[0m\n\u001b[0;32m    241\u001b[0m         alert_text \u001b[39m=\u001b[39m value[\u001b[39m'\u001b[39m\u001b[39malert\u001b[39m\u001b[39m'\u001b[39m]\u001b[39m.\u001b[39mget(\u001b[39m'\u001b[39m\u001b[39mtext\u001b[39m\u001b[39m'\u001b[39m)\n\u001b[0;32m    242\u001b[0m     \u001b[39mraise\u001b[39;00m exception_class(message, screen, stacktrace, alert_text)  \u001b[39m# type: ignore[call-arg]  # mypy is not smart enough here\u001b[39;00m\n\u001b[1;32m--> 243\u001b[0m \u001b[39mraise\u001b[39;00m exception_class(message, screen, stacktrace)\n",
      "\u001b[1;31mNoSuchElementException\u001b[0m: Message: no such element: Unable to locate element: {\"method\":\"xpath\",\"selector\":\"//*[@id='main']/div/div[2]/div[4]/div[1]/div[2]/div[2]/div/div/div[2]/main/div[1]/div/div/div/div/div/a[3]/button/span\"}\n  (Session info: chrome=114.0.5735.199)\nStacktrace:\nBacktrace:\n\tGetHandleVerifier [0x0028A813+48355]\n\t(No symbol) [0x0021C4B1]\n\t(No symbol) [0x00125358]\n\t(No symbol) [0x001509A5]\n\t(No symbol) [0x00150B3B]\n\t(No symbol) [0x0017E232]\n\t(No symbol) [0x0016A784]\n\t(No symbol) [0x0017C922]\n\t(No symbol) [0x0016A536]\n\t(No symbol) [0x001482DC]\n\t(No symbol) [0x001493DD]\n\tGetHandleVerifier [0x004EAABD+2539405]\n\tGetHandleVerifier [0x0052A78F+2800735]\n\tGetHandleVerifier [0x0052456C+2775612]\n\tGetHandleVerifier [0x003151E0+616112]\n\t(No symbol) [0x00225F8C]\n\t(No symbol) [0x00222328]\n\t(No symbol) [0x0022240B]\n\t(No symbol) [0x00214FF7]\n\tBaseThreadInitThunk [0x75C27D59+25]\n\tRtlInitializeExceptionChain [0x771FB74B+107]\n\tRtlClearBits [0x771FB6CF+191]\n\t(No symbol) [0x00000000]\n"
     ]
    }
   ],
   "source": [
    "wd = webdriver.Chrome(ChromeDriverManager().install())\n",
    "\n",
    "wd.get('https://open.spotify.com/search')\n",
    "\n",
    "search_song = wd.find_element(\"xpath\", \"//*[@id='main']/div/div[2]/div[1]/header/div[3]/div/div/form/input\") \n",
    "\n",
    "# wd.find_element(\"xpath\", \"//*[@id='searchPage']/div/div/section[1]/div[2]/div/div/div/div[2]/a/div\").click()\n",
    "\n",
    "search_song.send_keys('Big Moe')\n",
    "\n",
    "artist = wd.find_element(\"xpath\",\"//*[@id='main']/div/div[2]/div[4]/div[1]/div[2]/div[2]/div/div/div[2]/main/div[1]/div/div/div/div/div/a[2]/button/span\").click()\n",
    "\n",
    "wd.find_element(\"xpath\", \"//*[@id='searchPage']/div/div/div/div[1]/div[1]/div/div[3]\").click()\n",
    "\n",
    "# wd.find_element(\"xpath\", \"//*[@id='searchPage']/div/div/section[1]/div[2]/div/div/div/div[2]/a/div\").click()\n",
    "\n",
    "word = wd.find_element(\"xpath\", '//*[@id=\"main\"]/div/div[2]/div[4]/div[1]/div[2]/div[2]/div/div/div[2]/main/section/div/div[2]/div[3]/div[1]/div/div[1]/button/div').click()\n",
    "\n",
    "#word = wd.find_element(\"xpath\", '//*[@id=\"main\"]/div/div[2]/div[4]/div[1]/div[2]/div[2]/div/div/div[2]/main/section/div/div[2]/div[3]/div[1]/div/div[1]/div').text\n",
    "\n",
    "#-------\n",
    "\n",
    "# Split the string into individual data points\n",
    "data_list = word.split('\\n')\n",
    "\n",
    "# Reshape the data into a 2D list\n",
    "reshaped_data = [data_list[i:i+4] for i in range(0, len(data_list), 4)]\n",
    "\n",
    "# Create a DataFrame from the reshaped data\n",
    "df = pd.DataFrame(reshaped_data, columns=['Index', 'Title', 'Views', 'Duration'])\n",
    "\n",
    "# Remove commas from the 'Views' column and convert it to numeric\n",
    "df['Views'] = df['Views'].str.replace(',', '').astype(int)\n",
    "\n",
    "# Print the DataFrame\n",
    "print(df)"
   ]
  },
  {
   "attachments": {},
   "cell_type": "markdown",
   "metadata": {},
   "source": [
    "---"
   ]
  },
  {
   "attachments": {},
   "cell_type": "markdown",
   "metadata": {},
   "source": [
    "### Open Chrome Window"
   ]
  },
  {
   "cell_type": "code",
   "execution_count": 2,
   "metadata": {},
   "outputs": [
    {
     "name": "stderr",
     "output_type": "stream",
     "text": [
      "[WDM] - Downloading: 100%|██████████| 6.30M/6.30M [00:00<00:00, 11.3MB/s]\n",
      "C:\\Users\\redoc\\AppData\\Local\\Temp\\ipykernel_32216\\3832095755.py:1: DeprecationWarning: executable_path has been deprecated, please pass in a Service object\n",
      "  wd = webdriver.Chrome(ChromeDriverManager().install())\n"
     ]
    }
   ],
   "source": [
    "wd = webdriver.Chrome(ChromeDriverManager().install())"
   ]
  },
  {
   "cell_type": "code",
   "execution_count": 3,
   "metadata": {},
   "outputs": [],
   "source": [
    "wd.get('https://www.chosic.com/')"
   ]
  },
  {
   "cell_type": "code",
   "execution_count": 4,
   "metadata": {},
   "outputs": [],
   "source": [
    "wd.get('https://www.chosic.com/music-genre-finder')"
   ]
  },
  {
   "attachments": {},
   "cell_type": "markdown",
   "metadata": {},
   "source": [
    "## Go to Search Bar"
   ]
  },
  {
   "cell_type": "code",
   "execution_count": 5,
   "metadata": {},
   "outputs": [],
   "source": [
    "search_song = wd.find_element(\"xpath\", \"//*[@id='search-word']\") # //*[@id=\"search-word\"]"
   ]
  },
  {
   "attachments": {},
   "cell_type": "markdown",
   "metadata": {},
   "source": [
    "## Enter Song Name in Search Bar"
   ]
  },
  {
   "cell_type": "code",
   "execution_count": 6,
   "metadata": {},
   "outputs": [],
   "source": [
    "search_song.send_keys(\"Mirrors\")"
   ]
  },
  {
   "attachments": {},
   "cell_type": "markdown",
   "metadata": {},
   "source": [
    "## Click the First Song that Comes Up"
   ]
  },
  {
   "cell_type": "code",
   "execution_count": 7,
   "metadata": {},
   "outputs": [],
   "source": [
    "wd.find_element(\"xpath\", \"//*[@id='hh1']\").click()"
   ]
  },
  {
   "attachments": {},
   "cell_type": "markdown",
   "metadata": {},
   "source": [
    "## Get the Text of the Genre"
   ]
  },
  {
   "cell_type": "code",
   "execution_count": 8,
   "metadata": {},
   "outputs": [],
   "source": [
    "word = wd.find_element(\"xpath\",\"//*[@id='spotify-tags']/div/div[2]/a[1]\").text"
   ]
  },
  {
   "cell_type": "code",
   "execution_count": 9,
   "metadata": {},
   "outputs": [
    {
     "data": {
      "text/plain": [
       "'pop'"
      ]
     },
     "execution_count": 9,
     "metadata": {},
     "output_type": "execute_result"
    }
   ],
   "source": [
    "word"
   ]
  },
  {
   "attachments": {},
   "cell_type": "markdown",
   "metadata": {},
   "source": [
    "## Scrape from chosic.com"
   ]
  },
  {
   "cell_type": "code",
   "execution_count": 12,
   "metadata": {},
   "outputs": [
    {
     "name": "stderr",
     "output_type": "stream",
     "text": [
      "C:\\Users\\redoc\\AppData\\Local\\Temp\\ipykernel_18368\\654126358.py:1: DeprecationWarning: executable_path has been deprecated, please pass in a Service object\n",
      "  wd = webdriver.Chrome(ChromeDriverManager().install())\n",
      "C:\\Users\\redoc\\AppData\\Local\\Temp\\ipykernel_18368\\654126358.py:14: SettingWithCopyWarning: \n",
      "A value is trying to be set on a copy of a slice from a DataFrame\n",
      "\n",
      "See the caveats in the documentation: https://pandas.pydata.org/pandas-docs/stable/user_guide/indexing.html#returning-a-view-versus-a-copy\n",
      "  df['Genre'][song_index] = wd.find_element(\"xpath\",\"//*[@id='spotify-tags']/div/div[2]/a[1]\").text\n"
     ]
    },
    {
     "ename": "NoSuchWindowException",
     "evalue": "Message: no such window: target window already closed\nfrom unknown error: web view not found\n  (Session info: chrome=114.0.5735.110)\nStacktrace:\nBacktrace:\n\tGetHandleVerifier [0x00A1A813+48355]\n\t(No symbol) [0x009AC4B1]\n\t(No symbol) [0x008B5358]\n\t(No symbol) [0x0089D293]\n\t(No symbol) [0x008FE37B]\n\t(No symbol) [0x0090C473]\n\t(No symbol) [0x008FA536]\n\t(No symbol) [0x008D82DC]\n\t(No symbol) [0x008D93DD]\n\tGetHandleVerifier [0x00C7AABD+2539405]\n\tGetHandleVerifier [0x00CBA78F+2800735]\n\tGetHandleVerifier [0x00CB456C+2775612]\n\tGetHandleVerifier [0x00AA51E0+616112]\n\t(No symbol) [0x009B5F8C]\n\t(No symbol) [0x009B2328]\n\t(No symbol) [0x009B240B]\n\t(No symbol) [0x009A4FF7]\n\tBaseThreadInitThunk [0x75B37D59+25]\n\tRtlInitializeExceptionChain [0x7731B74B+107]\n\tRtlClearBits [0x7731B6CF+191]\n",
     "output_type": "error",
     "traceback": [
      "\u001b[1;31m---------------------------------------------------------------------------\u001b[0m",
      "\u001b[1;31mNoSuchWindowException\u001b[0m                     Traceback (most recent call last)",
      "\u001b[1;32mc:\\Users\\redoc\\OneDrive\\Desktop\\GEA Project Scrape\\songs-scrape.ipynb Cell 18\u001b[0m in \u001b[0;36m<cell line: 5>\u001b[1;34m()\u001b[0m\n\u001b[0;32m      <a href='vscode-notebook-cell:/c%3A/Users/redoc/OneDrive/Desktop/GEA%20Project%20Scrape/songs-scrape.ipynb#X23sZmlsZQ%3D%3D?line=4'>5</a>\u001b[0m \u001b[39mfor\u001b[39;00m song_index \u001b[39min\u001b[39;00m song_indices[\u001b[39m10\u001b[39m:\u001b[39m41655\u001b[39m]:\n\u001b[0;32m      <a href='vscode-notebook-cell:/c%3A/Users/redoc/OneDrive/Desktop/GEA%20Project%20Scrape/songs-scrape.ipynb#X23sZmlsZQ%3D%3D?line=5'>6</a>\u001b[0m     song_title \u001b[39m=\u001b[39m df[\u001b[39m'\u001b[39m\u001b[39mname\u001b[39m\u001b[39m'\u001b[39m][song_index] \u001b[39m# get song title\u001b[39;00m\n\u001b[1;32m----> <a href='vscode-notebook-cell:/c%3A/Users/redoc/OneDrive/Desktop/GEA%20Project%20Scrape/songs-scrape.ipynb#X23sZmlsZQ%3D%3D?line=6'>7</a>\u001b[0m     wd\u001b[39m.\u001b[39;49mget(\u001b[39m'\u001b[39;49m\u001b[39mhttps://www.chosic.com/music-genre-finder\u001b[39;49m\u001b[39m'\u001b[39;49m) \u001b[39m# go to imdb main site\u001b[39;00m\n\u001b[0;32m      <a href='vscode-notebook-cell:/c%3A/Users/redoc/OneDrive/Desktop/GEA%20Project%20Scrape/songs-scrape.ipynb#X23sZmlsZQ%3D%3D?line=7'>8</a>\u001b[0m     \u001b[39mtry\u001b[39;00m:\n\u001b[0;32m      <a href='vscode-notebook-cell:/c%3A/Users/redoc/OneDrive/Desktop/GEA%20Project%20Scrape/songs-scrape.ipynb#X23sZmlsZQ%3D%3D?line=8'>9</a>\u001b[0m         search_movie \u001b[39m=\u001b[39m wd\u001b[39m.\u001b[39mfind_element(\u001b[39m\"\u001b[39m\u001b[39mxpath\u001b[39m\u001b[39m\"\u001b[39m, \u001b[39m\"\u001b[39m\u001b[39m//*[@id=\u001b[39m\u001b[39m'\u001b[39m\u001b[39msearch-word\u001b[39m\u001b[39m'\u001b[39m\u001b[39m]\u001b[39m\u001b[39m\"\u001b[39m) \u001b[39m# find the search text box\u001b[39;00m\n",
      "File \u001b[1;32mc:\\Users\\redoc\\AppData\\Local\\Programs\\Python\\Python310\\lib\\site-packages\\selenium\\webdriver\\remote\\webdriver.py:441\u001b[0m, in \u001b[0;36mWebDriver.get\u001b[1;34m(self, url)\u001b[0m\n\u001b[0;32m    437\u001b[0m \u001b[39mdef\u001b[39;00m \u001b[39mget\u001b[39m(\u001b[39mself\u001b[39m, url: \u001b[39mstr\u001b[39m) \u001b[39m-\u001b[39m\u001b[39m>\u001b[39m \u001b[39mNone\u001b[39;00m:\n\u001b[0;32m    438\u001b[0m     \u001b[39m\"\"\"\u001b[39;00m\n\u001b[0;32m    439\u001b[0m \u001b[39m    Loads a web page in the current browser session.\u001b[39;00m\n\u001b[0;32m    440\u001b[0m \u001b[39m    \"\"\"\u001b[39;00m\n\u001b[1;32m--> 441\u001b[0m     \u001b[39mself\u001b[39;49m\u001b[39m.\u001b[39;49mexecute(Command\u001b[39m.\u001b[39;49mGET, {\u001b[39m'\u001b[39;49m\u001b[39murl\u001b[39;49m\u001b[39m'\u001b[39;49m: url})\n",
      "File \u001b[1;32mc:\\Users\\redoc\\AppData\\Local\\Programs\\Python\\Python310\\lib\\site-packages\\selenium\\webdriver\\remote\\webdriver.py:429\u001b[0m, in \u001b[0;36mWebDriver.execute\u001b[1;34m(self, driver_command, params)\u001b[0m\n\u001b[0;32m    427\u001b[0m response \u001b[39m=\u001b[39m \u001b[39mself\u001b[39m\u001b[39m.\u001b[39mcommand_executor\u001b[39m.\u001b[39mexecute(driver_command, params)\n\u001b[0;32m    428\u001b[0m \u001b[39mif\u001b[39;00m response:\n\u001b[1;32m--> 429\u001b[0m     \u001b[39mself\u001b[39;49m\u001b[39m.\u001b[39;49merror_handler\u001b[39m.\u001b[39;49mcheck_response(response)\n\u001b[0;32m    430\u001b[0m     response[\u001b[39m'\u001b[39m\u001b[39mvalue\u001b[39m\u001b[39m'\u001b[39m] \u001b[39m=\u001b[39m \u001b[39mself\u001b[39m\u001b[39m.\u001b[39m_unwrap_value(\n\u001b[0;32m    431\u001b[0m         response\u001b[39m.\u001b[39mget(\u001b[39m'\u001b[39m\u001b[39mvalue\u001b[39m\u001b[39m'\u001b[39m, \u001b[39mNone\u001b[39;00m))\n\u001b[0;32m    432\u001b[0m     \u001b[39mreturn\u001b[39;00m response\n",
      "File \u001b[1;32mc:\\Users\\redoc\\AppData\\Local\\Programs\\Python\\Python310\\lib\\site-packages\\selenium\\webdriver\\remote\\errorhandler.py:243\u001b[0m, in \u001b[0;36mErrorHandler.check_response\u001b[1;34m(self, response)\u001b[0m\n\u001b[0;32m    241\u001b[0m         alert_text \u001b[39m=\u001b[39m value[\u001b[39m'\u001b[39m\u001b[39malert\u001b[39m\u001b[39m'\u001b[39m]\u001b[39m.\u001b[39mget(\u001b[39m'\u001b[39m\u001b[39mtext\u001b[39m\u001b[39m'\u001b[39m)\n\u001b[0;32m    242\u001b[0m     \u001b[39mraise\u001b[39;00m exception_class(message, screen, stacktrace, alert_text)  \u001b[39m# type: ignore[call-arg]  # mypy is not smart enough here\u001b[39;00m\n\u001b[1;32m--> 243\u001b[0m \u001b[39mraise\u001b[39;00m exception_class(message, screen, stacktrace)\n",
      "\u001b[1;31mNoSuchWindowException\u001b[0m: Message: no such window: target window already closed\nfrom unknown error: web view not found\n  (Session info: chrome=114.0.5735.110)\nStacktrace:\nBacktrace:\n\tGetHandleVerifier [0x00A1A813+48355]\n\t(No symbol) [0x009AC4B1]\n\t(No symbol) [0x008B5358]\n\t(No symbol) [0x0089D293]\n\t(No symbol) [0x008FE37B]\n\t(No symbol) [0x0090C473]\n\t(No symbol) [0x008FA536]\n\t(No symbol) [0x008D82DC]\n\t(No symbol) [0x008D93DD]\n\tGetHandleVerifier [0x00C7AABD+2539405]\n\tGetHandleVerifier [0x00CBA78F+2800735]\n\tGetHandleVerifier [0x00CB456C+2775612]\n\tGetHandleVerifier [0x00AA51E0+616112]\n\t(No symbol) [0x009B5F8C]\n\t(No symbol) [0x009B2328]\n\t(No symbol) [0x009B240B]\n\t(No symbol) [0x009A4FF7]\n\tBaseThreadInitThunk [0x75B37D59+25]\n\tRtlInitializeExceptionChain [0x7731B74B+107]\n\tRtlClearBits [0x7731B6CF+191]\n"
     ]
    }
   ],
   "source": [
    "wd = webdriver.Chrome(ChromeDriverManager().install())\n",
    "\n",
    "song_indices = np.arange(0,41655,1)\n",
    "\n",
    "for song_index in song_indices[10:41655]:\n",
    "    song_title = df['name'][song_index] # get song title\n",
    "    wd.get('https://www.chosic.com/music-genre-finder') # go to imdb main site\n",
    "    try:\n",
    "        search_movie = wd.find_element(\"xpath\", \"//*[@id='search-word']\") # find the search text box\n",
    "        search_movie.send_keys(song_title) # key in the movie title in search box\n",
    "        time.sleep(8)\n",
    "        wd.find_element(\"xpath\", \"//*[@id='hh1']\").click() # click the search button\n",
    "        time.sleep(5)\n",
    "        df['Genre'][song_index] = wd.find_element(\"xpath\",\"//*[@id='spotify-tags']/div/div[2]/a[1]\").text\n",
    "        #df.to_csv('SongsComplete.csv')\n",
    "    except:\n",
    "        pass"
   ]
  },
  {
   "attachments": {},
   "cell_type": "markdown",
   "metadata": {},
   "source": [
    "# Scrape from discogs.com"
   ]
  },
  {
   "cell_type": "code",
   "execution_count": 94,
   "metadata": {},
   "outputs": [
    {
     "name": "stderr",
     "output_type": "stream",
     "text": [
      "C:\\Users\\redoc\\AppData\\Local\\Temp\\ipykernel_18368\\2672437481.py:1: DeprecationWarning: executable_path has been deprecated, please pass in a Service object\n",
      "  wd = webdriver.Chrome(ChromeDriverManager().install())\n",
      "C:\\Users\\redoc\\AppData\\Local\\Temp\\ipykernel_18368\\2672437481.py:17: SettingWithCopyWarning: \n",
      "A value is trying to be set on a copy of a slice from a DataFrame\n",
      "\n",
      "See the caveats in the documentation: https://pandas.pydata.org/pandas-docs/stable/user_guide/indexing.html#returning-a-view-versus-a-copy\n",
      "  df['Genre'][song_index] = genre_element.text\n"
     ]
    },
    {
     "ename": "WebDriverException",
     "evalue": "Message: disconnected: not connected to DevTools\n  (failed to check if window was closed: disconnected: not connected to DevTools)\n  (Session info: chrome=114.0.5735.110)\nStacktrace:\nBacktrace:\n\tGetHandleVerifier [0x00A1A813+48355]\n\t(No symbol) [0x009AC4B1]\n\t(No symbol) [0x008B5358]\n\t(No symbol) [0x008A7D96]\n\t(No symbol) [0x008BC37A]\n\t(No symbol) [0x0090CB1F]\n\t(No symbol) [0x008FA536]\n\t(No symbol) [0x008D82DC]\n\t(No symbol) [0x008D93DD]\n\tGetHandleVerifier [0x00C7AABD+2539405]\n\tGetHandleVerifier [0x00CBA78F+2800735]\n\tGetHandleVerifier [0x00CB456C+2775612]\n\tGetHandleVerifier [0x00AA51E0+616112]\n\t(No symbol) [0x009B5F8C]\n\t(No symbol) [0x009B2328]\n\t(No symbol) [0x009B240B]\n\t(No symbol) [0x009A4FF7]\n\tBaseThreadInitThunk [0x75B37D59+25]\n\tRtlInitializeExceptionChain [0x7731B74B+107]\n\tRtlClearBits [0x7731B6CF+191]\n",
     "output_type": "error",
     "traceback": [
      "\u001b[1;31m---------------------------------------------------------------------------\u001b[0m",
      "\u001b[1;31mWebDriverException\u001b[0m                        Traceback (most recent call last)",
      "\u001b[1;32mc:\\Users\\redoc\\OneDrive\\Desktop\\GEA Project Scrape\\songs-scrape.ipynb Cell 22\u001b[0m in \u001b[0;36m<cell line: 5>\u001b[1;34m()\u001b[0m\n\u001b[0;32m      <a href='vscode-notebook-cell:/c%3A/Users/redoc/OneDrive/Desktop/GEA%20Project%20Scrape/songs-scrape.ipynb#X31sZmlsZQ%3D%3D?line=5'>6</a>\u001b[0m song_title \u001b[39m=\u001b[39m df[\u001b[39m'\u001b[39m\u001b[39mname\u001b[39m\u001b[39m'\u001b[39m][song_index] \u001b[39m# get song title\u001b[39;00m\n\u001b[0;32m      <a href='vscode-notebook-cell:/c%3A/Users/redoc/OneDrive/Desktop/GEA%20Project%20Scrape/songs-scrape.ipynb#X31sZmlsZQ%3D%3D?line=6'>7</a>\u001b[0m song_artist \u001b[39m=\u001b[39m df[\u001b[39m'\u001b[39m\u001b[39martists\u001b[39m\u001b[39m'\u001b[39m][song_index] \u001b[39m# get song artist\u001b[39;00m\n\u001b[1;32m----> <a href='vscode-notebook-cell:/c%3A/Users/redoc/OneDrive/Desktop/GEA%20Project%20Scrape/songs-scrape.ipynb#X31sZmlsZQ%3D%3D?line=7'>8</a>\u001b[0m wd\u001b[39m.\u001b[39;49mget(\u001b[39m'\u001b[39;49m\u001b[39mhttps://www.discogs.com/\u001b[39;49m\u001b[39m'\u001b[39;49m) \u001b[39m# go to imdb main site\u001b[39;00m\n\u001b[0;32m      <a href='vscode-notebook-cell:/c%3A/Users/redoc/OneDrive/Desktop/GEA%20Project%20Scrape/songs-scrape.ipynb#X31sZmlsZQ%3D%3D?line=8'>9</a>\u001b[0m \u001b[39mtry\u001b[39;00m:\n\u001b[0;32m     <a href='vscode-notebook-cell:/c%3A/Users/redoc/OneDrive/Desktop/GEA%20Project%20Scrape/songs-scrape.ipynb#X31sZmlsZQ%3D%3D?line=9'>10</a>\u001b[0m     search_movie \u001b[39m=\u001b[39m wd\u001b[39m.\u001b[39mfind_element(\u001b[39m\"\u001b[39m\u001b[39mxpath\u001b[39m\u001b[39m\"\u001b[39m, \u001b[39m\"\u001b[39m\u001b[39m//*[@id=\u001b[39m\u001b[39m'\u001b[39m\u001b[39msearch_q\u001b[39m\u001b[39m'\u001b[39m\u001b[39m]\u001b[39m\u001b[39m\"\u001b[39m) \u001b[39m# find the search text box\u001b[39;00m\n",
      "File \u001b[1;32mc:\\Users\\redoc\\AppData\\Local\\Programs\\Python\\Python310\\lib\\site-packages\\selenium\\webdriver\\remote\\webdriver.py:441\u001b[0m, in \u001b[0;36mWebDriver.get\u001b[1;34m(self, url)\u001b[0m\n\u001b[0;32m    437\u001b[0m \u001b[39mdef\u001b[39;00m \u001b[39mget\u001b[39m(\u001b[39mself\u001b[39m, url: \u001b[39mstr\u001b[39m) \u001b[39m-\u001b[39m\u001b[39m>\u001b[39m \u001b[39mNone\u001b[39;00m:\n\u001b[0;32m    438\u001b[0m     \u001b[39m\"\"\"\u001b[39;00m\n\u001b[0;32m    439\u001b[0m \u001b[39m    Loads a web page in the current browser session.\u001b[39;00m\n\u001b[0;32m    440\u001b[0m \u001b[39m    \"\"\"\u001b[39;00m\n\u001b[1;32m--> 441\u001b[0m     \u001b[39mself\u001b[39;49m\u001b[39m.\u001b[39;49mexecute(Command\u001b[39m.\u001b[39;49mGET, {\u001b[39m'\u001b[39;49m\u001b[39murl\u001b[39;49m\u001b[39m'\u001b[39;49m: url})\n",
      "File \u001b[1;32mc:\\Users\\redoc\\AppData\\Local\\Programs\\Python\\Python310\\lib\\site-packages\\selenium\\webdriver\\remote\\webdriver.py:429\u001b[0m, in \u001b[0;36mWebDriver.execute\u001b[1;34m(self, driver_command, params)\u001b[0m\n\u001b[0;32m    427\u001b[0m response \u001b[39m=\u001b[39m \u001b[39mself\u001b[39m\u001b[39m.\u001b[39mcommand_executor\u001b[39m.\u001b[39mexecute(driver_command, params)\n\u001b[0;32m    428\u001b[0m \u001b[39mif\u001b[39;00m response:\n\u001b[1;32m--> 429\u001b[0m     \u001b[39mself\u001b[39;49m\u001b[39m.\u001b[39;49merror_handler\u001b[39m.\u001b[39;49mcheck_response(response)\n\u001b[0;32m    430\u001b[0m     response[\u001b[39m'\u001b[39m\u001b[39mvalue\u001b[39m\u001b[39m'\u001b[39m] \u001b[39m=\u001b[39m \u001b[39mself\u001b[39m\u001b[39m.\u001b[39m_unwrap_value(\n\u001b[0;32m    431\u001b[0m         response\u001b[39m.\u001b[39mget(\u001b[39m'\u001b[39m\u001b[39mvalue\u001b[39m\u001b[39m'\u001b[39m, \u001b[39mNone\u001b[39;00m))\n\u001b[0;32m    432\u001b[0m     \u001b[39mreturn\u001b[39;00m response\n",
      "File \u001b[1;32mc:\\Users\\redoc\\AppData\\Local\\Programs\\Python\\Python310\\lib\\site-packages\\selenium\\webdriver\\remote\\errorhandler.py:243\u001b[0m, in \u001b[0;36mErrorHandler.check_response\u001b[1;34m(self, response)\u001b[0m\n\u001b[0;32m    241\u001b[0m         alert_text \u001b[39m=\u001b[39m value[\u001b[39m'\u001b[39m\u001b[39malert\u001b[39m\u001b[39m'\u001b[39m]\u001b[39m.\u001b[39mget(\u001b[39m'\u001b[39m\u001b[39mtext\u001b[39m\u001b[39m'\u001b[39m)\n\u001b[0;32m    242\u001b[0m     \u001b[39mraise\u001b[39;00m exception_class(message, screen, stacktrace, alert_text)  \u001b[39m# type: ignore[call-arg]  # mypy is not smart enough here\u001b[39;00m\n\u001b[1;32m--> 243\u001b[0m \u001b[39mraise\u001b[39;00m exception_class(message, screen, stacktrace)\n",
      "\u001b[1;31mWebDriverException\u001b[0m: Message: disconnected: not connected to DevTools\n  (failed to check if window was closed: disconnected: not connected to DevTools)\n  (Session info: chrome=114.0.5735.110)\nStacktrace:\nBacktrace:\n\tGetHandleVerifier [0x00A1A813+48355]\n\t(No symbol) [0x009AC4B1]\n\t(No symbol) [0x008B5358]\n\t(No symbol) [0x008A7D96]\n\t(No symbol) [0x008BC37A]\n\t(No symbol) [0x0090CB1F]\n\t(No symbol) [0x008FA536]\n\t(No symbol) [0x008D82DC]\n\t(No symbol) [0x008D93DD]\n\tGetHandleVerifier [0x00C7AABD+2539405]\n\tGetHandleVerifier [0x00CBA78F+2800735]\n\tGetHandleVerifier [0x00CB456C+2775612]\n\tGetHandleVerifier [0x00AA51E0+616112]\n\t(No symbol) [0x009B5F8C]\n\t(No symbol) [0x009B2328]\n\t(No symbol) [0x009B240B]\n\t(No symbol) [0x009A4FF7]\n\tBaseThreadInitThunk [0x75B37D59+25]\n\tRtlInitializeExceptionChain [0x7731B74B+107]\n\tRtlClearBits [0x7731B6CF+191]\n"
     ]
    }
   ],
   "source": [
    "wd = webdriver.Chrome(ChromeDriverManager().install())\n",
    "\n",
    "song_indices = np.arange(0,41655,1)\n",
    "\n",
    "for song_index in song_indices[33:41655]:\n",
    "    song_title = df['name'][song_index] # get song title\n",
    "    song_artist = df['artists'][song_index] # get song artist\n",
    "    wd.get('https://www.discogs.com/') # go to imdb main site\n",
    "    try:\n",
    "        search_movie = wd.find_element(\"xpath\", \"//*[@id='search_q']\") # find the search text box\n",
    "        search_movie.send_keys(song_artist + \" \" + song_title) # key in the movie title in search box\n",
    "        #time.sleep(5)\n",
    "        wd.find_element(\"xpath\", \"//*[@id='do_site_search']\").click() # click the search button\n",
    "        #time.sleep(5)\n",
    "        wd.find_element(\"xpath\", \"//*[@id='search_results']/li[1]/a/span[2]/img\").click() # click the first output button\n",
    "        genre_element = wd.find_element('xpath', '//tbody//a[contains(@href, \"/genre/\")]')\n",
    "        df['Genre'][song_index] = genre_element.text\n",
    "    except:\n",
    "        pass"
   ]
  },
  {
   "cell_type": "code",
   "execution_count": null,
   "metadata": {},
   "outputs": [],
   "source": [
    "df.to_csv('SongsComplete.csv')"
   ]
  },
  {
   "cell_type": "code",
   "execution_count": 26,
   "metadata": {},
   "outputs": [
    {
     "name": "stderr",
     "output_type": "stream",
     "text": [
      "C:\\Users\\redoc\\AppData\\Local\\Temp\\ipykernel_18368\\88132008.py:1: DtypeWarning: Columns (23) have mixed types. Specify dtype option on import or set low_memory=False.\n",
      "  df = pd.read_csv('SongsComplete.csv')\n"
     ]
    },
    {
     "data": {
      "text/html": [
       "<div>\n",
       "<style scoped>\n",
       "    .dataframe tbody tr th:only-of-type {\n",
       "        vertical-align: middle;\n",
       "    }\n",
       "\n",
       "    .dataframe tbody tr th {\n",
       "        vertical-align: top;\n",
       "    }\n",
       "\n",
       "    .dataframe thead th {\n",
       "        text-align: right;\n",
       "    }\n",
       "</style>\n",
       "<table border=\"1\" class=\"dataframe\">\n",
       "  <thead>\n",
       "    <tr style=\"text-align: right;\">\n",
       "      <th></th>\n",
       "      <th>Unnamed: 0.3</th>\n",
       "      <th>Unnamed: 0.2</th>\n",
       "      <th>Unnamed: 0.1</th>\n",
       "      <th>Unnamed: 0</th>\n",
       "      <th>acousticness</th>\n",
       "      <th>artists</th>\n",
       "      <th>danceability</th>\n",
       "      <th>duration_ms</th>\n",
       "      <th>energy</th>\n",
       "      <th>explicit</th>\n",
       "      <th>...</th>\n",
       "      <th>loudness</th>\n",
       "      <th>mode</th>\n",
       "      <th>name</th>\n",
       "      <th>popularity</th>\n",
       "      <th>release_date</th>\n",
       "      <th>speechiness</th>\n",
       "      <th>tempo</th>\n",
       "      <th>valence</th>\n",
       "      <th>year</th>\n",
       "      <th>Genre</th>\n",
       "    </tr>\n",
       "  </thead>\n",
       "  <tbody>\n",
       "    <tr>\n",
       "      <th>0</th>\n",
       "      <td>0</td>\n",
       "      <td>0</td>\n",
       "      <td>0</td>\n",
       "      <td>0</td>\n",
       "      <td>0.97200</td>\n",
       "      <td>David Bauer</td>\n",
       "      <td>0.567</td>\n",
       "      <td>313293</td>\n",
       "      <td>0.227</td>\n",
       "      <td>0</td>\n",
       "      <td>...</td>\n",
       "      <td>-13.441</td>\n",
       "      <td>1</td>\n",
       "      <td>Shout to the Lord</td>\n",
       "      <td>47</td>\n",
       "      <td>2000</td>\n",
       "      <td>0.0290</td>\n",
       "      <td>136.123</td>\n",
       "      <td>0.0396</td>\n",
       "      <td>2000</td>\n",
       "      <td>worship</td>\n",
       "    </tr>\n",
       "    <tr>\n",
       "      <th>1</th>\n",
       "      <td>1</td>\n",
       "      <td>1</td>\n",
       "      <td>1</td>\n",
       "      <td>1</td>\n",
       "      <td>0.32100</td>\n",
       "      <td>Etta James</td>\n",
       "      <td>0.821</td>\n",
       "      <td>360240</td>\n",
       "      <td>0.418</td>\n",
       "      <td>0</td>\n",
       "      <td>...</td>\n",
       "      <td>-9.841</td>\n",
       "      <td>0</td>\n",
       "      <td>Miss You</td>\n",
       "      <td>51</td>\n",
       "      <td>12/12/2000</td>\n",
       "      <td>0.0407</td>\n",
       "      <td>117.382</td>\n",
       "      <td>0.8030</td>\n",
       "      <td>2000</td>\n",
       "      <td>alternative hip hop</td>\n",
       "    </tr>\n",
       "    <tr>\n",
       "      <th>2</th>\n",
       "      <td>2</td>\n",
       "      <td>2</td>\n",
       "      <td>2</td>\n",
       "      <td>2</td>\n",
       "      <td>0.00659</td>\n",
       "      <td>Quasimoto</td>\n",
       "      <td>0.706</td>\n",
       "      <td>202507</td>\n",
       "      <td>0.602</td>\n",
       "      <td>1</td>\n",
       "      <td>...</td>\n",
       "      <td>-8.306</td>\n",
       "      <td>0</td>\n",
       "      <td>Real Eyes</td>\n",
       "      <td>44</td>\n",
       "      <td>6/13/2000</td>\n",
       "      <td>0.3420</td>\n",
       "      <td>89.692</td>\n",
       "      <td>0.4790</td>\n",
       "      <td>2000</td>\n",
       "      <td>psychedelic hip hop</td>\n",
       "    </tr>\n",
       "    <tr>\n",
       "      <th>3</th>\n",
       "      <td>3</td>\n",
       "      <td>3</td>\n",
       "      <td>3</td>\n",
       "      <td>3</td>\n",
       "      <td>0.00390</td>\n",
       "      <td>Millencolin</td>\n",
       "      <td>0.368</td>\n",
       "      <td>173360</td>\n",
       "      <td>0.977</td>\n",
       "      <td>0</td>\n",
       "      <td>...</td>\n",
       "      <td>-2.757</td>\n",
       "      <td>0</td>\n",
       "      <td>Penguins &amp; Polarbears</td>\n",
       "      <td>52</td>\n",
       "      <td>2/22/2000</td>\n",
       "      <td>0.1270</td>\n",
       "      <td>165.889</td>\n",
       "      <td>0.5480</td>\n",
       "      <td>2000</td>\n",
       "      <td>skate punk</td>\n",
       "    </tr>\n",
       "    <tr>\n",
       "      <th>4</th>\n",
       "      <td>4</td>\n",
       "      <td>4</td>\n",
       "      <td>4</td>\n",
       "      <td>4</td>\n",
       "      <td>0.12200</td>\n",
       "      <td>Steve Chou</td>\n",
       "      <td>0.501</td>\n",
       "      <td>344200</td>\n",
       "      <td>0.511</td>\n",
       "      <td>0</td>\n",
       "      <td>...</td>\n",
       "      <td>-9.836</td>\n",
       "      <td>0</td>\n",
       "      <td>é»ƒæ˜</td>\n",
       "      <td>53</td>\n",
       "      <td>12/25/2000</td>\n",
       "      <td>0.0291</td>\n",
       "      <td>78.045</td>\n",
       "      <td>0.1130</td>\n",
       "      <td>2000</td>\n",
       "      <td>yacht rock</td>\n",
       "    </tr>\n",
       "  </tbody>\n",
       "</table>\n",
       "<p>5 rows × 24 columns</p>\n",
       "</div>"
      ],
      "text/plain": [
       "   Unnamed: 0.3  Unnamed: 0.2  Unnamed: 0.1  Unnamed: 0  acousticness  \\\n",
       "0             0             0             0           0       0.97200   \n",
       "1             1             1             1           1       0.32100   \n",
       "2             2             2             2           2       0.00659   \n",
       "3             3             3             3           3       0.00390   \n",
       "4             4             4             4           4       0.12200   \n",
       "\n",
       "       artists  danceability  duration_ms  energy  explicit  ... loudness  \\\n",
       "0  David Bauer         0.567       313293   0.227         0  ...  -13.441   \n",
       "1   Etta James         0.821       360240   0.418         0  ...   -9.841   \n",
       "2    Quasimoto         0.706       202507   0.602         1  ...   -8.306   \n",
       "3  Millencolin         0.368       173360   0.977         0  ...   -2.757   \n",
       "4   Steve Chou         0.501       344200   0.511         0  ...   -9.836   \n",
       "\n",
       "   mode                   name  popularity  release_date  speechiness  \\\n",
       "0     1      Shout to the Lord          47          2000       0.0290   \n",
       "1     0               Miss You          51    12/12/2000       0.0407   \n",
       "2     0              Real Eyes          44     6/13/2000       0.3420   \n",
       "3     0  Penguins & Polarbears          52     2/22/2000       0.1270   \n",
       "4     0                 é»ƒæ˜          53    12/25/2000       0.0291   \n",
       "\n",
       "     tempo  valence  year                Genre  \n",
       "0  136.123   0.0396  2000              worship  \n",
       "1  117.382   0.8030  2000  alternative hip hop  \n",
       "2   89.692   0.4790  2000  psychedelic hip hop  \n",
       "3  165.889   0.5480  2000           skate punk  \n",
       "4   78.045   0.1130  2000           yacht rock  \n",
       "\n",
       "[5 rows x 24 columns]"
      ]
     },
     "execution_count": 26,
     "metadata": {},
     "output_type": "execute_result"
    }
   ],
   "source": [
    "df = pd.read_csv('SongsComplete.csv')\n",
    "df.head()"
   ]
  },
  {
   "cell_type": "code",
   "execution_count": 11,
   "metadata": {},
   "outputs": [
    {
     "ename": "IndentationError",
     "evalue": "unindent does not match any outer indentation level (<tokenize>, line 17)",
     "output_type": "error",
     "traceback": [
      "\u001b[1;36m  File \u001b[1;32m<tokenize>:17\u001b[1;36m\u001b[0m\n\u001b[1;33m    except:\u001b[0m\n\u001b[1;37m    ^\u001b[0m\n\u001b[1;31mIndentationError\u001b[0m\u001b[1;31m:\u001b[0m unindent does not match any outer indentation level\n"
     ]
    }
   ],
   "source": [
    "wd = webdriver.Chrome(ChromeDriverManager().install())\n",
    "\n",
    "song_indices = np.arange(0,41655,1)\n",
    "song_title = df['name'][song_index] # get song title\n",
    "song_artist = df['artists'][song_index] # get song artist\n",
    "wd.get('https://www.discogs.com/') # go to imdb main site\n",
    " \n",
    "search_movie = wd.find_element(\"xpath\", \"//*[@id='search_q']\") # find the search text box\n",
    "        search_movie.send_keys(song_artist + \" \" + song_title) # key in the movie title in search box\n",
    "        #time.sleep(5)\n",
    "        wd.find_element(\"xpath\", \"//*[@id='do_site_search']\").click() # click the search button\n",
    "        #time.sleep(5)\n",
    "        wd.find_element(\"xpath\", \"//*[@id='search_results']/li[1]/a/span[2]/img\").click() # click the first output button\n",
    "        genre_element = wd.find_element('xpath', '//tbody//a[contains(@href, \"/genre/\")]')\n",
    "        df['Genre'][song_index] = genre_element.text\n",
    "        df.to_csv('SongsComplete.csv')\n",
    "    except:\n",
    "        pass"
   ]
  },
  {
   "attachments": {},
   "cell_type": "markdown",
   "metadata": {},
   "source": [
    "---\n",
    "\n",
    "# Try"
   ]
  },
  {
   "cell_type": "code",
   "execution_count": 40,
   "metadata": {},
   "outputs": [],
   "source": [
    "from selenium.webdriver.common.by import By"
   ]
  },
  {
   "cell_type": "code",
   "execution_count": 63,
   "metadata": {},
   "outputs": [
    {
     "name": "stderr",
     "output_type": "stream",
     "text": [
      "C:\\Users\\redoc\\AppData\\Local\\Temp\\ipykernel_18368\\3832095755.py:1: DeprecationWarning: executable_path has been deprecated, please pass in a Service object\n",
      "  wd = webdriver.Chrome(ChromeDriverManager().install())\n"
     ]
    }
   ],
   "source": [
    "wd = webdriver.Chrome(ChromeDriverManager().install())"
   ]
  },
  {
   "cell_type": "code",
   "execution_count": 68,
   "metadata": {},
   "outputs": [],
   "source": [
    "song_title = df['name'][120] # get song title\n",
    "song_artist = df['artists'][120] # get song artist"
   ]
  },
  {
   "cell_type": "code",
   "execution_count": 65,
   "metadata": {},
   "outputs": [],
   "source": [
    "wd.get('https://www.discogs.com/') # go to imdb main site"
   ]
  },
  {
   "cell_type": "code",
   "execution_count": 69,
   "metadata": {},
   "outputs": [],
   "source": [
    "search_movie = wd.find_element(\"xpath\", \"//*[@id='search_q']\") # find the search text box"
   ]
  },
  {
   "cell_type": "code",
   "execution_count": 70,
   "metadata": {},
   "outputs": [],
   "source": [
    "search_movie.send_keys(song_artist + \" \" + song_title) # key in the movie title in search box"
   ]
  },
  {
   "cell_type": "code",
   "execution_count": 71,
   "metadata": {},
   "outputs": [],
   "source": [
    "wd.find_element(\"xpath\", \"//*[@id='do_site_search']\").click() # click the search button"
   ]
  },
  {
   "cell_type": "code",
   "execution_count": 72,
   "metadata": {},
   "outputs": [],
   "source": [
    "wd.find_element(\"xpath\", \"//*[@id='search_results']/li[1]/a/span[2]/img\").click() # click the first output button"
   ]
  },
  {
   "cell_type": "code",
   "execution_count": 81,
   "metadata": {},
   "outputs": [],
   "source": [
    "genre_element = wd.find_element('xpath','//a[contains(@href, \"/genre/pop\")]')\n"
   ]
  },
  {
   "cell_type": "code",
   "execution_count": 82,
   "metadata": {},
   "outputs": [
    {
     "data": {
      "text/plain": [
       "'Pop'"
      ]
     },
     "execution_count": 82,
     "metadata": {},
     "output_type": "execute_result"
    }
   ],
   "source": [
    "genre_element.text"
   ]
  },
  {
   "attachments": {},
   "cell_type": "markdown",
   "metadata": {},
   "source": [
    "The next two lines are *IMPORTANT*"
   ]
  },
  {
   "cell_type": "code",
   "execution_count": 90,
   "metadata": {},
   "outputs": [],
   "source": [
    "genre_element = wd.find_element('xpath', '//tbody//a[contains(@href, \"/genre/\")]')"
   ]
  },
  {
   "cell_type": "code",
   "execution_count": 91,
   "metadata": {},
   "outputs": [
    {
     "data": {
      "text/plain": [
       "'Pop'"
      ]
     },
     "execution_count": 91,
     "metadata": {},
     "output_type": "execute_result"
    }
   ],
   "source": [
    "genre_element.text"
   ]
  },
  {
   "attachments": {},
   "cell_type": "markdown",
   "metadata": {},
   "source": [
    "---"
   ]
  },
  {
   "attachments": {},
   "cell_type": "markdown",
   "metadata": {},
   "source": [
    "# Scrape Views from Spotify"
   ]
  },
  {
   "cell_type": "code",
   "execution_count": null,
   "metadata": {},
   "outputs": [],
   "source": [
    "views_df = pd.DataFrame(columns=['Artist', 'Song', 'Views'])"
   ]
  },
  {
   "cell_type": "code",
   "execution_count": null,
   "metadata": {},
   "outputs": [],
   "source": [
    "wd = webdriver.Chrome(ChromeDriverManager().install())\n",
    "\n",
    "song_indices = np.arange(0,4246,1)\n",
    "\n",
    "for i in song_indices:\n",
    "\n",
    "    artist = unique_artists[i]\n",
    "\n",
    "    wd.get('https://open.spotify.com/search')\n",
    "\n",
    "    search_song = wd.find_element(\"xpath\", \"//*[@id='main']/div/div[2]/div[1]/header/div[3]/div/div/form/input\")\n",
    "\n",
    "    search_song.send_keys(i)\n",
    "\n",
    "    try:\n",
    "        artist = wd.find_element(\"xpath\",\"//*[@id='main']/div/div[2]/div[4]/div[1]/div[2]/div[2]/div/div/div[2]/main/div[1]/div/div/div/div/div/a[2]/button/span\").click()\n",
    "\n",
    "        wd.find_element(\"xpath\", \"//*[@id='searchPage']/div/div/div/div[1]/div[1]/div/div[3]\").click()\n",
    "\n",
    "        wd.find_element(\"xpath\", \"//*[@id='main']/div/div[2]/div[4]/div[1]/div[2]/div[2]/div/div/div[2]/main/section/div/div[2]/div[3]/div[1]/div/div/button/div\").click()\n",
    "\n",
    "        # Create an empty DataFrame with 10 rows and 3 columns\n",
    "        df = pd.DataFrame(index=range(10), columns=['Artist', 'Song', 'Views'])\n",
    "\n",
    "        # Populate the first column with \"Big Moe\"\n",
    "        df['Artist'] = i\n",
    "\n",
    "        for i in range(0,10):\n",
    "    \n",
    "        df.at[i, 'Song'] = wd.find_element(\"xpath\", \"//*[@id='main']/div/div[2]/div[4]/div[1]/div[2]/div[2]/div/div/div[2]/main/section/div/div[2]/div[3]/div[1]/div/div/div/div/div[2]/div[\"+str(i+1)+\"]/div/div[2]/div/a/div\").text\n",
    "\n",
    "        df.at[i, 'Views'] = wd.find_element(\"xpath\", \"//*[@id='main']/div/div[2]/div[4]/div[1]/div[2]/div[2]/div/div/div[2]/main/section/div/div[2]/div[3]/div[1]/div/div/div/div/div[2]/div[\"+str(i+1)+\"]/div/div[3]\").text\n",
    "\n",
    "    except:\n",
    "        pass\n",
    "\n",
    "views_df = pd.concat([views_df, df], axis=0)"
   ]
  },
  {
   "attachments": {},
   "cell_type": "markdown",
   "metadata": {},
   "source": [
    "---"
   ]
  },
  {
   "cell_type": "code",
   "execution_count": 1,
   "metadata": {},
   "outputs": [
    {
     "name": "stderr",
     "output_type": "stream",
     "text": [
      "c:\\Users\\redoc\\AppData\\Local\\Programs\\Python\\Python310\\lib\\site-packages\\fuzzywuzzy\\fuzz.py:11: UserWarning: Using slow pure-python SequenceMatcher. Install python-Levenshtein to remove this warning\n",
      "  warnings.warn('Using slow pure-python SequenceMatcher. Install python-Levenshtein to remove this warning')\n"
     ]
    }
   ],
   "source": [
    "from fuzzywuzzy import fuzz\n",
    "from fuzzywuzzy import process\n",
    "import pandas as pd"
   ]
  },
  {
   "cell_type": "code",
   "execution_count": 2,
   "metadata": {},
   "outputs": [
    {
     "name": "stderr",
     "output_type": "stream",
     "text": [
      "C:\\Users\\redoc\\AppData\\Local\\Temp\\ipykernel_29152\\408359129.py:1: DtypeWarning: Columns (19,20) have mixed types. Specify dtype option on import or set low_memory=False.\n",
      "  df1 =pd.read_csv('scraped-full.csv')\n"
     ]
    }
   ],
   "source": [
    "df1 =pd.read_csv('scraped-full.csv')\n",
    "df2 =pd.read_csv('songviews.csv')"
   ]
  },
  {
   "cell_type": "code",
   "execution_count": 3,
   "metadata": {},
   "outputs": [
    {
     "name": "stderr",
     "output_type": "stream",
     "text": [
      "WARNING:root:Applied processor reduces input query to empty string, all comparisons will have score 0. [Query: '?']\n",
      "WARNING:root:Applied processor reduces input query to empty string, all comparisons will have score 0. [Query: '&']\n"
     ]
    }
   ],
   "source": [
    "# Set a threshold for fuzzy matching\n",
    "threshold = 80  # Adjust as needed\n",
    "\n",
    "# Perform fuzzy matching\n",
    "merged_df = pd.merge(df1, df2, on='Song', how='outer')\n",
    "merged_df['Match Score'] = merged_df['Song'].apply(lambda x: process.extractOne(x, df2['Song'], scorer=fuzz.token_set_ratio)[1])\n",
    "merged_df = merged_df[merged_df['Match Score'] >= threshold]\n",
    "\n",
    "# Print the merged DataFrame\n",
    "merged_df.to_csv('songs-merged.csv')"
   ]
  },
  {
   "attachments": {},
   "cell_type": "markdown",
   "metadata": {},
   "source": [
    "---"
   ]
  },
  {
   "cell_type": "code",
   "execution_count": 4,
   "metadata": {},
   "outputs": [
    {
     "data": {
      "text/plain": [
       "7302"
      ]
     },
     "execution_count": 4,
     "metadata": {},
     "output_type": "execute_result"
    }
   ],
   "source": [
    "merged_df['Views'].count()"
   ]
  },
  {
   "cell_type": "code",
   "execution_count": null,
   "metadata": {},
   "outputs": [],
   "source": []
  }
 ],
 "metadata": {
  "kernelspec": {
   "display_name": "Python 3",
   "language": "python",
   "name": "python3"
  },
  "language_info": {
   "codemirror_mode": {
    "name": "ipython",
    "version": 3
   },
   "file_extension": ".py",
   "mimetype": "text/x-python",
   "name": "python",
   "nbconvert_exporter": "python",
   "pygments_lexer": "ipython3",
   "version": "3.10.5"
  },
  "orig_nbformat": 4
 },
 "nbformat": 4,
 "nbformat_minor": 2
}
